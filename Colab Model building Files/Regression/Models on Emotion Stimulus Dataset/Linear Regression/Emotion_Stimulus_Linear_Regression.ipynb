{
  "nbformat": 4,
  "nbformat_minor": 0,
  "metadata": {
    "colab": {
      "name": "Emotion_Stimulus_Linear_Regression.ipynb",
      "provenance": [],
      "authorship_tag": "ABX9TyMXiOegX2nZGuW0GMyHvJH6",
      "include_colab_link": true
    },
    "kernelspec": {
      "name": "python3",
      "display_name": "Python 3"
    }
  },
  "cells": [
    {
      "cell_type": "markdown",
      "metadata": {
        "id": "view-in-github",
        "colab_type": "text"
      },
      "source": [
        "<a href=\"https://colab.research.google.com/github/narrasriram/EMOTION-RECOGNITION-USING-FINE-TUNED-MODELS-ERFM-/blob/main/Colab%20Model%20building%20Files/Regression/Models%20on%20Emotion%20Stimulus%20Dataset/Linear%20Regression/Emotion_Stimulus_Linear_Regression.ipynb\" target=\"_parent\"><img src=\"https://colab.research.google.com/assets/colab-badge.svg\" alt=\"Open In Colab\"/></a>"
      ]
    },
    {
      "cell_type": "markdown",
      "metadata": {
        "id": "33K5HhXj9ifh"
      },
      "source": [
        "  \n",
        "# -*- coding: utf-8 -*-\n",
        "\n",
        "# Author: Sriram Narra\n",
        "# Course: CS 842\n",
        "# Date: Apr 15, 2021\n",
        "# Project Name: Emotion Recognition using Fine-tuned Models(ERFM)\n",
        "# Description: This notebook builds a Linear Regression Model on Emotion \n",
        "#              Stimulus Dataset and checks the performance of the \n",
        "#              model with various model evaluation metrics\n",
        "# --------------------------------------------------------------------------------"
      ]
    },
    {
      "cell_type": "markdown",
      "metadata": {
        "id": "LFpxpkT4SXM7"
      },
      "source": [
        "Importing the libraries"
      ]
    },
    {
      "cell_type": "code",
      "metadata": {
        "id": "5MZ416mCRgNR",
        "colab": {
          "base_uri": "https://localhost:8080/"
        },
        "outputId": "3a11af35-d65c-4c13-e0e2-ec00a0938e57"
      },
      "source": [
        "import numpy as np\n",
        "import matplotlib.pyplot as plt\n",
        "import pandas as pd\n",
        "from sklearn.naive_bayes import MultinomialNB\n",
        "from pandas import DataFrame\n",
        "import textblob\n",
        "from textblob import TextBlob\n",
        "import re\n",
        "import nltk\n",
        "nltk.download('stopwords')\n",
        "from nltk.corpus import stopwords\n",
        "from nltk.stem.porter import PorterStemmer\n",
        "from sklearn.feature_extraction.text import CountVectorizer"
      ],
      "execution_count": null,
      "outputs": [
        {
          "output_type": "stream",
          "text": [
            "[nltk_data] Downloading package stopwords to /root/nltk_data...\n",
            "[nltk_data]   Unzipping corpora/stopwords.zip.\n"
          ],
          "name": "stdout"
        }
      ]
    },
    {
      "cell_type": "markdown",
      "metadata": {
        "id": "B8X9s4zmSaf9"
      },
      "source": [
        "Mount Google Drive"
      ]
    },
    {
      "cell_type": "code",
      "metadata": {
        "colab": {
          "base_uri": "https://localhost:8080/"
        },
        "id": "YvTUW-dHRiPc",
        "outputId": "d52b9a1b-2374-4a92-c28d-720c1ff275a6"
      },
      "source": [
        "from google.colab import drive\n",
        "\n",
        "drive.mount('/content/drive')"
      ],
      "execution_count": null,
      "outputs": [
        {
          "output_type": "stream",
          "text": [
            "Mounted at /content/drive\n"
          ],
          "name": "stdout"
        }
      ]
    },
    {
      "cell_type": "markdown",
      "metadata": {
        "id": "_neIg7YESZic"
      },
      "source": [
        "Read the Dataset into a List"
      ]
    },
    {
      "cell_type": "code",
      "metadata": {
        "id": "b-8X1_5PRmnN"
      },
      "source": [
        "with open('/content/drive/MyDrive/Data Science Project/Datasets/Emotion_Stimulus/No_Cause.txt') as f:\n",
        "    conversations = f.readlines()"
      ],
      "execution_count": null,
      "outputs": []
    },
    {
      "cell_type": "code",
      "metadata": {
        "colab": {
          "base_uri": "https://localhost:8080/",
          "height": 36
        },
        "id": "4Y0HAd31R_Ld",
        "outputId": "18205fe2-f65c-4947-9679-5e8c2b9d144b"
      },
      "source": [
        "conversations[-1]"
      ],
      "execution_count": null,
      "outputs": [
        {
          "output_type": "execute_result",
          "data": {
            "application/vnd.google.colaboratory.intrinsic+json": {
              "type": "string"
            },
            "text/plain": [
              "'<shame>GRAHAM TAYLOR will defy the fury of a humiliated nation and risk his entire reputation on an England miracle in the next five months . <\\\\shame>\\n'"
            ]
          },
          "metadata": {
            "tags": []
          },
          "execution_count": 4
        }
      ]
    },
    {
      "cell_type": "markdown",
      "metadata": {
        "id": "8avWAbvuRQ1C"
      },
      "source": [
        "Data Transformation into Dictionary with Sentences as Key and Values as Emotions"
      ]
    },
    {
      "cell_type": "code",
      "metadata": {
        "colab": {
          "base_uri": "https://localhost:8080/"
        },
        "id": "40embmitSccX",
        "outputId": "e21796ee-ca69-4c92-e062-a7e32dc1dad4"
      },
      "source": [
        "import re\n",
        "from bs4 import BeautifulSoup\n",
        "\n",
        "data = {}\n",
        "\n",
        "for line in conversations:\n",
        "    result = re.search(r\"<[a-zA-z]+>\", line)\n",
        "    emotion = result.group(0)\n",
        "    emotion  = emotion[1:(len(emotion)-1)]\n",
        "    #print(emotion)\n",
        "\n",
        "    soup = BeautifulSoup(line)\n",
        "    x = soup.findAll(emotion)\n",
        "    #print(x)\n",
        "\n",
        "    txt = ''.join(x[0].findAll(text=True)).strip()\n",
        "\n",
        "    data[txt] = emotion\n",
        "print(data)\n"
      ],
      "execution_count": null,
      "outputs": [
        {
          "output_type": "stream",
          "text": [
            "{'This did the trick : the boys now have a more distant friendship and David is much happier .': 'happy', 'When Anna left Inspector Aziz , she was much happier .': 'happy', \"And though , as Lachlan had planned , they had expected the attack in the morning , they were quite happy when their lookouts reported the Macleans ' approach in the early evening .\": 'happy', \"Honestly , I 'm really happy for you !\": 'happy', 'Lesley was totally happy about it .': 'happy', 'For once in his life , Leopold must have been truly happy : his hopes and prayers for his beloved son seemed at last to have come to fruition .': 'happy', 'She became happier , more settled .': 'happy', 'During the day her mother seemed happy at times , baking , trying out fresh recipes , or changing yet again the curtains , or crocheting new chair-backs .': 'happy', 'They seemed happy about my victory in Germany and most of them expected me to win more races last year . \"': 'happy', 'Never before had Bodmin seen so many faces  and so many happy faces all at one time !': 'happy', '\" She looked fondly at Anne ` s bright eyes and happy face .': 'happy', 'Shelley looked at the happy faces of her companions , and knew they wanted to be alone , however sweet they were being .': 'happy', \"A small , happy man with a white beard , he always wore the traditional grocers ' apron .\": 'happy', \"Pleasure can be no more than a gourmet 's appreciation for delicacies , whereas a happy person can readily settle for a much simpler diet .\": 'happy', 'Normally such a happy , sunny person , she felt a vague disquiet , as though she was changing without her wanting to .': 'happy', \"Words bubbled in Jay 's mind with an absurdly happy smile .\": 'happy', 'But behind the strained , happy smiles there will lie the awful knowledge that Alex saw the killer -- and was too young to understand what was going on .': 'happy', 'But it was not a happy smile .': 'happy', 'Henry Tyler would not have described her as a happy woman , but afterward he could not say that she had seemed at all unwell .': 'happy', 'She did not look like a happy woman .': 'happy', \"All during the night , over and over again , she had found it absurd that she 'd ever considered herself a happy woman .\": 'happy', 'I went swimming , and I was so happy I cried into the sea for three-quarters of an hour .': 'happy', 'I \\'m always happy when I \\'m wearing trousers and a jacket that covers my bum ! \"': 'happy', 'However , in 1878 , deaf education in Greenock faced a crisis because there was no-one able to continue to teach the children , and one parent was not happy about his child being taught in sign language .': 'happy', 'Power tools coming from the hip , gunslinger style , or British Gas portraying the contented family enjoying the warm glow of its new central heating .': 'happy', \"To my mind , it begins so well that it could easily be mistaken for a translation of an eighth-century hermit 's verse , composed in a beehive hut by a contented holy man of Old Ireland .\": 'happy', 'It is true that the wonderful advance of our people  has transformed the wilderness into a home where men and women can live comfortably , elegantly , happily , if they are of contented disposition': 'happy', 'At that stage , Sunderland were good value for the lead and Mr Crosby must have been a contented man .': 'happy', 'He was a contented man for he had a good wife , a prosperous farm in Upper Caversham some four miles from Reading market , had had a good season and a financially successful day .': 'happy', \"He 's a very contented baby , a joy to his parents and big sister , and today at nine weeks old ( 40+3 ) , he smiled at us for the first time .\": 'happy', 'He sat looking at the fire with lowered eyelids , a contented expression on his face , looking like a big overfed cat .': 'happy', 'From a starving stray it was transformed into a contented house cat .': 'happy', 'Griffin Moss is a contented artist until he receives an enigmatic note from Sabine Strohem , a stranger from a South Pacific island .': 'happy', \"Jenny sat with a contented smile on her face during this interchange while mother repressed her irritation and anger with her husband 's remarks .\": 'happy', \"I understood that this was my mother 's wedding , and although I was necessary to it I was expected to do nothing but be there and appear contented .\": 'happy', 'At various periods in his life , he had felt contented , satisfied , angry -- certainly angry -- smug , remorseful , even guilty .': 'happy', 'His moist mouth suckled , and when she gazed down at his rapt , contented face she knew that she was lost to him .': 'happy', 'Contented workers are more likely to be profitable .': 'happy', 'Much pressure can overtly or unwittingly be put on grown up children , to provide grandchildren for the delight of the grandparents .': 'happy', \"A host of splendid 19th century rooms throughout Lord Byron 's apartments are open for the delight of the public .\": 'happy', 'His delight first makes itself evident during his solo for Lise even though technical mistakes keep on happening .': 'happy', 'Elaine exclaimed , her delight evident as she entered the open-plan living- and dining-room decorated in a fresh lemon and blue fabric which Christina had chosen .': 'happy', 'She supposed she ought to feel apprehensive , but she felt only deep delight , and it seemed the most natural thing in the world to be making her way through the moonlight to Raynor .': 'happy', 'Elizabeth cast one happy glance at the dawning delight on the other two faces , and continued with the joyful work .': 'happy', \"The most beautiful part of the ceremony was the delight on Todd 's face as he was wheeled close to the altar to receive the Eucharist with his arms outstretched .\": 'happy', \"As trains halted , the orchestra struck up Aaron Copland 's Fanfare For The Common Man much to the amusement and delight of curious passengers .\": 'happy', 'Afterwards , Mr Booth showed his delight by distributing chocolate bars to auction room patrons .': 'happy', \"When the marchers passed the city 's overhead railway , two trains hooted in solidarity , to the crowd 's delight .\": 'happy', \"Applause rang out , and she twirled around to acknowledge it in demure delight , clapping the barman -- and then being crushed against the ample bosom of the barman 's wife .\": 'happy', \"As I set off I had a fleeting glimpse of the leer of pure delight on Simkin 's face .\": 'happy', 'During his fishing time though it was sheer delight for him , his boys were always ready and willing to go to sea , bother U-boats etc !': 'happy', \"Julia 's questions about the line the defence lawyers were taking were as acute as anything she had ever asked David , and they filled him with relieved delight .\": 'happy', \"He also said , to the delight of those Nonconformists who read his memoirs , that Watson 's tour was far more successful than Matthew Arnold 's .\": 'happy', 'To his absolute delight the first trap had held what must have been a seven pound salmon , plus a couple of mullet which he had ignored .': 'happy', 'To her delight he even took to discussing his work with her , and Leonora listened , rapt , utterly fascinated by glimpses of the other , professional Penry Vaughan she secretly found so impressive .': 'happy', 'But now he has made a full recovery to the delight of his proud parents , Fred and Denise .': 'happy', 'He looked around at their delighted faces and began to feel embarrassed .': 'happy', 'The old man answered my knock and his big face split into a delighted grin when he saw me .': 'happy', 'He broke off as Jim Miller let go a Indian whoop of relief and delighted grins spread across the faces of everyone in the group .': 'happy', 'Her face lit up with a delighted smile as she gazed at an abandoned plate of half-eaten sandwiches on a nearby table .': 'happy', 'With a wide , delighted smile , because she had n\\'t really expected ever to see him again , she teased , ` Are you following me ? \"': 'happy', '` You think of everything , do n\\'t you ? \" she said with a delighted smile .': 'happy', 'Delighted about Jim , apprehensive for Jasper , Alice lay for a long time awake in the silent room .': 'happy', \"I 'm delighted about that .\": 'happy', \"` Cool it , Steve , and tell me why you 're so ecstatic .\": 'happy', 'One could get terribly ecstatic but that would be a dangerous thing to do .': 'happy', 'But some of the younger dons were ecstatic about the election .': 'happy', \"That morning I was so ecstatic about my triumph in seducing the dog-owner 's daughter that I 'd completely forgotten about Jamila 's big decision .\": 'happy', 'When she was ecstatic , and she was often ecstatic , ecstasy flew from her face like the sun from a mirror .': 'happy', 'I am ecstatic about this , it is like winning my first cap not my 23rd . \"': 'happy', 'Afterwards , he was quietly ecstatic .': 'happy', \"Minute shards of glass slashed across Rohmer 's ecstatic face .\": 'happy', 'But he was confronted by an ecstatic welcome from his mother , who was waiting for him on the doorstep .': 'happy', \"I would n't say she gives me an ecstatic welcome .\": 'happy', 'No speeches have yet been greeted with ecstatic cries of ` author , author \" -- probably because Denis Healey is not there -- but the clash of rival socialist philosophies is no less cacaphonous .': 'happy', 'More then 40,000 ecstatic fans filled stadia each night to scream at the girly they instantly dubbed the Mighty Minogue .': 'happy', 'In March they were received as World Champions by an ecstatic crowd after winning the Cricket World Cup for the first time .': 'happy', 'She could not convince me at the time that anything bad could happen , now that I had finally ` solved \" my eating problems , and for a short time I felt jubilant , relieved and ecstatic .': 'happy', 'Her expression became dreamy , ecstatic .': 'happy', 'Riot police were needed to quell pitch invasions. -- More than 200,000 ecstatic Leeds United fans took part in a carnival-style street party yesterday as their team paraded the League Championship trophy .': 'happy', 'At the same time , I \\'m elated and I can go back to the vices I did have , \" said Mr Tyson .': 'happy', 'Mungo felt elated , smiling back .': 'happy', 'Not so , according to elated opponents of nuclear power .': 'happy', 'I felt elated , especially when he said , ` I \\'m looking for an actor just like you . \"': 'happy', \"He felt elated , warm-hearted at the sight of the place where he 'd been born .\": 'happy', 'I was elated , excited , in another world .': 'happy', 'For my part , I feel elated and close to tears .': 'happy', 'The pretty young undergraduate felt elated .': 'happy', 'He felt both elated and frightened .': 'happy', 'Nor was the thought that he alone might hold the key to the mystery the sole component in his strangely elated state .': 'happy', 'Perhaps elated behaviour has evolved in connection with a rise in the hierarchy , depressive behaviour with a fall .': 'happy', 'Suddenly , to her relief , the telephone rang , Joanna picked it up , wrote down the message , and came back to the table , looking elated .': 'happy', 'As I walked down the front steps for the last time , a feeling of elation swept over me .': 'happy', 'I remember my feeling of elation when I climbed aboard the train .': 'happy', 'The participants in folk dance can and certainly do show elation .': 'happy', 'Her elation took her into her clothes , back to the kitchen to leave Phoebe a scrawled memo , and out of the front door .': 'happy', 'He even telephoned Wexford to tell him about it , his elation subsiding somewhat when he heard the chief inspector had also found this out three hours before .': 'happy', 'In our elation there was some suspicion that our experience had been secret , adventurous , and unique .': 'happy', 'So I was in a great state of elation .': 'happy', \"A wave of cheerful elation swept over her as she separated her pound note from Yanto 's fivers .\": 'happy', '` After each Test there was never any great sense of elation but rather that a step towards the ultimate goal was taken .': 'happy', '` You will not regret it , \" the cardinal told her , observing the prince \\'s elation and guessing its cause .': 'happy', 'Emily suddenly felt a surge of elation , she was eager for the new experience of being introduced into what she considered was the world of adulthood .': 'happy', '` If the manual was lying in the BMW , I think some hint of the elation of the police would have come through on the intercepts .': 'happy', 'Then , as could happen with him , he felt a deep despondency replace his feeling of elation .': 'happy', 'George drove past and felt a terrible anger replace his elation .': 'happy', 'In fact they encouraged us most warmly , and we shared the general mood of elation at the overall success of the 1974 submission .': 'happy', 'A surge of elation rushed through his body as he read the note for the third time , unable to believe the implications of what he was reading .': 'happy', 'Figurative arts , even more than poetry , expressed the mixed feelings of elation over past victories and fear of future incursions which the Celts inspired .': 'happy', 'But the sense of elation was short-lived .': 'happy', 'My elation of the previous day began to evaporate until I remembered Agnes , the indentures I had signed , and the basic honesty of Ralemberg and de Macon .': 'happy', 'Looking down at the dead man Wycliffe felt guilty because he was experiencing a sense of mild elation .': 'happy', \"But when he stepped up on to the conductor 's rostrum for the opening production of a new season , he was -- every time -- filled with a sense of sheer elation .\": 'happy', 'We grew more and more excited .': 'happy', 'Paddington grew more and more excited as he listened .': 'happy', 'I remembered that Tansy had said something about a pendant and Topaz being quite excited about it .': 'happy', \"So we 're quite excited about it and also it 's quite a major problem .\": 'happy', \"I 'm just so excited , because he says I can be in charge of it .\": 'happy', 'Auguste sat in the small balcony with his mother and father , for once not noticing the unaccustomedness of their best clothes , so excited were they .': 'happy', '` They say the king \\'s left Welshpool with a small escort ahead of the army , \" volunteered a boy a yard or so in front of them , turning an excited face .': 'happy', 'The remaining men were just preparing to leave when suddenly a young man called Laban Tall rushed into the malthouse , almost too excited to speak .': 'happy', 'Then , having shown the plate to various not very excited colleagues , he resumed his holiday .': 'happy', '` Right now I \\'m feeling very excited . \"': 'happy', 'In a minute Sir Wilfrid returned , looking very excited .': 'happy', '` The problems start when he becomes more excited and frisky than usual .': 'happy', 'Some horses become excited and upset if something goes a bit wrong when they are in harness , such as chains or ropes becoming entangled around their feet .': 'happy', 'At the same time they could become excited about house matches or school matches and take part in such events with earnest aggressiveness .': 'happy', 'There have been some most tempting glimpses of it when you have become excited about a design or angry with yourself for a failure to meet your own high standards . \"': 'happy', \"You ca n't get very excited when she brings home half-price loo rolls and stale cough sweets .\": 'happy', 'And everybody gets very excited , because three hundred and fifty kilos in Durham tomorrow morning sounds like a good pay day .': 'happy', 'And suddenly they found themselves talking the sort of language that all of us can understand , and they got quite excited about this .': 'happy', 'Donna seemed quite excited about it .': 'happy', \"Alexandra was extremely excited , over-excited in Janet 's opinion .\": 'happy', \"Sir Jack Brabham says he 's never been so excited about a new motor car and the challenge is to go and take on the best\": 'happy', 'I have been looking forward to her visit for weeks and was very excited when I met her .': 'happy', 'Just like trippers heading for the Isle of Wight , they had packed their picnic baskets and sat chatting on deck as their excited children played .': 'happy', 'Bang on cue , she strode out on to the stage , feeling none of the terror that had crippled her last performance , the excited cheers of the children bringing a beaming smile to her face .': 'happy', 'The three of them started walking , followed by the excited crowd .': 'happy', 'Salesmen were still tramping the aisles of the carriages , shouting over the excited chatter of the crowd , the squawking of chickens and bleating of goats .': 'happy', 'The excited smile on her face told Ingrid that the girl was enjoying herself .': 'happy', \"Perhaps he was just imagining the undercurrent of nostalgia , he told himself as he looked at Cora-Beth 's flushed , excited face .\": 'happy', 'Benjamin nodded and stared where an ostler was trying to calm an excited horse .': 'happy', 'I was working late on one of these bad nights when an excited Dr Laurent rushed into my office .': 'happy', \"I feel excited when I come up with something that I can have Jack to help me with , I 'm always ready to hear what he has .\": 'happy', \"And I 'm really excited about it and there 's lots of interest , I think this places are taken up already .\": 'happy', 'It was the prospect of finding gold that induced these excited men to make such frantic efforts to open out the barrow \" .': 'happy', 'Breakfast was quite a social affair as we were frequently visited by new found friends in the shape of two fat and very vocal geese , a young swan and a bevy of excited ducks .': 'happy', 'Her head turned restlessly on the pillow as she strove to distance herself from the increasingly excited voice of the commentator and the air-splitting whine of the high-revving engines .': 'happy', 'But now she looked excited .': 'happy', \"Her headache seemed to be getting worse and worse , and Raffaella 's command of English slipped as she grew increasingly excited .\": 'happy', 'Instead , I made my way back along the sand , watching some evidently exhilarated surfers .': 'happy', 'As the programme of meetings rolled on , sometimes with many presentations on the same day , Horsley was exhilarated , amazed and excited .': 'happy', \"`` We feel at this point actually quite exhilarated , '' said Nicola McIntyre of San Francisco .\": 'happy', 'Then in his foolish exhilaration he had leaped into a tree and spotted them with his binoculars .': 'happy', 'The contrast with her exhilaration on the frozen lake had come so swiftly .': 'happy', 'I had been working for more than an hour and my wrists ached from the continuous chopping , but I was filled with an immense exhilaration .': 'happy', 'Within the next few months -- and long before the next election -- they will have to settle these questions or see the spectre of the Winter of Discontent raised to haunt them by gleeful Conservative politicians .': 'happy', 'He was gleeful about the idea of a Faber ` Vaudeville \" production in 1929 where he starred as a baritone singing Bolovian Ballads and a song about a blue baboon .': 'happy', 'Doisneau is a small , bird-like man with mischievous eyes and a gleeful laugh .': 'happy', \"Connor 's voice was gleeful .\": 'happy', \"Culley imagined Susan 's gleeful smile as she waited for Yorke to work it out .\": 'happy', 'But Matta was gazing at him , and his grin was wider , more gleeful .': 'happy', 'She was interrupted by another hoarse , gleeful chuckle .': 'happy', 'Gleeful opposition leaders and Tory Euro-sceptics said the Government \\'s handling of Maastricht had descended into ` shambles \" .': 'happy', 'The bouncer \\'s glee , the masculine grunts in the background of ` Quite right , too \" , were a timely reminder of surviving and thriving misogyny , and of the petty power struggle it engenders .': 'happy', \"Vitor went down on his hunkers and , much to the child 's glee , spent a minute or two admiring the toy .\": 'happy', 'The Gorengs made their home in the former diplomatic quarter , the area which had , to the glee of the Chinese in the Toku-ru warehouse , been accidentally shelled by the malai navy on invasion day .': 'happy', 'She wished she could share her glee with Adam .': 'happy', 'Tremayne was pink with gratification .': 'happy', 'However , she had no intention of revealing her gratification to Anne .': 'happy', 'In the end he had little real choice but to join in and , if not exactly enjoy it , at least to take comfort in her gratification .': 'happy', 'Dear Lord , he can be stupid , thought Scarlet , as she saw Camille about to respond with the surprised gratification of a matador to whom the bull has blindly turned his flank .': 'happy', 'To our gratification , Blackwells , whom we had approached , expressed interest in the project , something we had not dared to expect .': 'happy', '` His gratification was almost unbounded when on arriving at the Belts of the Murray he found not only numerous new Species but new forms of Birds .': 'happy', 'The jeweller was overjoyed ; he began spending heavily .': 'happy', 'The nurse sent to accompany Leslie tried hard to melt into the background as the overjoyed family spent several hours opening presents under the tree .': 'happy', 'Within months revival began , and overjoyed Christians overflowed into the city streets .': 'happy', 'And the overjoyed youngster was swept off her feet by her favourite royal .': 'happy', '` How pleased your uncle will be , \" said Finn , loitering for hot shaving water .': 'happy', 'She was really pleased when she came back and found him fighting fit , even though he was still using one wing as a crutch to support his crooked leg .': 'happy', 'Captain McArthur was a musical comedy aficionado , and not pleased when Mrs Kingswood spoke critically of the form .': 'happy', '` Well , he was pleased when you agreed to this .': 'happy', 'Paula , mother of Nicola , 4 , and Richard , 2 , was pleased when the local council made the playground in the town park more child-friendly .': 'happy', 'It is difficult to tell whether they are disappointed or pleased when the expected end seems delayed .': 'happy', '` Did n\\'t seem too pleased about something . \"': 'happy', \"The army had n't been too pleased about that little episode either .\": 'happy', \"No one was more pleased about Dara 's demise than Roshanara Begum .\": 'happy', 'You \\'re pleased about his engagement -- he told me that some time ago -- and you \\'ve as good as admitted it tonight . \"': 'happy', \"He had n't sounded very pleased about something -- that made two of them .\": 'happy', '` I am obviously very pleased about winning but it was also great that my parents were here .': 'happy', \"When Alain 's mother finally went inside with a few rueful shakes of her head and a pleased look on her face , Jenna decided to risk all .\": 'happy', 'Ralf the pedlar stood in the centre of the drawbridge , a pleased smile stretching from ear to ear .': 'happy', 'The children were watching TV peacefully , but Annie saw her as she bobbed her head around the door , gave a pleased gurgle and started to scramble down .': 'happy', 'I found that most parents were initially rather shocked at finding out their daughter was pregnant , some cried , some got angry , some were very matter-of-fact , and some were quite pleased .': 'happy', '\" Debbie would be pleased , \" she said .': 'happy', '` I should think you \\'re pleased , are n\\'t you ? \" asked Charles genially .': 'happy', '` Poor things , no life of their own , \" they say , simultaneously thrilled and appalled as they pore over the latest ` revelations \" in the Mail or Express .': 'happy', \"He himself was thrilled , but his pleasure was diminished as he imagined Ken 's pallid , bandaged head shadowed on the screen .\": 'happy', 'Bill \\'ll be so thrilled ! \"': 'happy', 'Audiences were thrilled , box office cash registers jingled and careers were made .': 'happy', \"There was no excitement about my first bra -- I even had to pay , because my mum claimed I did n't need one !\": 'happy', 'The media excitement about Enid Blyton and Captain W. E. Johns soon died away .': 'happy', \"But I remember the excitement in my children 's faces .\": 'happy', 'When he came to the part about the clip he glanced up , and she saw the flare of excitement in his silvery-green eyes before they dropped once again to the page .': 'happy', 'Cranston repeated , fighting hard to control the excitement in his voice .': 'happy', \"Elizabeth 's face lit up , as she told him of Martha 's excitement over the clothes sent by Tamar .\": 'happy', 'For Andrew , the trip up to London to the awards ceremony attended by the Princess of Wales , was almost overshadowed by his excitement over his first journey on a train up to the capital .': 'happy', 'Imagine my excitement , therefore , when it seemed recently that I might have stumbled across it in the shape of the Tower House in Malmesbury , Wiltshire .': 'happy', 'Her excitement shone in her eyes as she showed him her sketches .': 'happy', 'Somehow she rose over her excitement , though , and concentrated all she could on the task at hand .': 'happy', 'Glancing up at his face , Cassie saw his expression change , his face darkening and hardening as his mounting excitement and desire seemed to quicken into something uncontainable , threatening , like the tide of an incoming sea , to engulf them both .': 'happy', 'The crowd was wild with excitement .': 'happy', 'He pressed himself back once more against the wall , panting with excitement .': 'happy', 'She was tingling with excitement .': 'happy', 'For a girl brought up in a Christian Science home there was a certain frightening kind of excitement about medicine , like drink for a teetotaller ; but otherwise she found the work harrowing and repellent .': 'happy', 'All this generated considerable excitement within AEA .': 'happy', 'Robyn was almost ill with excitement and outrage .': 'happy', 'Athelstan gasped with excitement and went round to rouse the coroner .': 'happy', \"The highlight of the whole tournament -- almost irrespective of their performance on the field -- will be SOUTH AFRICA 's emergence from the woods , a coming in from the cold which is generating a great excitement .\": 'happy', 'Sometimes , amid great excitement , his mother was in , with guests who drank wine and laughed loudly and spoiled him and Pam .': 'happy', 'Her own intense excitement had given way to a hollow feeling in her stomach and she had been quite unable to eat for several days .': 'happy', 'He was now a very effective reader of his own work -- his theatrical instincts were here most valuable and , as Edmund Wilson noted , he could communicate a feeling of intense excitement to his audiences .': 'happy', 'Amid intense media excitement and stringent security Mandela was given a tumultuous ticker-tape welcome in New York where he received the freedom of the city .': 'happy', 'The advertisements appeared in Novoye Russkoye at the weekend , causing a buzz of excitement in the Soviet expatriate enclave of Brighton Beach , also known as Little Odessa .': 'happy', 'Of all the journalists who made the pilgrimage to Dovercourt , the team from the BBC caused the greatest excitement .': 'happy', 'The finding of the \" goat \" has caused particular excitement , since i is one of the few large mammals to have been discovered this century .': 'happy', 'Overjoyed at the prospect , she found it difficult to conceal her excitement from those around her .': 'happy', 'I replied , endeavouring to conceal my excitement .': 'happy', 'What does stand out is that everyone believes that the profession , its standards and its aims , matter , and they all feel an excitement about the job of acting .': 'happy', 'Maggie felt an odd excitement stirring inside .': 'happy', 'That evening she felt no nervousness at all , just excitement , controlled excitement .': 'happy', 'Of course , it entails extra work , but there is a sense of excitement and children like dressing up .': 'happy', \"Patrick was not ready yet to share Stevie 's excitement .\": 'happy', 'Jane was in a state of high excitement .': 'happy', 'Returning to the campuses in a state of excitement , they sensed victory over the authorities , but had to secure the release of their arrested colleagues .': 'happy', 'Seb reached Burford in a state of high excitement only to find that Superintending Constable Aplin was in London .': 'happy', \"She had smiled and raised rather amused brows at the stories that tumbled in then of Fergus 's progress .\": 'happy', 'She was greeted with a sympathetic , and rather amused smile .': 'happy', 'She was shortish and had an attractive way of cocking her head on one side and looking up with big dark eyes and a wryly amused smile .': 'happy', \"Guy 's mouth kicked up at one corner in a wryly amused smile .\": 'happy', 'There were amused smiles , but they did not know at all why Alain had done that .': 'happy', 'She gave him a quick amused glance , her head leaning back against the faded red of the alcove seat .': 'happy', 'Ellen gave me an amused glance .': 'happy', 'The two observers exchanged amused glances and then wandered away under the trees .': 'happy', 'I noticed with amusement that the tapestries hanging there illustrated the seven deadly sins .': 'happy', 'I remembered his amusement about such underwear on his first evening at Sleet , how he subsided into laughter , infectious to everyone but me .': 'happy', 'There was a cool mockery in his deep voice , and she turned to glare at him , hating him for the fact that he seemed to be deriving amusement from her discomfort .': 'happy', '` Can I help you ? \" she asked , trying not to let him see the amusement in her blue eyes .': 'happy', \"There was amusement in Jake 's voice , but there was something else as well .\": 'happy', 'Remember that hypnosis is not a party game to be practised by amateurs for the amusement of themselves or others .': 'happy', 'The simple , laughing islanders subsequently worshipped it as a god , much to the amusement of their more sophisticated neighbours .': 'happy', 'I have been sent a Leeds United 1993-94 squad picture from the Evening Post and this now adorns my office wall , much to the amusement of my colleagues .': 'happy', 'He laughed shortly , little amusement on his face .': 'happy', \"Aristophanes shook his handsome head over his friend 's amusement .\": 'happy', \"This time , the Prince 's amusement was obvious .\": 'happy', 'The note of anger carried to the groups and couples passing by , provoking amusement and raised eyebrows .': 'happy', 'You could make a fortune , \" she said in genuine amusement .': 'happy', 'Agnes watched with amusement as his interest quickened or faded with each phrase .': 'happy', \"Gioella 's eyes flashed with amusement as she pushed a chair towards her and said , ` Constance , what a very sophisticated dress .\": 'happy', 'Guy Sterne was having great difficulty in controlling his amusement .': 'happy', 'Temperamental differences operate once more with this new trio of junior heroes , whose elders , the three lieutenants , regard their pranks with mild amusement .': 'happy', 'From the other end of the table Ymor watched with mild amusement , occasionally feeding one of his ravens with scraps from his plate .': 'happy', \"I hate to disappoint anyone but that was n't the case -- although the veiled hints caused us plenty of amusement .\": 'happy', 'He uttered a short sharp bark , which made Rosie jump ; she assumed it was a cough , then realised that it was intended as an expression of amusement .': 'happy', 'He considered this thoughtfully , then a gleam of amusement came into his eyes .': 'happy', \"A look of intense amusement crossed Catherine 's face .\": 'happy', \"As a toddler she filled in concentric circles provided for her amusement by her father 's youngest brother , young enough to be her own big brother .\": 'happy', 'A smile of amusement played on his lips as he studied his unkempt prize .': 'happy', 'One woman , who already had a job and a busy life of her own , was surprised to find how sad she felt when her children left home in quick succession .': 'sad', 'He sounded quite sad about it .': 'sad', '` I made the camp , \" grumbled Henry , rather like a sad child .': 'sad', 'While he went up to the bar to order , Ellie settled back in her seat , and , with a rather sad light in her eyes , watched him .': 'sad', '` I had the sense he was rather sad , \" the writer now remembers .': 'sad', 'There must be another reason why you are so sad , \" he said , looking kindly at me .': 'sad', 'But Miss Van Cheele was terribly sad about Gabriel-Ernest .': 'sad', 'They were very quiet and sad at first , because I would be leaving them , but I promised I would never forget them and would often return to visit them .': 'sad', \"` Well , you 're very sad , Tess , and you have no reason to be .\": 'sad', '` But other people became very sad and worried .': 'sad', \"Taheb 's face became sad .\": 'sad', \"Sybil 's expression , which had become momentarily sad , softened into a tender smile that was wholly natural .\": 'sad', 'I feel so sad with Marie gone .': 'sad', 'But , not surprisingly , many parents continue to feel anxious , tense and sad about their children .': 'sad', 'As she poured coffee for Jenny and Paul , she felt unbearably sad .': 'sad', \"She did n't want to get sad now , not now after it had been so good .\": 'sad', 'But why does Mr Ross always look sad ?': 'sad', 'He looked very sad .': 'sad', 'Almost every month it seems as though some sad parent on the local news is bemoaning the loss of their teenager who died in this way .': 'sad', 'They all seem terribly sad .': 'sad', 'She thought he seemed sadder and older and somehow lonely .': 'sad', 'He smiled a little , without altering the sad expression .': 'sad', 'He was a thin , brown man with a brass stud at the neck of his striped shirt and a sad expression as if he were on the point of tears .': 'sad', 'And out of the dark woods came the black man , leading his horse on one arm , and on the other a tall grey hound with the saddest face I have ever seen on any creature .': 'sad', 'His brown , nearly auburn hair clung to his scalp as if with misery , sad eyes stared out of a freckled face , his hands were clenched tight .': 'sad', 'A black-haired woman with a long , sad face was inside .': 'sad', 'When one day nobody could rouse him from his trailer , it was Lee Marvin who entered quietly and found a sombre , lonely , sad man .': 'sad', 'He had a clear picture of a sad and lonely man , deeply concerned about his health and dwelling on a future which seemed to promise only a fairly rapid decline into senility .': 'sad', 'Tolonen nodded , suddenly wistful , his lips formed into a sad smile .': 'sad', 'A small sad smile pulling at her mouth , convinced that it would say thank you and goodbye , she took a deep breath , and began to read .': 'sad', 'Country folklore has it that dobies were actually the sad little GHOSTS of unwanted or plain women , who would fumble around the house trying to be useful until their spirits had been exorcised .': 'sad', 'My mother was only a sad woman in an old photograph , younger then than I was now .': 'sad', 'A sad old woman rose from her chair , as from a dais , to take their coats and hang them on a row of hooks nailed against a wall .': 'sad', 'We are always sad when a young international athlete finds himself in this situation . \"': 'sad', 'The grand old man of the Scottish mountains , author and TV star Tom Weir , said he was sad about the plan .': 'sad', \"And Glenn Close 's stubborn and pain-ridden performance as Sunny makes you sad for her and hate her at the same time .\": 'sad', '` We are sad for Jason Livingston .': 'sad', 'They are sad for Johnny Bryan because he can never truly be a member of this particular family .': 'sad', \"She says we 're happy to be in England but we are sad for our relatives .\": 'sad', 'I am surely not alone in feeling profoundly sad over the so-called reprieve of certain regiments in the British Army .': 'sad', 'Her tone was sad .': 'sad', '` Was it sad because its mummy was nasty to it ? \" he said .': 'sad', '` It is that hard , \" he said ominously , and I thought of John Maggovertski \\'s sadness for a pretty girl who had whored herself to pay for the white powder .': 'sad', 'Despite the sadness of the occasion , many gave way to hysterical giggling as they gradually realized that every compartment contained mourners or corpses .': 'sad', 'The happy melody of Morning has Broken followed , but the sadness of family and friends choked many of the words .': 'sad', 'They talk about the sadness of departure ; what about the guilt of arrival ?': 'sad', 'It is worth , asking if all our sadness and anxiety is in fact for our child .': 'sad', 'Was his sadness tinged with guilt ?': 'sad', \"She felt guilty when she sensed Beth 's deep sadness .\": 'sad', 'It was , however , obvious that there was some deep sadness within him .': 'sad', 'When he wondered this he felt a deep sadness .': 'sad', 'As she looked around she felt a twinge of sadness that in a carriage where 70 per cent of the commuters were men there were five women forced to stand in the aisle .': 'sad', \"If refused , they may feel saddened , disappointed , or inconvenienced , but their self-concept is n't shattered .\": 'sad', 'She looked at the crumpled figure who was fighting for breath on the pillow , perspiration pouring down his anguished face .': 'sad', 'If she had been paying more attention to his face she might have believed that his deeply shocked , anguished expression was not an act , put on for her benefit .': 'sad', '` I only hope you \\'re right ! \" he said in anguished tones .': 'sad', 'She looked up at Phoebe with an anguished expression that was nearly honest repentance .': 'sad', 'The earliest sparkling wines were undoubtedly discovered by accident , probably by the trial and error methods employed by anguished winemakers ironically trying to avoid the nuisance of fizzy wines .': 'sad', 'His anguished voice tailed off , to intensify the effect .': 'sad', 'The anguished princess , says Morton , told one friend : ` If this is the price of public life then it is a price I am no longer willing to pay . \"': 'sad', 'As the week went on I got more and more anguished telegrams from home telling me to conclude the deal and come home .': 'sad', 'She felt the anguished tears of motherhood blur her vision and blinked them away .': 'sad', 'There was an anguished cry from the tub .': 'sad', \"Alexei 's expression was anguished , and it was clear that he wished himself elsewhere .\": 'sad', \"He glanced up , saw Auguste 's anguished eyes , and thought he understood .\": 'sad', \"Gina bit her lip as her sister 's anguished sobs echoed over the line .\": 'sad', 'An anguished groan escaped her , the certain knowledge hers that both she and Cara could say goodbye to that interview for ever if she breathed a word of the truth to him .': 'sad', 'In time , perhaps , she would make efforts to conceal her resentment about his ability to make her feel guilty , and he would make efforts to conceal his anguish about the loss of her .': 'sad', \"Manager Graeme Souness 's touchline ban meant he could only watch in anguish from the directors ' box .\": 'sad', 'Her fingers tightened on his hands , hearing the anguish in his voice .': 'sad', 'There was real anguish in his eyes .': 'sad', 'At last he turned to her and he could not have failed to see the anguish in her eyes .': 'sad', 'But the address underlines the anguish of Her Majesty \\'s speech after the Windsor Castle fire when she referred to 1992 as her ` annus horribilis \" .': 'sad', 'From somewhere in the gloom , accompanied by raucous laughter and much crudity , a young female voice began to groan and then rise , unintentionally mimicking the anguish of a wounded soldier .': 'sad', 'You may imagine the anguish of the people as this was going on .': 'sad', 'He could see no way out and in his anguish he began to think of doing himself in ; the method he would use would have to be quick and simple .': 'sad', 'My anguish must have shown in my face and in my voice .': 'sad', 'But the behaviour of Reverend Prentice has only added to his anguish .': 'sad', 'For some the strain of living together without legal ties leads to considerable anguish .': 'sad', 'And Ryan had spent more than one night under the roof with her , she remembered in bitter anguish .': 'sad', 'Her voice shook , her face was white with anguish .': 'sad', 'The smiles hide the anguish .': 'sad', 'Joseph , unable to follow the French , waited in anguish , not knowing what was being said .': 'sad', \"It 's been our experience that families , and particularly carers , go through great anguish , much pain and heartache associated with this process .\": 'sad', \"SHE was once considered one of the world 's most beautiful women , but yesterday every line etched on Britt Ekland 's face told a story of personal anguish .\": 'sad', \"What this implies and should express is the field-worker 's moral commitment to his foreign hosts ; this can be the source of much personal anguish and heart-searching .\": 'sad', 'This is a peculiarly nasty technique of persuasion , causing great psychological anguish throughout the middle ages and even today .': 'sad', 'Some real research , I suggest , is needed into a condition which , though frequently rib-tickling in retrospect , causes widespread anguish at the time .': 'sad', '` She felt that would have caused pain and anguish to William and Harry . \"': 'sad', 'Whether the cries of anguish for 1991 alone are justified remains to be seen .': 'sad', 'A faint cry of anguish came from the direction of the bed .': 'sad', 'Katherine could feel his anguish , and for the second time that day the tears slid down her cheeks .': 'sad', '` He was depressed and has suffered a great deal of mental anguish . \"': 'sad', 'Suddenly becoming aware of his blue gaze being levelled in her direction , she turned a smile into a cough , and promptly spilled coffee into the saucer .': 'sad', 'I felt that she was quite distressed by the birth -- she seemed drowsy and a bit blue .': 'sad', \"He looked so crestfallen that Old Bulldog did n't know what to do for a minute .\": 'sad', 'The wedding guest did not exactly beat his breast but he looked considerably crestfallen .': 'sad', 'Then , in response to my crestfallen look , he added kindly : ` Of course you did not look gay -- you \\'re no screaming queen -- but nevertheless I just knew . \"': 'sad', 'Nicky looked crestfallen but did not dare argue with Constance when she was in this mood .': 'sad', 'He looked so crestfallen Preston felt sorry for him .': 'sad', 'He looked a little crestfallen .': 'sad', \"Darby was momentarily crestfallen before saying : ` I still think it 's an office you need to find .\": 'sad', 'A dejected David Mellor , of the Royal Bank , told the magazine Doctor : ` I was led to believe it was n\\'t an appropriate venue for a bank representative . \"': 'sad', \"Moreover , now that she had achieved the heart 's desire for which she had turned on her shameless , neurotic display , she had become dejected , and walked along meekly , head and tail hanging .\": 'sad', 'On this occasion City accepted with relish the chances which came their way and inflicted serious psychological damage on their dejected opponents .': 'sad', 'Depression flattens the voice almost to monotony ; movement is slowed , and a dejected facial expression is characteristic of many people when they are in a low mood .': 'sad', 'When Allen at last found a crevice secure enough to trust to he looked over to find that he was peering into the little courtyard onto the rain-wet backs of the dejected horses .': 'sad', 'Then they walked away , humbled and dejected .': 'sad', 'I felt frustrated , angry , utterly dejected .': 'sad', \"A dejected Allen added : ` You ca n't give John Aldridge chances like that -- he is a quality finisher .\": 'sad', 'I felt pierced to the heart , dejected and lonely .': 'sad', \"Tennyson discloses that the setting of Mariana is in Shakespeare 's Measure for Measure where the dejected Mariana resides alone in a moated grange .\": 'sad', \"But Kirkwood , who was a particularly dejected figure after Monday 's decisive 1-0 defeat by Canada , injected some pride back into Irish ranks in the dying seconds when he flicked home the winner .\": 'sad', 'Meanwhile the dejected opposition leader , John Hewson , reacted to his crushing defeat yesterday by abandoning key policies which he had trumpeted as essential for Australia .': 'sad', 'His head , craning neck ; one moment high , straining to the ceiling ; then , a sigh , utter dejection , dropped down between his knees , his forehead pressed to the floor .': 'sad', 'He wandered around in a state of utter dejection , belonging nowhere .': 'sad', 'McColgan , slumped in deep dejection , said afterwards : ` It was just a bad race on my part .': 'sad', 'Back in his office , McCready threw himself into his chair in deep dejection .': 'sad', 'Very likely he was simply lying on his bed in a state of dejection and , perhaps , of remorse for his massacre of \" the possessions \" which was now generally thought not to have been necessary .': 'sad', 'It is also likely that by providing minimum standards of living , social services reduce public apathy and dejection and thus maintain the will to work .': 'sad', \"The sun was shining the next morning but the brightness of the day did nothing to dispel Eline 's feelings of dejection .\": 'sad', 'Merrill laughed at her dejection .': 'sad', \"The journey was taken at a leisurely pace because of the trailer , yet , despite her dejection , Matt 's reminiscences caused it to pass rapidly .\": 'sad', 'In it a deeply depressed Spiro , 46 , makes several rambling statements about his money problems .': 'sad', 'He felt suddenly deeply depressed .': 'sad', 'For the more depressed and lonely people who have few if any outside contacts , counselling can appear to deepen the very feelings that it is seeking to alleviate , especially in the early stages .': 'sad', 'As he told Barbara afterwards , he had never felt more depressed .': 'sad', 'Interpersonal arguments and difficulties were also a more common feature of the experiences of depressed patients than of the comparison group .': 'sad', 'Now Endill felt really depressed .': 'sad', 'After the operation , you may feel sick or very depressed -- this is the effect of the trauma of the operation and of the anaesthetic .': 'sad', \"I 'm very depressed and have tried to commit suicide several times .\": 'sad', 'By this time I was beginning to think that Eric was either dead or had chosen to forget me , and I felt very depressed .': 'sad', 'He became very depressed for some time before he could reassess himself , start to use his considerable abilities and begin courting his wife again .': 'sad', \"Unfortunately Chris 's health suffered , and she became very depressed .\": 'sad', \"But he 'd become depressed about his exams and could n't concentrate on his work .\": 'sad', \"Have we become so depressed about any real prospect of newness that we 've decided to enjoy our chains , masochistically dwelling on our miseries and inadequacies ?\": 'sad', 'So I got very , very depressed about it all and I just said to the officers , ` Put me in my cell and leave me alone .': 'sad', 'I got more and more depressed .': 'sad', 'Upon recovering , he admitted he had been extremely depressed since the death of his wife from cancer a year earlier and now did not think he had anything to live for .': 'sad', 'The mood by this time may be more depressed , as they start to look at their own problems as opposed to those of their partner .': 'sad', \"When I was 15 I was in a depressed state and I thought , I 'll do these last paintings about the end of the world and then I 'll end it .\": 'sad', 'She was deeply depressed , and felt guilty about her depression .': 'sad', 'Marsilid was tried as a treatment for depressed patients , and , given over a period of weeks rather than days , but it had disadvantages as well as advantages .': 'sad', 'The virtual outlawing of the use of ECT in some States in the USA has deprived suicidal depressed patients of an extremely effective and sometimes life-saving treatment .': 'sad', 'Geographical moves have been found to be third most important in a list of ten precipitants concentrated in the month before the onset of depressive symptoms , in forty consecutive clinically depressed patients .': 'sad', 'Many depressed people just withdraw into themselves , they may sleep a lot in the day but have wakeful nights .': 'sad', 'For example , mildly depressed and tired old people used to be given amphetamines .': 'sad', 'A depressed person may cry a great deal , show self-pity and lack of interest in the outside world and have no enjoyment of everyday life , even food .': 'sad', 'Their findings indicate measurable differences between normal and depressed women .': 'sad', 'He seemed too depressed to do very much , wandering round the house like a zombie .': 'sad', \"I 've heard of women so depressed that they spend their 40th birthday incommunicado , having a mini nervous breakdown in bed .\": 'sad', \"Records must not be based on the measurement of subjective impressions such as the number of times parents felt depressed about their child 's behaviour .\": 'sad', 'I felt quite depressed about it . \"': 'sad', 'In the longer term the offspring of depressed mothers are more likely to suffer from childhood depression .': 'sad', 'The ready availability of a screening questionnaire that mothers at risk can complete under supervision in a few minutes is potentially useful , but only if health workers and others can rise to the needs of depressed mothers .': 'sad', 'If someone mentions things like ration books , powdered egg , air raids and so on , my stomach turns over and I feel quite depressed .': 'sad', 'It showed some women in a northern English town at the turn of the century ; they were standing under an advertisement for Mazawattee tea and seemed depressed .': 'sad', 'Her shoulders were slumped and she was walking slowly , looking depressed .': 'sad', 'Every time I go to Cambridge I come back depressed as hell ; then as soon as I am back to a Norfolk class spirits soar again .': 'sad', 'At first I could not understand -- but then when she had , whispering , explained properly , I was filled with a desolate , despairing horror .': 'sad', 'I am so desolate -- oh , but please , it is all arranged and say no more . \"': 'sad', '` Let me in for I am cold and desolate and hungry . \"': 'sad', 'I was so desolate about Chip .': 'sad', 'Edwin , I would be utterly desolate were it not for my faithful companion here .': 'sad', 'I felt so desolate , and so angry . \"': 'sad', 'Creggan had never in his short life felt so desolate , and try as he did he could not rest and fall asleep .': 'sad', \"Feeling oddly bereft and desolate , besieged by Dolly 's incessant chatter , Luce was pleased to get back to the hotel .\": 'sad', 'Feeling desolate , she climbed back into the car , not daring to look at Roman in the silver moonlight .': 'sad', 'He saw Maud once in the Kurfrstendamm , eating alone in a cafe and looking a little desolate , with a stack of coins already piled beside her plate although her meal had only just come .': 'sad', 'She looked utterly desolate and all of her thirty-eight years ; her cheeks seemed to sag and her jaw-line looked heavy .': 'sad', 'Market Report : Interest rate fears spread despondency': 'sad', \"The greatest cause of the Prince 's despondency had been the feeling that he served no useful purpose .\": 'sad', 'Producers must believe in their ability and not succumb to despondency .': 'sad', 'There is nothing new in the experts spreading unwarranted alarm and despondency .': 'sad', \"In an attempt to counteract despondency , to reclaim the green world for itself , not solely as a balm for my despair , I arranged with Barry 's help an interview with David Ricalde .\": 'sad', 'Through some unexplained process , magnetic fields produced by the electric currents flowing in the cables seem to induce , say the depressives , the darkest feelings of gloom and despondency .': 'sad', 'I want you and Sheila to know how very much I appreciate the kindness shown to me in my earlier mood of despondency .': 'sad', \"During the days that followed Brackenbury 's hasty departure , Edward 's despondency increased .\": 'sad', 'Following this there was considerable despondency amongst the committee as there seemed to be little hope for the future .': 'sad', \"Lucille 's despondency was caused by a fear of Sharpe 's death , not a British defeat , but she dared not articulate such a thought .\": 'sad', 'During the following months the School managed to carry on , but the atmosphere must have been one of great despondency .': 'sad', 'The day was high and bright , the salt tang seasoning the after-pulse of summer heat which still hung in the air , but nothing could shift my sense of despondency , nagging depression .': 'sad', 'The session had ended with the seven of them grinning broadly , their earlier mood of despondency cast aside , their sense of unity rebuilt .': 'sad', 'I remember my despondency in 1926 when Abd al Karim was forced to surrender to the French .': 'sad', 'And therein lay the extent of his gratitude , she realised with a feeling of despondency , but to disguise her feelings she added brightly , ` When we \\'re at the hospital we must visit Stella . \"': 'sad', 'Despite moments of despondency , de Gaulle himself certainly did not give up hope .': 'sad', 'Determinedly she put her worries and the root cause of her despondency behind her and tried to think more cheerfully .': 'sad', 'The euphoria and sense of well-being which accompanied the boom years of the 1980s has been replaced by a mood of despondency as companies and individuals experience the effects of a western-style recession .': 'sad', 'She knew that his Gothic romance and glossary were being turned down by publisher after publisher and he grew despondent as he rewrote and rewrote again .': 'sad', 'Diana took the criticism to heart , avidly read what was being said about her and became depressed and despondent .': 'sad', 'She was becoming increasingly despondent about the way things were going .': 'sad', 'The mood was despairing , despondent , and war-weary -- apathetic rather than rebellious .': 'sad', 'And our hero in his turn , felt despondent and fearful , for his little grey mentor had given him no instructions for this eventuality .': 'sad', 'It was a pretty despondent group that sat around the fire of the LRDG patrol , each sunk in his own thoughts .': 'sad', 'At first Tony looked less happy than before , and said he had become somewhat despondent about his lack of progress in finding employment .': 'sad', 'We are more despondent and needy than ever !': 'sad', '` Ma , \" he said in a tentative tone of voice , his face going slowly pink with the strain of trying to communicate with his despondent parent .': 'sad', \"Nigel became despondent but I did n't .\": 'sad', 'Both Mr Pitman Senior and Junior were reps who grew progressively despondent over the standard of rooms and services they encountered on their travels .': 'sad', 'Protagonists of unity may have been despondent about the loss of the EDC and the European Political Community , but were not routed .': 'sad', \"I 'll have the use of a locker at the airport   she trailed off with a despondent sigh .\": 'sad', 'By six o\\'clock the water had n\\'t arrived and Haverford , looking at their despondent faces , said , ` It \\'s like a death in the family . \"': 'sad', 'He felt increasingly irritated and despondent .': 'sad', 'He was beginning to feel a bit despondent about the kind of questions Jean was asking .': 'sad', 'By comparison , she felt drained and despondent .': 'sad', 'Inevitably some become despondent , fearing they will never work again .': 'sad', 'Privately , Juliet was feeling rather despondent .': 'sad', 'Squeezed like despondent sardines , they looked as if they were huddling for warmth .': 'sad', '` Do n\\'t be despondent , \" she told me .': 'sad', 'A despondent Renault worker remarked , ` It seems to me that we came very close to something new . \"': 'sad', \"Following yesterday 's revival in fortunes , the London share market was in a despondent mood as the Treasury deflated hopes of early interest rate cuts .\": 'sad', \"Yeah , but she 's a bit despondent now is n't she , really ?\": 'sad', '` Of course , we were devastated , but we knew now what had been wrong all along -- and at least they could n\\'t blame me any more . \"': 'sad', 'Clare was devastated and swore that she would never go back to school again .': 'sad', '` I was devastated , \" he says of missing the semi-final .': 'sad', 'His poor scrawny hands grip the arms of a wheelchair pushed by his adoring wife with the now familiar expression of a too-bright smile and devastated eyes .': 'sad', 'In an expression of community sympathy many local children in South Ronaldsay made and sent cards to the four devastated mothers .': 'sad', \"Julie 's devastated husband Tim , 32 , was last night preparing to fly from their home in Northampton to identify his wife 's body .\": 'sad', 'Father Hugh Mcaleese said : ` We are devastated , but we intend to restore the church to its former glory .': 'sad', '` I was devastated , I wanted him back , \" Carol said after the hearing at Fareham .': 'sad', 'Fry said his farewells to the players who regarded him as a father figure before heading for home in Bedford a devastated man .': 'sad', 'He collapsed in a coma at a London club and died hours later in hospital from massive internal bleeding  in front of his devastated mum and dad .': 'sad', 'As he was rushed to hospital , his devastated daughter Suzanne went ahead with the service -- not knowing if he would live or die .': 'sad', 'Yesterday it was also disclosed that glamorous Suzannah Dwyer told her devastated husband of her romance 24 hours before Bates went public with the news at a press conference .': 'sad', 'Physically she felt devastated .': 'sad', 'I feel devastated and it is much worse for my poor mother . \"': 'sad', 'Jessica felt more than flustered , she felt devastated .': 'sad', '` All her colleagues are devastated , she was a popular wee girl . \"': 'sad', 'I sit disconsolate in the snow .': 'sad', '` Give over , will yer , \" pleaded the disconsolate convener , slapping jam on his butty .': 'sad', 'The Brazilian lover was looking increasingly disconsolate .': 'sad', \"Wycombe were beaten by Bob Taylor 's 82nd-minute winner , and their disconsolate boss Martin O'Neill said : ` I was actually looking forward to extra-time because I was so sure we would win .\": 'sad', 'The night outside was drizzling with rain , and everyone except himself hurried for a cab ; the flower-sellers were disconsolate .': 'sad', 'As Clinton was taking up the reins of power , a disconsolate President Bush flew back to Washington to make arrangements for the handover .': 'sad', \"Francis was not totally disconsolate and added : ` The way our fans came behind us is the best I 've ever heard it here , and I hope it continues .\": 'sad', 'A disconsolate group of climbers sitting round a kitchen table all lean forward and peer out at the iron-grey clouds rumbling past .': 'sad', 'She stared until it was hard to know which was herself -- the disconsolate woman in the chill room or the other sorrowful face in the night outside .': 'sad', 'Wenner would fly in to issue instructions to an increasingly disconsolate staff and Jagger would pay the bills .': 'sad', 'With a disconsolate sigh she stood up , slipped off the towelling robe and threw it over a chair .': 'sad', 'He looked most disconsolate .': 'sad', '` After he got back I felt like I was in a black hole , \" groaned a disconsolate Wilkinson after his two hour defeat .': 'sad', 'Support for the Greens may have shrunk but it was still at the same level as the Liberal Democrats \" , the third party in Parliament , so perhaps Ms Cooke was unduly downcast .': 'sad', 'Catherine looked downcast , and McLeish felt uneasy .': 'sad', 'Penelope Huntley sat silent through this speech , chain-smoking , her eyes downcast .': 'sad', 'Leapor was still downcast about the loss of her job , perhaps unable to write much poetry , when she met Freemantle .': 'sad', 'Which was a curious sensation , since in fact her eyes were downcast , apparently studying the vinyl squares of the floor .': 'sad', \"Flora 's eyes were downcast too ; they usually were .\": 'sad', 'Cowed , he stiffened his stance , his eyes slightly downcast .': 'sad', 'He looked so downcast that even Angalo patted him on the shoulder .': 'sad', 'Harry released her and once again his expression was downcast .': 'sad', 'A group of thirty or forty downcast men stood apart in the canter of thin ring , their heads and arms hanging slack in attitudes of despair .': 'sad', 'But one day when the lord was off hunting the fox said : \" Friends , we are all happy and contented , but our master sometimes seems rather sad and downcast .': 'sad', '` You must n\\'t be downcast , \" said Lydia .': 'sad', \"I might have felt a little downcast at that point , only the evening had made me feel more encouraged about my prospects with her than I 'd felt for some time .\": 'sad', 'They gossip and joke and giggle like schoolgirls : very different from their daughters-in-law who are sometimes seen shuffling behind them , heavily veiled and silent and with the downcast eyes of prisoners under guard .': 'sad', '` It is a long time since anyone cared for you as tonight you cared for Ana , is it not ? \" he asked softly , his hand coming to tilt her downcast face .': 'sad', '` Forgive me , Miss Kyte , \" said the other lady softly , ` but you look quite downcast . \"': 'sad', 'One unnamed area was criticised after it appeared to have industrial dereliction and sad , downcast people .': 'sad', 'Yet they were not downhearted .': 'sad', 'I am not downhearted .': 'sad', 'Kevin Keegan , the Newcastle manager , was not downhearted , even though the result leaves his side deep in relegation trouble .': 'sad', 'The family are not downhearted ; they have made many people across the country aware of the Trust and their work .': 'sad', 'All the talk of weddings made Anne feel downhearted and impatient with the secrecy that John insisted on .': 'sad', 'You ai n\\'t gone and got yourself worked up into a glum mood , have you now ? \"': 'sad', 'It was performance that drew applause from a press corps relieved to be approaching the end of at least the first election campaign this year , and brought smiles to previously glum ministerial faces .': 'sad', '` You look glum today , \" Bragg said good-humouredly .': 'sad', 'The organisation is glum about the social consequences for Europe .': 'sad', 'The glum look on his face was probably normal .': 'sad', 'After the coming of the man in the night , Miguel had grown glum and thoughtful .': 'sad', '` Then why are you looking so glum ?': 'sad', '` In fact , \" said Helen , ` I \\'m not feeling particularly glum about all this .': 'sad', 'THE glum look on the face of England Manager Graham Taylor says it all  but he has no intention of quitting .': 'sad', 'Leading scorer Paul Wilkinson struck his 20th goal of the season against his former club but looked glum as he left the dressing room .': 'sad', 'Aside from the fact that Jill is quite capable of carrying her own books , her glumness could easily be due to being a young lesbian forced to suppress it and wishing Jack would take his stupid pick-up lines elsewhere .': 'sad', 'My poor mother was grief-stricken and all alone .': 'sad', \"A grief-stricken Mr Ellis said yesterday : ` It 's a nightmare .\": 'sad', \"Wren 's grief-stricken mother gives all her daughter 's possessions to Luna .\": 'sad', \"The grief-stricken widow refused to leave her dead husband 's side , and even crawled into his bed in a vain attempt to infect herself with his disease .\": 'sad', 'His grief-stricken widow destroyed all his cricket clothes and equipment .': 'sad', 'Queen Margaret came out of the church , a veil covering her grief-stricken face .': 'sad', \"Lady Cross 's family was too grief-stricken to attend the trial .\": 'sad', \"Sometimes our bodies and minds seek excuses to experience griefs that we may have put aside or denied because we could n't face them at the time .\": 'sad', \"She had assumed that because mother had n't wept or shown grief that her father had n't been loved by anyone but herself and her father 's parents , who wept copiously .\": 'sad', 'I experienced tears of real grief for the first time when my granny died .': 'sad', 'How does it make someone like a woman who has just had an abortion feel having to go to a lavatory to express her grief in tears ?': 'sad', 'Unless they are given opportunities to express their grief in appropriate ways which can include weeping for loss , they will never be able to acquire the creative energy necessary to find a new job .': 'sad', 'Lives Janet Barron praises the good grief of Ted Walker': 'sad', '` I desire first to go to the palace of Westminster , my lord , there to greet the queen my mother and tender my condolences -- and to share the grief of my family . \"': 'sad', \"Derby County 's grief at the foot of the first division continues as they went down two one at Crystal Palace .\": 'sad', 'At their graves their families would unite with their beloved over a memorial meal and a drink , easing their grief in recreating the family intimacy , only transiently ruptured .': 'sad', 'To some extent , adults can choose of their own free will whether to deal with their grief or not .': 'sad', 'To only a few had he been the devil who gloated over their private grief .': 'sad', 'Women traditionally show their grief more than men .': 'sad', 'Sandra Cooper , 33 , midwife and founder of the Darlington Miscarriage Association , said :  Women who have had a miscarriage experience grief but they have no record of their unborn child .': 'sad', 'Now she was mad with grief .': 'sad', 'She had been experiencing considerable feelings of grief about her husband and had been able to cry on occasions .': 'sad', 'He stood there stoically , hiding his grief as Newlands announced he had received only twelve votes .': 'sad', 'She looked desperately tired , but there were no obvious marks of grief on her face .': 'sad', \"For the first time , Coffin saw the signs of grief on Christopher Court 's face .\": 'sad', 'David coped with his grief by trying to save other youngsters from solvent abuse .': 'sad', 'At this stage you are normally expected to experience grief when the main feeling is shock .': 'sad', \"Too much , it seemed to me , was made of Tom 's grief : his courtship of Araminta was forward-looking , and deep grief needs roots in the past .\": 'sad', 'It is things like that which are really destructive to writers , who are often brave about illness and pain , and resilient after all but the deepest grief .': 'sad', 'Half a week after that encounter , Charlie had heard that his beloved had parted from the man with great grief , and was in need of tender care .': 'sad', \"That certainly did n't sound serious enough to account for her great grief .\": 'sad', 'As you would expect , she was overcome with grief . \"': 'sad', \"But for the time being , Private Morrison 's family , already overcome by grief , can only wait and hope his body will be released to them soon .\": 'sad', 'But it was the scene of my first heartbreak .': 'sad', 'And , to complete his heartbreak , his car broke down when he was looking for his ninth win of the season at the Italian Grand Prix .': 'sad', 'I do n\\'t think I could cope with your heartbreak . \"': 'sad', \"That concern turned to heartbreak when they heard of his mother 's grim fate .\": 'sad', 'You must have been heartbroken . \"': 'sad', \"When Annie 's daughter died at the age of five , she was heartbroken .\": 'sad', 'A heartbroken Daniels watched this all going on , and was moved to break the golden rule of not speaking until spoken to .': 'sad', 'Heartbroken , Maria had to return to the convent and remain a nun for the rest of her life .': 'sad', '` I am heartbroken because football has been my whole life . \"': 'sad', 'Heartbroken Tim Godwin weeps as he tells how he had to tell his 23-month-old daughter Sophie : ` Mummy is n\\'t coming back \" .': 'sad', 'She crammed more living into her 30 years than most people experience in two lifetimes , according to her heartbroken parents Ken and Diana .': 'sad', 'The kids will be heartbroken .': 'sad', 'And yesterday his heartbroken wife Jane slammed police for failing to find him after she raised the alarm 48 hours earlier .': 'sad', 'Yesterday the heartbroken teenager , who was on the verge of trials with the Royal Ballet , said : ` In just one second , my life has been wrecked .': 'sad', 'THE heartbroken mother of transplant donor Paula Moss is leaving England to work as a missionary .': 'sad', 'Only afterwards , when Tommy disappeared and Maudie seemed so heartbroken , then I began to wonder .': 'sad', 'Sitting in front of the looking glass , making up her face , she hoped that Anthony was all right and not quite as heartbroken as Julia seemed to think he was .': 'sad', \"Although I have has a lot of support , I feel heartbroken about Henri 's future .\": 'sad', '` The popular story is that he was so heartbroken he ran off to join a religious order , and has since been ordained . \"': 'sad', 'Scorning the establishment , they left homes and heartbroken parents .': 'sad', '` I thought they must have had a quarrel , \" Brand said , and I had the impression he was n\\'t heartbroken about it . \"': 'sad', 'His heartbroken mum , Colette , said : ` Paul is so upset .': 'sad', 'Surely someone somewhere knows who killed Ann Heron and that person could ease the pain for her heartbroken family .': 'sad', 'She looked into his eyes and saw terrible pain and inconsolable grief .': 'sad', 'The boy was broken-hearted and inconsolable .': 'sad', 'The women wait anxiously and when the boat returns one of its crew has been lost , causing inconsolable grief to his young wife .': 'sad', 'William was inconsolable and , unable to settle at home , continued to travel extensively .': 'sad', 'Liza , for her part , had still seemed inconsolable when she first arrived back at her unit on the edge of Salisbury Plain .': 'sad', 'There are periods when we feel totally inconsolable .': 'sad', 'It can be the focus of inconsolable grief ; it inspires poetry and literature , symphonies and songs .': 'sad', 'In the event , Maman was inconsolable .': 'sad', \"He was inconsolable when he found what she 'd done .\": 'sad', 'Yussuf had been quite inconsolable .': 'sad', 'He was not inconsolable .': 'sad', 'Vincent agreed , too low-spirited to put up any resistance .': 'sad', 'She sounded a little low-spirited .': 'sad', \"Sven Hjerson 's lugubrious face lit up in a brief smile .\": 'sad', \"I kept trying to get back to Changez 's lugubrious face , which reclined morosely in his good hand as the guests filled the air around him with cultivated noises .\": 'sad', 'The lugubrious publican had seen it as his job to repel strangers and had employed to that end an impressive armoury of taciturnity , malevolent glances , warm beer and poor service .': 'sad', 'He was a plodding lugubrious fellow , and we were delighted with his Wodehousian name .': 'sad', 'Bert , a lanky , lugubrious individual , declined .': 'sad', 'He looked up , his lugubrious face pale , and Athelstan saw it was tear-stained .': 'sad', 'He became even more lugubrious .': 'sad', 'Bathsheba was watching his expression closely , and she had never been more miserable .': 'sad', \"` If you do n't help me , I shall make you more miserable than you have ever been in your life .\": 'sad', 'There I lay , half-roasted on one side , freezing on the other , in a sort of trance , more abjectly miserable than I can tell .': 'sad', 'On one of our visits we found a representative of the Occidental Oil Company stranded there , looking most miserable and bedraggled in the morass of mud and pouring rain .': 'sad', 'Neither of us could wait to get the round over , we were so cold and miserable .': 'sad', \"` I used to be sad and pathetic , but I 'm not so miserable any more .\": 'sad', 'He was so miserable .': 'sad', \"Of course I like them ; if I did n't I 'd be utterly miserable .\": 'sad', 'Accordingly , I wrote to my parents and , having pretended for years that I was relatively happy at school , I now confessed that I was utterly miserable , and begged them to take me away .': 'sad', 'They were on the top floor of an old house and he was very cold and very miserable .': 'sad', \"I 'm very miserable .\": 'sad', \"As he nodded she went on , ` I 'd had a bit of a knock in -- in a relationship with a man in London , and I was very miserable over Elise 's death .\": 'sad', 'And when I first got an inkling the little was far worse than none , and I became melancholy and miserable .': 'sad', 'Every day they became more miserable .': 'sad', 'As Joe and Biddy became a little more cheerful , discussing my possible plans for the future , I became more miserable .': 'sad', 'I feel really miserable to tell the truth .': 'sad', 'When the reaction set in she had felt utterly miserable .': 'sad', 'Sheila Williams was feeling miserable .': 'sad', 'Five minutes went by as she reflected that Rosemary must be feeling as miserable as Travis , then , checking to see that Travis was all right as she passed , she went to bed .': 'sad', 'The dog seems anxious to get the harness on ; indeed , all through the trip the dogs are always keen to pull and seem miserable when they are tied off for the night .': 'sad', 'They seemed demoralized and miserable , operating an endless mechanical process .': 'sad', '` I \\'m too miserable to eat . \"': 'sad', 'I was too miserable to giggle , but I wondered if the fiances had when he postured on his lawn .': 'sad', 'As I read it , I was sad to think how miserable Anne had been , in a big house away from home , where no one understood her .': 'sad', \"Now her vivid imagination had no difficulty in showing her how Mark 's last drive alone must have been , how miserable he must have felt .\": 'sad', 'She missed him , and missed the companionable secrecy of their relationship , but she was not miserable about it .': 'sad', 'She in turn had been drawn to him at the time when she was miserable about Jean-Pierre .': 'sad', 'As Michael Codron told me : ` Ken remained very loyal to it , even though he was miserable about it .': 'sad', 'It was the kind of life that ` was making life miserable in the extreme for her and since I felt responsible for her it was making me miserable too .': 'sad', \"Loads of my friends are miserable over the way they look , and the media are basically saying , ` Yes , you 're right to be miserable .\": 'sad', \"` Harry , we 're going to make ourselves miserable beyond measure if we go on like this .\": 'sad', 'If , as she suspected , Elizabeth was miserable because of that dreary village sawbones , then it was dishonest and unlikeable of her to pretend that it was because of her sister-in-law .': 'sad', 'He must be miserable . \"': 'sad', 'To misquote you : he is itinerant because he is miserable . \"': 'sad', 'Brian Davies , also from near Coventry , had entered some immense pumpkins and marrows , but seemed mournful .': 'sad', 'On the other hand , the most important person , the cameraman , wore jeans and a Micky Mouse T-shirt , over which his mournful , deadpan moon face shone incongruously .': 'sad', 'It is her whole situation -- she is so mournful and silently accusing and sometimes , Robert , I think her as mad as Landor with all this nonsense she makes of the Bible from time to time .': 'sad', 'His face was completely serious , even slightly mournful .': 'sad', 'He was at the graveside looking mournful and interesting .': 'sad', 'He had a narrow mournful face , tapering to a long pointed chin .': 'sad', 'They \\'d had a skinful so were n\\'t in a particularly noticing mood but they saw and heard nothing , nothing except what they described as a kind of mournful whistling coming from deep in the wood . \"': 'sad', 'Gloom , on the other hand , sees a noisy , grimy city with crowded underground stations , overpriced restaurants , jostling strangers and mournful faces .': 'sad', '` It gobbled up the bird in one go , \" said a mournful bird-watcher yesterday .': 'sad', 'There was the mournful sound of human voices , and then a jolt .': 'sad', \"I could n't bear the mournful look on his face .\": 'sad', 'How dare you seem so mournful . \"': 'sad', 'He was drawn to such slow , mournful music and he carried it with him everywhere .': 'sad', 'Joe sat with his head in his hands not hearing the mournful sound of a tug edging shorewards in the direction of the docks or the lonely cry of the seagulls overhead .': 'sad', 'With her long hair drooping round her face and her large , mournful eyes , she looked like a lost basset-hound puppy .': 'sad', \"The merchant 's long face was even more mournful and the friar was sure the man had been crying .\": 'sad', 'The Counts were well pleased at this ; but all the people of the land were sorrowful .': 'sad', 'Tero followed them at a distance , watching her new friend with sorrowful anxious eyes .': 'fear', \"Elizabeth Mowbray 's face was pale and tense , her sorrowful mien reflecting the newly sombre mood of the court .\": 'sad', 'Not from irritation , but because she knew it was a lie , and felt sorrowful because of Alice .': 'sad', 'Coventry turned and looked at him , a long dark sorrowful stare .': 'sad', 'Then the toot of a trumpet and the clown with the enormous sorrowful eyes was coming at her in her ring-side seat and she wanted to run away .': 'sad', 'His liquid eyes were sorrowful and the ends of his moustache drooped .': 'sad', 'Then he relaxes into a sorrowful smile , like when you remember someone you loved who died a long time ago .': 'sad', 'Moreover , I disliked the Lady Eleanor intensely , with her sorrowful face and moping ways .': 'sad', 'One of the three khthons began to hum a sorrowful melody .': 'sad', \"The poem interlocks the narrative description with Mariana 's own sorrowful moans .\": 'sad', \"Athelstan rubbed his mouth with his thumb and gazed directly at Cranston 's sorrowful face .\": 'sad', 'Philippa thought , perhaps this news benefits the king , but it brings sorrow for the rest of us .': 'sad', 'Jacob filled to the brim with sorrow for the woman whom , despite everything , he had loved .': 'sad', \"Psalm 13 put her own question well &mdash'How; long shall l take counsel in my soul , having sorrow in my heart daily ?\": 'sad', 'As the tartan army drowned its sorrows in the bars of Soho , Frank preferred a candlelit dinner .': 'sad', '` I have naught to offer you , \" the youth was saying and there was sorrow in his voice .': 'sad', \"There was genuine sorrow in the producer 's voice .\": 'sad', \"June Barraclough 's A Time to Love ( Methuen , 12.95 ) spans both World Wars and paints a vivid picture of the loves and sorrows of the characters in the lives of two women friends .\": 'sad', 'Yet the sorrow of Leibnitz , were he to have needlessly destroyed it , is described as ` a natural feeling for a humane man \" .': 'sad', 'Help us to become more aware of the needs , the joys and the sorrows of our brothers here .': 'sad', 'The look of reproach and sorrow on her face cut into him far more deeply than any angry words could have done .': 'sad', 'But the parting has brought some sweet sorrow to her and her landlord .': 'sad', 'Miss Worthington often felt it would have been an unendurable sorrow to her parents if they had lived to witness the extent of the deterioration .': 'sad', \"He was a man drowning his sorrows , he 'd decided .\": 'sad', \"There were dry gingers and tonics prepared for the whiskies and gins which everyone hoped would drown the star 's sorrows .\": 'sad', 'My hand caresses the surging wind ; I am deeper drowned in sorrow .': 'sad', 'They were young but they walked bent in sorrow .': 'sad', \"MOST of those who read Glenys Roberts 's moan ( March 15 ) and who know Monaco felt , I suspect , more sorrow for the author than disdain for the place .\": 'sad', 'He could see sorrow in the dark eyes which glowed as if there were candles burning behind them .': 'sad', \"Other people 's sorrows on the whole weigh lightly on our shoulders : a merciful provision .\": 'sad', 'I drowned my sorrows on the school goalposts , as football was banned .': 'sad', 'Taking as his theme the great rivers of the world , the Ganges , the Jordan , the Mississippi , the Clyde -- and of course the Boyne -- he weaves a tapestry evoking both sorrow and joy .': 'sad', 'The reporter , treading delicately , had asked if it was a great sorrow to her when she and Walter separated .': 'sad', '` But I feel dismay , sorrow , for so many people in our country who do not share this personal good fortune and who as a result of further years of Tory government will experience further disadvantage .': 'sad', 'Jesus felt despair and sorrow to such an extent that there is a mood of desperation in the story .': 'sad', 'As his wife , as his Louise , had slipped , there was no friend with whom he could share the sorrow he felt over his son .': 'sad', 'Yet she suffered his grief with him , wanting to share his sorrow , hoping that she could alleviate some of his pain .': 'sad', 'The Irish President , Mary Robinson , had earlier said she shared the sorrow and anguish of the people of her country .': 'sad', 'He looked so woebegone .': 'sad', \"Hepzibah looked at Carrie 's woebegone face .\": 'sad', '` God give me strength , \" he yelled , instantly turning his attention back to the younger man who stood before him , and whose woebegone expression would have been comical were it not so pitiful .': 'sad', '` I had to rush around trying to find a farmer with a cart who might be going where I wanted , \" Katz lamented , his woebegone countenance matching his sorry tale .': 'sad', 'Liz must have looked as woebegone as she felt when they staggered into the stuffy carriage , because Barbara had burst out laughing .': 'sad', 'Her Mum smiled at the woebegone face .': 'sad', 'Len looked apologetic and woebegone , and mumbled something about not letting down his mates .': 'sad', \"But she was torn by her daughter 's despair .\": 'sad', 'A merciful wave was closing over it , healing her despair .': 'sad', \"Jamie Hill , defending , said Glorney 's marriage had broken down and his despair manifested itself in him turning to drink and committing offences .\": 'sad', 'When Lansdowne communicated his despair about the war to the press in 1917 and called for negotiations , there was a storm of protest .': 'sad', 'As he stared at the torment , fury , and despair in her face , he knew that Clare would not forgive him .': 'sad', \"The despair in their father 's voice had sent a sudden chill of apprehension through the brothers .\": 'sad', 'The profound anguish and hopeless despair of this woman in the face of what she believed to be the moral ruin of her whole life can not well be described .': 'sad', 'Since last May many of these same passers-by have come face to face on their TV screens with the agony , desolation and despair of the people of Ethiopia and the Sudan .': 'sad', 'ON a day which saw a host of prophets confounded -- and a month of near despair for many Conservative loyalists -- the reputation of one sage is intact .': 'sad', 'Rune frowned as his eagle-eyed regard read the despair on her face .': 'sad', \"From the despair in the parson 's eyes the doctor saw that this remedy had already been tried to no avail .\": 'sad', 'But he could not watch her terrible despairs without participating in them ; increasingly , he found he was as paralysed by them as she was herself .': 'sad', 'Many parents experience deep pain and despair about their teenage children .': 'sad', \"Gabriel forgot his own sadness when he saw the bitterness and deep despair on the farmer 's face .\": 'sad', 'Shelley sat down beside the patient and smiled at him , the cheerfulness coming from somewhere behind her deep despair .': 'sad', 'By calling on his fellow socialists to perform the equivalent of a collective hara-kiri , he paradoxically appears to have given them back hope of a new life at the moment of their deepest despair .': 'sad', 'Evelyn had never experienced such utter despair .': 'sad', 'The tears came , and rapidly dissolved her angry expression to one of utter despair .': 'sad', 'Through a swell of tears Ruth stared incredulously at the bundle and felt such despair that she feared she would drop the child .': 'sad', 'She glanced down at the linoleum in despair .': 'sad', 'Perhaps it was despair that made me believe there was one person in the world who might know that I was in despair .': 'sad', 'That he forgot his guest in his despair ,': 'sad', 'He looked down at her astonished face with darkly angled brows .': 'surprise', 'His eyes flared over her astonished face .': 'surprise', 'Her astonished eyes were taking in his costume : gold-embroidered satin jacket , knee breeches and jabot of the eighteenth century .': 'surprise', 'He discovered to his astonishment that Frank now professed atheism .': 'surprise', \"It was a measure of Arnold 's astonishment that he used the dialect expression of concern .\": 'surprise', 'She realised with astonishment that he was actually pleading .': 'surprise', 'He stopped , becoming aware of the glare from his uncle and the frank astonishment from his agent .': 'surprise', 'The anger and astonishment in her face gave way to something very like pity .': 'surprise', \"The boy bowed again , enjoying her astonishment in the same way he had enjoyed the applause of the T'ang earlier that day when he had played Tsu Tiao .\": 'surprise', 'I heard no more of the debate and to the astonishment of my fellow delegates I stormed out of the auditorium and locked myself away in the Ladies to howl out my rage , alone .': 'surprise', 'It was there , that same until-then-pleasant morning , to the astonishment of all the workers in the Library , that Stour stumbled into the Great Chamber and laid his burden down .': 'surprise', 'I chuckled at the astonishment on her face .': 'surprise', 'Suddenly , to the Collector \\'s astonishment , the Padre gripped him by the throat and shouted : \" A matter of opinion !': 'surprise', 'As he drove out of his allotted space , to his astonishment he saw Alexandra about to get into her white saloon .': 'surprise', 'Bob sat up on the bed and gazed at her in astonishment .': 'surprise', 'The driver watched in astonishment as the car whacked into the side of his vehicle .': 'surprise', 'Her eyes were wide open , and upon her face was an expression of absolute astonishment .': 'surprise', \"Sonia and Helen flung themselves into my arms , to Joe 's great astonishment .\": 'surprise', 'But when I looked up , I saw , to my great astonishment , a large island in the sky , between me and the sun .': 'surprise', 'To her own mild astonishment she murmured , ` I \\'ll try . \"': 'surprise', 'Rebecque could not hide his astonishment .': 'surprise', 'As he looked around he could not hide his astonishment .': 'surprise', 'Chambers shot him a look of astonishment , then turned to include Nora': 'surprise', 'Elaine Morris stared out of the window in astonishment .': 'surprise', 'He left so quickly that she stared in astonishment at the door he had closed behind him .': 'surprise', '` A great number , \" said the astounded Mrs Phelps .': 'surprise', '` You keep them , \" she cried , throwing the jewels into the plump lap of the astounded Soapy Finnegan .': 'surprise', \"Before the astounded car owner could react , the Prophet had pulled the door shut , reached over the back of the driver 's seat and jammed the muzzle of the gun into the man 's neck .\": 'surprise', 'What in the world  ?  began Rose , feeling quite bewildered as he let out an amused laugh .': 'surprise', 'Lucy felt slightly bewildered , but hid the fact as she turned to Stella .': 'surprise', 'She frowned , feeling slightly bewildered .': 'surprise', 'A delighted , if somewhat bewildered smile tugging at her own mouth , her eyes alight with laughter , she watched him melt into the crowds .': 'surprise', 'Schellenberg went out , closing the door , feeling totally bewildered .': 'surprise', \"Joey seemed bewildered as he put one large hand on his mother 's shoulder .\": 'surprise', 'Andrus seemed totally bewildered .': 'surprise', 'At first , she was utterly bewildered when he burst out laughing .': 'surprise', \"Kate 's voice was husky and bewildered .\": 'surprise', \"BANGOR 'S Alex Lightbody must be the most bewildered bowler in the NIBA this season .\": 'surprise', \"By now Nutmeg was so bewildered that he did n't know what to do .\": 'surprise', \"Natasha laughed at Maggie 's bewildered expression .\": 'surprise', 'Benny looked around him , a bewildered expression on his face .': 'surprise', \"He saw the bewildered look on Hencke 's face and led him towards two comfortable chairs which stood on either side of a low occasional table .\": 'surprise', 'And she did , leaving a very bewildered Ellie to look round her at the well-equipped kitchen and the gently steaming kettle .': 'surprise', 'The sweat of moving packs of eighty pounds through the crush of bewildered , nervous men .': 'surprise', 'Some even asked the bewildered woman to sign their jeans .': 'surprise', 'A bewildered Dick Francis walks back to the weighing room as Devon Loch is led away .': 'surprise', 'When she still looked bewildered he said more harshly , ` I \\'ll take the heat off if you \\'ll show some appreciation . \"': 'surprise', 'Police found the exhausted pensioner bewildered by the roadside .': 'surprise', 'At a nervous and hurriedly arranged press conference , the Ibrox publicity machine could barely paper the cracks between the departing boss and his bewildered chairman .': 'surprise', 'Within moments the bewildered assistant cooks had tied the ropes to the cauldron and suspended the boiling mass over a forked spit rest .': 'surprise', 'She just looked up at him with bewildered eyes and he put her firmly away , turning to launch himself into the water .': 'surprise', 'Michael frowned at him , bewildered .': 'surprise', 'She was feeling hurt and a little bewildered .': 'surprise', 'The children , at least the younger ones , become bewildered and distraught .': 'surprise', 'A bewildered and shocked survivor can be guided through red tape , and practical alternatives can be found , as in the case of Liz and Tom who were burgled while on Income Support .': 'surprise', 'Depressed and bewildered because it had inexplicably impaired his ability to think and concentrate , he soon guessed that his paralysis and clumsiness would make him always dependent on a wheelchair .': 'surprise', 'What had once been a largely invisible world of mental hospitals , private suffering , and professional services now appears in local communities as homelessness , strange persons in public , and bewilderment about who is responsible for whom .': 'surprise', 'She squinted in bewilderment at the ten or so boarders who had formed her little band of helpers .': 'surprise', '\" No , \" I said , trying to sound convincing but daunted by the simple bewilderment in his face .': 'surprise', '` Carpenter ? \" her father asked with a tinge of bewilderment in his voice .': 'surprise', \"She did n't want to trouble the penguin with the bewilderment in her eyes .\": 'surprise', 'The old hands at machine knitting glibly talk about ` two-thirties \" to the bewilderment of the newcomers at the knitting club .': 'surprise', 'The bewilderment of the child Nizan can not be overstated .': 'surprise', 'Scott ran a hand through his hair , bewilderment on his face .': 'surprise', 'Downstairs in the lobbies , Tories were running around in equal bewilderment over the Speakership .': 'surprise', 'To her bewilderment they both dissolved into giggles .': 'surprise', 'She saw his fear , his bewilderment , and above all , a kind of astonishment at the enormity of the complications that lay ahead .': 'surprise', 'The other side of the story is the pain felt by women when their children suffer , and their bewilderment when that suffering is self-inflicted .': 'surprise', \"His voice was as sensual as raw silk , but when he saw her bewilderment his eyes drifted over to Mandy 's table .\": 'surprise', 'Gloria stared , her mouth agape , then turned to Ruth in bewilderment .': 'surprise', 'She got up and checked the wardrobes , and her bemusement became sheer bewilderment .': 'surprise', 'A frown of exasperation lined her brow as she shook her dark head in bewilderment .': 'surprise', 'Sonny turned in bewilderment to Johnny , then lumbered out after his brother .': 'surprise', 'To those workers who profess bewilderment as to how they might help , who feel their knowledge in sexual matters is insufficient or are doubtful of their capabilities for sexual counselling and aid , one would suggest that they raise the matter within their training departments .': 'surprise', 'The rest simply stood in a state of considerable bewilderment , trying to ensure that they had not only accurately recorded but also understood what Woolton had said .': 'surprise', 'Shiona frowned at the phone in total bewilderment .': 'surprise', 'Most will privately confess to an initial sense of utter bewilderment , but necessity will drive them to adapt to their new way of life .': 'surprise', 'Her lovely face reflecting her complete and utter bewilderment , she queried slowly , ` Why on earth would I want to claim kinship ? \"': 'surprise', 'Constance looked at him in bewilderment .': 'surprise', 'Mr Stokill must have noticed my look of bewilderment .': 'surprise', 'He paused as his mother stared at him in bewilderment .': 'surprise', 'She seemed flabbergasted , but rallied and asked me if I would look in at the Gray Mare in Kilburn and say ` hello \" to her son Joe Kelly who worked there .': 'surprise', 'I tell you I was flabbergasted and right terrified out of my wits .': 'surprise', \"Charles was absolutely flabbergasted , but he had n't really got time to analyse his reactions .\": 'surprise', '` At first I was too flabbergasted to do anything .': 'surprise', 'Utterly flabbergasted , Leith began to realise that he was accusing her of announcing their ` engagement \" to all and sundry .': 'surprise', 'Rachel had been nonplussed .': 'surprise', 'She was totally nonplussed .': 'surprise', 'Mait was momentarily nonplussed , but soon recovered , as he mentally ran through the possible effects of this on his plan .': 'surprise', 'It is also worth speculating on the fate of what must have been a nonplussed Christopher Chryselius , Sir John Pennington must have been thoroughly annoyed at the outcome , too .': 'surprise', 'He looked quite nonplussed .': 'surprise', 'Usually so mentally attuned , so aware of what she was thinking and feeling , he looked angry and nonplussed , unable to understand her withdrawal .': 'surprise', \"Ethel shook her head in puzzlement , but a gleam had been coming into Eames 's eyes .\": 'surprise', 'Emily could see his puzzlement .': 'surprise', 'Quick -- sign the register , get out , escape from the puzzlement in her eyes .': 'surprise', 'I pointed out that I kissed Frankie but she dismissed my puzzlement .': 'surprise', 'Claudia , frowning , turned to gaze at him in total puzzlement .': 'surprise', 'Had witnessed her puzzlement and then her shocked surprise as she realised what it was .': 'surprise', \"Paul 's tone and expression showed his puzzlement .\": 'surprise', \"He could see Harry 's puzzlement .\": 'surprise', \"And now she could see the puzzlement on everyone 's face .\": 'surprise', 'He saw her glance up in puzzlement and ask why he was still fully dressed .': 'surprise', 'Pitching my voice to a tone of mild puzzlement , I called , ` What \\'s a rattlesnake doing up here ? \"': 'surprise', 'Her brow creased in puzzlement .': 'surprise', '` Can it really work ? \" enquired his startled colleague .': 'surprise', 'Gus said : ` Of course ! \" in a slightly startled voice , and visibly withdrew his vision and his thoughts from some distant preoccupation in which she had no part .': 'surprise', 'They burst in on the somewhat startled signalman who was puzzled by the dramatic appearance of the two familiar faces .': 'surprise', 'The man turned round and looked at Robyn with startled eyes .': 'surprise', 'Their heads were close together and as he appeared they all looked up in unison with startled faces and fell silent .': 'surprise', 'His eyes were so far out of his head that he looked like a startled grasshopper .': 'surprise', 'She looked startled when I snapped at her : ` What have they worked out ? \"': 'surprise', 'The girl looked startled .': 'surprise', 'Maurice seemed startled .': 'surprise', 'Jinny was so startled that she nearly kicked the bucket over .': 'surprise', 'Corbett stopped his horse and turned to the startled Ranulf .': 'surprise', 'She gave him a startled glance .': 'surprise', 'And having made the mistake a bird seldom gets a second chance , for the startled butterfly takes off , not in the direction the bird might have expected but , apparently , backwards .': 'surprise', \"He laughed at Claudia 's startled expression .\": 'surprise', 'No less a person than Gloria Estefan rang my startled publisher before leaving London , to order the Ology book , because she was crazy for the commercials .': 'surprise', 'Ana started to laugh and Mitch gave her a startled glance and then laughed ruefully too , giving her a hug .': 'surprise', 'Then his startled gaze met the glowing eyes above the white patch of the handkerchief the man was holding at his mouth .': 'surprise', '` About what , dear ? \" she asked in a startled voice .': 'surprise', \"Before she could utter the cry of alarm which rose in her throat his hand had closed over her mouth , and Paige 's startled eyes blinked at him over the top .\": 'surprise', 'Lucy felt startled , but forced herself to remain calm .': 'surprise', 'Herman , startled but pleased , moved in , only to be disconcerted as Erika pushed him away .': 'surprise', 'Israel and I pushed by the startled and helpless usher and swaggered into the arena dressed in our Mau Mau uniforms .': 'surprise', 'The man stared at her in stunned silence , his chest rising and falling with some kind of agitation .': 'surprise', 'The Germans still seemed stunned .': 'surprise', 'The man seemed stunned .': 'surprise', 'With a last , quizzical look at her slightly stunned expression , he waited for Mike to join him , then both men walked out of the suite , leaving her alone with Ace .': 'surprise', \"Then Isabel saw Ellen 's stunned face and realised that her maid , at least , did not know she had spent the night alone .\": 'surprise', 'For a moment there was a stunned silence from his workmates and then pent-up breath was released in what seemed like a communal sigh , before the chief waggoner yelled , ` Come on !': 'surprise', 'Anne watched her for a few moments in stunned silence , trying to decide if she meant what she had said .': 'surprise', 'I am stunned to find him so fine and ruddy in the startling , bleak white of this room ; so handsome in the face of my decay , my washed-out skin and faded eyes , my smears of blood and perspiration .': 'surprise', 'A stunned Mrs Hanley said as she left court : ` We never wanted anybody to go to prison over this . \"': 'surprise', \"The Odones were left stunned when they were told in 1984 at the Children 's Hospital in Washington DC that their fun-loving , brilliant six-year-old son -- he already spoke three languages -- had ALD , and was under sentence of death .\": 'surprise', 'In front of stunned mourners he told grieving widow Linsay Robinson to ` pay up or else \" .': 'surprise', 'In her ` Daughter of Evil \" ( McShane , 1980 ) she stresses her own lifelong affection for her mother and her stunned reaction at being convicted and sentenced .': 'surprise', 'First of all the crowd was stunned , and then they erupted , giving Allan a marvellous reception on his lap of honour But the night was yet young .': 'surprise', 'The next thing he knew he was lying on the floor , half stunned , beans everywhere .': 'surprise', \"When anything important happens you 're stunned , and thrown out for a while , and then you recover\": 'surprise', 'She looked stunned , almost like a sleepwalker .': 'surprise', 'Maggie was stunned , but not for long ; her temper surfaced .': 'surprise', '` Tears of rage and despair have been shed by SNP workers and our voters are stunned .': 'surprise', 'Shadow ministers , who had been behaving as if they were about to move into Whitehall , looked stunned and shattered .': 'surprise', 'Most Germans looked on stunned as the results from the two state elections on 5 April flashed across their television screens .': 'surprise', 'Julia , stunned but dry-eyed , had given her statement to the police .': 'surprise', 'He was a bit stunned and rushed home to raise the alarm .': 'surprise', 'She took two or three large breaths over the top of her bag of groceries , while Mrs Stych watched her stupefaction with complacency .': 'surprise', 'I can understand the apparent stupefaction of all parties .': 'surprise', \"Taking advantage of Guy 's momentary stupefaction , she wriggled out from under him and leapt off the bed , everything forgotten but the need to escape from something she dared not put a name to .\": 'surprise', 'Another step forward and Pooley noted to his utter stupefaction that it had vanished altogether into empty air .': 'surprise', 'Downes shook his head in stupefaction .': 'surprise', 'Athelstan sat in complete stupefaction , drinking his beer , as Cranston cleared every platter , washing it all down with another bowl of claret .': 'surprise', \"Except the O'Neil family in the first row of the circle , who sat in stupefied amazement , hardly believing what they had witnessed .\": 'surprise', 'If the birds are disturbed during the process , there could be large numbers of stupefied birds fluttering amongst the traffic as the morning progresses with public complaints resulting , \" the report stated .': 'surprise', 'It was Blackberry who bullied the stupefied Pipkin to his feet and forced him to limp the few yards to the gravel spit .': 'surprise', 'He woke stupefied , flicking his tongue over his parched lips like a reptile .': 'surprise', 'Laura stared up at Ross in stupefied amazement .': 'surprise', 'The pain had faded into the background and she was starting to feel stupefied , her head stuffed with cotton wool , her eyes heavy .': 'surprise', 'If you do feel revolted when you watch the patient eat , you should not feel guilty about it , but neither should you let yourself become irritable with the patient over it .': 'disgust', 'She was simultaneously pleased , revolted and delighted .': 'disgust', 'A Swedish couple and a German guy sitting near me were on their feet , that sickened expression on their faces too .': 'disgust', \"THE Government 's cash-before-care NHS shake-up has come under fire -- from sickened hospital managers .\": 'disgust', 'Floy and Snodgrass , unable to look away , were sickened and awed .': 'disgust', 'She felt sickened and saddened beyond words and , for the first time , she wished that this thing had not happened to her .': 'disgust', 'THE sickened owner of a horse which was attacked in its stable at Newton Bewley , near Hartlepool , is appealing for help in tracking down the thugs responsible .': 'disgust', 'The Leader of the House , G V Wright , expressed revulsion at the shocking act of IRA terrorism .': 'disgust', 'Mixed with his revulsion was also a tiny feeling of excitement .': 'disgust', 'She closed her eyes to hide her revulsion as he pressed his open mouth against hers and began fumbling with the buttons of her bush shirt .': 'disgust', 'As she turned to walk on she shivered , affected by a chilliness that seemed to be an expression of her revulsion .': 'disgust', '` God , what an accursed night ! \" mumbled Mr Beckenham , and , sipping his liquor , he looked over the makeshift meal with revulsion .': 'disgust', 'Leonora shook her head in revulsion .': 'disgust', 'And when her words caused a peculiar revulsion within him .': 'disgust', '` T was to stop you becoming completely distraught , but I was afraid to look at you , afraid to come to you that night in case I saw fear or revulsion in your eyes . \"': 'disgust', 'We therefore have a clashing interest of views over whether to feel sympathy or revulsion about Blanche .': 'disgust', 'He began to kiss her , and Dinah knew slight revulsion ; if only he would leave her alone for once !': 'disgust', 'Homosexuality aroused revulsion in about a quarter of the respondents , another quarter seeing it as sick , odd or ridiculous .': 'disgust', 'There was world-wide revulsion when the IRA exploded a bomb during a Poppy Day service in Enniskillen in the late 80s .': 'disgust', 'Sam was thoroughly disgruntled because the boy from the bistro had failed to appear .': 'disgust', 'Several times , Gedge had persuaded him to stay with the band when he had become disgruntled and ` warnings \" had not been given because he ostensibly wanted to leave anyway .': 'disgust', 'Shortly after he spoke , the first of what could become a flood of disgruntled clergy announced he was leaving the Church of England .': 'disgust', \"You arrest somebody , maybe a drunk , the next day he 's feeling a little disgruntled and almost inevitably he 'll make a complaint\": 'disgust', 'He felt too let-down and disgruntled .': 'disgust', 'In any event , a dissatisfied enquirer can be a disgruntled member !': 'disgust', 'However , the existence of a potential rival , no matter how eccentric , meant that there was an alternative fascist allegiance open to disgruntled members of the BUF .': 'disgust', \"The New Zealand-born but peripatetic investor was speaking at GPG 's annual meeting in London , where he faced tough questioning from a disgruntled shareholder about accounting practices and future strategy\": 'disgust', 'The articles are on public record and the purchaser runs the risk of a disgruntled shareholder seeking to have the sale set aside if its consent was not obtained .': 'disgust', 'Troubled Premier John Major now faces huge protests from disgruntled workers if the cash goes towards creating jobs overseas .': 'disgust', 'It was done on the receivers orders to stop disgruntled workers taking demonstration vehicles from the site .': 'disgust', 'I understand the mood but if some of them are disgruntled they are entitled to call an EGM .': 'disgust', 'A comic romp starring Billy Crystal in which a group of disgruntled New Yorkers play out their frontiersmen fantasies on a two week cattle-drive in New Mexico .': 'disgust', 'Senator Sherman had shot marginally less well than his son and was openly disgruntled about this .': 'disgust', 'A reader , disgruntled in large proportion , sat down to work out how much of his salary he would have to hand over to the Inland Revenue heavy mob for the past year .': 'disgust', \"A disgruntled father whose two sons have been on several skiing fortnights feels school trips are run primarily for the teachers ' convenience .\": 'disgust', 'County had lost six of their last eight League games at the Baseball Ground , which had prompted disgruntled supporters to call for the resignation of manager Arthur Cox .': 'disgust', 'John Devereux and Kevin Ellis toured with the Lions , but there were a number of unlucky and disgruntled Welshmen left behind .': 'disgust', 'A disgruntled postman rang up a radio chat show to complain , and found himself spearheading an anti-Florio movement that culminated in 50,000 people marching on the state capitol .': 'disgust', 'This disgruntled minority has a disturbing impact on the performance of other pupils .': 'disgust', '` You are all bloody mad , \" screamed the disgruntled player , in a high piping voice .': 'disgust', 'Zen preferred to think that some alert recruiting officer somewhere , realizing the appalling threat a disgruntled Gilberto would pose outside the law , had bent the rules to let him in .': 'disgust', 'Yet a disgruntled secretary , or one left unemployed by dismissal or the death or recall of his master , might easily be tempted to profit by the information he had acquired in his work .': 'disgust', \"A statement was issued from Ibrox yesterday detailing the unsatisfactory nature of the dealings with Bernard Tapie 's club , while expressing regret that there was nothing more Rangers could do on behalf of their now disgruntled fans .\": 'disgust', 'Darren , looking small and extremely disgruntled , was slumped in the front left-hand seat .': 'disgust', 'Lord Beddington was somewhat disgruntled .': 'disgust', 'The horse , having been abandoned in the traces for twenty-four hours , was utterly disgruntled .': 'disgust', '` Everybody in this town , including the stuffed seagull shop , seems to reckon they can sell books , \" said a disgruntled Mr Coward .': 'disgust', 'But freer travel to the West , which is one of the benefits Bonn extracted , also increased disgruntlement with things at home .': 'disgust', 'The disgruntlement among its two million members is almost palpable .': 'disgust', 'Her disgruntlement arose from the now obvious fact that the prince was enamoured of Joan .': 'disgust', 'Then there was the American sprinter Jesse Owens , who swept to victory in the Berlin Olympic Games of 1936 , much to the disgruntlement of Hitler .': 'disgust', \"He 'd play her along until she got fed-up and started making too many demands .\": 'disgust', 'They can be happy and cheerful but they can also get fed-up , frustrated , angry , disappointed and hurt inside -- just like real people .': 'disgust', 'Now fed-up locals want the name of their quiet cul-de-sac in Studley , Warwickshire , changed -- unless BBC chiefs drop the flop of a show first .': 'disgust', 'A RUSTY old gasometer which fed-up local residents want demolished because ` it \\'s a blot on the landscape \" has been compared to some of Italy \\'s most beautiful buildings .': 'disgust', 'What a visiting Londoner sees as the soaring grandeur of New York , a fed-up New Yorker sees as sunlight deprivation .': 'disgust', 'Now fed-up councillors are planning to meet officials from the Re-Roof Housing Association .': 'disgust', \"There was anger in Jacob 's voice and stance as he led her towards Sylvie 's bedroom .\": 'anger', 'The anger in her voice took him aback .': 'anger', 'Driving back , she managed to keep her anger in control .': 'anger', 'One insider said last week : ` The sheer anger of people has taken everybody by surprise .': 'anger', 'He was court martialled but to the anger of the unpopular Governor , was acquitted .': 'anger', 'He also incurred the anger of the apothecaries who were afraid of being put out of business if all their complex mixtures were swept away .': 'anger', 'This time , with deepening anger on the streets over price liberalisation , the hardliners were not to forgo their chance .': 'anger', \"He said nothing , and from the anger on his face she saw that he did n't think he owed her a reply .\": 'anger', \"` No , better to limit the damage , control his anger , make nothing of it , pretend he did n't mind .\": 'anger', 'As he released his anger , he felt his love for his ex-wife , and wept over their divorce .': 'anger', \"His granddaughter 's anger , so like his own , took some of the sting out of Ballater 's wrath .\": 'anger', 'His mounting anger was making his speech more and more incomprehensible through his stroke-stiffened mouth .': 'anger', 'He said : ` Community anger is running high .': 'anger', 'His face darkened with anger .': 'anger', 'The guard stiffened in anger .': 'anger', 'Mr Jones exploded in anger .': 'anger', 'There were rumours of anger among the grain farmers , who were being given IOUs instead of cash for their crops .': 'anger', 'She showed her anger in public by virtually ignoring Charles .': 'anger', 'He looked away , a bitter anger in his eyes .': 'anger', 'A terrible , furious , impotent anger filled him , making him want to strike out , to shout and scream .': 'anger', 'Clive Greenacre was not only put out when his agoraphobic wife started to express her anger about his callous behaviour , but also amazed by the sexual demands she then started to make on him .': 'anger', '` Robots , \" he said , ` gave me a means of venting my anger , \" a remark whose logic baffled me until I read another ` Logic alone can not explain this . \"': 'anger', 'There is always a moment in time when we can make a decision whether or not to vent our anger .': 'anger', 'Bernice was so angry she could hardly speak .': 'anger', 'Even so , becoming angry when travel arrangements go wrong can hardly help .': 'anger', \"So you can see why mothers get angry when they discover that even everyday foods such as apples can cause a build-up of unwanted chemicals in their children 's bodies .\": 'anger', 'Always he gets angry when she takes customers home . \"': 'anger', 'People were very angry when Admiral Byng failed to attack the French at Minorca , and the decision to execute him for cowardice was exactly what the public wanted .': 'anger', 'Piggy had no sense of humour and often got very angry when other boys found things he did amusing .': 'anger', \"Have you ever felt so angry about men that you 've been moved to write a song about it ?\": 'anger', 'He was angry about class , hypocrisy and the establishment .': 'anger', 'Believing that he had no ` right \" to be angry over this mishap , Matthew retreated to his bedroom , took out a penknife and cut a painful slit in his own hand .': 'anger', 'I could tell she was angry and I was ready to cry , but Frankie pulled me roughly back off the step and we turned to leave .': 'anger', '` We do n\\'t go to Lightwater Valley , \" said an equally affronted bus driver .': 'anger', 'Ah was affronted fur her , imagine gettin\\' stuck ` n \" huvin\\' to get rolled on to a stretcher , the perr o\\' them , and kerted oot covered up wi\\' his poplin shortie .': 'anger', \"If you have symptoms that you think may be caused by food intolerance you should not feel affronted if the doctor 's initial questions seem rather personal and irrelevant to the aches and pains being suffered .\": 'anger', '` I do n\\'t ask about your private affairs , now do I ? \" he said , in a mildly affronted tone .': 'anger', 'The woman was not affronted .': 'anger', \"He ignored the affronted expression that crossed Isabel 's face at this sardonic rejoinder , and continued .\": 'anger', 'When another patron tried to step in , the enraged lover flew at him .': 'anger', 'Then she must sit in the sun before hauling it back up and altogether I was enraged and wished I was in a condition to show her how it should be done .': 'anger', 'Barbarossa sent a mandate requiring Milan to give up her claims , but the Milanese consuls tore up the document , and the imperial ambassador fled an enraged crowd .': 'anger', 'This act of selfless good nature earned her a fine of one hundred francs and caused a riot in the Latin Quarter when enraged fans besieged the Prefecture of Police .': 'anger', 'When he saw this he was further enraged and started towards the seer with an axe .': 'anger', 'According to Sheila , Caan was enraged and charged at her .': 'anger', 'The enraged animal charged into Christopher Rogers , pinning him to the ground .': 'anger', 'This can be dangerous work : three field workers in Korup were trapped behind a tree by an enraged elephant after their tranquilliser dart missed its target .': 'anger', 'Furious Tory MPs now want to go to the High Court to force a new ballot .': 'anger', 'Though later when I did the piece in Vienna I was furious when the orchestra showed up with five basses and a dozen first violins .': 'anger', 'Lenin was furious when he learned about it .': 'anger', 'They looked furious when they saw our faces peering in and made frantic signs for us to close the curtains again .': 'anger', 'Mitchum was furious when he heard that .': 'anger', 'She had been furious when she saw my mask was wet .': 'anger', \"Irishman Mr MacSharry was so furious about Mr Delors ' interference that he resigned his post .\": 'anger', 'Thames Valley Police are known to be furious about the case .': 'anger', 'Fruit and vegetable growers in the area are furious about the decision .': 'anger', 'His parents were furious over the engagement business .': 'anger', 'The Lancashire members were furious when they heard that Gooch and the other England selectors had axed Red Rose favourite Phil DeFreitas , preferring Essex pacemen Neil Foster and Mark Ilott .': 'anger', 'The butcher becomes incensed .': 'anger', 'Lineker became incensed when Taylor went public , not only questioning whether Lineker should remain as captain , but whether his form justified a place in the side -- even though he was maintaining his phenomenal strike rate .': 'anger', \"Lin Foh seemed incensed , but kept his voice down as they reached the outside steps of the Coroner 's Court .\": 'anger', \"In her incensed whisper she called me names I did n't understand .\": 'anger', \"De Gaulle was incensed , ordered Massu 's recall to Paris , and , against the advice of several senior advisers , insisted that Massu should not be permitted to return to his command .\": 'anger', 'The bull tossed the effigy out of their hands and became very infuriated . \"': 'anger', 'The EC was infuriated .': 'anger', 'In England wild storms swept the country , and commuters were infuriated and inconvenienced by the ASLEF dispute .': 'anger', 'The infuriated Milan Cardinal told the city governor that both the Chief of Police and the governor would be excommunicated if Landriani was not immediately released back to the convent .': 'anger', 'An infuriated Charles ordered the battering of Newgate , where artillery breached the wall and hit the nearby Carmelite house ( now Whitefriars Museum where Civil War will be displayed ) supposedly killing two of the occupants .': 'anger', 'Lady followed her example rather than suffer at the hands of her infuriated master .': 'anger', 'Matilda looked right back into the flashing eyes of this infuriated female giant and said with total calmness , ` I have not moved away from my desk , Miss Trunchbull , since the lesson began .': 'anger', 'In Oviedo an infuriated mob was only prevented from lynching the distinguished poet Melndez Valds by the appearance of priests with the exposed host .': 'anger', 'The insurance cover is designed to protect intermediaries against suits for damages brought by irate customers .': 'anger', 'Hamnett became irate and , alleging breach of contract and damage to her image , threatened to sue him for a 500,000 .': 'anger', 'At the sixth congress , in 1986 , irate delegates rejected a ridiculously optimistic programme that had been drafted in secret by Le Duan , the then secretary-general .': 'anger', 'This week an irate mother reportedly stormed into a London school and hauled her 15-year-old daughter out of a class in elementary sapphism .': 'anger', 'The onlookers at first thought this accident was part of the show and were creased with laughter , making the poor man even more irate .': 'anger', 'NURSES are being given acting lessons -- to help them cope with irate patients .': 'anger', 'Michael Stein was trying unsuccessfully to calm an irate customer who was arguing about his bill .': 'anger', \"Rebecca went in search of her bag , and Lissa sent an irate look in Adam 's direction .\": 'anger', 'Thus if a particularly irate husband pronounced the words three times in the heat of the moment the divorce was permanent and could not be reversed .': 'anger', 'There was one teacher who used to get so mad that she would throw slates around , with the whole class ducking out of the way .': 'anger', 'He says that he was so mad that he got a knife to scare them .': 'anger', \"I shrug my shoulders , for no matter how mad he gets , he ca n't duff me in , he 's stuck in bed , which is his hard cheese .\": 'anger', \"How mad we 've been , Lyn .\": 'anger', \"She really was mad about what she 'd just found in her freezer .\": 'anger', \"But he still feels miffed and mystified as to why manager Kevin Keegan discarded him so readily from St James ' Park and why no other Premier League clubs were willing to hire his lethal skills .\": 'anger', 'Bank customers are notoriously slow to shift their business , even if they are miffed .': 'anger', 'The reporter , whose English was stilted and hesitant , tried to get an answer from a miffed Atherton who refused saying he had already answered the same question .': 'anger', 'Some members of the UN Security Council will be miffed .': 'anger', \"But conservatives are also miffed about Foster 's long ties to the Planned Parenthood Federation of America and the fact that his teen-age pregnancy program dispenses contraceptives .\": 'anger', \"A miffed European Parliament head , President Jose Maria Gil -Robles , who is visiting Paris , promptly canceled a scheduled stop at de Charette 's office --- pending an apology .\": 'anger', 'If Russia was miffed about the membership plans , other East European nations were delighted .': 'anger', 'She was offended and took it all personally .': 'anger', \"He hoped she was n't offended , as a Times reporter .\": 'anger', 'Indenbaum knew how badly Modigliani needed money so he tried to offer him a sum within his means for the beautiful oil , but Modigliani was offended and obliged Indenbaum to accept the portrait as a present .': 'anger', 'Nutty was not offended .': 'anger', 'Mrs Friar looked offended but continued .': 'anger', 'The challenge was accepted and amidst cheers from a group of semi-inebriated local husbands , the offended owner headed out the door in search of a couple of friendly Gardai .': 'anger', 'In icy tones , the offended bureaucrat replied : ` For future reference , you will call me Mr Hooton , not Richard . \"': 'anger', 'The offended Titan lumbered forward and stamped upon one Raider , crushing it underfoot .': 'anger', 'The Doctor looked offended .': 'anger', \"Not everybody wants   and trailed into silence , for Lily 's eyelids were now fluttering , holding back offended tears .\": 'anger', 'I do n\\'t care if you \\'re offended , that \\'s the truth . \"': 'anger', 'Albert was offended , and swung his legs athletically out of bed , wincing on the distant side of his face .': 'anger', 'His marriage to Osthryth , the sister of King Ecgfrith , inhibited him from bestowing royal favour on Wilfrid until Archbishop Theodore engineered a reconciliation of offended parties in 686 .': 'anger', 'The law said nothing about duels between species which were not considered to be human -- although that did not prevent an offended party from seeking recourse .': 'anger', \"I laughed -- I did n't feel offended .\": 'anger', 'The elite were offended , but the common people loved it .': 'anger', \"He did n't seem offended , he did n't exactly appear contrite .\": 'anger', \"He looks offended when I tell him he is perceived as a man 's man .\": 'anger', '\" A little offended , Bagshot put the key in the lock and opened the door .': 'anger', 'He looked offended but I guessed his idea of discretion was swapping his length of lead pipe for a rubber truncheon .': 'anger', 'My hands dart indignantly about my desk as if they were offended mice , opening files , annotating minutes , picking up the receiver .': 'anger', 'That may not , however , be enough for the offended partner .': 'anger', 'The more resentful and unforgiving Willie Morgan , was taken to court and then had to terminate a lucrative six year contract after only nine months .': 'anger', '` No , \" she replied briefly , feeling more and more resentful .': 'anger', 'When he took his hand away still saying nothing , she felt slightly hurt and resentful .': 'anger', 'Rock became aware that the thrilling , magical father , who had taken his young son backstage , on the road , drinking , water-skiiing , was gradually becoming a resentful tyrant .': 'anger', 'On a recent visit to a day centre , which served both younger disabled and old people , I was told that old people were envious and resentful when computer learning was introduced for the younger disabled people .': 'anger', 'Residential workers are faced with youngsters who are not only anxious and resentful about family events , but may also be mistrustful of those who try to help them .': 'anger', \"Carlie and Harvey feel bitter and resentful about the way they 've been treated .\": 'anger', 'I coped at the time but now , five years on , I feel guilty and resentful about the whole affair .': 'anger', 'In a low , resentful voice , Cullam said , ` I was sick .': 'anger', 'I told Dana I could no longer bear the atmosphere of the city , the right-wing bullies , the Falangists , the deadening work of teaching mostly bored and resentful students .': 'anger', 'He felt their resentful eyes burning the nape of his neck .': 'anger', \"Michelle did not raise her head from Tess 's shoulder and the resentful words were muffled .\": 'anger', 'Lucy sent him a resentful glance while adding an explanation for her presence .': 'anger', \"I said I thought Surkov felt resentful because the novels had n't made more money .\": 'anger', 'I have grown up to be distrustful of men , doubtful of my own goodness , extremely resentful and explosively angry .': 'anger', 'She looked a little less resentful than earlier , and -- dare he hope it ? -- even slightly anxious for him .': 'anger', 'She felt rather riled .': 'anger', 'At once regretting that she had let herself become riled , she delved into her bag and came out with a bar of soap .': 'anger', 'Two could play the same game , and the Russian was now riled .': 'anger', \"She 's really riled now .\": 'anger', 'And found to his annoyance that he was grinding his teeth .': 'anger', 'It joined me for the rest of the holiday , much to the annoyance of my fellow passengers .': 'anger', 'Busking or playing musical instruments in the Underground , to the annoyance of other passengers , is an offence': 'anger', 'It was after noon by the time we actually got sorted , much to the annoyance of the lady from the Public Relations company who had hired us .': 'anger', 'He shows his annoyance with some intimidating facial expression , backed up by a sparse selection of adjectival punctuation invariably using the ` f \" word , which he uses with considerable effect .': 'anger', 'To her annoyance a warm blush was steadily creeping into her cheeks .': 'anger', '` I am practical , \" Jessamy insisted with some annoyance .': 'anger', \"Laura 's normally full , warm lips tightened with annoyance .\": 'anger', 'Liz suppressed her annoyance before it could take hold .': 'anger', 'She stopped as she saw the look of annoyance on his face .': 'anger', \"Faint annoyance began to show on Major Tzann 's face .\": 'anger', 'She turned to Fran , faint annoyance crossing her face .': 'anger', 'Robyn leant against the door to the office and found herself experiencing the old , familiar surge of deep annoyance .': 'anger', 'To my great annoyance I found myself jealous .': 'anger', \"To Erika 's intense annoyance , Fritz promptly accepted the invitation -- obeyed the command , rather -- and as Rosa moved on to the floor with another boy , she was left feeling abandoned -- and foolish .\": 'anger', \"Who can honestly say that they have never been consumed by that intense annoyance , never felt that burning but wrenching tension and anger at life 's petty frustrations .\": 'anger', 'This causes considerable annoyance to the Germans , who find themselves being forced to speak English and say that they will settle the matter ` by decree \" .': 'anger', '` We are at our wits ; end here \" , say the airport management , ` and this has caused considerable upset and annoyance to the lady owning the number published \" .': 'anger', 'It was , I thought , a measure of her self-control that she had waited until now to express her annoyance .': 'anger', 'His eyes narrowed , and she felt a flicker of annoyance , this time aimed at herself .': 'anger', 'Dotty flushed with annoyance .': 'anger', \"Wheeler 's fine face flushed with annoyance and he laughed .\": 'anger', 'After a day or two , the owner became irked , and went to the airport to inspect his plane .': 'anger', 'She was absolutely livid .': 'anger', '` He was livid .': 'anger', 'Kisling was livid , and with the help of some friends managed to grab the sculptor and throw him down the stairwell from the seventh floor .': 'anger', 'He turned a livid , stubbled face to the crowd .': 'anger', 'His face was livid , and his hand had clapped to his sword .': 'anger', \"Tabitha Campbell-Black was livid because she won a bag of Bailey 's Performance Mix horse feed rather than a T-shirt with a picture of a polo pony on the front .\": 'anger', 'Mansell was livid and admitted he ran away from the scene of the accident to avoid being tempted into big trouble .': 'anger', \"City fans are still livid over the clash with Bull that led to skipper Steve Walsh 's sending off in the 3-0 defeat at Molineux three weeks ago .\": 'anger', 'LIVID Mia Farrow beat her adopted daughter Soon-Yi with a chair after finding out about her affair with Woody Allen , it was claimed yesterday .': 'anger', 'His face was livid and bloody .': 'anger', '` He \\'s livid about Opal . \"': 'anger', 'And then of course , silly girl , she went and told him -- he was so livid he would n\\'t have nothing more to do with her . \"': 'anger', 'He was on his feet , the chair toppling over behind him , his face livid , his knuckles white-ridged and aimed at her .': 'anger', 'Sly was left feeling absolutely livid .': 'anger', 'Benedict was on his feet , overturning his chair in one violent gesture , a face of livid fury turned on Theda .': 'anger', 'He dipped the cotton wool in the water and dabbed at the livid puffy eyes .': 'anger', 'Wayne will be livid when he hears .': 'anger', '` You could have lent it to me , \" Paula said , peeved .': 'anger', 'He sifted , somewhat peeved , through the remaining unopened mail .': 'anger', 'His smile was patient , peeved , and very sad .': 'anger', 'Of course Ed was really peeved about how Martinez handled the whole Harley business .': 'anger', \"I 'm not surprised he 's feeling peeved .\": 'anger', '` I still feel quite peeved about it ; well , more than that really . \"': 'anger', 'They played throughout the second half in peeved mood , allowing Blackburn to assume the dictating role with Gordon Cowans prompting from midfield and Speedie in predatory form up front .': 'anger', 'It was a revelation after the pain of trotting and Nails was cross when Nutty brought it to an end .': 'anger', 'It is not uncommon to hear of old women who are cross when asked to perform domestic tasks in residential care !': 'anger', 'Sue gets cross about that .': 'anger', \"Agnes noted with alarm that a pink flush was suffusing Dorothy 's face , a sure sign of temper , and really , thought her loyal assistant , she had every right to be cross under the circumstances .\": 'anger', \"Do n't be cross !\": 'anger', \"He 'll be cross , but I 'll go .\": 'anger', 'There was really no reason why Star should be cross .': 'anger', \"When they got to the florist and Georg saw his father emerging he really was cross , so cross he leapt out from the driver 's seat and intercepted Willi on the pavement .\": 'anger', 'My husband still feels very cross .': 'anger', 'Her mother would be cross and he would feel stupid .': 'anger', \"` You 're cross because I was honest when I spoke to you that night .\": 'anger', 'Alexandra grew even crosser as it became obvious that Matthew had been invited in his own right .': 'anger', 'Erika stamped her foot in vexation .': 'anger', 'Frau Nordern bit her lip in vexation .': 'anger', \"To Meryl 's vexation , the boundary wall proved to be nearly eight feet high .\": 'anger', 'Sister Cecilia was flushed with vexation .': 'anger', 'But , determined that he should n\\'t have the satisfaction of seeing her vexation , she said drily , ` Do n\\'t mention it ; I \\'m only glad it was n\\'t rush-hour . \"': 'anger', \"No , she 's not vexed .\": 'anger', '` I am vexed , John .': 'anger', 'But Christine felt vexed when at the next Pack Meeting Sarah lost points for the Six through being a slowcoach .': 'anger', \"A vexed expression crossed Louise 's pretty face .\": 'anger', 'Unable to help herself , Mrs Abigail made a vexed noise .': 'anger', 'Lissa gazed up at him , at his vexed expression , and tried to quell the smile that pulled at her lips .': 'anger', \"I 'm getting vexed .\": 'anger', \"You 're not  vexed , are you ?  he asked incredulously .\": 'anger', 'Why ever did he bother to write them out ? the landlady asked , gravely vexed and insulted .': 'anger', 'Court sounded almost indignant .': 'anger', \"She did n't look quite so indignant as she 'd looked before .\": 'anger', \"Shackel became indignant and said he would fetch a magistrate and complain about the Chief Constable 's attitude , which he did .\": 'anger', \"Scientists , on both sides of no-man 's land , become bitterly indignant when someone points such external influences out to them .\": 'anger', 'His tone became more confident , slightly indignant .': 'anger', '` I mean , look at this one , \" said the interviewer , becoming quite indignant and picking one of the schools \\' letters contemptuously from the pile .': 'anger', 'I was extremely indignant .': 'anger', 'The RUC men who had conducted the police investigations were fiercely indignant and a senior officer threatened to resign .': 'anger', 'Topaz was indignant , some of her fear dissipating .': 'anger', 'But I do n\\'t want an indignant boyfriend on my doorstep breathing fire . \"': 'anger', 'And Victoria now pulled her granddaughter past the indignant old lady , whose face was expressing shock .': 'anger', '` What did you mean , Rachel ? \" her mother asked slowly , ignoring her husband \\'s indignant look .': 'anger', 'IN East Germany two men , formerly regarded as untouchable pillars of the old regime , have , rightly or wrongly , become the focus of over-zealous and sometimes bizarre persecution by the legal authorities and an indignant public .': 'anger', 'Indignant over suggestions that the Prime Minister has replaced his Jaguar with a Rover , Nigel Lawson can at least draw comfort from the fact that he is a wanted man in the City .': 'anger', '` Good heavens , no , lady \" came the indignant reply .': 'anger', \"Bellybutton said in an indignant voice , as though my question had impugned McIllvanney 's honour .\": 'anger', 'She picked up a pen and drew a line through the service charge , then handed the bill to the indignant guest .': 'anger', 'Lucien made a small , indignant sound , his arms flailing before he recovered his poise .': 'anger', 'Auguste shot him an indignant glance .': 'anger', 'She was irritated , indignant .': 'anger', '` Oh ! \" she bleated , her voice high and rather indignant .': 'anger', '` Nevil does n\\'t work for me , \" he snapped , truly indignant .': 'anger', 'After the verdict on Monday , an indignant Cannes president Alain Pedretti described it as ` scandalous \" .': 'anger', '` You do these ? \" he asked an indignant Auguste .': 'anger', 'He watched , felt indignant but also justified because he was right .': 'anger', 'BLACKEYES ended , trailing an ever thinner line of puzzled viewers , exasperated critics , and the nagging question , what went wrong ?': 'anger', '` It \\'s absolute nonsense , \" wails an exasperated spokesman .': 'anger', 'Untidy work led to rows , rows led to confrontation , confrontation led to the boy being soundly thrashed by his exasperated mother .': 'anger', \"The Government resolutely refused to comment until in January 1978 we suddenly heard that an exasperated Lord Rosebery had broken off the sale and given Sotheby 's the go-ahead to auction the contents in May .\": 'anger', 'Doctor McCann turned an exasperated face away and addressed himself to Peg .': 'anger', 'She began to feel exasperated .': 'anger', 'They were exasperated and mystified .': 'anger', 'If I failed to do so , he would become exasperated and start shouting at me , telling me how stupid I was ; whereupon I would dissolve into tears and rush out of the room .': 'anger', \"An exasperated Galileo was able to show up the inadequacy of his rival 's position in a characteristically witty way .\": 'anger', 'He seemed exasperated , though well in control .': 'anger', 'No wonder Superintendent Miller had become exasperated .': 'anger', 'Charlotte made to reply , but suddenly felt exasperated and wearied by the hoops she had been obliged to jump through .': 'anger', 'Lili was getting exasperated .': 'anger', 'He shook his head , exasperated and cynical .': 'anger', 'As they passed her table , she heard the older woman counting one-two-three , one-two-three like a jolly and exasperated gym teacher .': 'anger', 'The fellow , sighing dramatically , rose wearily from his chair like an exasperated parent dealing with two naughty children .': 'anger', \"Blake looked at the exasperated face of the Doctor , '  but this computer can predict what I 'm going to do .\": 'anger', 'They left behind them broken glass , tyremarks on the road and another exasperated shop owner .': 'anger', 'The sheriff had said the most likely explanation was that the father had become exasperated .': 'anger', 'He was exasperated , but not cast down .': 'anger', \"There was a trace of exasperation in his voice as he said : ` I 've told my promoter Dan Duva that I want to fight all those contenders that the people want me to fight .\": 'anger', 'Plummer wanted to know , a note of exasperation in his voice .': 'anger', 'There was a hint of exasperation in his voice .': 'anger', \"Shaw , however , worked off most of his exasperation over the weekend winning the Durham and Cleveland County veterans ' over 50 title .\": 'anger', \"And then again perhaps Modigliani 's exasperation stemmed in part from envy of this brilliant young man .\": 'anger', 'One career wife spoke about her exasperation when her husband listened to her with half an ear as he watched television .': 'anger', 'You may find your exasperation turns to inspiration': 'anger', \"Now it was the Young King who drew back and , doubtless to their father 's immense exasperation , refused to accept Richard 's homage .\": 'anger', 'She sounded very disappointed and David knew she was suppressing her exasperation .': 'anger', \"Robbie 's exasperation found vent .\": 'anger', 'Frau Nordern allowed herself a note of exasperation .': 'anger', \"At least if there 's a human being there you can talk about the deal ,  says Legal & General 's Michael Payne with just a trace of exasperation .\": 'anger', 'She shot him a look of exasperation .': 'anger', 'Your eyesight \\'s not good enough , \" Miss Dersingham said with exasperation .': 'anger', 'He was coming so fast that she knew he had not seen her and she had to brake sharply , frowning with exasperation .': 'anger', '` I do n\\'t seem to be getting anywhere with this damn machine , \" he said with exasperation .': 'anger', \"There was something in the journalist 's manner that goaded Blanche 's exasperation into anger .\": 'anger', 'She was single-minded and uncompromising in her work , so that she sometimes provoked exasperation among her colleagues , a feeling immediately tempered by the admiration they felt .': 'anger', 'All through his life , though Ken could be austere and stubborn to a point which provoked exasperation , his evident holiness was so blended with cheerfulness that he seldom lost the admiration and affection of his contemporaries .': 'anger', 'He looked at her with exasperation when she just gazed at him with wide deep blue eyes .': 'anger', 'Tzann clucked his tongue with mild exasperation .': 'anger', 'He felt a wave of exasperation rise within him .': 'anger', 'With a grunt of exasperation , Henry leapt across the room and into the yard , crossing the space between kitchen and dining room until he reached the stables .': 'anger', 'He gave a little grunt of exasperation .': 'anger', 'How often do parents say in exasperation , ` Oh , you \\'ll be the death of me \" ?': 'anger', '` Damn ! \" she muttered in exasperation .': 'anger', 'Irina hung up in exasperation .': 'anger', 'She was acting like some idiotic schoolgirl , not an intelligent woman , she thought in exasperation .': 'anger', 'Jean-Paul gave a sigh of exasperation .': 'anger', 'Parkin sighed with exasperation .': 'anger', 'With a small sigh of exasperation she thrust her feet to the floor .': 'anger', 'I got the impression that he was extremely alarmed about his own position and was determined to eliminate any risk for himself by a massive change of Government .': 'fear', 'His voice was tetchy , but not alarmed .': 'fear', 'But experts at the Coney Hill Psychiatric Hospital are alarmed .': 'fear', 'The repeal movement \\'s national leadership , alarmed about Hopkins \\' activities , wrote warning her against any collusion with the enemy . \"': 'fear', 'The alarmed Hungarians initially kept this threat to themselves , but have since raised the issue in private both within the Warsaw Pact and with certain Western governments .': 'fear', 'Realising that something had gone wrong , the alarmed miner was making his way out of the pit .': 'fear', 'After one alarmed glance at her apoplectic face , Mr Loveitt said smoothly : ` I think we should get back to the facts .': 'fear', 'He turned to see four alarmed faces and the atmosphere was thick with unanswered questions as he walked out .': 'fear', 'The assistant looked alarmed .': 'fear', 'Some ill children feel so angry , depressed , or anxious about their condition that they refuse to eat .': 'fear', \"If she 's so anxious about my welfare and morals it 's a wonder she has n't come stamping up here to check out the situation for herself .\": 'fear', 'The last time she had walked down this lane she had been too anxious about Susan to notice very much .': 'fear', 'I wanted to be a violinist -- that was my real ambition -- but I was too anxious to really get to grips with the instrument .': 'fear', 'Cranston , too , was thinking about events in the Tower but was too anxious to concentrate on the problems they posed .': 'fear', 'Meanwhile the flood of letters of a very different sort from anxious Hong Kong citizens to this and every other newspaper office continues .': 'fear', 'You then left that meeting , rather hurriedly , before it ended , in a very anxious state .': 'fear', 'She subsequently attended the genetic counselling clinic , and was very anxious about the situation .': 'fear', 'My friend is very anxious about your welfare .': 'fear', \"Gary 's expression became even more anxious .\": 'fear', 'The Oracle clearly becomes very anxious about this and demands to know their business .': 'fear', \"He had taken an interest in the growing baby , and had become anxious about Jane 's health and safety , the way expectant fathers were supposed to .\": 'fear', \"Far from experiencing simple gratitude , such children will most likely feel terribly torn and anxious when faced with their foster parents ' offer of affection .\": 'fear', 'She was still feeling a little anxious when she thought of all she would have to do before she could get to bed that night .': 'fear', 'It seems that anxious people condition most easily and it is thought that irrational fears are established in this way .': 'fear', 'They seemed anxious and hesitant about leaving , as if uncertain of which direction to take .': 'fear', 'He turned and saw the waiter bearing down on him with an anxious look on his face .': 'fear', 'Jim could nonetheless tell by his anxious face that something was wrong .': 'fear', 'Stephen Spielberg says anxious parents should view it first .': 'fear', 'A helpline has been set up for anxious parents .': 'fear', \"One of the four ads is for insurance , another for Sherwood 's and the other two draw the attention of anxious patients to a particular service offered by local solicitors .\": 'fear', 'Anxious people become acutely sensitized to their bodies , noticing minor bodily changes upon which they focus .': 'fear', 'Unfortunately , anxious and stressed people become acutely sensitive to such fluctuations making them worse by their own concern .': 'fear', 'Rose was excessively clinging in her behaviour and anxious when Clive was either late , as he often was , or away on an extended business trip .': 'fear', 'We were confused and anxious when we were not understood .': 'fear', 'They were a little anxious about the flight over the Timor Sea as their compass had been 10 awry on the outward journey though it was correct at Melbourne .': 'fear', 'Many beef farmers in my constituency of Monmouth are deeply anxious about the impact of the MacSharry proposals .': 'fear', 'She \\'s in a lot of pain , and is extremely anxious about her condition . \"': 'fear', 'President Truman and his advisers were anxious over Sino-Soviet relations and wondered whether American forces could take the port of Dairen and thus prevent the Soviet Union from occupying the Liaotung peninsula of south Manchuria .': 'fear', 'The message was clear as members of Gloucestershire county council turned up to todays budget meeting , with protestors , anxious over the scale of impending cuts urging councillors to think again before wielding the axe .': 'fear', 'Modigliani was plagued and anxious because of the difficulty of finding models , and when one had been found he waited in a state of tension for fear of being let down .': 'fear', 'Now Mr Rifkind has written to the BSC chairman , Sir Robert Scholey , asking for further assurances after meeting anxious union leaders .': 'fear', 'A patient in an anxious state is more likely to bump into , or trip over , objects ; shaking or tense hands are more likely to drop things , spill things and so on .': 'fear', 'It all started early this morning , when a rather anxious mum called in at the office .': 'fear', 'She was particularly concerned when , shortly before her wedding day , she discovered that Prince Charles planned to give his friend a bracelet inscribed with their nicknames ` Fred \" and ` Gladys \" .': 'fear', 'I became concerned when I saw my husband becoming a different person .': 'fear', \"Jose , the refuge guardian , was concerned when Jeremy did n't return to Elola on the evening of Sunday , October 21 -- he had left his camping gear behind in the hut .\": 'fear', 'Everyone is terribly concerned at the moment ; we had thought that the security at St Helier was tighter than in most other hospitals .': 'fear', \"Maria 's ( 3.5 years ) parents were concerned because of her severe headbanging at home .\": 'fear', \"Elaine 's voice was concerned but deep inside she hoped he would not decide to go to the party .\": 'fear', 'Hank was thoroughly disquieted .': 'fear', 'Blanche was disquieted but not sure why .': 'fear', 'Feeling thoroughly disquieted , she left her room in a rush .': 'fear', 'In Washington there was understanding , but just as much disquiet about British Defence policy .': 'fear', 'We shall find reason for disquiet about this argument .': 'fear', 'Nevertheless , even among non-abolitionists ( and across most of the political spectrum ) there has been grave disquiet about the state of the prisons .': 'fear', 'But the STUC also voiced disquiet about the way last Monday \\'s picketing was handled by police , and said it had secured a pledge that policing would now be ` even-handed \" .': 'fear', 'Despite the disquiet at the club this year , Mr Stringer still appears more relaxed and more in control than he did when he first took charge in that winter of 1987 .': 'fear', 'There was widespread disquiet in the media and elsewhere .': 'fear', 'Polanski had received notices of similar disquiet over his films .': 'fear', 'There may be cases where there is parliamentary disquiet over a ministerial proposal and then the minister has a change of mind .': 'fear', \"His comments are a major diplomatic gaffe as the CRC has supported the region in its disquiet over the CRE 's decision to begin an investigation .\": 'fear', \"Nevertheless , the Commission 's disquiet has not prevented it from agreeing the designation .\": 'fear', 'Apparently the RLD was not aware of the details of the Vanguard accident at that time , but the subsequent publication of the report on the accident should have reinforced their disquiet .': 'fear', 'She voiced her disquiet and Ana laughed .': 'fear', \"Listening to parents in the playground and at more formal events such as parents ' evenings should alert staff to early stages of parental disquiet .\": 'fear', 'That was still the kind of work that I wanted to do , and if I thought very much a comprehensive schools it was in a spirit of mild disquiet .': 'fear', 'My heart was thumping with disquiet .': 'fear', 'I have received no representations on that matter and I am not aware of any disquiet among the groups that the hon. Gentleman described .': 'fear', 'The Department of Health is aware of the disquiet among dentists .': 'fear', 'However , does the right hon. Gentleman recognise that profound disquiet has been expressed about some of the proposals in the Bill , particularly the fast-track ones ?': 'fear', 'This last may be a source of considerable disquiet and one might not at first see how such obviously ` immoral \" content could be defended as part of a system of morality .': 'fear', 'But her symbolic stance emerges at a time when there is considerable disquiet over the imaging of children .': 'fear', 'Li Shai Tung looked across at him , smiling ; but behind the smile -- beyond it , in some darker , less accessible place -- lay a deep disquiet .': 'fear', \"There was public disquiet , questions in the Commons and an enquiry ordered into Jeffrey 's whereabouts .\": 'fear', 'Costly experiments on the teeth of live dogs or primates , not to mention the public disquiet about such animal testing , might be avoided and delays reduced .': 'fear', 'There was considerable public disquiet anyway , but now that bugger Parkhurst has panicked the entire country , we are going to have to lie very low . \"': 'fear', 'Also some disquiet surrounds the production of \" second generation \" vaccines using genetically engineered microbes to make fragments of viruses .': 'fear', 'IMPRESSED just this side of awe as I am by the Department of Transport and its fearless tackling of such problems as juggernaut lorries and EEC regulations , I must nevertheless confess some disquiet about a recent plan .': 'fear', \"Accountants inevitably greeted the court 's finding with some disquiet .\": 'fear', 'THE Princess of Wales has once more caused disquiet among fashion commentators by sticking to her own rules .': 'fear', 'But there is no doubt that some of these ideas are causing great disquiet among Branch Management and Staff .': 'fear', 'Some of his actions , in particular the unexpected introduction of a constitutional amendment allowing for an elected Vice-President and the subsequent appointment of Moudud Ahmed to that post , caused some disquiet among party members .': 'fear', 'If there is continuing disquiet about the way an industry is being run , Members can express their disquiet by questioning the fitness of the persons appointed by the Government to run it .': 'fear', 'In his meeting with Bush , zal reportedly sought to express his disquiet about a bill passing through the US Congress aimed at marking the \" 75th anniversary of the Armenian genocide of 1915-23 \" .': 'fear', 'In 1989 he began libel proceedings in the UK against the Singapore government after the Privy Council had expressed \" deep disquiet \" over his treatment by the government [ see p. 37574 ] .': 'fear', \"Startled , and by now more than a little frightened , Patrick headed for Foyles , hoping to lose his followers in the bookshop 's maze of nooks and corners .\": 'fear', 'Deep down I get more and more frightened .': 'fear', \"I 'm really frightened .\": 'fear', 'The ambassador dithered so Benjamin stormed out , grasped a frightened servant and made him take us to where Clinton was sitting with the Lady Francesca in a small bower built against the chateau wall .': 'fear', \"D.H. And no criticism of the drugs or medical regime because they 're too frightened .\": 'fear', \"I do n't very often feel frightened , but then I do n't often put myself in that vulnerable position .\": 'fear', 'It \\'ll be very loud and you might get frightened . \"': 'fear', 'He was more frightened than he had been in all the time he had been with them , and he could tell that the girl was frightened too , by her quick , shallow breathing .': 'fear', 'They caught a suspicious individual one evening , and turned him over to the police ; but he turned out to be a frightened bilberry-picker who had lost his way .': 'fear', 'I used to stutter a lot in those days , I was a very frightened boy .': 'fear', 'He was very frightened now .': 'fear', '` Those poor little girls must be frightened out of their minds !': 'fear', 'Someone must have buried them when they were too frightened to hand them in to the police station .': 'fear', 'Mr Kinnock says the Prime Minister is too frightened to debate the issue .': 'fear', 'Slowly , he corners the frightened younger boy , talks reassuringly as he kisses and caresses him .': 'fear', \"As the frightened boy bolted to Gooseneck 's side , there was a scream from Fishbane 's corner where an unwary Pole had reaped the consequences of turning her back to view the drama .\": 'fear', 'Without another word , Bert Rafferty gently picked up the frightened child and made towards the cliff .': 'fear', 'They looked like a crowd of frightened children .': 'fear', 'He says that Childine must survive because it has proved itself a lifeline for thousands of frightened , lonely and distressed children .': 'fear', 'The impact had caused it to buck like a frightened horse .': 'fear', 'I saw the frightened horses on the edge of a steep drop .': 'fear', 'In one room , a frightened man bared his back which was a mass of scabs and bruises .': 'fear', 'Ten cold , frightened men climbed out of their trench and listened to the young officer in cynical silence .': 'fear', 'Or was it just fear that paralysed her , like a frightened rabbit ?': 'fear', 'The young woman just stared back like a frightened rabbit .': 'fear', \"They 're frightened to death .\": 'fear', 'The poor frightened girl packed her things and ran out , saying she was going to Reno for a divorce .': 'fear', 'She started like a frightened cat , and looked up at him wide-eyed .': 'fear', 'Her ladyship looked frightened , shocked .': 'fear', 'Some of the house servants were missing and everybody looked frightened .': 'fear', 'She sounded frightened , a little distraught .': 'fear', \"She 'd felt quite frightened and had n't accepted the invitation .\": 'fear', 'The first week I was at the school , I attempted to climb a tree , and was reproved by a horrified prefect .': 'fear', 'Then she was silent , staring at him with horrified eyes .': 'fear', 'His glance slid over to them , taking in the horrified Katarina surrounded by malicious-looking women .': 'fear', 'He had thus been forced to hide his ignorance , which ill became a bohemian poet , when the trial burst upon a horrified society .': 'fear', 'Mr McWhinney ( 55 ) , of Drumhark Road , Comber , died instantly when his single-engined Pulsar plunged to the ground in front of horrified spectators .': 'fear', 'At which point , according to my informant , everyone looked absolutely horrified and said : ` Oh no , Prime Minister !': 'fear', 'With a little grimace , she turned to stare with rather horrified fascination at the dark oil paintings that lined the walls .': 'fear', 'Raising her eyes , she stared in rather horrified fascination at the opening door .': 'fear', \"Do n't look so horrified !\": 'fear', 'When I asked if they could make me an identical one trimmed with black fur and beading instead , they were horrified but they agreed in the end . \"': 'fear', 'A cold draught of air was coming from the kitchen and I found the back door to be wide open -- and then my horrified glance fell upon Aunt Louise .': 'fear', 'Charles was horrified , conscious that his brother was now disqualified as a man of God from leading an invasion , and , as a celibate , from having a legitimate heir .': 'fear', 'If I mention our separate sleeping arrangements to friends , they are horrified .': 'fear', 'There was one other horrified observer of the scene .': 'fear', 'The parents are horrified and I am totally disgusted .': 'fear', 'When he saw her horrified expression , however , he stopped being a doctor and became quite fatherly instead .': 'fear', 'He gave one swift look at her horrified expression before continuing .': 'fear', \"He looked at the children , at Nick 's horrified face , and then at Auntie Lou .\": 'fear', \"Barely registering Gwen 's horrified face , she turned and whirled out , crashing the back door against the wall so hard that the echoes seemed to follow her fleeing figure .\": 'fear', 'One horrified look told him that Daisy had already sunk to her pasterns .': 'fear', 'Lily shot a quick horrified look up and down the road .': 'fear', 'The despairing , faithless , gaping , horrified wife looked down at her lover , and knew that he was dead .': 'fear', 'She shot him a horrified look .': 'fear', \"One itemised phone bill to Bedworth 's horrified mother ran to 34 pages of listed calls , the jury heard .\": 'fear', 'His horrified mother made a public appeal for the return of the ring , given to her by husband Alfed 18-years ago .': 'fear', 'It was just like Rambo ,  said one of the scores of horrified students who fled from the university after the massacre .': 'fear', 'The passengers looked horrified .': 'fear', 'The Doctor looked horrified .': 'fear', 'Aggie looked horrified as she caught sight of the horse dung on his hobnailed boots .': 'fear', 'Daisy leaned forward , at once horrified and fascinated .': 'fear', 'The horror in her voice was almost ludicrous , and Briant raised his eyebrows slightly .': 'fear', 'With horror in her eyes , the nurse stated that the young girl had tearfully told the physician the events that had led to her tragic situation .': 'fear', 'Even as he spoke , she saw the dawning horror in his eyes .': 'fear', \"Imagine the horror on my beloved 's face when he discovered I had in fact flung in the rubbish his much prized and read collection of Guitarist magazines !\": 'fear', \"Melanie was shocked to see the horror on her aunt 's face .\": 'fear', 'Charlotte looked at Ursula and saw a frozen expression of horror on her face .': 'fear', 'Rather than match China \\'s firmness , it can be confidently predicted , the Hong Kong authorities will follow past form , cease muttering about their shock and horror over Tiananmen , and return to bland assurances that the negotiations with Peking about a post-1997 ` Basic Law \" for Hong Kong are going well .': 'fear', 'But the blank horror over Khmer Rouge atrocities between 1975 and 1978 has created a blind spot about its strength in Cambodia , and the growing likelihood that it will return to power , either on its own or with the other Cambodian opposition factions .': 'fear', \"Tug had just one glimpse of the girl 's horror as her mouth and her eyes opened wide .\": 'fear', 'You can imagine my horror !': 'fear', 'Then she remembered his horror when he \\'d said , ` Do n\\'t tell me you \\'re a virgin ! \" and her heart closed in on itself like a wounded animal .': 'fear', \"Ray Shepherd 's voice was quiet and he ignored his son 's mounting horror .\": 'fear', 'Meanwhile Crowe , who had been watching the carnage unfold from the other end with increasing horror , unfurled some strokes of class in an attempt to ease the situation .': 'fear', 'Some of us contemplate this prospect with horror .': 'fear', 'She gazed at Ruth , and her face seemed to fill up with horror .': 'fear', '` Did you have a good day at the office ? \" she asked , hearing herself with horror .': 'fear', 'Eyewitnesses told of the horror as shrapnel rained down on shoppers from two devices placed in cast-litter bins less than ten yards apart .': 'fear', 'Aston Villa are having a great run , but they hold no particular horrors for the Norwich players .': 'fear', \"Constant recounting of this tale embroidered it further , describing the woman 's horror as the head , missing the basket , gripped her apron and held on with its teeth !\": 'fear', 'This ` return to the sources \" discovers either that such primitive celebrations are entirely divorced from modern sexuality , or that they always concealed a deathly horror .': 'fear', 'For Swift , there is a connection between cosmetics and prostitution ; the carefully assembled exterior often conceals both physical horror and moral contamination .': 'fear', 'A few months later Gough Whitlam brought the Australian Army home but it is said that for those who experienced the horrors , each one left a little piece of themselves out in Viet .': 'fear', 'I wanted to express my fear and my horror .': 'fear', 'He paused before stepping out onto the roof , a look of horror on his face .': 'fear', 'He saw the look of horror on my face .': 'fear', 'The idea of their having a say in the running of a club appears to make officials recoil with horror .': 'fear', 'I have climbed it from all sides , every time making new discoveries , finding new surprises and delights and , let me confess , secret places from which I have recoiled in horror .': 'fear', 'Ashley recoiled in horror .': 'fear', \"We had n't gone very far when we met up with another Lancaster returning from a Cook 's Tour , and to my horror the two aircraft then flew wing-tip to wing-tip all the way home .\": 'fear', 'Yanto realised to his horror he was now the nearest man to the exit bar .': 'fear', \"To Shiona 's absolute horror , Jake had blamed her .\": 'fear', 'People waiting for trains watched in horror as the violence spread towards the Festi Hall .': 'fear', \"Rex watched in horror as the black claw tore Bill 's left arm from its socket and flung it far up the street .\": 'fear', '` I felt less nervous in the play-off against Faldo than I have here .': 'fear', 'Quite a few of my classmates had done their speeches and I was getting really nervous as the day for my turn drew closer and closer .': 'fear', 'I seem to be more nervous in that way than I once was .': 'fear', 'The girls exchanged nervous glances , thinking that it must be Miss Hardbroom come to reprimand them for being out of bed .': 'fear', 'There was a nervous laugh at this topical sally provided by the Zola trial .': 'fear', 'The silence that followed was finally broken by a nervous laugh from one of the men-at-arms .': 'fear', 'The boy gave a nervous smile ; Jean-Paul gestured to the waiter .': 'fear', 'Roberts looked nervous but kept a fixed smile .': 'fear', 'Flaps are described in detail for the many pilots who do not fully understand how to make the best use of them , and who may be nervous about their first flights in a flapped machine .': 'fear', 'I was also under no illusion that some backbenchers on our side were nervous about the policy .': 'fear', 'He was , naturally , sometimes nervous in the face of my beauty ; and at other times needlessly pleased with himself .': 'fear', \"Nothing happened -- not that she 'd really thought anything would -- although there was a nervous tingle in her fingers .\": 'fear', 'Exhausted and nervous , councillors disappear into small cabals .': 'fear', 'She tried to sleep , but she was desperately nervous about tomorrow .': 'fear', 'Not so much a merciful touch , more likely a measure to prevent suddenly terror-stricken passengers from attempting to escape into the crowd .': 'fear', 'The girl was glued to the spot , terror-struck , pop-eyed , quivering , knowing for certain that the Day of Judgment had come for her at last .': 'fear', 'If this happened they would be terror-stricken .': 'fear', 'Two fierce eyes glared at the terror-stricken sailors .': 'fear', 'Leo demanded as he wrenched back to stare down into her almost terror-stricken face .': 'fear', \"A CITY 'S terror-stricken minicab drivers are threatening to quit their jobs in fear after the murder of a young cabbie .\": 'fear', \"` I 'm not particularly worried if players do n't score , but you just ca n't stroll around .\": 'fear', 'They simply could not understand why people in England were so worried .': 'fear', 'Rose stood looking down at her , a worried expression in her eyes .': 'fear', 'This leads to highly agitated motions and correspondingly high temperatures .': 'fear', 'His two thumbs rotated about one another as they always did when he was agitated and looking for a way to strike .': 'fear', 'She was agitated ; there were a few tears .': 'fear', 'Little Maureen was agitated , but she made a nice speech .': 'fear', '` When we came to tell you that the service was postponed you were in a very agitated state -- but then it was difficult to persuade you to leave off playing . \"': 'fear', '` When a police sergeant revisited Mr Thompson he was still clearly the worse for drink and was in an agitated state . \"': 'fear', 'He was becoming agitated .': 'fear', 'The priest became agitated .': 'fear', 'The Spaniard was becoming agitated again , wondering whether he had already gone too far .': 'fear', 'She was getting agitated .': 'fear', \"Do n't get agitated .\": 'fear', 'He paced about for some time , looking agitated .': 'fear', 'Rachel and her mother looked agitated .': 'fear', 'Country and Western is suitable for calming an agitated animal': 'fear', 'It emerged that , in conscious and especially in excited or agitated patients , the drug produced a remarkable state of inactivity or indifference .': 'fear', 'Annabel said in an agitated voice , ` I feel as if my mind is whirling madly , like a hurricane .': 'fear', 'Just before we were to go upstairs to be photographed , an agitated Nigel Lawson came up to me saying that he wanted a word .': 'fear', 'Trance-like he drove down the Edgware Road , responding to the multitudinous traffic lights with mechanical movements , while the agitated Eleanor continued to lash his unreceptive ear with a never-ending stream of abuse .': 'fear', 'The boss sounded agitated when I spoke to him over the phone . \"': 'fear', \"At Portsmouth , Lily Lee creatively amplifies a passage from Machiavelli 's The Prince , inscribing a chilling statement in a bold agitated hand .\": 'fear', 'An agitated old lady addressed Ramsey severely and asked why he did not go back to his own country and do good there instead of stirring up trouble in the United States .': 'fear', \"More usually it left him ashamed and angry , despite his wife 's kind words of consolation , and Ashi herself in an agitated state of dissatisfaction and unhappiness .\": 'fear', 'He seemed agitated , restlessly pacing about , looking out into the crowds , then drawing back into the shelter of the arcade .': 'fear', \"Nevertheless , Maeve 's sharp eyes had missed nothing ; her husband looked exhausted , troubled , and now she felt agitated .\": 'fear', 'Suddenly , a wave of tiredness swept through her and she closed her eyes for a moment , during which the girl remained quiet , but visibly agitated and eager to be getting on with her work .': 'fear', 'Behind the front door hovered a small and wiry man who appeared greatly agitated and whose polished bald head was flushed and sweating profusely in spite of the cold .': 'fear', 'Perhaps the mural makes it new , so shamelessly bright upon the wall like something spilt , and the restless assortment of weekend patrons who watch the stage with agitated and expectant eyes .': 'fear', 'What a contrast with the rattled and untrustworthy gamblers at Number 10 and Number 11 Downing Street .': 'fear', '\" Dear God , \" he said , beginning to get rattled .': 'fear', \"You could n't simply ignore the fact that he had sentenced you to death , but it was important to let him know that you were n't rattled .\": 'fear', 'There is a clear lesson there for a beleagured John Major and a rattled Tory government .': 'fear', 'While Grant was wakening the kids , he discovered to his dismay that most of the cubicles held four occupants , sleeping in bunk beds .': 'fear', 'The first important truth for voters in such spirits is that , in their dismay about recent economic and political errors , they are forgetting the immense Tory achievements which preceded them , and are now at risk again .': 'fear', 'There was dismay in Belgrade .': 'fear', 'Equally inevitably , there was outrage and dismay in India .': 'fear', 'THE Italian writer Primo Levi died on 11 April 1987 , to the dismay of his readers .': 'fear', 'To the dismay of the South Africans , umpire Cumberbatch merely signalled a leg-side wide .': 'fear', \"Ian Fleming 's superhero first appeared in Issue 4 of ZZAP ! , much to the dismay of the reviewing team .\": 'fear', 'The Estonians require a language test before full civil rights are granted , to the dismay of their Russian-speaking population .': 'fear', \"Typically , Gould 's infrequent letters home detailed only his ornithological exploits , much to the dismay of the household , who were desperate to hear news of a more personal nature .\": 'fear', \"Seeing the look of dismay on her mother 's face , Tamar continued , ` You wo n't be telling a lie .\": 'fear', \"The bank had made no secret of their dismay over Virgin 's venture into airlines .\": 'fear', \"Journalists were asked by the manager to attend a midday conference at Celtic Park in the expectation that Brady would be commenting on his dismay over anonymous , directorial criticism of the team 's progress .\": 'fear', 'He listened soberly and with growing dismay to what the young bank officer from Jeddah had to say , and scanned the computer printouts across his desk with a practised eye .': 'fear', 'Edward concealed his dismay .': 'fear', \"In the thirtieth minute , Gary Weaving scored what looked like a perfectly good goal , only for the linesman to rule it out for offside , to everyone 's dismay .\": 'fear', '` It \\'s stuck ! \" she cried in dismay .': 'fear', 'Anyone could have typed that message and his initial , she realised with dismay .': 'fear', 'She jumped up , frowning in dismay .': 'fear', 'Gascoigne is the first Englishman to fill the role since Bobby Charlton , a man whose absence from a team sheet spread dismay among team-mates and supporters alike .': 'fear', \"Please do n't let the dismay of the pro-Ford lobby colour your judgement in future road tests .\": 'fear', 'There was dismay on her face , now .': 'fear', 'To the dismay of German suppliers , Mr Lopez is also eager to share this advice with foreign competitors .': 'fear', 'I watched with dismay as they hit the floor and bounced to eight dusty oblivions .': 'fear', 'In this he resembled Bonamy Dobre at Leeds , who reacted with the utmost dismay when his pet student , Robin Skelton , announced his engagement to a fellow-student .': 'fear', \"Perhaps it was something in the dowager-duchess 's voice that caused it , but Joan to her own dismay burst into tears .\": 'fear', 'I read with dismay the remark attributed to the Central Scotland Water Development Board in your report today that ` water required powerful law \" , otherwise , the water authorities ` would never get anything done \" .': 'fear', 'He predicted ` deep dismay in Hong Kong , deepened only by the statement of the official Opposition . \"': 'fear', 'She wrote : \" Thank you for your letter dated 9th October 1991 which I have read with great dismay .': 'fear', 'Effortlessly , his knee slid to part her legs , but when she threw him a look of utter dismay he paused .': 'fear', 'The commercial ethic meant some deterioration in standards , while the cutbacks in the Overseas News department , one of the glories of Bush House , caused much dismay in the public communications world .': 'fear', 'This caused a good deal of consternation and dismay in Westminster .': 'fear', \"And it was equally insistent that a policy of retreat would cause dismay in Washington , thereby diminishing Britain 's ability to exert influence over American policy .\": 'fear', 'Floyd Patterson has expressed dismay over the current treatment .': 'fear', 'Edouard looked at him , and felt a sickening dismay .': 'fear', 'When Tina and the children moved into the School , Cecilia felt both dismay and guilty relief .': 'fear', 'But he felt ` dismay and sorrow for so many people in our country who do not share this personal good fortune . \"': 'fear', 'They stared at one another in dismay , the sad , small wickedness of their friends and neighbours strewn around their minds like dirty confetti from a party long past .': 'fear', 'Cleo stared at the contents with dismay .': 'fear', 'Melissa stared at her friend in dismay .': 'fear', 'Successive state elections have seen the governing parties pummelled by a dismayed electorate .': 'fear', 'Vincent was irritated but not dismayed .': 'fear', 'Kendall-Hume turned back to face the dismayed couple .': 'fear', 'I am dismayed , but not surprised .': 'fear', \"I 'm really ashamed of the matter and therefore return to you the bond cancelled .\": 'shame', \"The mortified referee ordered the game to end but then was persuaded to leave while one of the linesmen took over , a spectator taking the linesman 's place .\": 'shame', 'Celia was mortified , yet , to her horror , she wanted to scream .': 'shame', 'The kids were mortified but I thought it was a real hoot . \"': 'shame', \"I was mortified , because we did n't appear at the presentation ceremony and I did n't receive a medal as a memento of the occasion .\": 'shame', '` They failed to do so , \" said Sherrin , ` and Michael fretted and fumed and explained that his immense following of fans would be mortified and he would be shamed .': 'shame', '\" I felt mortified , but cushioned by the drink . \"': 'shame', 'Meredith escaped through the door he held open and walked quickly home feeling both discomfited and dissatisfied .': 'shame', 'When I glanced back as I opened the gate , they were standing still , in a discomfited little group : they had not meant , I suppose , to hurt the child .': 'shame', 'Joseph hung back walking slowly as the others moved on again , and his mother , noticing his discomfited expression , waited for him at the side of the track .': 'shame', \"Bishop did n't seem discomfited .\": 'shame', \"Ace 's eyes were full of mocking laughter as they took in the discomfited expression on the journalist 's face .\": 'shame', 'The headmaster stood at the front of the class with Jim looking rather embarrassed and announced ,': 'shame', \"As a friend of Linde 's , I was rather embarrassed , however , when I was later sent his paper by a scientific journal and asked whether it was suitable for publication .\": 'shame', 'For a moment Rob looked rather embarrassed .': 'shame', 'When I did eventually tell her she was really embarrassed , and tried telling me that I was making it up !': 'shame', 'She was really embarrassed .': 'shame', 'When I came across it the other day , I was slightly embarrassed .': 'shame', '` Now you are mocking me , \" Vologsky murmured , with a slightly embarrassed smile .': 'shame', 'Eight out of 10 agreed it was OK for girls to carry condoms but half said they would be too embarrassed to buy them .': 'shame', 'It was less that I was too proud , more that I was too embarrassed .': 'shame', 'Doubtless in later years she would be glad of that , but for now she was too embarrassed to care .': 'shame', 'They were very polite , but also very embarrassed .': 'shame', \"The civil servants watched with barely concealed glee as the ruling party became embarrassed when the North Koreans demanded compensation not only for Japan 's colonial rule but also for all the years since .\": 'shame', 'You become embarrassed when people compliment you : ` Oh it was nothing really \" .': 'shame', 'As she gazed at it she became embarrassed .': 'shame', 'As Koons shows the photos to me during an interview in his Greenwich Village apartment , I feel embarrassed for him .': 'shame', 'Strip searching made me feel terrible -- I was dead embarrassed .': 'shame', \"And then my friends ' boyfriends , on an evening out , they used to just have a go at him , and I 'd feel really embarrassed .\": 'shame', \"Now she was getting increasingly embarrassed as Mattie sat waiting for O'Neill .\": 'shame', '` In every sense , of course , including the biblical , \" he added in a penetrating whisper clearly audible to his embarrassed family .': 'shame', 'They might have been in the private wing , put away by their guilty and embarrassed families .': 'shame', 'Milton took pity on his embarrassed friend .': 'shame', '` Oh , for God \\'s sake , \" Jack said with an embarrassed laugh .': 'shame', 'She gave an embarrassed smile and looked down at her hands .': 'shame', 'My father had been embarrassed when my mother or I had wept at the time of his leaving .': 'shame', 'I was quite embarrassed when we did it two years ago . \"': 'shame', 'He was embarrassed about the nature of his illness and reluctant to discuss his bowel function with anyone , especially young women .': 'shame', 'I was a bit embarrassed about that .': 'shame', \"But the council 's so embarrassed about that one that they 're just leaving them to put it right as quietly as they can .\": 'shame', \"I 'm embarrassed for Blade .\": 'shame', 'Several of the men , though none of the women , made embarrassed noises of dissent .': 'shame', '` I know what you mean , ma\\'am , \" said Rose gravely , enjoying himself immensely at the sight of Auguste \\'s embarrassed face .': 'shame', '` I was so embarrassed , \" said Dave , 38 .': 'shame', 'Jasper reddened and pressed his lip together , and Farraline looked embarrassed .': 'shame', 'Mum was so embarrassed !': 'shame', \"A lot of the time you just shoot because you 're caught up in something then you see it published and you 're a bit embarrassed because in your heart you know what it was .\": 'shame', 'Flt Lt Marshall was extremely embarrassed and always avoided my eye whenever he came into the Met Office after that .': 'shame', 'The bearers looked embarrassed and tried to get her to go .': 'shame', 'I have seen him as Grimes many times and never without a sense of embarrassment that this finely sensitive singer should have been asked to adopt a vicious role alien to him .': 'shame', 'His embarrassment about self-disclosure gives the impression , belied by his other books , that he knew nothing of the mystery that grace works by means of human weakness , not by side-stepping it .': 'shame', 'Many solicitors never overcome their own embarrassment about the amount that they charge , though few go on to lower their fees .': 'shame', '` It \\'s inconceivable , I agree , \" responded Howard , waving a well-manicured hand , his plump face pink with embarrassment at the directness of Newman .': 'shame', \"Jenna 's face flushed with embarrassment at the way the girl watched in amused surprise .\": 'shame', '\" What \\'s this , playing infant games still ? \" he demanded , and was gratified to see the flush of embarrassment in Tristram \\'s cheek .': 'shame', \"I could tell from the blank embarrassment in Tom 's expression that she had not acknowledged him .\": 'shame', 'If there is not quite an embarrassment of riches , there is enough to make the small investor blush at the choice .': 'shame', 'On this occasion , satygraha involved imprisonment of thousands of Indians , much to the embarrassment of the Union Government of South Africa .': 'shame', 'Such old people may have little embarrassment with each other about bodily functions , perhaps less than some husbands and wives because they were the stuff of taken-for-granted childhood .': 'shame', 'He grinned unrepentantly , watching her deep blush of embarrassment with apparent fascination .': 'shame', 'By resorting to a money-lender it became more difficult to conceal their embarrassment -- than if they had merely run up bills with retailers .': 'shame', \"The manager who seeks to increase the nurse 's embarrassment or difficulties is of little help .\": 'shame', 'Often she would say something foolish , immediately regret it , then , to cover her embarrassment , say something worse .': 'shame', '` You \\'ll not be alone with him , Maggie , he \\'s got a sister , and in any case Mitch will be there , \" Richie muttered , red with embarrassment .': 'shame', 'Caswell shuffled in obvious embarrassment .': 'shame', '` She \\'s just dying of embarrassment . \"': 'shame', 'We finally realised that we could avoid even that embarrassment by giving ourselves breathing space .': 'shame', 'They will always try to avoid any embarrassment , but will use their judgement on whether or not to make payment .': 'shame', 'One episode ends with the proud man broken , humiliated and in tears .': 'shame', 'Modigliani felt the pain of these visits more than any of them , and was horrified to see his old friend in dingy and sinister surroundings , humiliated and frightened .': 'shame', '` When Liz came back there was raucous laughter and she felt humiliated . \"': 'shame', 'He gets real humiliated and has to leave .': 'shame', 'They aimed for higher status jobs and felt humiliated when they were unemployed .': 'shame', 'He cursed his lack of self-control ; he knew that the old biddies had seen it and he felt humiliated .': 'shame', \"Sometimes I've thought I 'll never forget what happened  it all comes back and I feel guilty , or  or dirty , or humiliated and bitter\": 'shame', 'GRAHAM TAYLOR will defy the fury of a humiliated nation and risk his entire reputation on an England miracle in the next five months .': 'shame'}\n"
          ],
          "name": "stdout"
        }
      ]
    },
    {
      "cell_type": "markdown",
      "metadata": {
        "id": "uABjUPrRRhYP"
      },
      "source": [
        "Data Transformation into Dataframe"
      ]
    },
    {
      "cell_type": "code",
      "metadata": {
        "id": "_QytgzxHPUnl"
      },
      "source": [
        "data_frame = DataFrame(data.items(), columns=['Sentence', 'Emotion'])"
      ],
      "execution_count": null,
      "outputs": []
    },
    {
      "cell_type": "code",
      "metadata": {
        "colab": {
          "base_uri": "https://localhost:8080/",
          "height": 194
        },
        "id": "Vb_EvnmJP5Ze",
        "outputId": "32887cae-b89b-4a03-ed38-d9aa85d80eca"
      },
      "source": [
        "data_frame.head()"
      ],
      "execution_count": null,
      "outputs": [
        {
          "output_type": "execute_result",
          "data": {
            "text/html": [
              "<div>\n",
              "<style scoped>\n",
              "    .dataframe tbody tr th:only-of-type {\n",
              "        vertical-align: middle;\n",
              "    }\n",
              "\n",
              "    .dataframe tbody tr th {\n",
              "        vertical-align: top;\n",
              "    }\n",
              "\n",
              "    .dataframe thead th {\n",
              "        text-align: right;\n",
              "    }\n",
              "</style>\n",
              "<table border=\"1\" class=\"dataframe\">\n",
              "  <thead>\n",
              "    <tr style=\"text-align: right;\">\n",
              "      <th></th>\n",
              "      <th>Sentence</th>\n",
              "      <th>Emotion</th>\n",
              "    </tr>\n",
              "  </thead>\n",
              "  <tbody>\n",
              "    <tr>\n",
              "      <th>0</th>\n",
              "      <td>This did the trick : the boys now have a more ...</td>\n",
              "      <td>happy</td>\n",
              "    </tr>\n",
              "    <tr>\n",
              "      <th>1</th>\n",
              "      <td>When Anna left Inspector Aziz , she was much h...</td>\n",
              "      <td>happy</td>\n",
              "    </tr>\n",
              "    <tr>\n",
              "      <th>2</th>\n",
              "      <td>And though , as Lachlan had planned , they had...</td>\n",
              "      <td>happy</td>\n",
              "    </tr>\n",
              "    <tr>\n",
              "      <th>3</th>\n",
              "      <td>Honestly , I 'm really happy for you !</td>\n",
              "      <td>happy</td>\n",
              "    </tr>\n",
              "    <tr>\n",
              "      <th>4</th>\n",
              "      <td>Lesley was totally happy about it .</td>\n",
              "      <td>happy</td>\n",
              "    </tr>\n",
              "  </tbody>\n",
              "</table>\n",
              "</div>"
            ],
            "text/plain": [
              "                                            Sentence Emotion\n",
              "0  This did the trick : the boys now have a more ...   happy\n",
              "1  When Anna left Inspector Aziz , she was much h...   happy\n",
              "2  And though , as Lachlan had planned , they had...   happy\n",
              "3             Honestly , I 'm really happy for you !   happy\n",
              "4                Lesley was totally happy about it .   happy"
            ]
          },
          "metadata": {
            "tags": []
          },
          "execution_count": 7
        }
      ]
    },
    {
      "cell_type": "markdown",
      "metadata": {
        "id": "aMjS3L7NRtGj"
      },
      "source": [
        "Subjectivity Score Retrieval Function Declaration"
      ]
    },
    {
      "cell_type": "code",
      "metadata": {
        "id": "zwnQAmojX34v"
      },
      "source": [
        "def getScore(data):\n",
        "  return TextBlob(data).sentiment.subjectivity"
      ],
      "execution_count": null,
      "outputs": []
    },
    {
      "cell_type": "code",
      "metadata": {
        "id": "iKxyPg_kAx_y"
      },
      "source": [
        "data_frame[\"Subj_Score\"] = data_frame[\"Sentence\"].apply(getScore)"
      ],
      "execution_count": null,
      "outputs": []
    },
    {
      "cell_type": "code",
      "metadata": {
        "colab": {
          "base_uri": "https://localhost:8080/",
          "height": 194
        },
        "id": "Si2GM-aOByGM",
        "outputId": "5718169b-93e2-4f76-88be-29aac00ac764"
      },
      "source": [
        "data_frame.tail()"
      ],
      "execution_count": null,
      "outputs": [
        {
          "output_type": "execute_result",
          "data": {
            "text/html": [
              "<div>\n",
              "<style scoped>\n",
              "    .dataframe tbody tr th:only-of-type {\n",
              "        vertical-align: middle;\n",
              "    }\n",
              "\n",
              "    .dataframe tbody tr th {\n",
              "        vertical-align: top;\n",
              "    }\n",
              "\n",
              "    .dataframe thead th {\n",
              "        text-align: right;\n",
              "    }\n",
              "</style>\n",
              "<table border=\"1\" class=\"dataframe\">\n",
              "  <thead>\n",
              "    <tr style=\"text-align: right;\">\n",
              "      <th></th>\n",
              "      <th>Sentence</th>\n",
              "      <th>Emotion</th>\n",
              "      <th>Subj_Score</th>\n",
              "    </tr>\n",
              "  </thead>\n",
              "  <tbody>\n",
              "    <tr>\n",
              "      <th>1584</th>\n",
              "      <td>He gets real humiliated and has to leave .</td>\n",
              "      <td>shame</td>\n",
              "      <td>0.3000</td>\n",
              "    </tr>\n",
              "    <tr>\n",
              "      <th>1585</th>\n",
              "      <td>They aimed for higher status jobs and felt hum...</td>\n",
              "      <td>shame</td>\n",
              "      <td>0.5000</td>\n",
              "    </tr>\n",
              "    <tr>\n",
              "      <th>1586</th>\n",
              "      <td>He cursed his lack of self-control ; he knew t...</td>\n",
              "      <td>shame</td>\n",
              "      <td>0.2000</td>\n",
              "    </tr>\n",
              "    <tr>\n",
              "      <th>1587</th>\n",
              "      <td>Sometimes I've thought I 'll never forget what...</td>\n",
              "      <td>shame</td>\n",
              "      <td>0.5750</td>\n",
              "    </tr>\n",
              "    <tr>\n",
              "      <th>1588</th>\n",
              "      <td>GRAHAM TAYLOR will defy the fury of a humiliat...</td>\n",
              "      <td>shame</td>\n",
              "      <td>0.3125</td>\n",
              "    </tr>\n",
              "  </tbody>\n",
              "</table>\n",
              "</div>"
            ],
            "text/plain": [
              "                                               Sentence Emotion  Subj_Score\n",
              "1584         He gets real humiliated and has to leave .   shame      0.3000\n",
              "1585  They aimed for higher status jobs and felt hum...   shame      0.5000\n",
              "1586  He cursed his lack of self-control ; he knew t...   shame      0.2000\n",
              "1587  Sometimes I've thought I 'll never forget what...   shame      0.5750\n",
              "1588  GRAHAM TAYLOR will defy the fury of a humiliat...   shame      0.3125"
            ]
          },
          "metadata": {
            "tags": []
          },
          "execution_count": 10
        }
      ]
    },
    {
      "cell_type": "code",
      "metadata": {
        "colab": {
          "base_uri": "https://localhost:8080/"
        },
        "id": "T0xanzZOD6ez",
        "outputId": "e57608c1-7f92-4e3a-b130-7c0d0db87400"
      },
      "source": [
        "print(data_frame[\"Emotion\"].value_counts())"
      ],
      "execution_count": null,
      "outputs": [
        {
          "output_type": "stream",
          "text": [
            "sad         467\n",
            "anger       283\n",
            "fear        278\n",
            "happy       268\n",
            "surprise    160\n",
            "shame        76\n",
            "disgust      57\n",
            "Name: Emotion, dtype: int64\n"
          ],
          "name": "stdout"
        }
      ]
    },
    {
      "cell_type": "markdown",
      "metadata": {
        "id": "Czdd_YUIRm55"
      },
      "source": [
        "Outlier Analysis"
      ]
    },
    {
      "cell_type": "code",
      "metadata": {
        "colab": {
          "base_uri": "https://localhost:8080/",
          "height": 298
        },
        "id": "n6Opr7e9x7Nd",
        "outputId": "dee687fa-65d6-45fc-feb0-3c64a6a2dd63"
      },
      "source": [
        "import seaborn as sns\n",
        "sns.boxplot(x=data_frame['Subj_Score'])"
      ],
      "execution_count": null,
      "outputs": [
        {
          "output_type": "execute_result",
          "data": {
            "text/plain": [
              "<matplotlib.axes._subplots.AxesSubplot at 0x7f605c496850>"
            ]
          },
          "metadata": {
            "tags": []
          },
          "execution_count": 12
        },
        {
          "output_type": "display_data",
          "data": {
            "image/png": "[encoded data removed]",
            "text/plain": [
              "<Figure size 432x288 with 1 Axes>"
            ]
          },
          "metadata": {
            "tags": [],
            "needs_background": "light"
          }
        }
      ]
    },
    {
      "cell_type": "markdown",
      "metadata": {
        "id": "SScW8jZLRqpQ"
      },
      "source": [
        "Balanced/Imbalanced Data check on Subjectivity Score Bins"
      ]
    },
    {
      "cell_type": "code",
      "metadata": {
        "colab": {
          "base_uri": "https://localhost:8080/",
          "height": 426
        },
        "id": "jGgHJM0dyASq",
        "outputId": "2512764c-7b2e-4eb5-8fee-aa17dd56d524"
      },
      "source": [
        "data_frame.hist(column=['Subj_Score'],bins=4, figsize=(8,6))"
      ],
      "execution_count": null,
      "outputs": [
        {
          "output_type": "execute_result",
          "data": {
            "text/plain": [
              "array([[<matplotlib.axes._subplots.AxesSubplot object at 0x7f605c53d110>]],\n",
              "      dtype=object)"
            ]
          },
          "metadata": {
            "tags": []
          },
          "execution_count": 13
        },
        {
          "output_type": "display_data",
          "data": {
            "image/png": "[encoded data removed]",
            "text/plain": [
              "<Figure size 576x432 with 1 Axes>"
            ]
          },
          "metadata": {
            "tags": [],
            "needs_background": "light"
          }
        }
      ]
    },
    {
      "cell_type": "markdown",
      "metadata": {
        "id": "p3waM1qfRvDo"
      },
      "source": [
        "Balancing the Imbalanced Data of Subjectivity Score Bins"
      ]
    },
    {
      "cell_type": "code",
      "metadata": {
        "colab": {
          "base_uri": "https://localhost:8080/",
          "height": 426
        },
        "id": "b70MzW6TyYjK",
        "outputId": "81c5a9d8-d7b6-4f03-ec55-331b0ec70cde"
      },
      "source": [
        "count = 1\n",
        "columns = ['Sentence','Emotion', 'Subj_Score']\n",
        "zero_df = None\n",
        "zero_df = pd.DataFrame(columns=columns)\n",
        "\n",
        "for index, row in data_frame.iterrows():\n",
        "  if(row['Subj_Score']==0.0 and count<=270):\n",
        "    #print(\"entered\")\n",
        "    zero_df.loc[data_frame.index[index]] = data_frame.iloc[index]\n",
        "    count+=1\n",
        "\n",
        "cond = data_frame['Sentence'].isin(zero_df['Sentence'])\n",
        "data_frame.drop(data_frame[cond].index, inplace = True)\n",
        "data_frame.hist(column=['Subj_Score'],bins=4, figsize=(8,6))"
      ],
      "execution_count": null,
      "outputs": [
        {
          "output_type": "execute_result",
          "data": {
            "text/plain": [
              "array([[<matplotlib.axes._subplots.AxesSubplot object at 0x7f605c4d6ad0>]],\n",
              "      dtype=object)"
            ]
          },
          "metadata": {
            "tags": []
          },
          "execution_count": 14
        },
        {
          "output_type": "display_data",
          "data": {
            "image/png": "[encoded data removed]",
            "text/plain": [
              "<Figure size 576x432 with 1 Axes>"
            ]
          },
          "metadata": {
            "tags": [],
            "needs_background": "light"
          }
        }
      ]
    },
    {
      "cell_type": "code",
      "metadata": {
        "colab": {
          "base_uri": "https://localhost:8080/",
          "height": 194
        },
        "id": "it7hGQNiyjgX",
        "outputId": "6d4b1bae-51d8-4653-8d84-623719c2be4a"
      },
      "source": [
        "data_frame = data_frame.sample(frac=1).reset_index(drop=True)\n",
        "data_frame.head()"
      ],
      "execution_count": null,
      "outputs": [
        {
          "output_type": "execute_result",
          "data": {
            "text/html": [
              "<div>\n",
              "<style scoped>\n",
              "    .dataframe tbody tr th:only-of-type {\n",
              "        vertical-align: middle;\n",
              "    }\n",
              "\n",
              "    .dataframe tbody tr th {\n",
              "        vertical-align: top;\n",
              "    }\n",
              "\n",
              "    .dataframe thead th {\n",
              "        text-align: right;\n",
              "    }\n",
              "</style>\n",
              "<table border=\"1\" class=\"dataframe\">\n",
              "  <thead>\n",
              "    <tr style=\"text-align: right;\">\n",
              "      <th></th>\n",
              "      <th>Sentence</th>\n",
              "      <th>Emotion</th>\n",
              "      <th>Subj_Score</th>\n",
              "    </tr>\n",
              "  </thead>\n",
              "  <tbody>\n",
              "    <tr>\n",
              "      <th>0</th>\n",
              "      <td>There was anger in Jacob 's voice and stance a...</td>\n",
              "      <td>anger</td>\n",
              "      <td>0.200000</td>\n",
              "    </tr>\n",
              "    <tr>\n",
              "      <th>1</th>\n",
              "      <td>He shows his annoyance with some intimidating ...</td>\n",
              "      <td>anger</td>\n",
              "      <td>0.183333</td>\n",
              "    </tr>\n",
              "    <tr>\n",
              "      <th>2</th>\n",
              "      <td>He looked most disconsolate .</td>\n",
              "      <td>sad</td>\n",
              "      <td>0.500000</td>\n",
              "    </tr>\n",
              "    <tr>\n",
              "      <th>3</th>\n",
              "      <td>Lissa gazed up at him , at his vexed expressio...</td>\n",
              "      <td>anger</td>\n",
              "      <td>0.100000</td>\n",
              "    </tr>\n",
              "    <tr>\n",
              "      <th>4</th>\n",
              "      <td>I heard no more of the debate and to the aston...</td>\n",
              "      <td>surprise</td>\n",
              "      <td>0.500000</td>\n",
              "    </tr>\n",
              "  </tbody>\n",
              "</table>\n",
              "</div>"
            ],
            "text/plain": [
              "                                            Sentence   Emotion  Subj_Score\n",
              "0  There was anger in Jacob 's voice and stance a...     anger    0.200000\n",
              "1  He shows his annoyance with some intimidating ...     anger    0.183333\n",
              "2                      He looked most disconsolate .       sad    0.500000\n",
              "3  Lissa gazed up at him , at his vexed expressio...     anger    0.100000\n",
              "4  I heard no more of the debate and to the aston...  surprise    0.500000"
            ]
          },
          "metadata": {
            "tags": []
          },
          "execution_count": 15
        }
      ]
    },
    {
      "cell_type": "code",
      "metadata": {
        "colab": {
          "base_uri": "https://localhost:8080/",
          "height": 194
        },
        "id": "EhpQjv5896fT",
        "outputId": "d7d4a4e5-9697-45aa-c4a1-90e8c4031fa1"
      },
      "source": [
        "zero_df.head()"
      ],
      "execution_count": null,
      "outputs": [
        {
          "output_type": "execute_result",
          "data": {
            "text/html": [
              "<div>\n",
              "<style scoped>\n",
              "    .dataframe tbody tr th:only-of-type {\n",
              "        vertical-align: middle;\n",
              "    }\n",
              "\n",
              "    .dataframe tbody tr th {\n",
              "        vertical-align: top;\n",
              "    }\n",
              "\n",
              "    .dataframe thead th {\n",
              "        text-align: right;\n",
              "    }\n",
              "</style>\n",
              "<table border=\"1\" class=\"dataframe\">\n",
              "  <thead>\n",
              "    <tr style=\"text-align: right;\">\n",
              "      <th></th>\n",
              "      <th>Sentence</th>\n",
              "      <th>Emotion</th>\n",
              "      <th>Subj_Score</th>\n",
              "    </tr>\n",
              "  </thead>\n",
              "  <tbody>\n",
              "    <tr>\n",
              "      <th>31</th>\n",
              "      <td>From a starving stray it was transformed into ...</td>\n",
              "      <td>happy</td>\n",
              "      <td>0.0</td>\n",
              "    </tr>\n",
              "    <tr>\n",
              "      <th>46</th>\n",
              "      <td>Afterwards , Mr Booth showed his delight by di...</td>\n",
              "      <td>happy</td>\n",
              "      <td>0.0</td>\n",
              "    </tr>\n",
              "    <tr>\n",
              "      <th>47</th>\n",
              "      <td>When the marchers passed the city 's overhead ...</td>\n",
              "      <td>happy</td>\n",
              "      <td>0.0</td>\n",
              "    </tr>\n",
              "    <tr>\n",
              "      <th>66</th>\n",
              "      <td>But some of the younger dons were ecstatic abo...</td>\n",
              "      <td>happy</td>\n",
              "      <td>0.0</td>\n",
              "    </tr>\n",
              "    <tr>\n",
              "      <th>68</th>\n",
              "      <td>When she was ecstatic , and she was often ecst...</td>\n",
              "      <td>happy</td>\n",
              "      <td>0.0</td>\n",
              "    </tr>\n",
              "  </tbody>\n",
              "</table>\n",
              "</div>"
            ],
            "text/plain": [
              "                                             Sentence Emotion  Subj_Score\n",
              "31  From a starving stray it was transformed into ...   happy         0.0\n",
              "46  Afterwards , Mr Booth showed his delight by di...   happy         0.0\n",
              "47  When the marchers passed the city 's overhead ...   happy         0.0\n",
              "66  But some of the younger dons were ecstatic abo...   happy         0.0\n",
              "68  When she was ecstatic , and she was often ecst...   happy         0.0"
            ]
          },
          "metadata": {
            "tags": []
          },
          "execution_count": 28
        }
      ]
    },
    {
      "cell_type": "code",
      "metadata": {
        "id": "PjqPP4wyAvkg"
      },
      "source": [
        "data_frame = data_frame.reset_index(drop=True)\n",
        "zero_df = zero_df.reset_index(drop=True)\n"
      ],
      "execution_count": null,
      "outputs": []
    },
    {
      "cell_type": "markdown",
      "metadata": {
        "id": "Xp2tPfIIR2QM"
      },
      "source": [
        "Balacnced/Imbalanced Data Analysis"
      ]
    },
    {
      "cell_type": "code",
      "metadata": {
        "colab": {
          "base_uri": "https://localhost:8080/",
          "height": 285
        },
        "id": "j6BrXMzNQl1_",
        "outputId": "1ea18f87-1000-4a7b-88c5-b9b946a9175c"
      },
      "source": [
        "import seaborn as sns\n",
        "sns.set_theme(style=\"darkgrid\")\n",
        "ax = sns.countplot(x=\"Emotion\", data=data_frame)"
      ],
      "execution_count": null,
      "outputs": [
        {
          "output_type": "display_data",
          "data": {
            "image/png": "[encoded data removed]",
            "text/plain": [
              "<Figure size 432x288 with 1 Axes>"
            ]
          },
          "metadata": {
            "tags": []
          }
        }
      ]
    },
    {
      "cell_type": "markdown",
      "metadata": {
        "id": "XYJ-dZ18YP34"
      },
      "source": [
        "Missing Values Analysis"
      ]
    },
    {
      "cell_type": "code",
      "metadata": {
        "colab": {
          "base_uri": "https://localhost:8080/"
        },
        "id": "TyXwQvVbXo65",
        "outputId": "0fdb39fc-c255-4e98-fe7b-4ddda2a199d5"
      },
      "source": [
        "data_frame.isnull().values.any()"
      ],
      "execution_count": null,
      "outputs": [
        {
          "output_type": "execute_result",
          "data": {
            "text/plain": [
              "False"
            ]
          },
          "metadata": {
            "tags": []
          },
          "execution_count": 33
        }
      ]
    },
    {
      "cell_type": "code",
      "metadata": {
        "colab": {
          "base_uri": "https://localhost:8080/",
          "height": 291
        },
        "id": "K9ISlytOXR4C",
        "outputId": "ca2a252c-ab44-462f-f417-abc076302f74"
      },
      "source": [
        "sns.heatmap(data_frame.isnull(), cbar=False)"
      ],
      "execution_count": null,
      "outputs": [
        {
          "output_type": "execute_result",
          "data": {
            "text/plain": [
              "<matplotlib.axes._subplots.AxesSubplot at 0x7f604ff9bc10>"
            ]
          },
          "metadata": {
            "tags": []
          },
          "execution_count": 34
        },
        {
          "output_type": "display_data",
          "data": {
            "image/png": "[encoded data removed]",
            "text/plain": [
              "<Figure size 432x288 with 1 Axes>"
            ]
          },
          "metadata": {
            "tags": []
          }
        }
      ]
    },
    {
      "cell_type": "code",
      "metadata": {
        "colab": {
          "base_uri": "https://localhost:8080/"
        },
        "id": "uVdM0BuUNzPz",
        "outputId": "2602448b-b604-4925-e24d-b3c233db3886"
      },
      "source": [
        "len(data_frame)"
      ],
      "execution_count": null,
      "outputs": [
        {
          "output_type": "execute_result",
          "data": {
            "text/plain": [
              "1319"
            ]
          },
          "metadata": {
            "tags": []
          },
          "execution_count": 35
        }
      ]
    },
    {
      "cell_type": "code",
      "metadata": {
        "colab": {
          "base_uri": "https://localhost:8080/",
          "height": 194
        },
        "id": "utRA8J0U4MgJ",
        "outputId": "1b584345-f58e-47ca-8ebc-ea9b983fbeec"
      },
      "source": [
        "data_frame.head()"
      ],
      "execution_count": null,
      "outputs": [
        {
          "output_type": "execute_result",
          "data": {
            "text/html": [
              "<div>\n",
              "<style scoped>\n",
              "    .dataframe tbody tr th:only-of-type {\n",
              "        vertical-align: middle;\n",
              "    }\n",
              "\n",
              "    .dataframe tbody tr th {\n",
              "        vertical-align: top;\n",
              "    }\n",
              "\n",
              "    .dataframe thead th {\n",
              "        text-align: right;\n",
              "    }\n",
              "</style>\n",
              "<table border=\"1\" class=\"dataframe\">\n",
              "  <thead>\n",
              "    <tr style=\"text-align: right;\">\n",
              "      <th></th>\n",
              "      <th>Sentence</th>\n",
              "      <th>Emotion</th>\n",
              "      <th>Subj_Score</th>\n",
              "    </tr>\n",
              "  </thead>\n",
              "  <tbody>\n",
              "    <tr>\n",
              "      <th>0</th>\n",
              "      <td>There may be cases where there is parliamentar...</td>\n",
              "      <td>2</td>\n",
              "      <td>0.00</td>\n",
              "    </tr>\n",
              "    <tr>\n",
              "      <th>1</th>\n",
              "      <td>` Those poor little girls must be frightened o...</td>\n",
              "      <td>2</td>\n",
              "      <td>0.55</td>\n",
              "    </tr>\n",
              "    <tr>\n",
              "      <th>2</th>\n",
              "      <td>I wanted to express my fear and my horror .</td>\n",
              "      <td>2</td>\n",
              "      <td>0.00</td>\n",
              "    </tr>\n",
              "    <tr>\n",
              "      <th>3</th>\n",
              "      <td>As he nodded she went on , ` I 'd had a bit of...</td>\n",
              "      <td>4</td>\n",
              "      <td>1.00</td>\n",
              "    </tr>\n",
              "    <tr>\n",
              "      <th>4</th>\n",
              "      <td>If there is not quite an embarrassment of rich...</td>\n",
              "      <td>5</td>\n",
              "      <td>0.45</td>\n",
              "    </tr>\n",
              "  </tbody>\n",
              "</table>\n",
              "</div>"
            ],
            "text/plain": [
              "                                            Sentence  Emotion  Subj_Score\n",
              "0  There may be cases where there is parliamentar...        2        0.00\n",
              "1  ` Those poor little girls must be frightened o...        2        0.55\n",
              "2        I wanted to express my fear and my horror .        2        0.00\n",
              "3  As he nodded she went on , ` I 'd had a bit of...        4        1.00\n",
              "4  If there is not quite an embarrassment of rich...        5        0.45"
            ]
          },
          "metadata": {
            "tags": []
          },
          "execution_count": 36
        }
      ]
    },
    {
      "cell_type": "code",
      "metadata": {
        "id": "S8vsCCeq5FCw"
      },
      "source": [
        "data_frame = data_frame.sample(frac=1).reset_index(drop=True)"
      ],
      "execution_count": null,
      "outputs": []
    },
    {
      "cell_type": "code",
      "metadata": {
        "colab": {
          "base_uri": "https://localhost:8080/"
        },
        "id": "BX2ww8Yb4wuy",
        "outputId": "327a18c6-64c6-42e0-f578-bd474ecb4d7c"
      },
      "source": [
        "print(X.shape)"
      ],
      "execution_count": null,
      "outputs": [
        {
          "output_type": "stream",
          "text": [
            "(1319, 1589)\n"
          ],
          "name": "stdout"
        }
      ]
    },
    {
      "cell_type": "code",
      "metadata": {
        "colab": {
          "base_uri": "https://localhost:8080/"
        },
        "id": "2eAhLtiI40gc",
        "outputId": "f4f9e6cf-e100-48ce-a330-35f38e674b97"
      },
      "source": [
        "print(vector.shape)"
      ],
      "execution_count": null,
      "outputs": [
        {
          "output_type": "stream",
          "text": [
            "(1319, 1589)\n"
          ],
          "name": "stdout"
        }
      ]
    },
    {
      "cell_type": "markdown",
      "metadata": {
        "id": "1bJvQOKd7KBO"
      },
      "source": [
        "Data Cleaning"
      ]
    },
    {
      "cell_type": "code",
      "metadata": {
        "id": "RGiA815Q63bR"
      },
      "source": [
        "\n",
        "req_sentences_list = []\n",
        "for i in range(0, len(data_frame)):\n",
        "    substituted_sentence = re.sub('[^a-zA-Z]', ' ', data_frame['Sentence'][i])\n",
        "    # Take the lower case alphabets of every sentence\n",
        "    lower_cased_sentence = substituted_sentence.lower()\n",
        "\n",
        "    # Split every word in the sentence\n",
        "    splitted_sentence = lower_cased_sentence.split()\n",
        "\n",
        "    # Stem every word to its root word\n",
        "    ps = PorterStemmer()\n",
        "    stemmed_sentence = [ps.stem(each_word) for each_word in splitted_sentence if not each_word in set(stopwords.words('english'))]\n",
        "\n",
        "    # Join the divided words\n",
        "    cleaned_sentence = ' '.join(stemmed_sentence)\n",
        "\n",
        "    # Append the cleaned sentence to the list\n",
        "    req_sentences_list.append(cleaned_sentence)"
      ],
      "execution_count": null,
      "outputs": []
    },
    {
      "cell_type": "markdown",
      "metadata": {
        "id": "cYTx5lQo7XlL"
      },
      "source": [
        "Label Encoding the Emotion Labels"
      ]
    },
    {
      "cell_type": "code",
      "metadata": {
        "id": "rxkxMs4c6_SX"
      },
      "source": [
        "from sklearn.preprocessing import LabelEncoder\n",
        "le = LabelEncoder()\n",
        "data_frame['Emotion'] = le.fit_transform(data_frame['Emotion'])"
      ],
      "execution_count": null,
      "outputs": []
    },
    {
      "cell_type": "markdown",
      "metadata": {
        "id": "FiOFockv7ljm"
      },
      "source": [
        "Transforming the Sentences into Features(By taking the 1589 words)"
      ]
    },
    {
      "cell_type": "code",
      "metadata": {
        "id": "kODUpBM67jAw"
      },
      "source": [
        "feature_count_calc = CountVectorizer(max_features = 1589)\n",
        "feature_count_calc.fit(req_sentences_list)\n",
        "X = feature_count_calc.transform(req_sentences_list).toarray()\n",
        "y = data_frame.iloc[:, 2].values"
      ],
      "execution_count": null,
      "outputs": []
    },
    {
      "cell_type": "markdown",
      "metadata": {
        "id": "fT-CzZb98G1M"
      },
      "source": [
        "Scaling all the features into single scale"
      ]
    },
    {
      "cell_type": "code",
      "metadata": {
        "id": "pX9egAZr8Fuv"
      },
      "source": [
        "from sklearn.preprocessing import StandardScaler\n",
        "sc_X = StandardScaler()\n",
        "X = sc_X.fit_transform(X)"
      ],
      "execution_count": null,
      "outputs": []
    },
    {
      "cell_type": "markdown",
      "metadata": {
        "id": "_09EQEtK8X0u"
      },
      "source": [
        "Split the dataset into Training and Testing sets"
      ]
    },
    {
      "cell_type": "code",
      "metadata": {
        "id": "DKHbnBNA8W1I"
      },
      "source": [
        "from sklearn.model_selection import train_test_split\n",
        "X_train, X_test, y_train, y_test = train_test_split(X, y, test_size = 0.15, random_state = 0)"
      ],
      "execution_count": null,
      "outputs": []
    },
    {
      "cell_type": "markdown",
      "metadata": {
        "id": "FTfPrqL48q5z"
      },
      "source": [
        "Fitting the Linear Regression algorithm to Training Set"
      ]
    },
    {
      "cell_type": "code",
      "metadata": {
        "colab": {
          "base_uri": "https://localhost:8080/"
        },
        "id": "ts6bQztf8mVY",
        "outputId": "d3b587ad-625f-461f-d5d7-988d28c47693"
      },
      "source": [
        "from sklearn.linear_model import LinearRegression\n",
        "regressor = LinearRegression()\n",
        "regressor.fit(X_train, y_train)"
      ],
      "execution_count": null,
      "outputs": [
        {
          "output_type": "execute_result",
          "data": {
            "text/plain": [
              "LinearRegression(copy_X=True, fit_intercept=True, n_jobs=None, normalize=False)"
            ]
          },
          "metadata": {
            "tags": []
          },
          "execution_count": 43
        }
      ]
    },
    {
      "cell_type": "markdown",
      "metadata": {
        "id": "eXh8mLVK87zz"
      },
      "source": [
        "Appending the additional removed records from the initial dataset in the test set"
      ]
    },
    {
      "cell_type": "code",
      "metadata": {
        "id": "bOapGRlb84KS"
      },
      "source": [
        "req_sentences_list = []\n",
        "for i in range(0, len(zero_df)):\n",
        "    substituted_sentence_2 = re.sub('[^a-zA-Z]', ' ', zero_df['Sentence'][i])\n",
        "    # Take the lower case alphabets of every sentence\n",
        "    lower_cased_sentence_2 = substituted_sentence_2.lower()\n",
        "\n",
        "    # Split every word in the sentence\n",
        "    splitted_sentence_2 = lower_cased_sentence_2.split()\n",
        "\n",
        "    # Stem every word to its root word\n",
        "    ps = PorterStemmer()\n",
        "    stemmed_sentence_2 = [ps.stem(each_word) for each_word in splitted_sentence_2 if not each_word in set(stopwords.words('english'))]\n",
        "\n",
        "    # Join the divided words\n",
        "    cleaned_sentence_2 = ' '.join(stemmed_sentence_2)\n",
        "\n",
        "    # Append the cleaned sentence to the list\n",
        "    req_sentences_list.append(cleaned_sentence_2)\n",
        "\n",
        "additional_x_test = feature_count_calc.transform(req_sentences_list).toarray()\n",
        "additional_y_test = zero_df.iloc[:, 2].values\n",
        "\n",
        "scaled_additional_x_test = sc_X.transform(additional_x_test)"
      ],
      "execution_count": null,
      "outputs": []
    },
    {
      "cell_type": "code",
      "metadata": {
        "id": "g-9gXb_2CJym"
      },
      "source": [
        "X_test = np.concatenate((X_test, additional_x_test))\n",
        "y_test = np.concatenate((y_test, additional_y_test))"
      ],
      "execution_count": null,
      "outputs": []
    },
    {
      "cell_type": "markdown",
      "metadata": {
        "id": "fUGe9vG4DX2v"
      },
      "source": [
        "Prediction of Testset Results"
      ]
    },
    {
      "cell_type": "code",
      "metadata": {
        "id": "kglJ9sJCDVij"
      },
      "source": [
        "y_pred = regressor.predict(X_test)"
      ],
      "execution_count": null,
      "outputs": []
    },
    {
      "cell_type": "markdown",
      "metadata": {
        "id": "T0tKxFk-7r_J"
      },
      "source": [
        "Mean Squared Error"
      ]
    },
    {
      "cell_type": "code",
      "metadata": {
        "colab": {
          "base_uri": "https://localhost:8080/"
        },
        "id": "T9FgisV97qhe",
        "outputId": "58f950e4-5627-444e-9dec-11fa5ba460b8"
      },
      "source": [
        "from sklearn.metrics import mean_squared_error\n",
        "\n",
        "mse = mean_squared_error(y_test, y_pred)\n",
        "\n",
        "print(mse)"
      ],
      "execution_count": null,
      "outputs": [
        {
          "output_type": "stream",
          "text": [
            "0.35204398173049056\n"
          ],
          "name": "stdout"
        }
      ]
    },
    {
      "cell_type": "markdown",
      "metadata": {
        "id": "_1qCyUVhJi2u"
      },
      "source": [
        "Mean Absolute Error"
      ]
    },
    {
      "cell_type": "code",
      "metadata": {
        "colab": {
          "base_uri": "https://localhost:8080/"
        },
        "id": "Fn3611moJXIv",
        "outputId": "f6f6f314-06f1-4ba4-adff-ca15d9f5e9e0"
      },
      "source": [
        "from sklearn.metrics import mean_absolute_error\n",
        "\n",
        "mean_absolute_error(y_test, y_pred)"
      ],
      "execution_count": null,
      "outputs": [
        {
          "output_type": "execute_result",
          "data": {
            "text/plain": [
              "0.5097390523219896"
            ]
          },
          "metadata": {
            "tags": []
          },
          "execution_count": 59
        }
      ]
    },
    {
      "cell_type": "markdown",
      "metadata": {
        "id": "IpnH-iXKJmQU"
      },
      "source": [
        "RMSE"
      ]
    },
    {
      "cell_type": "code",
      "metadata": {
        "colab": {
          "base_uri": "https://localhost:8080/"
        },
        "id": "sWFtGAl4JhpT",
        "outputId": "70d571d9-5852-4bfe-8a11-e97fc9b5065f"
      },
      "source": [
        "import math\n",
        "\n",
        "root_mean_squared_error = math.sqrt(mse)\n",
        "print(root_mean_squared_error)"
      ],
      "execution_count": null,
      "outputs": [
        {
          "output_type": "stream",
          "text": [
            "0.593332943405716\n"
          ],
          "name": "stdout"
        }
      ]
    },
    {
      "cell_type": "markdown",
      "metadata": {
        "id": "arfoveY6HyqN"
      },
      "source": [
        "References:\n",
        "\n",
        "1.  Edward Loper and Steven Bird. “NLTK: The Natural Language Toolkit”. In:CoRRcs.CL/0205028(2002).url:http://dblp.uni- trier.de/db/journals/corr/corr0205.html#cs- CL-0205028\n",
        "\n",
        "2. Guido Van Rossum and Fred L. Drake.Python 3 Reference Manual. Scotts Valley, CA: CreateS-pace, 2009.isbn: 1441412697.\n",
        "\n",
        "3.  F. Pedregosa et al. “Scikit-learn: Machine Learning in Python”. In:Journal of Machine LearningResearch12 (2011), pp. 2825–2830.\n",
        "\n",
        "4. Conversion of Input into Word Features - https://github.com/narrasriram/data_science/blob/master/machine_learning/natural%20language%20processing/sentiment%20classification/natural_language_processing.py"
      ]
    }
  ]
}