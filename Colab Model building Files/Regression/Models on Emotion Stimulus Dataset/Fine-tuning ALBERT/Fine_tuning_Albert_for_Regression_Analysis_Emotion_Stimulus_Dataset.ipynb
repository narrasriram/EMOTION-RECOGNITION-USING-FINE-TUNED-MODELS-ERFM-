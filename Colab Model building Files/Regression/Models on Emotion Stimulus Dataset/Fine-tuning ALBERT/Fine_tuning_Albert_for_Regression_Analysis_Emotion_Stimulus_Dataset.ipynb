{
  "nbformat": 4,
  "nbformat_minor": 0,
  "metadata": {
    "kernelspec": {
      "display_name": "Python 3",
      "language": "python",
      "name": "python3"
    },
    "language_info": {
      "codemirror_mode": {
        "name": "ipython",
        "version": 2
      },
      "file_extension": ".py",
      "mimetype": "text/x-python",
      "name": "python",
      "nbconvert_exporter": "python",
      "pygments_lexer": "ipython2",
      "version": "2.7.6"
    },
    "colab": {
      "name": "Fine-tuning Albert for Regression Analysis - Emotion Stimulus Dataset",
      "provenance": [],
      "collapsed_sections": [],
      "include_colab_link": true
    },
    "widgets": {
      "application/vnd.jupyter.widget-state+json": {
        "af476ee57b084da1adfc7a1dec39c053": {
          "model_module": "@jupyter-widgets/controls",
          "model_name": "HBoxModel",
          "state": {
            "_view_name": "HBoxView",
            "_dom_classes": [],
            "_model_name": "HBoxModel",
            "_view_module": "@jupyter-widgets/controls",
            "_model_module_version": "1.5.0",
            "_view_count": null,
            "_view_module_version": "1.5.0",
            "box_style": "",
            "layout": "IPY_MODEL_00b501c9fe70400897d0028c7abed80f",
            "_model_module": "@jupyter-widgets/controls",
            "children": [
              "IPY_MODEL_effe29f8a782448d96154bf53fe4ee33",
              "IPY_MODEL_3151141ed07c4003a1816e0b9af828b2"
            ]
          }
        },
        "00b501c9fe70400897d0028c7abed80f": {
          "model_module": "@jupyter-widgets/base",
          "model_name": "LayoutModel",
          "state": {
            "_view_name": "LayoutView",
            "grid_template_rows": null,
            "right": null,
            "justify_content": null,
            "_view_module": "@jupyter-widgets/base",
            "overflow": null,
            "_model_module_version": "1.2.0",
            "_view_count": null,
            "flex_flow": null,
            "width": null,
            "min_width": null,
            "border": null,
            "align_items": null,
            "bottom": null,
            "_model_module": "@jupyter-widgets/base",
            "top": null,
            "grid_column": null,
            "overflow_y": null,
            "overflow_x": null,
            "grid_auto_flow": null,
            "grid_area": null,
            "grid_template_columns": null,
            "flex": null,
            "_model_name": "LayoutModel",
            "justify_items": null,
            "grid_row": null,
            "max_height": null,
            "align_content": null,
            "visibility": null,
            "align_self": null,
            "height": null,
            "min_height": null,
            "padding": null,
            "grid_auto_rows": null,
            "grid_gap": null,
            "max_width": null,
            "order": null,
            "_view_module_version": "1.2.0",
            "grid_template_areas": null,
            "object_position": null,
            "object_fit": null,
            "grid_auto_columns": null,
            "margin": null,
            "display": null,
            "left": null
          }
        },
        "effe29f8a782448d96154bf53fe4ee33": {
          "model_module": "@jupyter-widgets/controls",
          "model_name": "FloatProgressModel",
          "state": {
            "_view_name": "ProgressView",
            "style": "IPY_MODEL_b431bca421204132b1ec314261ee99a1",
            "_dom_classes": [],
            "description": "Downloading: 100%",
            "_model_name": "FloatProgressModel",
            "bar_style": "success",
            "max": 760289,
            "_view_module": "@jupyter-widgets/controls",
            "_model_module_version": "1.5.0",
            "value": 760289,
            "_view_count": null,
            "_view_module_version": "1.5.0",
            "orientation": "horizontal",
            "min": 0,
            "description_tooltip": null,
            "_model_module": "@jupyter-widgets/controls",
            "layout": "IPY_MODEL_8cc1a08a1d134b2d873c8d7ec72bfa7e"
          }
        },
        "3151141ed07c4003a1816e0b9af828b2": {
          "model_module": "@jupyter-widgets/controls",
          "model_name": "HTMLModel",
          "state": {
            "_view_name": "HTMLView",
            "style": "IPY_MODEL_cfa9d880f2cd4e7890d302972ebd48c4",
            "_dom_classes": [],
            "description": "",
            "_model_name": "HTMLModel",
            "placeholder": "​",
            "_view_module": "@jupyter-widgets/controls",
            "_model_module_version": "1.5.0",
            "value": " 760k/760k [00:46&lt;00:00, 16.4kB/s]",
            "_view_count": null,
            "_view_module_version": "1.5.0",
            "description_tooltip": null,
            "_model_module": "@jupyter-widgets/controls",
            "layout": "IPY_MODEL_9a8a7943c00842eda0bfeccd7c5a0337"
          }
        },
        "b431bca421204132b1ec314261ee99a1": {
          "model_module": "@jupyter-widgets/controls",
          "model_name": "ProgressStyleModel",
          "state": {
            "_view_name": "StyleView",
            "_model_name": "ProgressStyleModel",
            "description_width": "initial",
            "_view_module": "@jupyter-widgets/base",
            "_model_module_version": "1.5.0",
            "_view_count": null,
            "_view_module_version": "1.2.0",
            "bar_color": null,
            "_model_module": "@jupyter-widgets/controls"
          }
        },
        "8cc1a08a1d134b2d873c8d7ec72bfa7e": {
          "model_module": "@jupyter-widgets/base",
          "model_name": "LayoutModel",
          "state": {
            "_view_name": "LayoutView",
            "grid_template_rows": null,
            "right": null,
            "justify_content": null,
            "_view_module": "@jupyter-widgets/base",
            "overflow": null,
            "_model_module_version": "1.2.0",
            "_view_count": null,
            "flex_flow": null,
            "width": null,
            "min_width": null,
            "border": null,
            "align_items": null,
            "bottom": null,
            "_model_module": "@jupyter-widgets/base",
            "top": null,
            "grid_column": null,
            "overflow_y": null,
            "overflow_x": null,
            "grid_auto_flow": null,
            "grid_area": null,
            "grid_template_columns": null,
            "flex": null,
            "_model_name": "LayoutModel",
            "justify_items": null,
            "grid_row": null,
            "max_height": null,
            "align_content": null,
            "visibility": null,
            "align_self": null,
            "height": null,
            "min_height": null,
            "padding": null,
            "grid_auto_rows": null,
            "grid_gap": null,
            "max_width": null,
            "order": null,
            "_view_module_version": "1.2.0",
            "grid_template_areas": null,
            "object_position": null,
            "object_fit": null,
            "grid_auto_columns": null,
            "margin": null,
            "display": null,
            "left": null
          }
        },
        "cfa9d880f2cd4e7890d302972ebd48c4": {
          "model_module": "@jupyter-widgets/controls",
          "model_name": "DescriptionStyleModel",
          "state": {
            "_view_name": "StyleView",
            "_model_name": "DescriptionStyleModel",
            "description_width": "",
            "_view_module": "@jupyter-widgets/base",
            "_model_module_version": "1.5.0",
            "_view_count": null,
            "_view_module_version": "1.2.0",
            "_model_module": "@jupyter-widgets/controls"
          }
        },
        "9a8a7943c00842eda0bfeccd7c5a0337": {
          "model_module": "@jupyter-widgets/base",
          "model_name": "LayoutModel",
          "state": {
            "_view_name": "LayoutView",
            "grid_template_rows": null,
            "right": null,
            "justify_content": null,
            "_view_module": "@jupyter-widgets/base",
            "overflow": null,
            "_model_module_version": "1.2.0",
            "_view_count": null,
            "flex_flow": null,
            "width": null,
            "min_width": null,
            "border": null,
            "align_items": null,
            "bottom": null,
            "_model_module": "@jupyter-widgets/base",
            "top": null,
            "grid_column": null,
            "overflow_y": null,
            "overflow_x": null,
            "grid_auto_flow": null,
            "grid_area": null,
            "grid_template_columns": null,
            "flex": null,
            "_model_name": "LayoutModel",
            "justify_items": null,
            "grid_row": null,
            "max_height": null,
            "align_content": null,
            "visibility": null,
            "align_self": null,
            "height": null,
            "min_height": null,
            "padding": null,
            "grid_auto_rows": null,
            "grid_gap": null,
            "max_width": null,
            "order": null,
            "_view_module_version": "1.2.0",
            "grid_template_areas": null,
            "object_position": null,
            "object_fit": null,
            "grid_auto_columns": null,
            "margin": null,
            "display": null,
            "left": null
          }
        },
        "580a52624dd74b4baff85a2b6eeb8be5": {
          "model_module": "@jupyter-widgets/controls",
          "model_name": "HBoxModel",
          "state": {
            "_view_name": "HBoxView",
            "_dom_classes": [],
            "_model_name": "HBoxModel",
            "_view_module": "@jupyter-widgets/controls",
            "_model_module_version": "1.5.0",
            "_view_count": null,
            "_view_module_version": "1.5.0",
            "box_style": "",
            "layout": "IPY_MODEL_0e25d850fab04fa7883d571892e5c15c",
            "_model_module": "@jupyter-widgets/controls",
            "children": [
              "IPY_MODEL_9a0094d13928480885925b789b1ec292",
              "IPY_MODEL_a4f3bbfd8ab24ae0a2b38b3598194032"
            ]
          }
        },
        "0e25d850fab04fa7883d571892e5c15c": {
          "model_module": "@jupyter-widgets/base",
          "model_name": "LayoutModel",
          "state": {
            "_view_name": "LayoutView",
            "grid_template_rows": null,
            "right": null,
            "justify_content": null,
            "_view_module": "@jupyter-widgets/base",
            "overflow": null,
            "_model_module_version": "1.2.0",
            "_view_count": null,
            "flex_flow": null,
            "width": null,
            "min_width": null,
            "border": null,
            "align_items": null,
            "bottom": null,
            "_model_module": "@jupyter-widgets/base",
            "top": null,
            "grid_column": null,
            "overflow_y": null,
            "overflow_x": null,
            "grid_auto_flow": null,
            "grid_area": null,
            "grid_template_columns": null,
            "flex": null,
            "_model_name": "LayoutModel",
            "justify_items": null,
            "grid_row": null,
            "max_height": null,
            "align_content": null,
            "visibility": null,
            "align_self": null,
            "height": null,
            "min_height": null,
            "padding": null,
            "grid_auto_rows": null,
            "grid_gap": null,
            "max_width": null,
            "order": null,
            "_view_module_version": "1.2.0",
            "grid_template_areas": null,
            "object_position": null,
            "object_fit": null,
            "grid_auto_columns": null,
            "margin": null,
            "display": null,
            "left": null
          }
        },
        "9a0094d13928480885925b789b1ec292": {
          "model_module": "@jupyter-widgets/controls",
          "model_name": "FloatProgressModel",
          "state": {
            "_view_name": "ProgressView",
            "style": "IPY_MODEL_a6b9fc371922425fadda9f92df35decc",
            "_dom_classes": [],
            "description": "Downloading: 100%",
            "_model_name": "FloatProgressModel",
            "bar_style": "success",
            "max": 684,
            "_view_module": "@jupyter-widgets/controls",
            "_model_module_version": "1.5.0",
            "value": 684,
            "_view_count": null,
            "_view_module_version": "1.5.0",
            "orientation": "horizontal",
            "min": 0,
            "description_tooltip": null,
            "_model_module": "@jupyter-widgets/controls",
            "layout": "IPY_MODEL_12887235fc97440690eb31956af30552"
          }
        },
        "a4f3bbfd8ab24ae0a2b38b3598194032": {
          "model_module": "@jupyter-widgets/controls",
          "model_name": "HTMLModel",
          "state": {
            "_view_name": "HTMLView",
            "style": "IPY_MODEL_01bb83a9242f4a4196d5670086114c1d",
            "_dom_classes": [],
            "description": "",
            "_model_name": "HTMLModel",
            "placeholder": "​",
            "_view_module": "@jupyter-widgets/controls",
            "_model_module_version": "1.5.0",
            "value": " 684/684 [00:00&lt;00:00, 1.90kB/s]",
            "_view_count": null,
            "_view_module_version": "1.5.0",
            "description_tooltip": null,
            "_model_module": "@jupyter-widgets/controls",
            "layout": "IPY_MODEL_f2ce57968fae4ba6a73138065ffbbe88"
          }
        },
        "a6b9fc371922425fadda9f92df35decc": {
          "model_module": "@jupyter-widgets/controls",
          "model_name": "ProgressStyleModel",
          "state": {
            "_view_name": "StyleView",
            "_model_name": "ProgressStyleModel",
            "description_width": "initial",
            "_view_module": "@jupyter-widgets/base",
            "_model_module_version": "1.5.0",
            "_view_count": null,
            "_view_module_version": "1.2.0",
            "bar_color": null,
            "_model_module": "@jupyter-widgets/controls"
          }
        },
        "12887235fc97440690eb31956af30552": {
          "model_module": "@jupyter-widgets/base",
          "model_name": "LayoutModel",
          "state": {
            "_view_name": "LayoutView",
            "grid_template_rows": null,
            "right": null,
            "justify_content": null,
            "_view_module": "@jupyter-widgets/base",
            "overflow": null,
            "_model_module_version": "1.2.0",
            "_view_count": null,
            "flex_flow": null,
            "width": null,
            "min_width": null,
            "border": null,
            "align_items": null,
            "bottom": null,
            "_model_module": "@jupyter-widgets/base",
            "top": null,
            "grid_column": null,
            "overflow_y": null,
            "overflow_x": null,
            "grid_auto_flow": null,
            "grid_area": null,
            "grid_template_columns": null,
            "flex": null,
            "_model_name": "LayoutModel",
            "justify_items": null,
            "grid_row": null,
            "max_height": null,
            "align_content": null,
            "visibility": null,
            "align_self": null,
            "height": null,
            "min_height": null,
            "padding": null,
            "grid_auto_rows": null,
            "grid_gap": null,
            "max_width": null,
            "order": null,
            "_view_module_version": "1.2.0",
            "grid_template_areas": null,
            "object_position": null,
            "object_fit": null,
            "grid_auto_columns": null,
            "margin": null,
            "display": null,
            "left": null
          }
        },
        "01bb83a9242f4a4196d5670086114c1d": {
          "model_module": "@jupyter-widgets/controls",
          "model_name": "DescriptionStyleModel",
          "state": {
            "_view_name": "StyleView",
            "_model_name": "DescriptionStyleModel",
            "description_width": "",
            "_view_module": "@jupyter-widgets/base",
            "_model_module_version": "1.5.0",
            "_view_count": null,
            "_view_module_version": "1.2.0",
            "_model_module": "@jupyter-widgets/controls"
          }
        },
        "f2ce57968fae4ba6a73138065ffbbe88": {
          "model_module": "@jupyter-widgets/base",
          "model_name": "LayoutModel",
          "state": {
            "_view_name": "LayoutView",
            "grid_template_rows": null,
            "right": null,
            "justify_content": null,
            "_view_module": "@jupyter-widgets/base",
            "overflow": null,
            "_model_module_version": "1.2.0",
            "_view_count": null,
            "flex_flow": null,
            "width": null,
            "min_width": null,
            "border": null,
            "align_items": null,
            "bottom": null,
            "_model_module": "@jupyter-widgets/base",
            "top": null,
            "grid_column": null,
            "overflow_y": null,
            "overflow_x": null,
            "grid_auto_flow": null,
            "grid_area": null,
            "grid_template_columns": null,
            "flex": null,
            "_model_name": "LayoutModel",
            "justify_items": null,
            "grid_row": null,
            "max_height": null,
            "align_content": null,
            "visibility": null,
            "align_self": null,
            "height": null,
            "min_height": null,
            "padding": null,
            "grid_auto_rows": null,
            "grid_gap": null,
            "max_width": null,
            "order": null,
            "_view_module_version": "1.2.0",
            "grid_template_areas": null,
            "object_position": null,
            "object_fit": null,
            "grid_auto_columns": null,
            "margin": null,
            "display": null,
            "left": null
          }
        },
        "5e565f4365904eb7aa3b6ad1193f0464": {
          "model_module": "@jupyter-widgets/controls",
          "model_name": "HBoxModel",
          "state": {
            "_view_name": "HBoxView",
            "_dom_classes": [],
            "_model_name": "HBoxModel",
            "_view_module": "@jupyter-widgets/controls",
            "_model_module_version": "1.5.0",
            "_view_count": null,
            "_view_module_version": "1.5.0",
            "box_style": "",
            "layout": "IPY_MODEL_4a505c7f3cd24c45aa9c43be8cfe0883",
            "_model_module": "@jupyter-widgets/controls",
            "children": [
              "IPY_MODEL_f59ee58810294f35bbffc4158a2703de",
              "IPY_MODEL_508a77f486674a86982c3801edd73682"
            ]
          }
        },
        "4a505c7f3cd24c45aa9c43be8cfe0883": {
          "model_module": "@jupyter-widgets/base",
          "model_name": "LayoutModel",
          "state": {
            "_view_name": "LayoutView",
            "grid_template_rows": null,
            "right": null,
            "justify_content": null,
            "_view_module": "@jupyter-widgets/base",
            "overflow": null,
            "_model_module_version": "1.2.0",
            "_view_count": null,
            "flex_flow": null,
            "width": null,
            "min_width": null,
            "border": null,
            "align_items": null,
            "bottom": null,
            "_model_module": "@jupyter-widgets/base",
            "top": null,
            "grid_column": null,
            "overflow_y": null,
            "overflow_x": null,
            "grid_auto_flow": null,
            "grid_area": null,
            "grid_template_columns": null,
            "flex": null,
            "_model_name": "LayoutModel",
            "justify_items": null,
            "grid_row": null,
            "max_height": null,
            "align_content": null,
            "visibility": null,
            "align_self": null,
            "height": null,
            "min_height": null,
            "padding": null,
            "grid_auto_rows": null,
            "grid_gap": null,
            "max_width": null,
            "order": null,
            "_view_module_version": "1.2.0",
            "grid_template_areas": null,
            "object_position": null,
            "object_fit": null,
            "grid_auto_columns": null,
            "margin": null,
            "display": null,
            "left": null
          }
        },
        "f59ee58810294f35bbffc4158a2703de": {
          "model_module": "@jupyter-widgets/controls",
          "model_name": "FloatProgressModel",
          "state": {
            "_view_name": "ProgressView",
            "style": "IPY_MODEL_2e89aee9d59f4c5daf7a1080deb813f9",
            "_dom_classes": [],
            "description": "Downloading: 100%",
            "_model_name": "FloatProgressModel",
            "bar_style": "success",
            "max": 63048440,
            "_view_module": "@jupyter-widgets/controls",
            "_model_module_version": "1.5.0",
            "value": 63048440,
            "_view_count": null,
            "_view_module_version": "1.5.0",
            "orientation": "horizontal",
            "min": 0,
            "description_tooltip": null,
            "_model_module": "@jupyter-widgets/controls",
            "layout": "IPY_MODEL_10a837d870b1442aab2f0fb6d5ca58a0"
          }
        },
        "508a77f486674a86982c3801edd73682": {
          "model_module": "@jupyter-widgets/controls",
          "model_name": "HTMLModel",
          "state": {
            "_view_name": "HTMLView",
            "style": "IPY_MODEL_28a5d58dc6cd4140a2752dd19d84ab3c",
            "_dom_classes": [],
            "description": "",
            "_model_name": "HTMLModel",
            "placeholder": "​",
            "_view_module": "@jupyter-widgets/controls",
            "_model_module_version": "1.5.0",
            "value": " 63.0M/63.0M [00:01&lt;00:00, 54.8MB/s]",
            "_view_count": null,
            "_view_module_version": "1.5.0",
            "description_tooltip": null,
            "_model_module": "@jupyter-widgets/controls",
            "layout": "IPY_MODEL_4a9e9da35888423cb440bb911a92aed9"
          }
        },
        "2e89aee9d59f4c5daf7a1080deb813f9": {
          "model_module": "@jupyter-widgets/controls",
          "model_name": "ProgressStyleModel",
          "state": {
            "_view_name": "StyleView",
            "_model_name": "ProgressStyleModel",
            "description_width": "initial",
            "_view_module": "@jupyter-widgets/base",
            "_model_module_version": "1.5.0",
            "_view_count": null,
            "_view_module_version": "1.2.0",
            "bar_color": null,
            "_model_module": "@jupyter-widgets/controls"
          }
        },
        "10a837d870b1442aab2f0fb6d5ca58a0": {
          "model_module": "@jupyter-widgets/base",
          "model_name": "LayoutModel",
          "state": {
            "_view_name": "LayoutView",
            "grid_template_rows": null,
            "right": null,
            "justify_content": null,
            "_view_module": "@jupyter-widgets/base",
            "overflow": null,
            "_model_module_version": "1.2.0",
            "_view_count": null,
            "flex_flow": null,
            "width": null,
            "min_width": null,
            "border": null,
            "align_items": null,
            "bottom": null,
            "_model_module": "@jupyter-widgets/base",
            "top": null,
            "grid_column": null,
            "overflow_y": null,
            "overflow_x": null,
            "grid_auto_flow": null,
            "grid_area": null,
            "grid_template_columns": null,
            "flex": null,
            "_model_name": "LayoutModel",
            "justify_items": null,
            "grid_row": null,
            "max_height": null,
            "align_content": null,
            "visibility": null,
            "align_self": null,
            "height": null,
            "min_height": null,
            "padding": null,
            "grid_auto_rows": null,
            "grid_gap": null,
            "max_width": null,
            "order": null,
            "_view_module_version": "1.2.0",
            "grid_template_areas": null,
            "object_position": null,
            "object_fit": null,
            "grid_auto_columns": null,
            "margin": null,
            "display": null,
            "left": null
          }
        },
        "28a5d58dc6cd4140a2752dd19d84ab3c": {
          "model_module": "@jupyter-widgets/controls",
          "model_name": "DescriptionStyleModel",
          "state": {
            "_view_name": "StyleView",
            "_model_name": "DescriptionStyleModel",
            "description_width": "",
            "_view_module": "@jupyter-widgets/base",
            "_model_module_version": "1.5.0",
            "_view_count": null,
            "_view_module_version": "1.2.0",
            "_model_module": "@jupyter-widgets/controls"
          }
        },
        "4a9e9da35888423cb440bb911a92aed9": {
          "model_module": "@jupyter-widgets/base",
          "model_name": "LayoutModel",
          "state": {
            "_view_name": "LayoutView",
            "grid_template_rows": null,
            "right": null,
            "justify_content": null,
            "_view_module": "@jupyter-widgets/base",
            "overflow": null,
            "_model_module_version": "1.2.0",
            "_view_count": null,
            "flex_flow": null,
            "width": null,
            "min_width": null,
            "border": null,
            "align_items": null,
            "bottom": null,
            "_model_module": "@jupyter-widgets/base",
            "top": null,
            "grid_column": null,
            "overflow_y": null,
            "overflow_x": null,
            "grid_auto_flow": null,
            "grid_area": null,
            "grid_template_columns": null,
            "flex": null,
            "_model_name": "LayoutModel",
            "justify_items": null,
            "grid_row": null,
            "max_height": null,
            "align_content": null,
            "visibility": null,
            "align_self": null,
            "height": null,
            "min_height": null,
            "padding": null,
            "grid_auto_rows": null,
            "grid_gap": null,
            "max_width": null,
            "order": null,
            "_view_module_version": "1.2.0",
            "grid_template_areas": null,
            "object_position": null,
            "object_fit": null,
            "grid_auto_columns": null,
            "margin": null,
            "display": null,
            "left": null
          }
        }
      }
    }
  },
  "cells": [
    {
      "cell_type": "markdown",
      "metadata": {
        "id": "view-in-github",
        "colab_type": "text"
      },
      "source": [
        "<a href=\"https://colab.research.google.com/github/narrasriram/EMOTION-RECOGNITION-USING-FINE-TUNED-MODELS-ERFM-/blob/main/Colab%20Model%20building%20Files/Regression/Models%20on%20Emotion%20Stimulus%20Dataset/Fine-tuning%20ALBERT/Fine_tuning_Albert_for_Regression_Analysis_Emotion_Stimulus_Dataset.ipynb\" target=\"_parent\"><img src=\"https://colab.research.google.com/assets/colab-badge.svg\" alt=\"Open In Colab\"/></a>"
      ]
    },
    {
      "cell_type": "markdown",
      "metadata": {
        "id": "mkes6j7Q97TC"
      },
      "source": [
        "  \n",
        "# -*- coding: utf-8 -*-\n",
        "\n",
        "# Author: Sriram Narra\n",
        "# Course: CS 842\n",
        "# Date: Apr 15, 2021\n",
        "# Project Name: Emotion Recognition using Fine-tuned Models(ERFM)\n",
        "# Description: This notebook builds a Fine-tuned ALBERT Model on Emotion \n",
        "#              Stimulus Dataset and checks the performance of the \n",
        "#              model with various model evaluation metrics\n",
        "# --------------------------------------------------------------------------------"
      ]
    },
    {
      "cell_type": "code",
      "metadata": {
        "id": "633fetsKg5cv",
        "colab": {
          "base_uri": "https://localhost:8080/"
        },
        "outputId": "ba2cb797-6e7c-4e81-8f6f-43f18cc3926c"
      },
      "source": [
        "!pip install transformers==3.1.0"
      ],
      "execution_count": null,
      "outputs": [
        {
          "output_type": "stream",
          "text": [
            "Collecting transformers==3.1.0\n",
            "\u001b[?25l  Downloading https://files.pythonhosted.org/packages/ae/05/c8c55b600308dc04e95100dc8ad8a244dd800fe75dfafcf1d6348c6f6209/transformers-3.1.0-py3-none-any.whl (884kB)\n",
            "\u001b[K     |████████████████████████████████| 890kB 5.9MB/s \n",
            "\u001b[?25hRequirement already satisfied: numpy in /usr/local/lib/python3.7/dist-packages (from transformers==3.1.0) (1.19.5)\n",
            "Collecting sacremoses\n",
            "\u001b[?25l  Downloading https://files.pythonhosted.org/packages/08/cd/342e584ee544d044fb573ae697404ce22ede086c9e87ce5960772084cad0/sacremoses-0.0.44.tar.gz (862kB)\n",
            "\u001b[K     |████████████████████████████████| 870kB 36.2MB/s \n",
            "\u001b[?25hRequirement already satisfied: packaging in /usr/local/lib/python3.7/dist-packages (from transformers==3.1.0) (20.9)\n",
            "Requirement already satisfied: requests in /usr/local/lib/python3.7/dist-packages (from transformers==3.1.0) (2.23.0)\n",
            "Requirement already satisfied: tqdm>=4.27 in /usr/local/lib/python3.7/dist-packages (from transformers==3.1.0) (4.41.1)\n",
            "Collecting tokenizers==0.8.1.rc2\n",
            "\u001b[?25l  Downloading https://files.pythonhosted.org/packages/75/26/c02ba92ecb8b780bdae4a862d351433c2912fe49469dac7f87a5c85ccca6/tokenizers-0.8.1rc2-cp37-cp37m-manylinux1_x86_64.whl (3.0MB)\n",
            "\u001b[K     |████████████████████████████████| 3.0MB 31.8MB/s \n",
            "\u001b[?25hRequirement already satisfied: regex!=2019.12.17 in /usr/local/lib/python3.7/dist-packages (from transformers==3.1.0) (2019.12.20)\n",
            "Collecting sentencepiece!=0.1.92\n",
            "\u001b[?25l  Downloading https://files.pythonhosted.org/packages/f5/99/e0808cb947ba10f575839c43e8fafc9cc44e4a7a2c8f79c60db48220a577/sentencepiece-0.1.95-cp37-cp37m-manylinux2014_x86_64.whl (1.2MB)\n",
            "\u001b[K     |████████████████████████████████| 1.2MB 43.4MB/s \n",
            "\u001b[?25hRequirement already satisfied: filelock in /usr/local/lib/python3.7/dist-packages (from transformers==3.1.0) (3.0.12)\n",
            "Requirement already satisfied: six in /usr/local/lib/python3.7/dist-packages (from sacremoses->transformers==3.1.0) (1.15.0)\n",
            "Requirement already satisfied: click in /usr/local/lib/python3.7/dist-packages (from sacremoses->transformers==3.1.0) (7.1.2)\n",
            "Requirement already satisfied: joblib in /usr/local/lib/python3.7/dist-packages (from sacremoses->transformers==3.1.0) (1.0.1)\n",
            "Requirement already satisfied: pyparsing>=2.0.2 in /usr/local/lib/python3.7/dist-packages (from packaging->transformers==3.1.0) (2.4.7)\n",
            "Requirement already satisfied: idna<3,>=2.5 in /usr/local/lib/python3.7/dist-packages (from requests->transformers==3.1.0) (2.10)\n",
            "Requirement already satisfied: urllib3!=1.25.0,!=1.25.1,<1.26,>=1.21.1 in /usr/local/lib/python3.7/dist-packages (from requests->transformers==3.1.0) (1.24.3)\n",
            "Requirement already satisfied: certifi>=2017.4.17 in /usr/local/lib/python3.7/dist-packages (from requests->transformers==3.1.0) (2020.12.5)\n",
            "Requirement already satisfied: chardet<4,>=3.0.2 in /usr/local/lib/python3.7/dist-packages (from requests->transformers==3.1.0) (3.0.4)\n",
            "Building wheels for collected packages: sacremoses\n",
            "  Building wheel for sacremoses (setup.py) ... \u001b[?25l\u001b[?25hdone\n",
            "  Created wheel for sacremoses: filename=sacremoses-0.0.44-cp37-none-any.whl size=886084 sha256=e4b9362ed6a72b4c3494722b541bb92ab483cfc0eaacc4a5686c0765ddf2147f\n",
            "  Stored in directory: /root/.cache/pip/wheels/3e/fb/c0/13ab4d63d537658f448366744654323077c4d90069b6512f3c\n",
            "Successfully built sacremoses\n",
            "Installing collected packages: sacremoses, tokenizers, sentencepiece, transformers\n",
            "Successfully installed sacremoses-0.0.44 sentencepiece-0.1.95 tokenizers-0.8.1rc2 transformers-3.1.0\n"
          ],
          "name": "stdout"
        }
      ]
    },
    {
      "cell_type": "markdown",
      "metadata": {
        "id": "v_UOAO0c-I6A"
      },
      "source": [
        "Importing the libraries"
      ]
    },
    {
      "cell_type": "code",
      "metadata": {
        "id": "9pi31_2cndZU"
      },
      "source": [
        "from transformers import AlbertTokenizer\n",
        "from transformers import TFAlbertForSequenceClassification\n",
        "\n",
        "import tensorflow as tf\n",
        "import json\n",
        "\n",
        "from pandas import DataFrame\n",
        "import textblob\n",
        "from textblob import TextBlob\n",
        "import pandas as pd\n"
      ],
      "execution_count": null,
      "outputs": []
    },
    {
      "cell_type": "markdown",
      "metadata": {
        "id": "GD1KWKX7-L4M"
      },
      "source": [
        "Mount Google Drive"
      ]
    },
    {
      "cell_type": "code",
      "metadata": {
        "colab": {
          "base_uri": "https://localhost:8080/"
        },
        "id": "b3DOCuUjvdLL",
        "outputId": "e505f138-c761-4792-ab7f-0aeaab96e318"
      },
      "source": [
        "from google.colab import drive\n",
        "\n",
        "drive.mount('/content/drive')"
      ],
      "execution_count": null,
      "outputs": [
        {
          "output_type": "stream",
          "text": [
            "Mounted at /content/drive\n"
          ],
          "name": "stdout"
        }
      ]
    },
    {
      "cell_type": "markdown",
      "metadata": {
        "id": "NIyQQYvk-Os9"
      },
      "source": [
        "Read the Data into a list"
      ]
    },
    {
      "cell_type": "code",
      "metadata": {
        "colab": {
          "base_uri": "https://localhost:8080/"
        },
        "id": "_fjhQ61uvfut",
        "outputId": "21c43555-9d21-4445-de45-bc43bbe33fb4"
      },
      "source": [
        "with open('/content/drive/MyDrive/Data Science Project/Datasets/Emotion_Stimulus/No_Cause.txt') as f:\n",
        "    conversations = f.readlines()\n",
        "\n",
        "# Print the type of object data is saved in and \n",
        "# Print first 2 samples in the object\n",
        "print(\"Type of Class: \"+str(type(conversations)))\n",
        "conversations[0:2]"
      ],
      "execution_count": null,
      "outputs": [
        {
          "output_type": "stream",
          "text": [
            "Type of Class: <class 'list'>\n"
          ],
          "name": "stdout"
        },
        {
          "output_type": "execute_result",
          "data": {
            "text/plain": [
              "['<happy>This did the trick : the boys now have a more distant friendship and David is much happier . <\\\\happy>\\n',\n",
              " '<happy>When Anna left Inspector Aziz , she was much happier . <\\\\happy>\\n']"
            ]
          },
          "metadata": {
            "tags": []
          },
          "execution_count": 4
        }
      ]
    },
    {
      "cell_type": "code",
      "metadata": {
        "colab": {
          "base_uri": "https://localhost:8080/"
        },
        "id": "NP_S99QdH706",
        "outputId": "71666e2b-bcdc-4ac1-913d-f60ee9cdbc69"
      },
      "source": [
        "type(conversations)"
      ],
      "execution_count": null,
      "outputs": [
        {
          "output_type": "execute_result",
          "data": {
            "text/plain": [
              "list"
            ]
          },
          "metadata": {
            "tags": []
          },
          "execution_count": 5
        }
      ]
    },
    {
      "cell_type": "markdown",
      "metadata": {
        "id": "YG6MYndp-ZkJ"
      },
      "source": [
        "Data Transformation into Dictionary with Sentences as Key and Values as Emotions"
      ]
    },
    {
      "cell_type": "code",
      "metadata": {
        "colab": {
          "base_uri": "https://localhost:8080/"
        },
        "id": "jOIA8jt8vooS",
        "outputId": "af3aebc2-b230-4768-d4ec-13f051011a26"
      },
      "source": [
        "import re\n",
        "from bs4 import BeautifulSoup\n",
        "\n",
        "data = {}\n",
        "\n",
        "for line in conversations:\n",
        "    # Retrieve the Emotion Label data present in \"<...>\"\" tag\n",
        "    result = re.search(r\"<[a-zA-z]+>\", line)\n",
        "    emotion = result.group(0)\n",
        "    emotion  = emotion[1:(len(emotion)-1)]\n",
        "    \n",
        "    # Retrieve the Sentence without emotion tags \n",
        "    soup = BeautifulSoup(line)\n",
        "    x = soup.findAll(emotion)\n",
        "\n",
        "    # Remove the trailing spaces in the retrieved sentences\n",
        "    txt = ''.join(x[0].findAll(text=True)).strip()\n",
        "\n",
        "    # Store the sentence in dictionary as key and label as value\n",
        "    data[txt] = emotion\n",
        "\n",
        "# Print first two elements in dictionary\n",
        "list(data.items())[:2]"
      ],
      "execution_count": null,
      "outputs": [
        {
          "output_type": "execute_result",
          "data": {
            "text/plain": [
              "[('This did the trick : the boys now have a more distant friendship and David is much happier .',\n",
              "  'happy'),\n",
              " ('When Anna left Inspector Aziz , she was much happier .', 'happy')]"
            ]
          },
          "metadata": {
            "tags": []
          },
          "execution_count": 6
        }
      ]
    },
    {
      "cell_type": "code",
      "metadata": {
        "colab": {
          "base_uri": "https://localhost:8080/"
        },
        "id": "2rFCHIt9MHVT",
        "outputId": "b86b6d5f-93d6-4e0e-cb1c-b513da11aaca"
      },
      "source": [
        "print(list(data.items())[:2])"
      ],
      "execution_count": null,
      "outputs": [
        {
          "output_type": "stream",
          "text": [
            "[('This did the trick : the boys now have a more distant friendship and David is much happier .', 'happy'), ('When Anna left Inspector Aziz , she was much happier .', 'happy')]\n"
          ],
          "name": "stdout"
        }
      ]
    },
    {
      "cell_type": "markdown",
      "metadata": {
        "id": "xZd_I593-e-a"
      },
      "source": [
        "Data Transformation into Dataframe"
      ]
    },
    {
      "cell_type": "code",
      "metadata": {
        "colab": {
          "base_uri": "https://localhost:8080/",
          "height": 194
        },
        "id": "l-7IA4CwGrqc",
        "outputId": "f05675cc-dae5-45af-9b69-1bc06a688a27"
      },
      "source": [
        "data_frame = DataFrame(data.items(), columns=['Sentence', 'Emotion'])\n",
        "data_frame.head()"
      ],
      "execution_count": null,
      "outputs": [
        {
          "output_type": "execute_result",
          "data": {
            "text/html": [
              "<div>\n",
              "<style scoped>\n",
              "    .dataframe tbody tr th:only-of-type {\n",
              "        vertical-align: middle;\n",
              "    }\n",
              "\n",
              "    .dataframe tbody tr th {\n",
              "        vertical-align: top;\n",
              "    }\n",
              "\n",
              "    .dataframe thead th {\n",
              "        text-align: right;\n",
              "    }\n",
              "</style>\n",
              "<table border=\"1\" class=\"dataframe\">\n",
              "  <thead>\n",
              "    <tr style=\"text-align: right;\">\n",
              "      <th></th>\n",
              "      <th>Sentence</th>\n",
              "      <th>Emotion</th>\n",
              "    </tr>\n",
              "  </thead>\n",
              "  <tbody>\n",
              "    <tr>\n",
              "      <th>0</th>\n",
              "      <td>This did the trick : the boys now have a more ...</td>\n",
              "      <td>happy</td>\n",
              "    </tr>\n",
              "    <tr>\n",
              "      <th>1</th>\n",
              "      <td>When Anna left Inspector Aziz , she was much h...</td>\n",
              "      <td>happy</td>\n",
              "    </tr>\n",
              "    <tr>\n",
              "      <th>2</th>\n",
              "      <td>And though , as Lachlan had planned , they had...</td>\n",
              "      <td>happy</td>\n",
              "    </tr>\n",
              "    <tr>\n",
              "      <th>3</th>\n",
              "      <td>Honestly , I 'm really happy for you !</td>\n",
              "      <td>happy</td>\n",
              "    </tr>\n",
              "    <tr>\n",
              "      <th>4</th>\n",
              "      <td>Lesley was totally happy about it .</td>\n",
              "      <td>happy</td>\n",
              "    </tr>\n",
              "  </tbody>\n",
              "</table>\n",
              "</div>"
            ],
            "text/plain": [
              "                                            Sentence Emotion\n",
              "0  This did the trick : the boys now have a more ...   happy\n",
              "1  When Anna left Inspector Aziz , she was much h...   happy\n",
              "2  And though , as Lachlan had planned , they had...   happy\n",
              "3             Honestly , I 'm really happy for you !   happy\n",
              "4                Lesley was totally happy about it .   happy"
            ]
          },
          "metadata": {
            "tags": []
          },
          "execution_count": 8
        }
      ]
    },
    {
      "cell_type": "markdown",
      "metadata": {
        "id": "LfK6Yi5z-qL5"
      },
      "source": [
        "Label Encoding the Emotion Column"
      ]
    },
    {
      "cell_type": "code",
      "metadata": {
        "colab": {
          "base_uri": "https://localhost:8080/",
          "height": 194
        },
        "id": "ouEKbctNGv5k",
        "outputId": "562dd1c8-2763-4e06-e55c-ccc6b39c8bb8"
      },
      "source": [
        "from sklearn.preprocessing import LabelEncoder\n",
        "le = LabelEncoder()\n",
        "data_frame['Emotion'] = le.fit_transform(data_frame['Emotion'])\n",
        "data_frame.head()"
      ],
      "execution_count": null,
      "outputs": [
        {
          "output_type": "execute_result",
          "data": {
            "text/html": [
              "<div>\n",
              "<style scoped>\n",
              "    .dataframe tbody tr th:only-of-type {\n",
              "        vertical-align: middle;\n",
              "    }\n",
              "\n",
              "    .dataframe tbody tr th {\n",
              "        vertical-align: top;\n",
              "    }\n",
              "\n",
              "    .dataframe thead th {\n",
              "        text-align: right;\n",
              "    }\n",
              "</style>\n",
              "<table border=\"1\" class=\"dataframe\">\n",
              "  <thead>\n",
              "    <tr style=\"text-align: right;\">\n",
              "      <th></th>\n",
              "      <th>Sentence</th>\n",
              "      <th>Emotion</th>\n",
              "    </tr>\n",
              "  </thead>\n",
              "  <tbody>\n",
              "    <tr>\n",
              "      <th>0</th>\n",
              "      <td>This did the trick : the boys now have a more ...</td>\n",
              "      <td>3</td>\n",
              "    </tr>\n",
              "    <tr>\n",
              "      <th>1</th>\n",
              "      <td>When Anna left Inspector Aziz , she was much h...</td>\n",
              "      <td>3</td>\n",
              "    </tr>\n",
              "    <tr>\n",
              "      <th>2</th>\n",
              "      <td>And though , as Lachlan had planned , they had...</td>\n",
              "      <td>3</td>\n",
              "    </tr>\n",
              "    <tr>\n",
              "      <th>3</th>\n",
              "      <td>Honestly , I 'm really happy for you !</td>\n",
              "      <td>3</td>\n",
              "    </tr>\n",
              "    <tr>\n",
              "      <th>4</th>\n",
              "      <td>Lesley was totally happy about it .</td>\n",
              "      <td>3</td>\n",
              "    </tr>\n",
              "  </tbody>\n",
              "</table>\n",
              "</div>"
            ],
            "text/plain": [
              "                                            Sentence  Emotion\n",
              "0  This did the trick : the boys now have a more ...        3\n",
              "1  When Anna left Inspector Aziz , she was much h...        3\n",
              "2  And though , as Lachlan had planned , they had...        3\n",
              "3             Honestly , I 'm really happy for you !        3\n",
              "4                Lesley was totally happy about it .        3"
            ]
          },
          "metadata": {
            "tags": []
          },
          "execution_count": 9
        }
      ]
    },
    {
      "cell_type": "code",
      "metadata": {
        "colab": {
          "base_uri": "https://localhost:8080/"
        },
        "id": "tGABt3XuHDVT",
        "outputId": "53aad7d1-724a-4759-96b3-631a90153a0f"
      },
      "source": [
        "data_frame.Emotion.unique()"
      ],
      "execution_count": null,
      "outputs": [
        {
          "output_type": "execute_result",
          "data": {
            "text/plain": [
              "array([3, 4, 2, 6, 1, 0, 5])"
            ]
          },
          "metadata": {
            "tags": []
          },
          "execution_count": 10
        }
      ]
    },
    {
      "cell_type": "code",
      "metadata": {
        "colab": {
          "base_uri": "https://localhost:8080/"
        },
        "id": "90XBBc-h_N--",
        "outputId": "757843e3-8df2-455d-a058-2e4014b6d098"
      },
      "source": [
        "list(le.inverse_transform([0,1,2,3,4,5,6]))"
      ],
      "execution_count": null,
      "outputs": [
        {
          "output_type": "execute_result",
          "data": {
            "text/plain": [
              "['anger', 'disgust', 'fear', 'happy', 'sad', 'shame', 'surprise']"
            ]
          },
          "metadata": {
            "tags": []
          },
          "execution_count": 11
        }
      ]
    },
    {
      "cell_type": "code",
      "metadata": {
        "colab": {
          "base_uri": "https://localhost:8080/",
          "height": 194
        },
        "id": "_8TRRqxbKXTG",
        "outputId": "df988f28-d79d-4447-cc77-889a19d24437"
      },
      "source": [
        "data_frame = data_frame.sample(frac=1).reset_index(drop=True)\n",
        "data_frame.head()"
      ],
      "execution_count": null,
      "outputs": [
        {
          "output_type": "execute_result",
          "data": {
            "text/html": [
              "<div>\n",
              "<style scoped>\n",
              "    .dataframe tbody tr th:only-of-type {\n",
              "        vertical-align: middle;\n",
              "    }\n",
              "\n",
              "    .dataframe tbody tr th {\n",
              "        vertical-align: top;\n",
              "    }\n",
              "\n",
              "    .dataframe thead th {\n",
              "        text-align: right;\n",
              "    }\n",
              "</style>\n",
              "<table border=\"1\" class=\"dataframe\">\n",
              "  <thead>\n",
              "    <tr style=\"text-align: right;\">\n",
              "      <th></th>\n",
              "      <th>Sentence</th>\n",
              "      <th>Emotion</th>\n",
              "    </tr>\n",
              "  </thead>\n",
              "  <tbody>\n",
              "    <tr>\n",
              "      <th>0</th>\n",
              "      <td>He paused as his mother stared at him in bewil...</td>\n",
              "      <td>6</td>\n",
              "    </tr>\n",
              "    <tr>\n",
              "      <th>1</th>\n",
              "      <td>If she had been paying more attention to his f...</td>\n",
              "      <td>4</td>\n",
              "    </tr>\n",
              "    <tr>\n",
              "      <th>2</th>\n",
              "      <td>He gave a little grunt of exasperation .</td>\n",
              "      <td>0</td>\n",
              "    </tr>\n",
              "    <tr>\n",
              "      <th>3</th>\n",
              "      <td>The grief-stricken widow refused to leave her ...</td>\n",
              "      <td>4</td>\n",
              "    </tr>\n",
              "    <tr>\n",
              "      <th>4</th>\n",
              "      <td>When they got to the florist and Georg saw his...</td>\n",
              "      <td>0</td>\n",
              "    </tr>\n",
              "  </tbody>\n",
              "</table>\n",
              "</div>"
            ],
            "text/plain": [
              "                                            Sentence  Emotion\n",
              "0  He paused as his mother stared at him in bewil...        6\n",
              "1  If she had been paying more attention to his f...        4\n",
              "2           He gave a little grunt of exasperation .        0\n",
              "3  The grief-stricken widow refused to leave her ...        4\n",
              "4  When they got to the florist and Georg saw his...        0"
            ]
          },
          "metadata": {
            "tags": []
          },
          "execution_count": 12
        }
      ]
    },
    {
      "cell_type": "markdown",
      "metadata": {
        "id": "l_SWUaV29TTd"
      },
      "source": [
        "Missing Values Analysis"
      ]
    },
    {
      "cell_type": "code",
      "metadata": {
        "colab": {
          "base_uri": "https://localhost:8080/"
        },
        "id": "kxcBTR-58_zs",
        "outputId": "8e02a5d8-5192-4e5a-b53d-cc17fcc6dbbb"
      },
      "source": [
        "data_frame.isnull().values.any()"
      ],
      "execution_count": null,
      "outputs": [
        {
          "output_type": "execute_result",
          "data": {
            "text/plain": [
              "False"
            ]
          },
          "metadata": {
            "tags": []
          },
          "execution_count": 13
        }
      ]
    },
    {
      "cell_type": "markdown",
      "metadata": {
        "id": "7HXCM9Vea-n0"
      },
      "source": [
        "Subjectivity Score Assignment"
      ]
    },
    {
      "cell_type": "code",
      "metadata": {
        "colab": {
          "base_uri": "https://localhost:8080/",
          "height": 194
        },
        "id": "zsOgYaZw9NeZ",
        "outputId": "4cce2062-33b8-4d66-da65-c54edbde8dec"
      },
      "source": [
        "from textblob import TextBlob\n",
        "\n",
        "def getScore(data):\n",
        "  return TextBlob(data).sentiment.subjectivity\n",
        "\n",
        "data_frame[\"Subj_Score\"] = data_frame[\"Sentence\"].apply(getScore)\n",
        "data_frame.head()"
      ],
      "execution_count": null,
      "outputs": [
        {
          "output_type": "execute_result",
          "data": {
            "text/html": [
              "<div>\n",
              "<style scoped>\n",
              "    .dataframe tbody tr th:only-of-type {\n",
              "        vertical-align: middle;\n",
              "    }\n",
              "\n",
              "    .dataframe tbody tr th {\n",
              "        vertical-align: top;\n",
              "    }\n",
              "\n",
              "    .dataframe thead th {\n",
              "        text-align: right;\n",
              "    }\n",
              "</style>\n",
              "<table border=\"1\" class=\"dataframe\">\n",
              "  <thead>\n",
              "    <tr style=\"text-align: right;\">\n",
              "      <th></th>\n",
              "      <th>Sentence</th>\n",
              "      <th>Emotion</th>\n",
              "      <th>Subj_Score</th>\n",
              "    </tr>\n",
              "  </thead>\n",
              "  <tbody>\n",
              "    <tr>\n",
              "      <th>0</th>\n",
              "      <td>He paused as his mother stared at him in bewil...</td>\n",
              "      <td>6</td>\n",
              "      <td>0.000000</td>\n",
              "    </tr>\n",
              "    <tr>\n",
              "      <th>1</th>\n",
              "      <td>If she had been paying more attention to his f...</td>\n",
              "      <td>4</td>\n",
              "      <td>0.650000</td>\n",
              "    </tr>\n",
              "    <tr>\n",
              "      <th>2</th>\n",
              "      <td>He gave a little grunt of exasperation .</td>\n",
              "      <td>0</td>\n",
              "      <td>0.500000</td>\n",
              "    </tr>\n",
              "    <tr>\n",
              "      <th>3</th>\n",
              "      <td>The grief-stricken widow refused to leave her ...</td>\n",
              "      <td>4</td>\n",
              "      <td>0.400000</td>\n",
              "    </tr>\n",
              "    <tr>\n",
              "      <th>4</th>\n",
              "      <td>When they got to the florist and Georg saw his...</td>\n",
              "      <td>0</td>\n",
              "      <td>0.066667</td>\n",
              "    </tr>\n",
              "  </tbody>\n",
              "</table>\n",
              "</div>"
            ],
            "text/plain": [
              "                                            Sentence  Emotion  Subj_Score\n",
              "0  He paused as his mother stared at him in bewil...        6    0.000000\n",
              "1  If she had been paying more attention to his f...        4    0.650000\n",
              "2           He gave a little grunt of exasperation .        0    0.500000\n",
              "3  The grief-stricken widow refused to leave her ...        4    0.400000\n",
              "4  When they got to the florist and Georg saw his...        0    0.066667"
            ]
          },
          "metadata": {
            "tags": []
          },
          "execution_count": 14
        }
      ]
    },
    {
      "cell_type": "markdown",
      "metadata": {
        "id": "oyIMC0PrGxnK"
      },
      "source": [
        "Outlier Analysis"
      ]
    },
    {
      "cell_type": "code",
      "metadata": {
        "colab": {
          "base_uri": "https://localhost:8080/",
          "height": 266
        },
        "id": "EfcKMugKnacn",
        "outputId": "b831b2bb-5788-4322-857f-2e438c5c5916"
      },
      "source": [
        "boxplot = data_frame.boxplot(column=['Subj_Score'])"
      ],
      "execution_count": null,
      "outputs": [
        {
          "output_type": "display_data",
          "data": {
            "image/png": "[encoded data removed]",
            "text/plain": [
              "<Figure size 432x288 with 1 Axes>"
            ]
          },
          "metadata": {
            "tags": [],
            "needs_background": "light"
          }
        }
      ]
    },
    {
      "cell_type": "code",
      "metadata": {
        "colab": {
          "base_uri": "https://localhost:8080/",
          "height": 298
        },
        "id": "W4c9CLXZpro3",
        "outputId": "cc845210-330b-46c1-8188-57d7df335651"
      },
      "source": [
        "import seaborn as sns\n",
        "sns.boxplot(x=data_frame['Subj_Score'])"
      ],
      "execution_count": null,
      "outputs": [
        {
          "output_type": "execute_result",
          "data": {
            "text/plain": [
              "<matplotlib.axes._subplots.AxesSubplot at 0x7fdbeea39290>"
            ]
          },
          "metadata": {
            "tags": []
          },
          "execution_count": 16
        },
        {
          "output_type": "display_data",
          "data": {
            "image/png": "[encoded data removed]",
            "text/plain": [
              "<Figure size 432x288 with 1 Axes>"
            ]
          },
          "metadata": {
            "tags": [],
            "needs_background": "light"
          }
        }
      ]
    },
    {
      "cell_type": "markdown",
      "metadata": {
        "id": "QEw15LEy-8nG"
      },
      "source": [
        "Balanced/Imbalanced Data check on Subjectivity Score Bins"
      ]
    },
    {
      "cell_type": "code",
      "metadata": {
        "colab": {
          "base_uri": "https://localhost:8080/",
          "height": 426
        },
        "id": "Q8hEY8uPL_8v",
        "outputId": "eb047e71-2293-4679-e128-c889f1f7c0cc"
      },
      "source": [
        "data_frame.hist(column=['Subj_Score'],bins=4, figsize=(8,6))"
      ],
      "execution_count": null,
      "outputs": [
        {
          "output_type": "execute_result",
          "data": {
            "text/plain": [
              "array([[<matplotlib.axes._subplots.AxesSubplot object at 0x7fdbeea94e90>]],\n",
              "      dtype=object)"
            ]
          },
          "metadata": {
            "tags": []
          },
          "execution_count": 17
        },
        {
          "output_type": "display_data",
          "data": {
            "image/png": "[encoded data removed]",
            "text/plain": [
              "<Figure size 576x432 with 1 Axes>"
            ]
          },
          "metadata": {
            "tags": [],
            "needs_background": "light"
          }
        }
      ]
    },
    {
      "cell_type": "markdown",
      "metadata": {
        "id": "LDW1ujfZsuIm"
      },
      "source": [
        "Balancing the Imbalanced Dataset based on Subjectivity Score"
      ]
    },
    {
      "cell_type": "code",
      "metadata": {
        "colab": {
          "base_uri": "https://localhost:8080/",
          "height": 426
        },
        "id": "2px60IlhgJxG",
        "outputId": "a4a1e4da-617f-450a-fbef-001dd30f23df"
      },
      "source": [
        "count = 1\n",
        "columns = ['Sentence','Emotion', 'Subj_Score']\n",
        "zero_df = None\n",
        "zero_df = pd.DataFrame(columns=columns)\n",
        "\n",
        "for index, row in data_frame.iterrows():\n",
        "  if(row['Subj_Score']==0.0 and count<=270):\n",
        "    #print(\"entered\")\n",
        "    zero_df.loc[data_frame.index[index]] = data_frame.iloc[index]\n",
        "    count+=1\n",
        "\n",
        "cond = data_frame['Sentence'].isin(zero_df['Sentence'])\n",
        "data_frame.drop(data_frame[cond].index, inplace = True)\n",
        "data_frame.hist(column=['Subj_Score'],bins=4, figsize=(8,6))"
      ],
      "execution_count": null,
      "outputs": [
        {
          "output_type": "execute_result",
          "data": {
            "text/plain": [
              "array([[<matplotlib.axes._subplots.AxesSubplot object at 0x7fdbeea7e1d0>]],\n",
              "      dtype=object)"
            ]
          },
          "metadata": {
            "tags": []
          },
          "execution_count": 18
        },
        {
          "output_type": "display_data",
          "data": {
            "image/png": "[encoded data removed]",
            "text/plain": [
              "<Figure size 576x432 with 1 Axes>"
            ]
          },
          "metadata": {
            "tags": [],
            "needs_background": "light"
          }
        }
      ]
    },
    {
      "cell_type": "code",
      "metadata": {
        "colab": {
          "base_uri": "https://localhost:8080/",
          "height": 194
        },
        "id": "xRAnyA8F0NxI",
        "outputId": "2db0b5d3-72d8-425f-be95-165024b6cff3"
      },
      "source": [
        "data_frame = data_frame.sample(frac=1).reset_index(drop=True)\n",
        "data_frame.head()"
      ],
      "execution_count": null,
      "outputs": [
        {
          "output_type": "execute_result",
          "data": {
            "text/html": [
              "<div>\n",
              "<style scoped>\n",
              "    .dataframe tbody tr th:only-of-type {\n",
              "        vertical-align: middle;\n",
              "    }\n",
              "\n",
              "    .dataframe tbody tr th {\n",
              "        vertical-align: top;\n",
              "    }\n",
              "\n",
              "    .dataframe thead th {\n",
              "        text-align: right;\n",
              "    }\n",
              "</style>\n",
              "<table border=\"1\" class=\"dataframe\">\n",
              "  <thead>\n",
              "    <tr style=\"text-align: right;\">\n",
              "      <th></th>\n",
              "      <th>Sentence</th>\n",
              "      <th>Emotion</th>\n",
              "      <th>Subj_Score</th>\n",
              "    </tr>\n",
              "  </thead>\n",
              "  <tbody>\n",
              "    <tr>\n",
              "      <th>0</th>\n",
              "      <td>But the STUC also voiced disquiet about the wa...</td>\n",
              "      <td>2</td>\n",
              "      <td>0.066667</td>\n",
              "    </tr>\n",
              "    <tr>\n",
              "      <th>1</th>\n",
              "      <td>From somewhere in the gloom , accompanied by r...</td>\n",
              "      <td>4</td>\n",
              "      <td>0.300000</td>\n",
              "    </tr>\n",
              "    <tr>\n",
              "      <th>2</th>\n",
              "      <td>I kept trying to get back to Changez 's lugubr...</td>\n",
              "      <td>4</td>\n",
              "      <td>0.500000</td>\n",
              "    </tr>\n",
              "    <tr>\n",
              "      <th>3</th>\n",
              "      <td>He had a narrow mournful face , tapering to a ...</td>\n",
              "      <td>4</td>\n",
              "      <td>0.400000</td>\n",
              "    </tr>\n",
              "    <tr>\n",
              "      <th>4</th>\n",
              "      <td>` Well , he was pleased when you agreed to this .</td>\n",
              "      <td>3</td>\n",
              "      <td>1.000000</td>\n",
              "    </tr>\n",
              "  </tbody>\n",
              "</table>\n",
              "</div>"
            ],
            "text/plain": [
              "                                            Sentence  Emotion  Subj_Score\n",
              "0  But the STUC also voiced disquiet about the wa...        2    0.066667\n",
              "1  From somewhere in the gloom , accompanied by r...        4    0.300000\n",
              "2  I kept trying to get back to Changez 's lugubr...        4    0.500000\n",
              "3  He had a narrow mournful face , tapering to a ...        4    0.400000\n",
              "4  ` Well , he was pleased when you agreed to this .        3    1.000000"
            ]
          },
          "metadata": {
            "tags": []
          },
          "execution_count": 19
        }
      ]
    },
    {
      "cell_type": "markdown",
      "metadata": {
        "id": "EfDCMQbANlDV"
      },
      "source": [
        "Balanced/Imbalanced Emotion Label Analysis of the Dataset"
      ]
    },
    {
      "cell_type": "code",
      "metadata": {
        "colab": {
          "base_uri": "https://localhost:8080/",
          "height": 285
        },
        "id": "1Cq39wopNjNf",
        "outputId": "c2d3928f-9efd-4d80-d55c-3de1b5a65f89"
      },
      "source": [
        "import seaborn as sns\n",
        "sns.set_theme(style=\"darkgrid\")\n",
        "ax = sns.countplot(x=\"Emotion\", data=data_frame)"
      ],
      "execution_count": null,
      "outputs": [
        {
          "output_type": "display_data",
          "data": {
            "image/png": "[encoded data removed]",
            "text/plain": [
              "<Figure size 432x288 with 1 Axes>"
            ]
          },
          "metadata": {
            "tags": []
          }
        }
      ]
    },
    {
      "cell_type": "code",
      "metadata": {
        "colab": {
          "base_uri": "https://localhost:8080/"
        },
        "id": "21yYEVfj2TES",
        "outputId": "f7475fb8-a6a7-42c3-ccf0-85c41ed48578"
      },
      "source": [
        "int(0.7*len(data_frame))+int(0.1*len(data_frame))"
      ],
      "execution_count": null,
      "outputs": [
        {
          "output_type": "execute_result",
          "data": {
            "text/plain": [
              "1054"
            ]
          },
          "metadata": {
            "tags": []
          },
          "execution_count": 21
        }
      ]
    },
    {
      "cell_type": "markdown",
      "metadata": {
        "id": "aE6YzSuS_DpB"
      },
      "source": [
        "Conversion of dataframe column data into list"
      ]
    },
    {
      "cell_type": "code",
      "metadata": {
        "id": "FqmP3bZBHHXy"
      },
      "source": [
        "sentences_list = data_frame['Sentence'].tolist()\n",
        "labels_list = data_frame['Subj_Score'].tolist()"
      ],
      "execution_count": null,
      "outputs": []
    },
    {
      "cell_type": "markdown",
      "metadata": {
        "id": "CVxVZJop_LI_"
      },
      "source": [
        "Splitting the training, validation and testing data"
      ]
    },
    {
      "cell_type": "code",
      "metadata": {
        "pycharm": {
          "name": "#%%\n"
        },
        "id": "UZsRQ-N8ndZa"
      },
      "source": [
        "train_length = int(0.7*len(data_frame))\n",
        "validation_length = int(0.7*len(data_frame))+int(0.15*len(data_frame))\n",
        "\n",
        "train_data = sentences_list[0:train_length]\n",
        "val_data = sentences_list[train_length:validation_length]\n",
        "test_data = sentences_list[validation_length:]\n",
        "extended_data = zero_df['Sentence'].tolist()\n",
        "test_data.extend(extended_data)\n",
        "train_scores = labels_list[0:train_length]\n",
        "val_scores = labels_list[train_length:validation_length]\n",
        "test_scores = labels_list[validation_length:]\n",
        "extended_scores = zero_df['Subj_Score'].tolist()\n",
        "test_scores.extend(extended_scores)"
      ],
      "execution_count": null,
      "outputs": []
    },
    {
      "cell_type": "code",
      "metadata": {
        "pycharm": {
          "name": "#%%\n"
        },
        "id": "8lJzuHmqndZc",
        "colab": {
          "base_uri": "https://localhost:8080/"
        },
        "outputId": "076ec406-6357-46ba-da37-541f5de19475"
      },
      "source": [
        "print(len(train_data))\n",
        "print(len(val_data))\n",
        "print(len(test_data))\n",
        "#print(zero_df['Sentence'].tolist())"
      ],
      "execution_count": null,
      "outputs": [
        {
          "output_type": "stream",
          "text": [
            "923\n",
            "197\n",
            "469\n"
          ],
          "name": "stdout"
        }
      ]
    },
    {
      "cell_type": "markdown",
      "metadata": {
        "id": "cMCH_dcP_SrR"
      },
      "source": [
        "Initializing the AlbertTokenizer instance"
      ]
    },
    {
      "cell_type": "code",
      "metadata": {
        "pycharm": {
          "name": "#%%\n"
        },
        "id": "jdrxytRKndZh",
        "colab": {
          "base_uri": "https://localhost:8080/",
          "height": 67,
          "referenced_widgets": [
            "af476ee57b084da1adfc7a1dec39c053",
            "00b501c9fe70400897d0028c7abed80f",
            "effe29f8a782448d96154bf53fe4ee33",
            "3151141ed07c4003a1816e0b9af828b2",
            "b431bca421204132b1ec314261ee99a1",
            "8cc1a08a1d134b2d873c8d7ec72bfa7e",
            "cfa9d880f2cd4e7890d302972ebd48c4",
            "9a8a7943c00842eda0bfeccd7c5a0337"
          ]
        },
        "outputId": "9e805c89-43e5-48ff-c6ce-14c9e0035a31"
      },
      "source": [
        "albert_tokens = AlbertTokenizer.from_pretrained('albert-base-v2')"
      ],
      "execution_count": null,
      "outputs": [
        {
          "output_type": "display_data",
          "data": {
            "application/vnd.jupyter.widget-view+json": {
              "model_id": "af476ee57b084da1adfc7a1dec39c053",
              "version_minor": 0,
              "version_major": 2
            },
            "text/plain": [
              "HBox(children=(FloatProgress(value=0.0, description='Downloading', max=760289.0, style=ProgressStyle(descripti…"
            ]
          },
          "metadata": {
            "tags": []
          }
        },
        {
          "output_type": "stream",
          "text": [
            "\n"
          ],
          "name": "stdout"
        }
      ]
    },
    {
      "cell_type": "markdown",
      "metadata": {
        "id": "umxs7GG4WF0m"
      },
      "source": [
        "5-fold Cross Validation"
      ]
    },
    {
      "cell_type": "code",
      "metadata": {
        "colab": {
          "base_uri": "https://localhost:8080/",
          "height": 1000,
          "referenced_widgets": [
            "580a52624dd74b4baff85a2b6eeb8be5",
            "0e25d850fab04fa7883d571892e5c15c",
            "9a0094d13928480885925b789b1ec292",
            "a4f3bbfd8ab24ae0a2b38b3598194032",
            "a6b9fc371922425fadda9f92df35decc",
            "12887235fc97440690eb31956af30552",
            "01bb83a9242f4a4196d5670086114c1d",
            "f2ce57968fae4ba6a73138065ffbbe88",
            "5e565f4365904eb7aa3b6ad1193f0464",
            "4a505c7f3cd24c45aa9c43be8cfe0883",
            "f59ee58810294f35bbffc4158a2703de",
            "508a77f486674a86982c3801edd73682",
            "2e89aee9d59f4c5daf7a1080deb813f9",
            "10a837d870b1442aab2f0fb6d5ca58a0",
            "28a5d58dc6cd4140a2752dd19d84ab3c",
            "4a9e9da35888423cb440bb911a92aed9"
          ]
        },
        "id": "zUAQt1WjWEJl",
        "outputId": "0728adab-a8c2-4f36-84d2-f8e30d1a3067"
      },
      "source": [
        "# kfold\n",
        "from sklearn.model_selection import KFold\n",
        "kf= KFold(n_splits=5, random_state=None, shuffle=True)\n",
        "fold_no = 1\n",
        "losses_array = []\n",
        "validation_losses_array = []\n",
        "mse_array = []\n",
        "validation_mse_array = []\n",
        "for train_index_list, test_index_list in kf.split(sentences_list):\n",
        "  x_train_n = [sentences_list[index] for index in train_index_list]\n",
        "  x_test_n = [sentences_list[index] for index in test_index_list]\n",
        "  y_train_n = [labels_list[index] for index in train_index_list]\n",
        "  y_test_n = [labels_list[index] for index in test_index_list]\n",
        "\n",
        "  #do all the things\n",
        "  train_tokens_n = albert_tokens(x_train_n,\n",
        "                            truncation=True,\n",
        "                            padding=True)\n",
        "  validation_tokens_n = albert_tokens(x_test_n,\n",
        "                            truncation=True,\n",
        "                            padding=True)\n",
        "  \n",
        "  model_train_data = tf.data.Dataset.from_tensor_slices((\n",
        "    dict(train_tokens_n),\n",
        "    y_train_n\n",
        "    ))\n",
        "\n",
        "  model_val_data = tf.data.Dataset.from_tensor_slices((\n",
        "    dict(validation_tokens_n),\n",
        "    y_test_n\n",
        "    ))\n",
        "  \n",
        "  albert_regression_model = TFAlbertForSequenceClassification.from_pretrained('albert-base-v2',\n",
        "                                                              num_labels=1)\n",
        "  \n",
        "  optimizer = tf.keras.optimizers.Adam(learning_rate=0.00005)\n",
        "  albert_regression_model.compile(optimizer=optimizer, loss=albert_regression_model.compute_loss, metrics=['mean_squared_error'])\n",
        "\n",
        "  print('------------------------------------------------------------------------')\n",
        "  print(f'Training for fold {fold_no} ...')\n",
        "  history= albert_regression_model.fit(model_train_data.shuffle(100).batch(16),\n",
        "          epochs=8,\n",
        "          batch_size=16,\n",
        "          validation_data=model_val_data.shuffle(100).batch(16))\n",
        "\n",
        "  fold_no = fold_no + 1\n",
        "  losses_array.append(history.history['loss'])\n",
        "  validation_losses_array.append(history.history['val_loss'])\n",
        "  mse_array.append(history.history['mean_squared_error'])\n",
        "  validation_mse_array.append(history.history['val_mean_squared_error'])\n",
        "print(\"K fold validaiton finished..............................\")"
      ],
      "execution_count": null,
      "outputs": [
        {
          "output_type": "display_data",
          "data": {
            "application/vnd.jupyter.widget-view+json": {
              "model_id": "580a52624dd74b4baff85a2b6eeb8be5",
              "version_minor": 0,
              "version_major": 2
            },
            "text/plain": [
              "HBox(children=(FloatProgress(value=0.0, description='Downloading', max=684.0, style=ProgressStyle(description_…"
            ]
          },
          "metadata": {
            "tags": []
          }
        },
        {
          "output_type": "stream",
          "text": [
            "\n"
          ],
          "name": "stdout"
        },
        {
          "output_type": "display_data",
          "data": {
            "application/vnd.jupyter.widget-view+json": {
              "model_id": "5e565f4365904eb7aa3b6ad1193f0464",
              "version_minor": 0,
              "version_major": 2
            },
            "text/plain": [
              "HBox(children=(FloatProgress(value=0.0, description='Downloading', max=63048440.0, style=ProgressStyle(descrip…"
            ]
          },
          "metadata": {
            "tags": []
          }
        },
        {
          "output_type": "stream",
          "text": [
            "\n"
          ],
          "name": "stdout"
        },
        {
          "output_type": "stream",
          "text": [
            "Some weights of the model checkpoint at albert-base-v2 were not used when initializing TFAlbertForSequenceClassification: ['predictions']\n",
            "- This IS expected if you are initializing TFAlbertForSequenceClassification from the checkpoint of a model trained on another task or with another architecture (e.g. initializing a BertForSequenceClassification model from a BertForPretraining model).\n",
            "- This IS NOT expected if you are initializing TFAlbertForSequenceClassification from the checkpoint of a model that you expect to be exactly identical (initializing a BertForSequenceClassification model from a BertForSequenceClassification model).\n",
            "Some weights of TFAlbertForSequenceClassification were not initialized from the model checkpoint at albert-base-v2 and are newly initialized: ['classifier', 'dropout_5']\n",
            "You should probably TRAIN this model on a down-stream task to be able to use it for predictions and inference.\n"
          ],
          "name": "stderr"
        },
        {
          "output_type": "stream",
          "text": [
            "------------------------------------------------------------------------\n",
            "Training for fold 1 ...\n",
            "Epoch 1/8\n",
            "66/66 [==============================] - 33s 296ms/step - loss: 0.1679 - mean_squared_error: 0.1679 - val_loss: 0.0861 - val_mean_squared_error: 0.0861\n",
            "Epoch 2/8\n",
            "66/66 [==============================] - 17s 260ms/step - loss: 0.1014 - mean_squared_error: 0.1014 - val_loss: 0.0697 - val_mean_squared_error: 0.0697\n",
            "Epoch 3/8\n",
            "66/66 [==============================] - 17s 265ms/step - loss: 0.0874 - mean_squared_error: 0.0874 - val_loss: 0.0901 - val_mean_squared_error: 0.0901\n",
            "Epoch 4/8\n",
            "66/66 [==============================] - 18s 270ms/step - loss: 0.0744 - mean_squared_error: 0.0744 - val_loss: 0.0549 - val_mean_squared_error: 0.0549\n",
            "Epoch 5/8\n",
            "66/66 [==============================] - 18s 269ms/step - loss: 0.0491 - mean_squared_error: 0.0491 - val_loss: 0.0580 - val_mean_squared_error: 0.0580\n",
            "Epoch 6/8\n",
            "66/66 [==============================] - 18s 266ms/step - loss: 0.0313 - mean_squared_error: 0.0313 - val_loss: 0.0522 - val_mean_squared_error: 0.0522\n",
            "Epoch 7/8\n",
            "66/66 [==============================] - 18s 266ms/step - loss: 0.0202 - mean_squared_error: 0.0202 - val_loss: 0.0510 - val_mean_squared_error: 0.0510\n",
            "Epoch 8/8\n",
            "66/66 [==============================] - 18s 267ms/step - loss: 0.0174 - mean_squared_error: 0.0174 - val_loss: 0.0414 - val_mean_squared_error: 0.0414\n"
          ],
          "name": "stdout"
        },
        {
          "output_type": "stream",
          "text": [
            "Some weights of the model checkpoint at albert-base-v2 were not used when initializing TFAlbertForSequenceClassification: ['predictions']\n",
            "- This IS expected if you are initializing TFAlbertForSequenceClassification from the checkpoint of a model trained on another task or with another architecture (e.g. initializing a BertForSequenceClassification model from a BertForPretraining model).\n",
            "- This IS NOT expected if you are initializing TFAlbertForSequenceClassification from the checkpoint of a model that you expect to be exactly identical (initializing a BertForSequenceClassification model from a BertForSequenceClassification model).\n",
            "Some weights of TFAlbertForSequenceClassification were not initialized from the model checkpoint at albert-base-v2 and are newly initialized: ['dropout_11', 'classifier']\n",
            "You should probably TRAIN this model on a down-stream task to be able to use it for predictions and inference.\n"
          ],
          "name": "stderr"
        },
        {
          "output_type": "stream",
          "text": [
            "------------------------------------------------------------------------\n",
            "Training for fold 2 ...\n",
            "Epoch 1/8\n",
            "66/66 [==============================] - 32s 302ms/step - loss: 0.1190 - mean_squared_error: 0.1190 - val_loss: 0.0982 - val_mean_squared_error: 0.0982\n",
            "Epoch 2/8\n",
            "66/66 [==============================] - 18s 272ms/step - loss: 0.1066 - mean_squared_error: 0.1066 - val_loss: 0.1194 - val_mean_squared_error: 0.1194\n",
            "Epoch 3/8\n",
            "66/66 [==============================] - 18s 269ms/step - loss: 0.1105 - mean_squared_error: 0.1105 - val_loss: 0.0723 - val_mean_squared_error: 0.0723\n",
            "Epoch 4/8\n",
            "66/66 [==============================] - 17s 265ms/step - loss: 0.0887 - mean_squared_error: 0.0887 - val_loss: 0.0626 - val_mean_squared_error: 0.0626\n",
            "Epoch 5/8\n",
            "66/66 [==============================] - 18s 266ms/step - loss: 0.0621 - mean_squared_error: 0.0621 - val_loss: 0.0628 - val_mean_squared_error: 0.0628\n",
            "Epoch 6/8\n",
            "66/66 [==============================] - 18s 268ms/step - loss: 0.0423 - mean_squared_error: 0.0423 - val_loss: 0.0416 - val_mean_squared_error: 0.0416\n",
            "Epoch 7/8\n",
            "66/66 [==============================] - 18s 268ms/step - loss: 0.0326 - mean_squared_error: 0.0326 - val_loss: 0.0583 - val_mean_squared_error: 0.0583\n",
            "Epoch 8/8\n",
            "66/66 [==============================] - 18s 267ms/step - loss: 0.0266 - mean_squared_error: 0.0266 - val_loss: 0.0410 - val_mean_squared_error: 0.0410\n"
          ],
          "name": "stdout"
        },
        {
          "output_type": "stream",
          "text": [
            "Some weights of the model checkpoint at albert-base-v2 were not used when initializing TFAlbertForSequenceClassification: ['predictions']\n",
            "- This IS expected if you are initializing TFAlbertForSequenceClassification from the checkpoint of a model trained on another task or with another architecture (e.g. initializing a BertForSequenceClassification model from a BertForPretraining model).\n",
            "- This IS NOT expected if you are initializing TFAlbertForSequenceClassification from the checkpoint of a model that you expect to be exactly identical (initializing a BertForSequenceClassification model from a BertForSequenceClassification model).\n",
            "Some weights of TFAlbertForSequenceClassification were not initialized from the model checkpoint at albert-base-v2 and are newly initialized: ['classifier', 'dropout_17']\n",
            "You should probably TRAIN this model on a down-stream task to be able to use it for predictions and inference.\n"
          ],
          "name": "stderr"
        },
        {
          "output_type": "stream",
          "text": [
            "------------------------------------------------------------------------\n",
            "Training for fold 3 ...\n",
            "Epoch 1/8\n",
            "66/66 [==============================] - 30s 265ms/step - loss: 0.1435 - mean_squared_error: 0.1435 - val_loss: 0.0849 - val_mean_squared_error: 0.0849\n",
            "Epoch 2/8\n",
            "66/66 [==============================] - 15s 234ms/step - loss: 0.0929 - mean_squared_error: 0.0929 - val_loss: 0.0734 - val_mean_squared_error: 0.0734\n",
            "Epoch 3/8\n",
            "66/66 [==============================] - 15s 234ms/step - loss: 0.0785 - mean_squared_error: 0.0785 - val_loss: 0.0660 - val_mean_squared_error: 0.0660\n",
            "Epoch 4/8\n",
            "66/66 [==============================] - 15s 232ms/step - loss: 0.0546 - mean_squared_error: 0.0546 - val_loss: 0.0625 - val_mean_squared_error: 0.0625\n",
            "Epoch 5/8\n",
            "66/66 [==============================] - 15s 229ms/step - loss: 0.0438 - mean_squared_error: 0.0438 - val_loss: 0.1369 - val_mean_squared_error: 0.1369\n",
            "Epoch 6/8\n",
            "66/66 [==============================] - 15s 229ms/step - loss: 0.0875 - mean_squared_error: 0.0875 - val_loss: 0.0463 - val_mean_squared_error: 0.0463\n",
            "Epoch 7/8\n",
            "66/66 [==============================] - 15s 230ms/step - loss: 0.0594 - mean_squared_error: 0.0594 - val_loss: 0.0851 - val_mean_squared_error: 0.0851\n",
            "Epoch 8/8\n",
            "66/66 [==============================] - 15s 232ms/step - loss: 0.0575 - mean_squared_error: 0.0575 - val_loss: 0.0557 - val_mean_squared_error: 0.0557\n"
          ],
          "name": "stdout"
        },
        {
          "output_type": "stream",
          "text": [
            "Some weights of the model checkpoint at albert-base-v2 were not used when initializing TFAlbertForSequenceClassification: ['predictions']\n",
            "- This IS expected if you are initializing TFAlbertForSequenceClassification from the checkpoint of a model trained on another task or with another architecture (e.g. initializing a BertForSequenceClassification model from a BertForPretraining model).\n",
            "- This IS NOT expected if you are initializing TFAlbertForSequenceClassification from the checkpoint of a model that you expect to be exactly identical (initializing a BertForSequenceClassification model from a BertForSequenceClassification model).\n",
            "Some weights of TFAlbertForSequenceClassification were not initialized from the model checkpoint at albert-base-v2 and are newly initialized: ['dropout_23', 'classifier']\n",
            "You should probably TRAIN this model on a down-stream task to be able to use it for predictions and inference.\n"
          ],
          "name": "stderr"
        },
        {
          "output_type": "stream",
          "text": [
            "------------------------------------------------------------------------\n",
            "Training for fold 4 ...\n",
            "Epoch 1/8\n",
            "66/66 [==============================] - 32s 301ms/step - loss: 0.1676 - mean_squared_error: 0.1676 - val_loss: 0.1198 - val_mean_squared_error: 0.1198\n",
            "Epoch 2/8\n",
            "66/66 [==============================] - 18s 271ms/step - loss: 0.1012 - mean_squared_error: 0.1012 - val_loss: 0.0668 - val_mean_squared_error: 0.0668\n",
            "Epoch 3/8\n",
            "66/66 [==============================] - 18s 269ms/step - loss: 0.0677 - mean_squared_error: 0.0677 - val_loss: 0.0675 - val_mean_squared_error: 0.0675\n",
            "Epoch 4/8\n",
            "66/66 [==============================] - 17s 265ms/step - loss: 0.0625 - mean_squared_error: 0.0625 - val_loss: 0.1357 - val_mean_squared_error: 0.1357\n",
            "Epoch 5/8\n",
            "66/66 [==============================] - 17s 263ms/step - loss: 0.1105 - mean_squared_error: 0.1105 - val_loss: 0.0958 - val_mean_squared_error: 0.0958\n",
            "Epoch 6/8\n",
            "66/66 [==============================] - 17s 264ms/step - loss: 0.1031 - mean_squared_error: 0.1031 - val_loss: 0.0963 - val_mean_squared_error: 0.0963\n",
            "Epoch 7/8\n",
            "66/66 [==============================] - 17s 265ms/step - loss: 0.1028 - mean_squared_error: 0.1028 - val_loss: 0.0977 - val_mean_squared_error: 0.0977\n",
            "Epoch 8/8\n",
            "66/66 [==============================] - 17s 265ms/step - loss: 0.1015 - mean_squared_error: 0.1015 - val_loss: 0.0960 - val_mean_squared_error: 0.0960\n"
          ],
          "name": "stdout"
        },
        {
          "output_type": "stream",
          "text": [
            "Some weights of the model checkpoint at albert-base-v2 were not used when initializing TFAlbertForSequenceClassification: ['predictions']\n",
            "- This IS expected if you are initializing TFAlbertForSequenceClassification from the checkpoint of a model trained on another task or with another architecture (e.g. initializing a BertForSequenceClassification model from a BertForPretraining model).\n",
            "- This IS NOT expected if you are initializing TFAlbertForSequenceClassification from the checkpoint of a model that you expect to be exactly identical (initializing a BertForSequenceClassification model from a BertForSequenceClassification model).\n",
            "Some weights of TFAlbertForSequenceClassification were not initialized from the model checkpoint at albert-base-v2 and are newly initialized: ['classifier', 'dropout_29']\n",
            "You should probably TRAIN this model on a down-stream task to be able to use it for predictions and inference.\n"
          ],
          "name": "stderr"
        },
        {
          "output_type": "stream",
          "text": [
            "------------------------------------------------------------------------\n",
            "Training for fold 5 ...\n",
            "Epoch 1/8\n",
            "66/66 [==============================] - 32s 302ms/step - loss: 0.1535 - mean_squared_error: 0.1535 - val_loss: 0.0879 - val_mean_squared_error: 0.0879\n",
            "Epoch 2/8\n",
            "66/66 [==============================] - 18s 272ms/step - loss: 0.1181 - mean_squared_error: 0.1181 - val_loss: 0.0895 - val_mean_squared_error: 0.0895\n",
            "Epoch 3/8\n",
            "66/66 [==============================] - 18s 271ms/step - loss: 0.1067 - mean_squared_error: 0.1067 - val_loss: 0.0940 - val_mean_squared_error: 0.0940\n",
            "Epoch 4/8\n",
            "66/66 [==============================] - 18s 267ms/step - loss: 0.1041 - mean_squared_error: 0.1041 - val_loss: 0.0852 - val_mean_squared_error: 0.0852\n",
            "Epoch 5/8\n",
            "66/66 [==============================] - 18s 266ms/step - loss: 0.1040 - mean_squared_error: 0.1040 - val_loss: 0.0887 - val_mean_squared_error: 0.0887\n",
            "Epoch 6/8\n",
            "66/66 [==============================] - 18s 268ms/step - loss: 0.1077 - mean_squared_error: 0.1077 - val_loss: 0.0913 - val_mean_squared_error: 0.0913\n",
            "Epoch 7/8\n",
            "66/66 [==============================] - 18s 270ms/step - loss: 0.0953 - mean_squared_error: 0.0953 - val_loss: 0.0600 - val_mean_squared_error: 0.0600\n",
            "Epoch 8/8\n",
            "66/66 [==============================] - 18s 269ms/step - loss: 0.0738 - mean_squared_error: 0.0738 - val_loss: 0.0703 - val_mean_squared_error: 0.0703\n",
            "K fold validaiton finished..............................\n"
          ],
          "name": "stdout"
        }
      ]
    },
    {
      "cell_type": "markdown",
      "metadata": {
        "id": "GyTUYNbl1IJc"
      },
      "source": [
        "Plots of Traning and Validation Losses and metrics of the models of 5-fold cross validation"
      ]
    },
    {
      "cell_type": "code",
      "metadata": {
        "colab": {
          "base_uri": "https://localhost:8080/",
          "height": 301
        },
        "id": "QC2T7hiJkH2B",
        "outputId": "ad1a1e6e-ae85-4184-f179-ec60bb90f372"
      },
      "source": [
        "import matplotlib.pyplot as plt\n",
        "from statistics import mean\n",
        "\n",
        "fold = 1\n",
        "\n",
        "def plot_loss(fold):\n",
        "  plt.plot(losses_array[fold-1], label='loss')\n",
        "  plt.plot(validation_losses_array[fold-1], label='val_loss')\n",
        "  plt.ylim([0, 0.15])\n",
        "  plt.title('Training and Validation loss for fold: '+str(fold)+', Mean Loss: '+str(mean(losses_array[fold-1]))+', Mean Validation Loss: '+str(mean(validation_losses_array[fold-1])))\n",
        "  plt.xlabel('Epoch')\n",
        "  plt.ylabel('Error')\n",
        "  plt.legend()\n",
        "  plt.grid(True)\n",
        "\n",
        "plot_loss(fold)\n"
      ],
      "execution_count": null,
      "outputs": [
        {
          "output_type": "display_data",
          "data": {
            "image/png": "[encoded data removed]",
            "text/plain": [
              "<Figure size 432x288 with 1 Axes>"
            ]
          },
          "metadata": {
            "tags": []
          }
        }
      ]
    },
    {
      "cell_type": "code",
      "metadata": {
        "colab": {
          "base_uri": "https://localhost:8080/",
          "height": 301
        },
        "id": "j7RF4oo-1Dsw",
        "outputId": "0036df66-9d1a-49b5-9d50-2a35f81cad6f"
      },
      "source": [
        "def plot_mse(fold):\n",
        "  plt.plot(mse_array[fold-1], label='MSE')\n",
        "  plt.plot(validation_mse_array[fold-1], label='val_MSE')\n",
        "  plt.ylim([0, 0.15])\n",
        "  plt.title('Training and Validation MSE for fold: '+str(fold)+', Mean MSE: '+str(mean(mse_array[fold-1]))+', Mean Validation MSE: '+str(mean(validation_mse_array[fold-1])))\n",
        "  plt.xlabel('Epoch')\n",
        "  plt.ylabel('Error')\n",
        "  plt.legend()\n",
        "  plt.grid(True)\n",
        "\n",
        "plot_mse(fold)"
      ],
      "execution_count": null,
      "outputs": [
        {
          "output_type": "display_data",
          "data": {
            "image/png": "[encoded data removed]",
            "text/plain": [
              "<Figure size 432x288 with 1 Axes>"
            ]
          },
          "metadata": {
            "tags": []
          }
        }
      ]
    },
    {
      "cell_type": "code",
      "metadata": {
        "colab": {
          "base_uri": "https://localhost:8080/",
          "height": 301
        },
        "id": "rO9QFEra2DXT",
        "outputId": "90b66f65-75f7-4d96-9d33-d9120af43c27"
      },
      "source": [
        "fold = 2\n",
        "\n",
        "def plot_loss(fold):\n",
        "  plt.plot(losses_array[fold-1], label='loss')\n",
        "  plt.plot(validation_losses_array[fold-1], label='val_loss')\n",
        "  plt.ylim([0, 0.15])\n",
        "  plt.title('Training and Validation loss for fold: '+str(fold)+', Mean Loss: '+str(mean(losses_array[fold-1]))+', Mean Validation Loss: '+str(mean(validation_losses_array[fold-1])))\n",
        "  plt.xlabel('Epoch')\n",
        "  plt.ylabel('Error')\n",
        "  plt.legend()\n",
        "  plt.grid(True)\n",
        "\n",
        "plot_loss(fold)\n"
      ],
      "execution_count": null,
      "outputs": [
        {
          "output_type": "display_data",
          "data": {
            "image/png": "[encoded data removed]",
            "text/plain": [
              "<Figure size 432x288 with 1 Axes>"
            ]
          },
          "metadata": {
            "tags": []
          }
        }
      ]
    },
    {
      "cell_type": "code",
      "metadata": {
        "colab": {
          "base_uri": "https://localhost:8080/",
          "height": 301
        },
        "id": "qPhcmm1S2I8u",
        "outputId": "8942c237-2f7b-4392-8374-0185fcc06f82"
      },
      "source": [
        "def plot_mse(fold):\n",
        "  plt.plot(mse_array[fold-1], label='MSE')\n",
        "  plt.plot(validation_mse_array[fold-1], label='val_MSE')\n",
        "  plt.ylim([0, 0.15])\n",
        "  plt.title('Training and Validation MSE for fold: '+str(fold)+', Mean MSE: '+str(mean(mse_array[fold-1]))+', Mean Validation MSE: '+str(mean(validation_mse_array[fold-1])))\n",
        "  plt.xlabel('Epoch')\n",
        "  plt.ylabel('Error')\n",
        "  plt.legend()\n",
        "  plt.grid(True)\n",
        "\n",
        "plot_mse(fold)"
      ],
      "execution_count": null,
      "outputs": [
        {
          "output_type": "display_data",
          "data": {
            "image/png": "[encoded data removed]",
            "text/plain": [
              "<Figure size 432x288 with 1 Axes>"
            ]
          },
          "metadata": {
            "tags": []
          }
        }
      ]
    },
    {
      "cell_type": "code",
      "metadata": {
        "colab": {
          "base_uri": "https://localhost:8080/",
          "height": 301
        },
        "id": "AiWlZa6E2NXb",
        "outputId": "a43d618d-1f0d-44d2-aa61-2b0e4be60ef8"
      },
      "source": [
        "fold = 3\n",
        "\n",
        "def plot_loss(fold):\n",
        "  plt.plot(losses_array[fold-1], label='loss')\n",
        "  plt.plot(validation_losses_array[fold-1], label='val_loss')\n",
        "  plt.ylim([0, 0.15])\n",
        "  plt.title('Training and Validation loss for fold: '+str(fold)+', Mean Loss: '+str(mean(losses_array[fold-1]))+', Mean Validation Loss: '+str(mean(validation_losses_array[fold-1])))\n",
        "  plt.xlabel('Epoch')\n",
        "  plt.ylabel('Error')\n",
        "  plt.legend()\n",
        "  plt.grid(True)\n",
        "\n",
        "plot_loss(fold)\n"
      ],
      "execution_count": null,
      "outputs": [
        {
          "output_type": "display_data",
          "data": {
            "image/png": "[encoded data removed]",
            "text/plain": [
              "<Figure size 432x288 with 1 Axes>"
            ]
          },
          "metadata": {
            "tags": []
          }
        }
      ]
    },
    {
      "cell_type": "code",
      "metadata": {
        "colab": {
          "base_uri": "https://localhost:8080/",
          "height": 301
        },
        "id": "xtW82e8P2SQ7",
        "outputId": "b1ccce45-02e2-4620-d86a-189c27d27af9"
      },
      "source": [
        "def plot_mse(fold):\n",
        "  plt.plot(mse_array[fold-1], label='MSE')\n",
        "  plt.plot(validation_mse_array[fold-1], label='val_MSE')\n",
        "  plt.ylim([0, 0.15])\n",
        "  plt.title('Training and Validation MSE for fold: '+str(fold)+', Mean MSE: '+str(mean(mse_array[fold-1]))+', Mean Validation MSE: '+str(mean(validation_mse_array[fold-1])))\n",
        "  plt.xlabel('Epoch')\n",
        "  plt.ylabel('Error')\n",
        "  plt.legend()\n",
        "  plt.grid(True)\n",
        "\n",
        "plot_mse(fold)"
      ],
      "execution_count": null,
      "outputs": [
        {
          "output_type": "display_data",
          "data": {
            "image/png": "[encoded data removed]",
            "text/plain": [
              "<Figure size 432x288 with 1 Axes>"
            ]
          },
          "metadata": {
            "tags": []
          }
        }
      ]
    },
    {
      "cell_type": "code",
      "metadata": {
        "colab": {
          "base_uri": "https://localhost:8080/",
          "height": 301
        },
        "id": "qifgNnUD2ZTx",
        "outputId": "6f7243b6-9310-4b1f-d6bb-64c1193af082"
      },
      "source": [
        "fold = 4\n",
        "\n",
        "def plot_loss(fold):\n",
        "  plt.plot(losses_array[fold-1], label='loss')\n",
        "  plt.plot(validation_losses_array[fold-1], label='val_loss')\n",
        "  plt.ylim([0, 0.15])\n",
        "  plt.title('Training and Validation loss for fold: '+str(fold)+', Mean Loss: '+str(mean(losses_array[fold-1]))+', Mean Validation Loss: '+str(mean(validation_losses_array[fold-1])))\n",
        "  plt.xlabel('Epoch')\n",
        "  plt.ylabel('Error')\n",
        "  plt.legend()\n",
        "  plt.grid(True)\n",
        "\n",
        "plot_loss(fold)\n"
      ],
      "execution_count": null,
      "outputs": [
        {
          "output_type": "display_data",
          "data": {
            "image/png": "[encoded data removed]",
            "text/plain": [
              "<Figure size 432x288 with 1 Axes>"
            ]
          },
          "metadata": {
            "tags": []
          }
        }
      ]
    },
    {
      "cell_type": "code",
      "metadata": {
        "colab": {
          "base_uri": "https://localhost:8080/",
          "height": 301
        },
        "id": "vNJFpfeI2e70",
        "outputId": "38f70885-064f-42da-960a-709d3389c6c9"
      },
      "source": [
        "def plot_mse(fold):\n",
        "  plt.plot(mse_array[fold-1], label='MSE')\n",
        "  plt.plot(validation_mse_array[fold-1], label='val_MSE')\n",
        "  plt.ylim([0, 0.15])\n",
        "  plt.title('Training and Validation MSE for fold: '+str(fold)+', Mean MSE: '+str(mean(mse_array[fold-1]))+', Mean Validation MSE: '+str(mean(validation_mse_array[fold-1])))\n",
        "  plt.xlabel('Epoch')\n",
        "  plt.ylabel('Error')\n",
        "  plt.legend()\n",
        "  plt.grid(True)\n",
        "\n",
        "plot_mse(fold)"
      ],
      "execution_count": null,
      "outputs": [
        {
          "output_type": "display_data",
          "data": {
            "image/png": "[encoded data removed]",
            "text/plain": [
              "<Figure size 432x288 with 1 Axes>"
            ]
          },
          "metadata": {
            "tags": []
          }
        }
      ]
    },
    {
      "cell_type": "code",
      "metadata": {
        "colab": {
          "base_uri": "https://localhost:8080/",
          "height": 301
        },
        "id": "NLT0_a8I2hcB",
        "outputId": "fe598424-56be-476c-cc9c-f6f89780f7ad"
      },
      "source": [
        "fold = 5\n",
        "\n",
        "def plot_loss(fold):\n",
        "  plt.plot(losses_array[fold-1], label='loss')\n",
        "  plt.plot(validation_losses_array[fold-1], label='val_loss')\n",
        "  plt.ylim([0, 0.15])\n",
        "  plt.title('Training and Validation loss for fold: '+str(fold)+', Mean Loss: '+str(mean(losses_array[fold-1]))+', Mean Validation Loss: '+str(mean(validation_losses_array[fold-1])))\n",
        "  plt.xlabel('Epoch')\n",
        "  plt.ylabel('Error')\n",
        "  plt.legend()\n",
        "  plt.grid(True)\n",
        "\n",
        "plot_loss(fold)\n"
      ],
      "execution_count": null,
      "outputs": [
        {
          "output_type": "display_data",
          "data": {
            "image/png": "[encoded data removed]",
            "text/plain": [
              "<Figure size 432x288 with 1 Axes>"
            ]
          },
          "metadata": {
            "tags": []
          }
        }
      ]
    },
    {
      "cell_type": "code",
      "metadata": {
        "colab": {
          "base_uri": "https://localhost:8080/",
          "height": 301
        },
        "id": "ofHjdMhg2l46",
        "outputId": "4eff0dcf-cbd7-4136-fd60-5e3e7e65c4a9"
      },
      "source": [
        "def plot_mse(fold):\n",
        "  plt.plot(mse_array[fold-1], label='MSE')\n",
        "  plt.plot(validation_mse_array[fold-1], label='val_MSE')\n",
        "  plt.ylim([0, 0.15])\n",
        "  plt.title('Training and Validation MSE for fold: '+str(fold)+', Mean MSE: '+str(mean(mse_array[fold-1]))+', Mean Validation MSE: '+str(mean(validation_mse_array[fold-1])))\n",
        "  plt.xlabel('Epoch')\n",
        "  plt.ylabel('Error')\n",
        "  plt.legend()\n",
        "  plt.grid(True)\n",
        "\n",
        "plot_mse(fold)"
      ],
      "execution_count": null,
      "outputs": [
        {
          "output_type": "display_data",
          "data": {
            "image/png": "[encoded data removed]",
            "text/plain": [
              "<Figure size 432x288 with 1 Axes>"
            ]
          },
          "metadata": {
            "tags": []
          }
        }
      ]
    },
    {
      "cell_type": "code",
      "metadata": {
        "colab": {
          "base_uri": "https://localhost:8080/"
        },
        "id": "tjWc0HOwqh4q",
        "outputId": "8b71d875-2427-4339-cb9d-d233048acceb"
      },
      "source": [
        "len(train_data[1])"
      ],
      "execution_count": null,
      "outputs": [
        {
          "output_type": "execute_result",
          "data": {
            "text/plain": [
              "193"
            ]
          },
          "metadata": {
            "tags": []
          },
          "execution_count": 49
        }
      ]
    },
    {
      "cell_type": "markdown",
      "metadata": {
        "id": "tI1kEMN7_cje"
      },
      "source": [
        "Tokenizing the Input sentences"
      ]
    },
    {
      "cell_type": "code",
      "metadata": {
        "pycharm": {
          "name": "#%%\n"
        },
        "id": "KCxtcxObndZk"
      },
      "source": [
        "train_tokens = albert_tokens(train_data,\n",
        "                            truncation=True,\n",
        "                            padding=True)\n",
        "validation_tokens = albert_tokens(val_data,\n",
        "                            truncation=True,\n",
        "                            padding=True)"
      ],
      "execution_count": null,
      "outputs": []
    },
    {
      "cell_type": "markdown",
      "metadata": {
        "id": "WmZFJnU__h75"
      },
      "source": [
        "Vocabulary of the ALBERT pre-trained model"
      ]
    },
    {
      "cell_type": "code",
      "metadata": {
        "colab": {
          "base_uri": "https://localhost:8080/"
        },
        "id": "gIC9u97EscXT",
        "outputId": "f30d675a-4919-4606-f82b-0bbdbe7a4165"
      },
      "source": [
        "albert_tokens.get_vocab()"
      ],
      "execution_count": null,
      "outputs": [
        {
          "output_type": "execute_result",
          "data": {
            "text/plain": [
              "{'<pad>': 0,\n",
              " '<unk>': 1,\n",
              " '[CLS]': 2,\n",
              " '[SEP]': 3,\n",
              " '[MASK]': 4,\n",
              " '(': 5,\n",
              " ')': 6,\n",
              " '\"': 7,\n",
              " '-': 8,\n",
              " '.': 9,\n",
              " '–': 10,\n",
              " '£': 11,\n",
              " '€': 12,\n",
              " '▁': 13,\n",
              " '▁the': 14,\n",
              " ',': 15,\n",
              " '▁of': 16,\n",
              " '▁and': 17,\n",
              " 's': 18,\n",
              " '▁in': 19,\n",
              " '▁to': 20,\n",
              " '▁a': 21,\n",
              " \"'\": 22,\n",
              " '▁was': 23,\n",
              " '▁he': 24,\n",
              " '▁is': 25,\n",
              " '▁for': 26,\n",
              " '▁on': 27,\n",
              " '▁as': 28,\n",
              " '▁with': 29,\n",
              " '▁that': 30,\n",
              " '▁i': 31,\n",
              " '▁it': 32,\n",
              " '▁his': 33,\n",
              " '▁by': 34,\n",
              " '▁at': 35,\n",
              " '▁her': 36,\n",
              " '▁from': 37,\n",
              " 't': 38,\n",
              " '▁she': 39,\n",
              " '▁an': 40,\n",
              " '▁had': 41,\n",
              " '▁you': 42,\n",
              " 'd': 43,\n",
              " '▁be': 44,\n",
              " ':': 45,\n",
              " '▁were': 46,\n",
              " '▁but': 47,\n",
              " '▁this': 48,\n",
              " 'i': 49,\n",
              " '▁are': 50,\n",
              " '▁my': 51,\n",
              " '▁not': 52,\n",
              " '▁one': 53,\n",
              " '▁or': 54,\n",
              " '▁me': 55,\n",
              " '▁which': 56,\n",
              " '▁have': 57,\n",
              " 'a': 58,\n",
              " '▁they': 59,\n",
              " '?': 60,\n",
              " '▁him': 61,\n",
              " 'e': 62,\n",
              " '▁has': 63,\n",
              " '▁first': 64,\n",
              " '▁all': 65,\n",
              " '▁their': 66,\n",
              " '▁also': 67,\n",
              " 'ing': 68,\n",
              " 'ed': 69,\n",
              " '▁out': 70,\n",
              " '▁up': 71,\n",
              " '▁who': 72,\n",
              " ';': 73,\n",
              " '▁been': 74,\n",
              " '▁after': 75,\n",
              " '▁when': 76,\n",
              " '▁into': 77,\n",
              " '▁new': 78,\n",
              " 'm': 79,\n",
              " '▁there': 80,\n",
              " '▁two': 81,\n",
              " '▁its': 82,\n",
              " '▁would': 83,\n",
              " '▁over': 84,\n",
              " '▁time': 85,\n",
              " '▁so': 86,\n",
              " '▁said': 87,\n",
              " '▁about': 88,\n",
              " '▁other': 89,\n",
              " '▁no': 90,\n",
              " '▁more': 91,\n",
              " '▁can': 92,\n",
              " 'y': 93,\n",
              " '▁then': 94,\n",
              " '▁we': 95,\n",
              " 'th': 96,\n",
              " '▁back': 97,\n",
              " '▁what': 98,\n",
              " 're': 99,\n",
              " '▁if': 100,\n",
              " '▁like': 101,\n",
              " 'ly': 102,\n",
              " 'n': 103,\n",
              " '▁only': 104,\n",
              " '▁them': 105,\n",
              " 'er': 106,\n",
              " '▁do': 107,\n",
              " 'in': 108,\n",
              " '▁some': 109,\n",
              " '▁could': 110,\n",
              " 'o': 111,\n",
              " '▁during': 112,\n",
              " '▁where': 113,\n",
              " '▁just': 114,\n",
              " '▁before': 115,\n",
              " '▁school': 116,\n",
              " '▁made': 117,\n",
              " '/': 118,\n",
              " '▁than': 119,\n",
              " '▁through': 120,\n",
              " '▁de': 121,\n",
              " '▁years': 122,\n",
              " '▁may': 123,\n",
              " 'the': 124,\n",
              " '▁down': 125,\n",
              " '▁world': 126,\n",
              " '▁most': 127,\n",
              " '▁between': 128,\n",
              " '▁will': 129,\n",
              " '▁now': 130,\n",
              " '▁under': 131,\n",
              " '▁three': 132,\n",
              " '▁while': 133,\n",
              " '▁well': 134,\n",
              " '2': 135,\n",
              " '▁city': 136,\n",
              " '▁1': 137,\n",
              " '▁later': 138,\n",
              " 'r': 139,\n",
              " '▁around': 140,\n",
              " '▁part': 141,\n",
              " '▁being': 142,\n",
              " '▁know': 143,\n",
              " '▁did': 144,\n",
              " '▁such': 145,\n",
              " '▁state': 146,\n",
              " '▁used': 147,\n",
              " '▁people': 148,\n",
              " '▁against': 149,\n",
              " 'c': 150,\n",
              " '▁many': 151,\n",
              " '▁national': 152,\n",
              " '▁second': 153,\n",
              " '▁your': 154,\n",
              " '▁university': 155,\n",
              " '▁both': 156,\n",
              " '▁head': 157,\n",
              " '▁these': 158,\n",
              " '▁year': 159,\n",
              " 'es': 160,\n",
              " '▁way': 161,\n",
              " '▁go': 162,\n",
              " '▁until': 163,\n",
              " '▁get': 164,\n",
              " '1': 165,\n",
              " '▁even': 166,\n",
              " '▁known': 167,\n",
              " '▁off': 168,\n",
              " '▁man': 169,\n",
              " '▁work': 170,\n",
              " '▁film': 171,\n",
              " '▁2': 172,\n",
              " '▁team': 173,\n",
              " '▁still': 174,\n",
              " '▁long': 175,\n",
              " '▁war': 176,\n",
              " 'man': 177,\n",
              " '▁became': 178,\n",
              " '▁since': 179,\n",
              " '▁south': 180,\n",
              " '▁united': 181,\n",
              " '▁us': 182,\n",
              " '▁high': 183,\n",
              " '▁how': 184,\n",
              " '▁because': 185,\n",
              " '▁any': 186,\n",
              " '!': 187,\n",
              " '▁again': 188,\n",
              " '▁american': 189,\n",
              " '▁family': 190,\n",
              " '▁house': 191,\n",
              " 'al': 192,\n",
              " '▁right': 193,\n",
              " '▁eyes': 194,\n",
              " 've': 195,\n",
              " '▁see': 196,\n",
              " 'k': 197,\n",
              " '▁season': 198,\n",
              " '▁took': 199,\n",
              " '▁north': 200,\n",
              " '▁life': 201,\n",
              " '▁states': 202,\n",
              " '▁3': 203,\n",
              " '▁name': 204,\n",
              " '▁same': 205,\n",
              " '▁each': 206,\n",
              " '▁however': 207,\n",
              " '▁day': 208,\n",
              " '▁place': 209,\n",
              " 'an': 210,\n",
              " 'll': 211,\n",
              " '▁much': 212,\n",
              " '▁home': 213,\n",
              " '▁group': 214,\n",
              " '▁including': 215,\n",
              " '▁found': 216,\n",
              " '▁area': 217,\n",
              " 'on': 218,\n",
              " 'en': 219,\n",
              " 'b': 220,\n",
              " '▁don': 221,\n",
              " '▁four': 222,\n",
              " '▁didn': 223,\n",
              " '▁hand': 224,\n",
              " '▁left': 225,\n",
              " '▁another': 226,\n",
              " '▁called': 227,\n",
              " '▁going': 228,\n",
              " '▁away': 229,\n",
              " '▁won': 230,\n",
              " '▁series': 231,\n",
              " '▁music': 232,\n",
              " '▁make': 233,\n",
              " '▁number': 234,\n",
              " '▁here': 235,\n",
              " '▁last': 236,\n",
              " '▁company': 237,\n",
              " '▁several': 238,\n",
              " '▁john': 239,\n",
              " '3': 240,\n",
              " '▁end': 241,\n",
              " 'it': 242,\n",
              " '▁never': 243,\n",
              " '▁album': 244,\n",
              " 'you': 245,\n",
              " '▁best': 246,\n",
              " '▁take': 247,\n",
              " 'or': 248,\n",
              " '▁following': 249,\n",
              " '▁game': 250,\n",
              " 'no': 251,\n",
              " 'h': 252,\n",
              " '▁very': 253,\n",
              " '▁good': 254,\n",
              " 'l': 255,\n",
              " '▁district': 256,\n",
              " '▁played': 257,\n",
              " '▁own': 258,\n",
              " '▁want': 259,\n",
              " '▁began': 260,\n",
              " '▁released': 261,\n",
              " 'to': 262,\n",
              " 'g': 263,\n",
              " '5': 264,\n",
              " '▁little': 265,\n",
              " '▁too': 266,\n",
              " 'us': 267,\n",
              " '▁4': 268,\n",
              " '▁held': 269,\n",
              " '▁side': 270,\n",
              " '▁county': 271,\n",
              " '▁c': 272,\n",
              " '▁those': 273,\n",
              " '▁early': 274,\n",
              " '▁use': 275,\n",
              " '▁face': 276,\n",
              " '▁think': 277,\n",
              " '▁league': 278,\n",
              " '▁&': 279,\n",
              " '▁west': 280,\n",
              " '▁came': 281,\n",
              " '▁air': 282,\n",
              " '▁government': 283,\n",
              " '▁small': 284,\n",
              " '▁march': 285,\n",
              " '▁town': 286,\n",
              " '▁u': 287,\n",
              " '▁club': 288,\n",
              " '▁thought': 289,\n",
              " 'and': 290,\n",
              " 'u': 291,\n",
              " '▁looked': 292,\n",
              " '▁line': 293,\n",
              " '▁international': 294,\n",
              " '▁june': 295,\n",
              " '▁went': 296,\n",
              " '▁general': 297,\n",
              " '▁show': 298,\n",
              " '▁september': 299,\n",
              " '4': 300,\n",
              " '▁something': 301,\n",
              " '▁re': 302,\n",
              " '▁along': 303,\n",
              " '▁men': 304,\n",
              " '▁york': 305,\n",
              " 'p': 306,\n",
              " '▁m': 307,\n",
              " '▁water': 308,\n",
              " '▁set': 309,\n",
              " '▁few': 310,\n",
              " '▁october': 311,\n",
              " '▁station': 312,\n",
              " '▁july': 313,\n",
              " '▁college': 314,\n",
              " '▁old': 315,\n",
              " '▁august': 316,\n",
              " '▁public': 317,\n",
              " '▁our': 318,\n",
              " '▁black': 319,\n",
              " '▁january': 320,\n",
              " '▁father': 321,\n",
              " '▁member': 322,\n",
              " '▁band': 323,\n",
              " '▁church': 324,\n",
              " 'na': 325,\n",
              " '▁co': 326,\n",
              " '▁april': 327,\n",
              " '▁next': 328,\n",
              " '▁system': 329,\n",
              " '▁got': 330,\n",
              " '▁5': 331,\n",
              " '▁10': 332,\n",
              " '▁la': 333,\n",
              " '▁b': 334,\n",
              " '▁located': 335,\n",
              " '▁former': 336,\n",
              " '▁room': 337,\n",
              " '▁song': 338,\n",
              " '▁love': 339,\n",
              " '▁come': 340,\n",
              " '▁river': 341,\n",
              " '▁east': 342,\n",
              " '▁night': 343,\n",
              " '▁november': 344,\n",
              " '▁single': 345,\n",
              " '▁party': 346,\n",
              " '▁16': 347,\n",
              " '▁age': 348,\n",
              " '▁car': 349,\n",
              " '▁population': 350,\n",
              " '▁p': 351,\n",
              " '▁every': 352,\n",
              " '▁building': 353,\n",
              " '▁st': 354,\n",
              " '▁five': 355,\n",
              " '▁december': 356,\n",
              " '▁15': 357,\n",
              " '▁body': 358,\n",
              " '▁white': 359,\n",
              " '▁book': 360,\n",
              " '▁look': 361,\n",
              " '▁though': 362,\n",
              " '▁within': 363,\n",
              " '▁women': 364,\n",
              " '▁service': 365,\n",
              " '▁without': 366,\n",
              " '▁un': 367,\n",
              " '▁open': 368,\n",
              " '▁17': 369,\n",
              " '▁large': 370,\n",
              " '▁top': 371,\n",
              " '▁death': 372,\n",
              " '▁started': 373,\n",
              " '▁great': 374,\n",
              " '▁local': 375,\n",
              " '▁need': 376,\n",
              " '▁named': 377,\n",
              " '▁should': 378,\n",
              " '6': 379,\n",
              " 'z': 380,\n",
              " 'born': 381,\n",
              " '▁once': 382,\n",
              " '▁road': 383,\n",
              " 'st': 384,\n",
              " '▁moved': 385,\n",
              " '▁born': 386,\n",
              " '0': 387,\n",
              " '▁british': 388,\n",
              " '▁order': 389,\n",
              " '▁12': 390,\n",
              " '▁children': 391,\n",
              " '▁built': 392,\n",
              " '▁door': 393,\n",
              " '▁major': 394,\n",
              " '▁say': 395,\n",
              " 'x': 396,\n",
              " '▁due': 397,\n",
              " '▁f': 398,\n",
              " '▁village': 399,\n",
              " '▁6': 400,\n",
              " '▁km': 401,\n",
              " '▁red': 402,\n",
              " 'is': 403,\n",
              " '▁knew': 404,\n",
              " '▁park': 405,\n",
              " '▁president': 406,\n",
              " '▁main': 407,\n",
              " '▁let': 408,\n",
              " '▁february': 409,\n",
              " 'f': 410,\n",
              " '▁asked': 411,\n",
              " '▁turned': 412,\n",
              " 'le': 413,\n",
              " '▁power': 414,\n",
              " '▁art': 415,\n",
              " '▁per': 416,\n",
              " '▁wanted': 417,\n",
              " '▁play': 418,\n",
              " '▁although': 419,\n",
              " '▁received': 420,\n",
              " '▁different': 421,\n",
              " '▁third': 422,\n",
              " '▁served': 423,\n",
              " '▁near': 424,\n",
              " '▁himself': 425,\n",
              " '▁final': 426,\n",
              " '▁felt': 427,\n",
              " '▁century': 428,\n",
              " '▁together': 429,\n",
              " '▁voice': 430,\n",
              " '▁front': 431,\n",
              " '▁based': 432,\n",
              " '▁son': 433,\n",
              " '▁20': 434,\n",
              " '▁football': 435,\n",
              " '▁times': 436,\n",
              " '▁king': 437,\n",
              " 'he': 438,\n",
              " '▁behind': 439,\n",
              " '▁died': 440,\n",
              " '▁saw': 441,\n",
              " '▁put': 442,\n",
              " '▁members': 443,\n",
              " 'ton': 444,\n",
              " 'ers': 445,\n",
              " '▁street': 446,\n",
              " '▁history': 447,\n",
              " '▁help': 448,\n",
              " '▁mother': 449,\n",
              " '▁award': 450,\n",
              " '▁law': 451,\n",
              " '▁having': 452,\n",
              " '▁7': 453,\n",
              " '▁point': 454,\n",
              " '▁army': 455,\n",
              " '▁late': 456,\n",
              " '8': 457,\n",
              " 'we': 458,\n",
              " '▁center': 459,\n",
              " '▁division': 460,\n",
              " '▁young': 461,\n",
              " '▁ever': 462,\n",
              " '▁far': 463,\n",
              " '▁across': 464,\n",
              " '7': 465,\n",
              " '▁games': 466,\n",
              " '▁published': 467,\n",
              " '▁include': 468,\n",
              " '▁8': 469,\n",
              " '▁told': 470,\n",
              " '▁light': 471,\n",
              " 'as': 472,\n",
              " '▁hands': 473,\n",
              " '▁18': 474,\n",
              " '▁country': 475,\n",
              " '▁land': 476,\n",
              " '▁find': 477,\n",
              " '▁often': 478,\n",
              " '▁london': 479,\n",
              " '▁cup': 480,\n",
              " '▁led': 481,\n",
              " '▁species': 482,\n",
              " '▁why': 483,\n",
              " '▁french': 484,\n",
              " '▁run': 485,\n",
              " '▁english': 486,\n",
              " '▁j': 487,\n",
              " '▁office': 488,\n",
              " '▁g': 489,\n",
              " '▁six': 490,\n",
              " '▁must': 491,\n",
              " '▁gave': 492,\n",
              " '▁al': 493,\n",
              " '▁tell': 494,\n",
              " '▁court': 495,\n",
              " '▁according': 496,\n",
              " '▁among': 497,\n",
              " '▁2010': 498,\n",
              " 'w': 499,\n",
              " ']': 500,\n",
              " '▁original': 501,\n",
              " '▁short': 502,\n",
              " '▁full': 503,\n",
              " '▁given': 504,\n",
              " '▁form': 505,\n",
              " '▁included': 506,\n",
              " '▁million': 507,\n",
              " '▁business': 508,\n",
              " '▁days': 509,\n",
              " '▁really': 510,\n",
              " '▁enough': 511,\n",
              " 'ar': 512,\n",
              " '▁14': 513,\n",
              " '▁community': 514,\n",
              " '▁live': 515,\n",
              " '▁council': 516,\n",
              " '▁player': 517,\n",
              " '9': 518,\n",
              " '▁half': 519,\n",
              " '▁opened': 520,\n",
              " '▁central': 521,\n",
              " '▁development': 522,\n",
              " '▁san': 523,\n",
              " '▁woman': 524,\n",
              " 'ra': 525,\n",
              " '▁wasn': 526,\n",
              " '▁research': 527,\n",
              " 'son': 528,\n",
              " '▁lost': 529,\n",
              " '▁might': 530,\n",
              " 'la': 531,\n",
              " 'el': 532,\n",
              " '▁become': 533,\n",
              " '▁mi': 534,\n",
              " '▁fire': 535,\n",
              " 'ta': 536,\n",
              " 'do': 537,\n",
              " '▁non': 538,\n",
              " '▁13': 539,\n",
              " 'ma': 540,\n",
              " '▁seen': 541,\n",
              " '▁2011': 542,\n",
              " '▁close': 543,\n",
              " '▁making': 544,\n",
              " '▁career': 545,\n",
              " 'de': 546,\n",
              " '▁11': 547,\n",
              " '▁german': 548,\n",
              " 'ia': 549,\n",
              " '▁always': 550,\n",
              " '▁free': 551,\n",
              " '▁hard': 552,\n",
              " '▁island': 553,\n",
              " '▁hall': 554,\n",
              " '▁support': 555,\n",
              " 'ne': 556,\n",
              " '▁almost': 557,\n",
              " '▁force': 558,\n",
              " '▁director': 559,\n",
              " '▁round': 560,\n",
              " '▁9': 561,\n",
              " '▁sure': 562,\n",
              " '▁2012': 563,\n",
              " '▁things': 564,\n",
              " '▁education': 565,\n",
              " '▁v': 566,\n",
              " '▁married': 567,\n",
              " '▁using': 568,\n",
              " '▁control': 569,\n",
              " '▁2008': 570,\n",
              " '▁record': 571,\n",
              " '▁inside': 572,\n",
              " '▁students': 573,\n",
              " '▁better': 574,\n",
              " '▁field': 575,\n",
              " 'up': 576,\n",
              " '▁worked': 577,\n",
              " '▁continued': 578,\n",
              " 'able': 579,\n",
              " '▁big': 580,\n",
              " '▁title': 581,\n",
              " '▁heart': 582,\n",
              " '▁feel': 583,\n",
              " '▁thing': 584,\n",
              " '▁human': 585,\n",
              " '▁james': 586,\n",
              " '▁returned': 587,\n",
              " '▁2009': 588,\n",
              " '▁am': 589,\n",
              " '▁give': 590,\n",
              " 'te': 591,\n",
              " '▁2006': 592,\n",
              " 'da': 593,\n",
              " '▁mind': 594,\n",
              " '▁ii': 595,\n",
              " 'ic': 596,\n",
              " '▁role': 597,\n",
              " '▁sea': 598,\n",
              " '▁championship': 599,\n",
              " '▁total': 600,\n",
              " '▁act': 601,\n",
              " '▁anything': 602,\n",
              " '▁radio': 603,\n",
              " '▁department': 604,\n",
              " '▁william': 605,\n",
              " '▁feet': 606,\n",
              " '▁association': 607,\n",
              " 'what': 608,\n",
              " '▁story': 609,\n",
              " '▁case': 610,\n",
              " '▁military': 611,\n",
              " '▁royal': 612,\n",
              " '▁established': 613,\n",
              " '▁already': 614,\n",
              " '▁version': 615,\n",
              " '▁2013': 616,\n",
              " '▁various': 617,\n",
              " 'land': 618,\n",
              " '▁w': 619,\n",
              " '▁period': 620,\n",
              " '▁special': 621,\n",
              " 'ry': 622,\n",
              " '▁2014': 623,\n",
              " '▁2007': 624,\n",
              " '▁program': 625,\n",
              " '▁nothing': 626,\n",
              " '▁hair': 627,\n",
              " '▁win': 628,\n",
              " '▁rock': 629,\n",
              " '▁does': 630,\n",
              " 'ley': 631,\n",
              " '▁region': 632,\n",
              " '▁television': 633,\n",
              " '▁living': 634,\n",
              " '▁o': 635,\n",
              " '▁[': 636,\n",
              " '▁production': 637,\n",
              " '▁working': 638,\n",
              " '▁least': 639,\n",
              " '▁past': 640,\n",
              " '▁society': 641,\n",
              " '▁written': 642,\n",
              " '▁keep': 643,\n",
              " '▁l': 644,\n",
              " '▁call': 645,\n",
              " '▁sound': 646,\n",
              " '▁green': 647,\n",
              " '▁england': 648,\n",
              " '▁position': 649,\n",
              " '▁western': 650,\n",
              " '▁soon': 651,\n",
              " '▁ten': 652,\n",
              " '▁further': 653,\n",
              " '▁others': 654,\n",
              " '▁brother': 655,\n",
              " 'so': 656,\n",
              " 'ka': 657,\n",
              " '▁taken': 658,\n",
              " '▁dark': 659,\n",
              " 'ie': 660,\n",
              " 'ro': 661,\n",
              " '▁level': 662,\n",
              " '▁wife': 663,\n",
              " '▁reached': 664,\n",
              " '▁george': 665,\n",
              " '▁ground': 666,\n",
              " '▁union': 667,\n",
              " '▁social': 668,\n",
              " '▁project': 669,\n",
              " '▁joined': 670,\n",
              " '▁produced': 671,\n",
              " '▁lead': 672,\n",
              " 'ch': 673,\n",
              " '▁course': 674,\n",
              " '▁political': 675,\n",
              " '▁information': 676,\n",
              " '▁done': 677,\n",
              " '▁post': 678,\n",
              " '▁created': 679,\n",
              " '▁k': 680,\n",
              " '▁important': 681,\n",
              " '▁appeared': 682,\n",
              " '▁real': 683,\n",
              " '▁david': 684,\n",
              " '▁upon': 685,\n",
              " '▁board': 686,\n",
              " '▁services': 687,\n",
              " '▁moment': 688,\n",
              " '▁site': 689,\n",
              " '▁2016': 690,\n",
              " '▁2015': 691,\n",
              " '▁battle': 692,\n",
              " '▁works': 693,\n",
              " '▁either': 694,\n",
              " '▁girl': 695,\n",
              " '▁blood': 696,\n",
              " '▁summer': 697,\n",
              " '▁police': 698,\n",
              " '▁looking': 699,\n",
              " '▁instead': 700,\n",
              " '▁god': 701,\n",
              " 'ist': 702,\n",
              " '▁announced': 703,\n",
              " '▁design': 704,\n",
              " '▁blue': 705,\n",
              " 'nd': 706,\n",
              " '▁arms': 707,\n",
              " '▁low': 708,\n",
              " '▁followed': 709,\n",
              " 'v': 710,\n",
              " '▁couldn': 711,\n",
              " '▁30': 712,\n",
              " '▁0': 713,\n",
              " '▁france': 714,\n",
              " '▁words': 715,\n",
              " 'co': 716,\n",
              " '▁ran': 717,\n",
              " '▁class': 718,\n",
              " '▁outside': 719,\n",
              " 'ness': 720,\n",
              " 'at': 721,\n",
              " '▁finally': 722,\n",
              " 'um': 723,\n",
              " '▁considered': 724,\n",
              " '▁mouth': 725,\n",
              " '▁space': 726,\n",
              " '▁lake': 727,\n",
              " 'j': 728,\n",
              " '▁toward': 729,\n",
              " '▁match': 730,\n",
              " 'year': 731,\n",
              " '▁19': 732,\n",
              " '▁european': 733,\n",
              " '▁present': 734,\n",
              " '▁square': 735,\n",
              " '▁professional': 736,\n",
              " '▁someone': 737,\n",
              " '▁wrote': 738,\n",
              " '▁india': 739,\n",
              " '▁america': 740,\n",
              " '▁taking': 741,\n",
              " '▁records': 742,\n",
              " '▁northern': 743,\n",
              " '▁dr': 744,\n",
              " '▁described': 745,\n",
              " '▁h': 746,\n",
              " '▁stop': 747,\n",
              " '▁bar': 748,\n",
              " '▁trying': 749,\n",
              " '▁australia': 750,\n",
              " '▁california': 751,\n",
              " '▁heard': 752,\n",
              " '▁change': 753,\n",
              " '▁miles': 754,\n",
              " 'men': 755,\n",
              " 'ism': 756,\n",
              " '▁common': 757,\n",
              " '▁paul': 758,\n",
              " 'os': 759,\n",
              " '▁rest': 760,\n",
              " '▁r': 761,\n",
              " '▁science': 762,\n",
              " '▁video': 763,\n",
              " '▁race': 764,\n",
              " 'am': 765,\n",
              " '▁gold': 766,\n",
              " '▁leave': 767,\n",
              " '▁yet': 768,\n",
              " '▁wall': 769,\n",
              " '▁hit': 770,\n",
              " '▁25': 771,\n",
              " '▁middle': 772,\n",
              " '▁modern': 773,\n",
              " '▁museum': 774,\n",
              " '▁southern': 775,\n",
              " '▁election': 776,\n",
              " '▁able': 777,\n",
              " '▁star': 778,\n",
              " 'by': 779,\n",
              " '▁move': 780,\n",
              " '▁care': 781,\n",
              " '▁pre': 782,\n",
              " '▁daughter': 783,\n",
              " '▁above': 784,\n",
              " '▁founded': 785,\n",
              " '▁today': 786,\n",
              " '▁less': 787,\n",
              " '▁return': 788,\n",
              " '▁minister': 789,\n",
              " 'me': 790,\n",
              " '▁playing': 791,\n",
              " '▁track': 792,\n",
              " 'ca': 793,\n",
              " '▁tried': 794,\n",
              " '▁sent': 795,\n",
              " '▁everything': 796,\n",
              " '▁im': 797,\n",
              " '▁met': 798,\n",
              " '▁start': 799,\n",
              " '▁=': 800,\n",
              " '▁recorded': 801,\n",
              " 'ling': 802,\n",
              " '▁floor': 803,\n",
              " 'don': 804,\n",
              " '▁turn': 805,\n",
              " 'ian': 806,\n",
              " '▁event': 807,\n",
              " '▁100': 808,\n",
              " '▁brought': 809,\n",
              " '▁seven': 810,\n",
              " 'but': 811,\n",
              " '▁2005': 812,\n",
              " '▁arm': 813,\n",
              " '▁2017': 814,\n",
              " 'ter': 815,\n",
              " '▁language': 816,\n",
              " 'den': 817,\n",
              " '▁months': 818,\n",
              " '▁points': 819,\n",
              " '▁mr': 820,\n",
              " 'if': 821,\n",
              " '▁robert': 822,\n",
              " '▁example': 823,\n",
              " '▁2000': 824,\n",
              " '▁kind': 825,\n",
              " '▁railway': 826,\n",
              " '▁closed': 827,\n",
              " '▁dead': 828,\n",
              " '▁result': 829,\n",
              " '▁release': 830,\n",
              " '▁thomas': 831,\n",
              " '▁michael': 832,\n",
              " '▁word': 833,\n",
              " 'ge': 834,\n",
              " '▁similar': 835,\n",
              " '▁canada': 836,\n",
              " '▁fact': 837,\n",
              " '▁training': 838,\n",
              " 'go': 839,\n",
              " '▁person': 840,\n",
              " '▁killed': 841,\n",
              " '▁finished': 842,\n",
              " '▁formed': 843,\n",
              " '▁popular': 844,\n",
              " '▁doing': 845,\n",
              " '▁tour': 846,\n",
              " '▁sat': 847,\n",
              " '▁addition': 848,\n",
              " 'one': 849,\n",
              " '▁child': 850,\n",
              " '▁needed': 851,\n",
              " '▁21': 852,\n",
              " '▁health': 853,\n",
              " 'well': 854,\n",
              " '▁deep': 855,\n",
              " 'ity': 856,\n",
              " 'ation': 857,\n",
              " '▁route': 858,\n",
              " '▁table': 859,\n",
              " '▁friend': 860,\n",
              " '▁centre': 861,\n",
              " '▁average': 862,\n",
              " 'be': 863,\n",
              " '▁rather': 864,\n",
              " '▁lot': 865,\n",
              " '▁current': 866,\n",
              " '▁stood': 867,\n",
              " '▁decided': 868,\n",
              " '▁despite': 869,\n",
              " 'se': 870,\n",
              " '▁currently': 871,\n",
              " 'ion': 872,\n",
              " '▁bed': 873,\n",
              " '▁festival': 874,\n",
              " '▁money': 875,\n",
              " '▁stage': 876,\n",
              " '▁week': 877,\n",
              " '▁eventually': 878,\n",
              " '▁forces': 879,\n",
              " '▁coming': 880,\n",
              " '▁pulled': 881,\n",
              " '▁idea': 882,\n",
              " '▁boy': 883,\n",
              " '▁mean': 884,\n",
              " '▁developed': 885,\n",
              " '▁brown': 886,\n",
              " 'that': 887,\n",
              " '▁elected': 888,\n",
              " 'ni': 889,\n",
              " '▁seemed': 890,\n",
              " 'time': 891,\n",
              " '▁throughout': 892,\n",
              " '▁debut': 893,\n",
              " '▁2004': 894,\n",
              " '▁pro': 895,\n",
              " '▁bad': 896,\n",
              " 'rd': 897,\n",
              " '▁says': 898,\n",
              " '▁bay': 899,\n",
              " '▁construction': 900,\n",
              " '▁press': 901,\n",
              " '▁minutes': 902,\n",
              " '▁chief': 903,\n",
              " '▁available': 904,\n",
              " '▁added': 905,\n",
              " '▁1,': 906,\n",
              " '▁mid': 907,\n",
              " '▁signed': 908,\n",
              " '▁indian': 909,\n",
              " '▁probably': 910,\n",
              " 'ur': 911,\n",
              " '▁originally': 912,\n",
              " '▁maybe': 913,\n",
              " '▁germany': 914,\n",
              " 'my': 915,\n",
              " '▁songs': 916,\n",
              " '▁forward': 917,\n",
              " '12': 918,\n",
              " '▁cross': 919,\n",
              " '▁grand': 920,\n",
              " 'ko': 921,\n",
              " '▁charles': 922,\n",
              " 'less': 923,\n",
              " '▁areas': 924,\n",
              " '▁character': 925,\n",
              " '▁di': 926,\n",
              " '▁sir': 927,\n",
              " 'ri': 928,\n",
              " '▁appointed': 929,\n",
              " '▁talk': 930,\n",
              " '▁el': 931,\n",
              " '▁private': 932,\n",
              " '▁australian': 933,\n",
              " '▁institute': 934,\n",
              " '▁remained': 935,\n",
              " '▁peter': 936,\n",
              " '▁24': 937,\n",
              " '▁possible': 938,\n",
              " '▁sun': 939,\n",
              " '▁committee': 940,\n",
              " '▁media': 941,\n",
              " '▁episode': 942,\n",
              " '▁mark': 943,\n",
              " '▁plan': 944,\n",
              " '▁sold': 945,\n",
              " '▁running': 946,\n",
              " 'il': 947,\n",
              " '▁hill': 948,\n",
              " '▁study': 949,\n",
              " '▁food': 950,\n",
              " '▁usually': 951,\n",
              " '▁teams': 952,\n",
              " '▁process': 953,\n",
              " '▁friends': 954,\n",
              " '▁bridge': 955,\n",
              " '▁performance': 956,\n",
              " '▁smile': 957,\n",
              " '▁herself': 958,\n",
              " '▁morning': 959,\n",
              " 'com': 960,\n",
              " '▁1990': 961,\n",
              " '▁else': 962,\n",
              " '▁events': 963,\n",
              " '▁books': 964,\n",
              " '▁bank': 965,\n",
              " '▁strong': 966,\n",
              " '▁features': 967,\n",
              " '▁list': 968,\n",
              " 'ba': 969,\n",
              " '▁eight': 970,\n",
              " '▁province': 971,\n",
              " '▁sub': 972,\n",
              " '▁2003': 973,\n",
              " '▁hours': 974,\n",
              " '▁census': 975,\n",
              " '▁quickly': 976,\n",
              " '▁coach': 977,\n",
              " '▁range': 978,\n",
              " '▁whole': 979,\n",
              " '▁hospital': 980,\n",
              " '▁term': 981,\n",
              " '▁network': 982,\n",
              " '▁tv': 983,\n",
              " '▁guitar': 984,\n",
              " '▁believe': 985,\n",
              " '▁performed': 986,\n",
              " '▁lower': 987,\n",
              " '▁seat': 988,\n",
              " '▁official': 989,\n",
              " '▁hear': 990,\n",
              " '▁attack': 991,\n",
              " '▁myself': 992,\n",
              " '▁x': 993,\n",
              " 'ha': 994,\n",
              " '▁ship': 995,\n",
              " '▁news': 996,\n",
              " '▁beginning': 997,\n",
              " '▁china': 998,\n",
              " '▁shot': 999,\n",
              " ...}"
            ]
          },
          "metadata": {
            "tags": []
          },
          "execution_count": 52
        }
      ]
    },
    {
      "cell_type": "code",
      "metadata": {
        "colab": {
          "base_uri": "https://localhost:8080/"
        },
        "id": "06NwE5bJr9XW",
        "outputId": "1306307d-5277-44c7-f647-9e54df8b43f2"
      },
      "source": [
        "len(albert_tokens.get_vocab())"
      ],
      "execution_count": null,
      "outputs": [
        {
          "output_type": "execute_result",
          "data": {
            "text/plain": [
              "30000"
            ]
          },
          "metadata": {
            "tags": []
          },
          "execution_count": 51
        }
      ]
    },
    {
      "cell_type": "code",
      "metadata": {
        "colab": {
          "base_uri": "https://localhost:8080/"
        },
        "id": "_XNIAi9LcK6h",
        "outputId": "9be8a230-2f02-40b0-a1ec-023591eb3a46"
      },
      "source": [
        "train_tokens['input_ids'][0]"
      ],
      "execution_count": null,
      "outputs": [
        {
          "output_type": "execute_result",
          "data": {
            "text/plain": [
              "[2,\n",
              " 47,\n",
              " 14,\n",
              " 354,\n",
              " 6335,\n",
              " 67,\n",
              " 6347,\n",
              " 1460,\n",
              " 24944,\n",
              " 88,\n",
              " 14,\n",
              " 161,\n",
              " 236,\n",
              " 5745,\n",
              " 13,\n",
              " 22,\n",
              " 18,\n",
              " 18232,\n",
              " 68,\n",
              " 23,\n",
              " 9006,\n",
              " 34,\n",
              " 698,\n",
              " 13,\n",
              " 15,\n",
              " 17,\n",
              " 87,\n",
              " 32,\n",
              " 41,\n",
              " 6385,\n",
              " 21,\n",
              " 16354,\n",
              " 30,\n",
              " 23811,\n",
              " 83,\n",
              " 130,\n",
              " 44,\n",
              " 13,\n",
              " 1,\n",
              " 166,\n",
              " 8,\n",
              " 6929,\n",
              " 13,\n",
              " 7,\n",
              " 13,\n",
              " 9,\n",
              " 3,\n",
              " 0,\n",
              " 0,\n",
              " 0,\n",
              " 0,\n",
              " 0,\n",
              " 0,\n",
              " 0,\n",
              " 0,\n",
              " 0,\n",
              " 0,\n",
              " 0,\n",
              " 0,\n",
              " 0,\n",
              " 0,\n",
              " 0,\n",
              " 0,\n",
              " 0,\n",
              " 0,\n",
              " 0,\n",
              " 0,\n",
              " 0,\n",
              " 0,\n",
              " 0,\n",
              " 0,\n",
              " 0,\n",
              " 0,\n",
              " 0,\n",
              " 0]"
            ]
          },
          "metadata": {
            "tags": []
          },
          "execution_count": 47
        }
      ]
    },
    {
      "cell_type": "code",
      "metadata": {
        "colab": {
          "base_uri": "https://localhost:8080/"
        },
        "id": "Q6-Qs8buh6F6",
        "outputId": "0af99184-db1a-4ed3-9746-bcebbc499598"
      },
      "source": [
        "train_tokens['token_type_ids'][1]"
      ],
      "execution_count": null,
      "outputs": [
        {
          "output_type": "execute_result",
          "data": {
            "text/plain": [
              "[0,\n",
              " 0,\n",
              " 0,\n",
              " 0,\n",
              " 0,\n",
              " 0,\n",
              " 0,\n",
              " 0,\n",
              " 0,\n",
              " 0,\n",
              " 0,\n",
              " 0,\n",
              " 0,\n",
              " 0,\n",
              " 0,\n",
              " 0,\n",
              " 0,\n",
              " 0,\n",
              " 0,\n",
              " 0,\n",
              " 0,\n",
              " 0,\n",
              " 0,\n",
              " 0,\n",
              " 0,\n",
              " 0,\n",
              " 0,\n",
              " 0,\n",
              " 0,\n",
              " 0,\n",
              " 0,\n",
              " 0,\n",
              " 0,\n",
              " 0,\n",
              " 0,\n",
              " 0,\n",
              " 0,\n",
              " 0,\n",
              " 0,\n",
              " 0,\n",
              " 0,\n",
              " 0,\n",
              " 0,\n",
              " 0,\n",
              " 0,\n",
              " 0,\n",
              " 0,\n",
              " 0,\n",
              " 0,\n",
              " 0,\n",
              " 0,\n",
              " 0,\n",
              " 0,\n",
              " 0,\n",
              " 0,\n",
              " 0,\n",
              " 0,\n",
              " 0,\n",
              " 0,\n",
              " 0,\n",
              " 0,\n",
              " 0,\n",
              " 0,\n",
              " 0,\n",
              " 0,\n",
              " 0,\n",
              " 0,\n",
              " 0,\n",
              " 0,\n",
              " 0,\n",
              " 0,\n",
              " 0,\n",
              " 0,\n",
              " 0,\n",
              " 0]"
            ]
          },
          "metadata": {
            "tags": []
          },
          "execution_count": 42
        }
      ]
    },
    {
      "cell_type": "code",
      "metadata": {
        "colab": {
          "base_uri": "https://localhost:8080/"
        },
        "id": "NoD49qbwifZh",
        "outputId": "e6a2a072-0680-4b8c-ce00-db0294817daf"
      },
      "source": [
        "train_tokens['attention_mask'][1]"
      ],
      "execution_count": null,
      "outputs": [
        {
          "output_type": "execute_result",
          "data": {
            "text/plain": [
              "[1,\n",
              " 1,\n",
              " 1,\n",
              " 1,\n",
              " 1,\n",
              " 1,\n",
              " 1,\n",
              " 1,\n",
              " 1,\n",
              " 1,\n",
              " 1,\n",
              " 1,\n",
              " 1,\n",
              " 1,\n",
              " 1,\n",
              " 1,\n",
              " 1,\n",
              " 1,\n",
              " 1,\n",
              " 1,\n",
              " 1,\n",
              " 1,\n",
              " 1,\n",
              " 1,\n",
              " 1,\n",
              " 1,\n",
              " 1,\n",
              " 1,\n",
              " 1,\n",
              " 1,\n",
              " 1,\n",
              " 1,\n",
              " 1,\n",
              " 1,\n",
              " 1,\n",
              " 1,\n",
              " 1,\n",
              " 1,\n",
              " 1,\n",
              " 1,\n",
              " 1,\n",
              " 1,\n",
              " 1,\n",
              " 1,\n",
              " 1,\n",
              " 1,\n",
              " 1,\n",
              " 1,\n",
              " 1,\n",
              " 0,\n",
              " 0,\n",
              " 0,\n",
              " 0,\n",
              " 0,\n",
              " 0,\n",
              " 0,\n",
              " 0,\n",
              " 0,\n",
              " 0,\n",
              " 0,\n",
              " 0,\n",
              " 0,\n",
              " 0,\n",
              " 0,\n",
              " 0,\n",
              " 0,\n",
              " 0,\n",
              " 0,\n",
              " 0,\n",
              " 0,\n",
              " 0,\n",
              " 0,\n",
              " 0,\n",
              " 0,\n",
              " 0]"
            ]
          },
          "metadata": {
            "tags": []
          },
          "execution_count": 44
        }
      ]
    },
    {
      "cell_type": "code",
      "metadata": {
        "colab": {
          "base_uri": "https://localhost:8080/"
        },
        "id": "vAAE_FvKf42h",
        "outputId": "f724cc76-7969-442a-a737-69f6344543a5"
      },
      "source": [
        "print(len(train_tokens['input_ids'][1]))\n",
        "print(len(train_tokens['token_type_ids'][1]))"
      ],
      "execution_count": null,
      "outputs": [
        {
          "output_type": "stream",
          "text": [
            "75\n",
            "75\n"
          ],
          "name": "stdout"
        }
      ]
    },
    {
      "cell_type": "markdown",
      "metadata": {
        "id": "uhMF-hOzAnuw"
      },
      "source": [
        "Binding the Input tokens and Subjectiviy scores into a Tensorflow Dataset format"
      ]
    },
    {
      "cell_type": "code",
      "metadata": {
        "pycharm": {
          "name": "#%%\n"
        },
        "id": "Tg7zcOpVndZm"
      },
      "source": [
        "model_train_data = tf.data.Dataset.from_tensor_slices((\n",
        "    dict(train_tokens),\n",
        "    train_scores\n",
        "))\n",
        "\n",
        "model_val_data = tf.data.Dataset.from_tensor_slices((\n",
        "    dict(validation_tokens),\n",
        "    val_scores\n",
        "))"
      ],
      "execution_count": null,
      "outputs": []
    },
    {
      "cell_type": "code",
      "metadata": {
        "colab": {
          "base_uri": "https://localhost:8080/"
        },
        "id": "j04OU_5FdsBr",
        "outputId": "81e91c04-db6e-48dc-feb9-5b496626d0f8"
      },
      "source": [
        "model_train_data.element_spec"
      ],
      "execution_count": null,
      "outputs": [
        {
          "output_type": "execute_result",
          "data": {
            "text/plain": [
              "({'attention_mask': TensorSpec(shape=(75,), dtype=tf.int32, name=None),\n",
              "  'input_ids': TensorSpec(shape=(75,), dtype=tf.int32, name=None),\n",
              "  'token_type_ids': TensorSpec(shape=(75,), dtype=tf.int32, name=None)},\n",
              " TensorSpec(shape=(), dtype=tf.float32, name=None))"
            ]
          },
          "metadata": {
            "tags": []
          },
          "execution_count": 33
        }
      ]
    },
    {
      "cell_type": "markdown",
      "metadata": {
        "id": "Cva2HlCHA2qX"
      },
      "source": [
        "Retrieving the Pre-trained ALBERT model"
      ]
    },
    {
      "cell_type": "code",
      "metadata": {
        "pycharm": {
          "name": "#%%\n"
        },
        "id": "nWvG7WldndZo",
        "colab": {
          "base_uri": "https://localhost:8080/"
        },
        "outputId": "a3a583f3-21ae-427a-a354-5d336486e648"
      },
      "source": [
        "albert_regression_model = TFAlbertForSequenceClassification.from_pretrained('albert-base-v2',\n",
        "                                                              num_labels=1)"
      ],
      "execution_count": null,
      "outputs": [
        {
          "output_type": "stream",
          "text": [
            "Some weights of the model checkpoint at albert-base-v2 were not used when initializing TFAlbertForSequenceClassification: ['predictions']\n",
            "- This IS expected if you are initializing TFAlbertForSequenceClassification from the checkpoint of a model trained on another task or with another architecture (e.g. initializing a BertForSequenceClassification model from a BertForPretraining model).\n",
            "- This IS NOT expected if you are initializing TFAlbertForSequenceClassification from the checkpoint of a model that you expect to be exactly identical (initializing a BertForSequenceClassification model from a BertForSequenceClassification model).\n",
            "Some weights of TFAlbertForSequenceClassification were not initialized from the model checkpoint at albert-base-v2 and are newly initialized: ['classifier', 'dropout_35']\n",
            "You should probably TRAIN this model on a down-stream task to be able to use it for predictions and inference.\n"
          ],
          "name": "stderr"
        }
      ]
    },
    {
      "cell_type": "markdown",
      "metadata": {
        "id": "wiVLX1vmA9CU"
      },
      "source": [
        "Summary of the model"
      ]
    },
    {
      "cell_type": "code",
      "metadata": {
        "colab": {
          "base_uri": "https://localhost:8080/"
        },
        "id": "6J1abeDQIgzu",
        "outputId": "cb1a93e6-ccb4-4f5a-acdc-495cfaa41a49"
      },
      "source": [
        "albert_regression_model.summary()"
      ],
      "execution_count": null,
      "outputs": [
        {
          "output_type": "stream",
          "text": [
            "Model: \"tf_albert_for_sequence_classification_5\"\n",
            "_________________________________________________________________\n",
            "Layer (type)                 Output Shape              Param #   \n",
            "=================================================================\n",
            "albert (TFAlbertMainLayer)   multiple                  11683584  \n",
            "_________________________________________________________________\n",
            "dropout_35 (Dropout)         multiple                  0         \n",
            "_________________________________________________________________\n",
            "classifier (Dense)           multiple                  769       \n",
            "=================================================================\n",
            "Total params: 11,684,353\n",
            "Trainable params: 11,684,353\n",
            "Non-trainable params: 0\n",
            "_________________________________________________________________\n"
          ],
          "name": "stdout"
        }
      ]
    },
    {
      "cell_type": "markdown",
      "metadata": {
        "id": "uA9ypRtBA_gg"
      },
      "source": [
        "Training the model with MSE metric"
      ]
    },
    {
      "cell_type": "code",
      "metadata": {
        "pycharm": {
          "name": "#%%\n"
        },
        "id": "8_gjepLSndZq",
        "colab": {
          "base_uri": "https://localhost:8080/"
        },
        "outputId": "95f0afed-3990-4168-94b9-bd8417d2126f"
      },
      "source": [
        "optimizer = tf.keras.optimizers.Adam(learning_rate=0.00005)\n",
        "albert_regression_model.compile(optimizer=optimizer, loss=albert_regression_model.compute_loss, metrics=['mean_squared_error'])\n",
        "history= albert_regression_model.fit(model_train_data.shuffle(100).batch(16),\n",
        "          epochs=6,\n",
        "          batch_size=16,\n",
        "          validation_data=model_val_data.shuffle(100).batch(16))"
      ],
      "execution_count": null,
      "outputs": [
        {
          "output_type": "stream",
          "text": [
            "Epoch 1/6\n",
            "58/58 [==============================] - 29s 276ms/step - loss: 0.1041 - mean_squared_error: 0.1041 - val_loss: 0.0971 - val_mean_squared_error: 0.0971\n",
            "Epoch 2/6\n",
            "58/58 [==============================] - 13s 230ms/step - loss: 0.0995 - mean_squared_error: 0.0995 - val_loss: 0.0993 - val_mean_squared_error: 0.0993\n",
            "Epoch 3/6\n",
            "58/58 [==============================] - 13s 227ms/step - loss: 0.1020 - mean_squared_error: 0.1020 - val_loss: 0.1091 - val_mean_squared_error: 0.1091\n",
            "Epoch 4/6\n",
            "58/58 [==============================] - 13s 225ms/step - loss: 0.1035 - mean_squared_error: 0.1035 - val_loss: 0.0974 - val_mean_squared_error: 0.0974\n",
            "Epoch 5/6\n",
            "58/58 [==============================] - 13s 224ms/step - loss: 0.1021 - mean_squared_error: 0.1021 - val_loss: 0.1059 - val_mean_squared_error: 0.1059\n",
            "Epoch 6/6\n",
            "58/58 [==============================] - 13s 225ms/step - loss: 0.0989 - mean_squared_error: 0.0989 - val_loss: 0.0967 - val_mean_squared_error: 0.0967\n"
          ],
          "name": "stdout"
        }
      ]
    },
    {
      "cell_type": "markdown",
      "metadata": {
        "id": "J3M-DnyyBFZk"
      },
      "source": [
        "Saving the Model"
      ]
    },
    {
      "cell_type": "code",
      "metadata": {
        "pycharm": {
          "name": "#%%\n"
        },
        "id": "dmfeNn8hndZs"
      },
      "source": [
        "albert_regression_model.save_pretrained(\"/Regression/Finetuned_Albert_model\")"
      ],
      "execution_count": null,
      "outputs": []
    },
    {
      "cell_type": "markdown",
      "metadata": {
        "id": "V74s7wF2FiJT"
      },
      "source": [
        "Mean Squared Error of the Model\n"
      ]
    },
    {
      "cell_type": "code",
      "metadata": {
        "colab": {
          "base_uri": "https://localhost:8080/"
        },
        "id": "PEp4UeCo2Vrp",
        "outputId": "b7a39039-4231-45ea-ff5d-455934e71397"
      },
      "source": [
        "mean_squared_error = history.history['val_mean_squared_error'][1]\n",
        "print(mean_squared_error)"
      ],
      "execution_count": null,
      "outputs": [
        {
          "output_type": "stream",
          "text": [
            "0.09925097972154617\n"
          ],
          "name": "stdout"
        }
      ]
    },
    {
      "cell_type": "markdown",
      "metadata": {
        "id": "CdpBE54mFnyW"
      },
      "source": [
        "RMSE of the Model\n"
      ]
    },
    {
      "cell_type": "code",
      "metadata": {
        "colab": {
          "base_uri": "https://localhost:8080/"
        },
        "id": "7mLQr8D4EcIZ",
        "outputId": "a284c238-688f-44b9-979b-7dc7ed59053b"
      },
      "source": [
        "import math\n",
        "\n",
        "root_mean_squared_error = math.sqrt(mean_squared_error)\n",
        "print(root_mean_squared_error)"
      ],
      "execution_count": null,
      "outputs": [
        {
          "output_type": "stream",
          "text": [
            "0.31504123495432496\n"
          ],
          "name": "stdout"
        }
      ]
    },
    {
      "cell_type": "code",
      "metadata": {
        "id": "xvLVmdGiPHdR"
      },
      "source": [
        "import matplotlib.pyplot as plt\n",
        "\n",
        "def plot_loss(history):\n",
        "  plt.plot(history.history['loss'], label='loss')\n",
        "  plt.plot(history.history['val_loss'], label='val_loss')\n",
        "  plt.ylim([0, 0.2])\n",
        "  plt.xlabel('Epoch')\n",
        "  plt.ylabel('Error')\n",
        "  plt.legend()\n",
        "  plt.grid(True)"
      ],
      "execution_count": null,
      "outputs": []
    },
    {
      "cell_type": "markdown",
      "metadata": {
        "id": "sZbDNYNiBIvk"
      },
      "source": [
        "Tranining and Validaiton Loss Curves of the Model"
      ]
    },
    {
      "cell_type": "code",
      "metadata": {
        "colab": {
          "base_uri": "https://localhost:8080/",
          "height": 289
        },
        "id": "O5PUFr6nPNap",
        "outputId": "a2d2d81a-e3f2-47b6-92d5-9868e8d41be9"
      },
      "source": [
        "plot_loss(history)"
      ],
      "execution_count": null,
      "outputs": [
        {
          "output_type": "display_data",
          "data": {
            "image/png": "[encoded data removed]",
            "text/plain": [
              "<Figure size 432x288 with 1 Axes>"
            ]
          },
          "metadata": {
            "tags": []
          }
        }
      ]
    },
    {
      "cell_type": "markdown",
      "metadata": {
        "id": "G1WeOo66BUS2"
      },
      "source": [
        "Loading the Fine-tuned Model"
      ]
    },
    {
      "cell_type": "code",
      "metadata": {
        "pycharm": {
          "name": "#%%\n"
        },
        "id": "s71ZiN0bndZw",
        "colab": {
          "base_uri": "https://localhost:8080/"
        },
        "outputId": "4a0b4bfc-2954-4001-fb84-b45c4399fe5a"
      },
      "source": [
        "loaded_model = TFAlbertForSequenceClassification.from_pretrained(\"/Regression/Finetuned_Albert_model\")"
      ],
      "execution_count": null,
      "outputs": [
        {
          "output_type": "stream",
          "text": [
            "Some weights of the model checkpoint at /Regression/Finetuned_Albert_model were not used when initializing TFAlbertForSequenceClassification: ['dropout_35']\n",
            "- This IS expected if you are initializing TFAlbertForSequenceClassification from the checkpoint of a model trained on another task or with another architecture (e.g. initializing a BertForSequenceClassification model from a BertForPretraining model).\n",
            "- This IS NOT expected if you are initializing TFAlbertForSequenceClassification from the checkpoint of a model that you expect to be exactly identical (initializing a BertForSequenceClassification model from a BertForSequenceClassification model).\n",
            "Some weights of TFAlbertForSequenceClassification were not initialized from the model checkpoint at /Regression/Finetuned_Albert_model and are newly initialized: ['dropout_71']\n",
            "You should probably TRAIN this model on a down-stream task to be able to use it for predictions and inference.\n"
          ],
          "name": "stderr"
        }
      ]
    },
    {
      "cell_type": "markdown",
      "metadata": {
        "id": "hcPZxGUqBbKa"
      },
      "source": [
        "Predictions on the Testset"
      ]
    },
    {
      "cell_type": "code",
      "metadata": {
        "pycharm": {
          "name": "#%%\n"
        },
        "id": "akGTf-l_ndZy",
        "colab": {
          "base_uri": "https://localhost:8080/"
        },
        "outputId": "722fe68f-90c9-4c05-e0e8-9ec4f960e3ca"
      },
      "source": [
        "test_pred = []\n",
        "\n",
        "\n",
        "for sent in test_data:\n",
        "  test_tokens = albert_tokens.encode(sent,\n",
        "                                 truncation=True,\n",
        "                                 padding=True,\n",
        "                                 return_tensors=\"tf\")\n",
        "\n",
        "  test_pred.append(loaded_model.predict(test_tokens)[0][0][0])\n",
        "print(test_pred)"
      ],
      "execution_count": null,
      "outputs": [
        {
          "output_type": "stream",
          "text": [
            "[0.4543215, 0.45532984, 0.45554075, 0.45497936, 0.4534253, 0.45367205, 0.45438164, 0.45256895, 0.45493695, 0.45472008, 0.45406497, 0.45436084, 0.45399696, 0.45348158, 0.4543876, 0.4542335, 0.45587325, 0.45501822, 0.45117825, 0.45461327, 0.45275754, 0.45568812, 0.45335057, 0.45485958, 0.45490882, 0.45433897, 0.45277205, 0.45435384, 0.45418262, 0.45481622, 0.45569637, 0.45418015, 0.4552137, 0.45538032, 0.45370334, 0.4547524, 0.4531688, 0.4553076, 0.45385414, 0.4544135, 0.45412275, 0.45288008, 0.45564193, 0.45463026, 0.45465058, 0.45567992, 0.45459723, 0.4544841, 0.45233852, 0.4556238, 0.45580316, 0.45415616, 0.4545515, 0.45453486, 0.4540738, 0.4537129, 0.4551893, 0.45496592, 0.45388755, 0.45429876, 0.454021, 0.45228058, 0.45335674, 0.4542419, 0.45474285, 0.45406392, 0.45466697, 0.45204237, 0.45439965, 0.4541455, 0.45432284, 0.45481735, 0.45434588, 0.4525088, 0.4538378, 0.45358405, 0.452672, 0.4544122, 0.45461208, 0.4543058, 0.45501179, 0.45511615, 0.4515584, 0.45443258, 0.45434606, 0.4530803, 0.45159483, 0.45413515, 0.45258263, 0.45474473, 0.45290208, 0.45425624, 0.45579827, 0.45344824, 0.45443046, 0.45289755, 0.45488378, 0.45429534, 0.45316726, 0.45379487, 0.4536505, 0.45414808, 0.45346028, 0.45376498, 0.45309502, 0.45378336, 0.45343608, 0.45401233, 0.4546143, 0.45181027, 0.45408726, 0.4522611, 0.4539008, 0.45462003, 0.4545167, 0.45409665, 0.45266902, 0.4533127, 0.4541043, 0.45459518, 0.45463654, 0.45302045, 0.45458525, 0.45474118, 0.45472062, 0.45183608, 0.45409557, 0.45366475, 0.45461226, 0.45440066, 0.45499483, 0.4535942, 0.45484877, 0.45434198, 0.4542389, 0.4554942, 0.45469204, 0.45207053, 0.45447695, 0.45491695, 0.45310742, 0.45550895, 0.4543074, 0.45456183, 0.4551639, 0.4554341, 0.4554542, 0.45485482, 0.45536426, 0.4531092, 0.45345455, 0.45284843, 0.4536866, 0.4530359, 0.4528433, 0.45534542, 0.45294374, 0.45514095, 0.45419523, 0.45264608, 0.4537735, 0.45391148, 0.45315653, 0.45437536, 0.45374057, 0.45402223, 0.45335472, 0.45323884, 0.4544428, 0.45525935, 0.4539977, 0.4542757, 0.45322496, 0.45302072, 0.45476183, 0.45442653, 0.45290053, 0.4536658, 0.4522678, 0.45464802, 0.45341456, 0.45445704, 0.45315105, 0.45382857, 0.45364904, 0.45391113, 0.45352304, 0.45386434, 0.45176637, 0.45397508, 0.45504218, 0.45449007, 0.45497286, 0.45525151, 0.45458978, 0.453416, 0.4550368, 0.45353985, 0.45443004, 0.45122948, 0.4526611, 0.4535651, 0.45353833, 0.45394748, 0.45436466, 0.4551401, 0.45316333, 0.45321578, 0.45420903, 0.45214075, 0.4537247, 0.45492285, 0.45395604, 0.4535496, 0.45432627, 0.45236355, 0.4550458, 0.4537707, 0.45368338, 0.4529656, 0.45223993, 0.4541699, 0.45461217, 0.45510548, 0.45224676, 0.4519992, 0.45319742, 0.45356426, 0.45247543, 0.45241815, 0.45435274, 0.4513296, 0.4540516, 0.4545913, 0.45312208, 0.45222798, 0.4530328, 0.45266387, 0.45404357, 0.45411557, 0.45191777, 0.4538133, 0.45470932, 0.45233798, 0.45239186, 0.45417905, 0.4531345, 0.45472223, 0.45457315, 0.451962, 0.454879, 0.4538856, 0.4534382, 0.4545416, 0.45188478, 0.4542905, 0.4521664, 0.45192984, 0.4532199, 0.4516201, 0.454255, 0.45382094, 0.45328772, 0.45386818, 0.4526625, 0.45309627, 0.45289326, 0.45459223, 0.45357868, 0.4539248, 0.45266098, 0.4552813, 0.45564422, 0.4512449, 0.4541738, 0.45371556, 0.45369142, 0.45289892, 0.4525292, 0.4530665, 0.45206714, 0.45253903, 0.45420608, 0.4539724, 0.45412415, 0.45305258, 0.4539738, 0.45443332, 0.45482677, 0.4540738, 0.4527266, 0.45499992, 0.4536972, 0.45422307, 0.45434862, 0.453612, 0.45205256, 0.45291126, 0.45167062, 0.4530713, 0.4517728, 0.45471576, 0.45191705, 0.452127, 0.45205238, 0.45445105, 0.45463124, 0.453962, 0.45305276, 0.45256007, 0.45459816, 0.45296508, 0.45093504, 0.45322183, 0.45251793, 0.45380783, 0.45318162, 0.45290747, 0.4547289, 0.45261934, 0.45360488, 0.4555819, 0.4551172, 0.4534638, 0.45377553, 0.45288596, 0.45351577, 0.45192337, 0.45299652, 0.4546287, 0.4544424, 0.45443344, 0.45362642, 0.4533484, 0.4528355, 0.45183414, 0.45528284, 0.45431244, 0.45292383, 0.45398596, 0.45411116, 0.45417768, 0.45334494, 0.45305002, 0.4535761, 0.45362085, 0.45437676, 0.45511493, 0.45257294, 0.4554756, 0.4527752, 0.454247, 0.45396256, 0.4536655, 0.454372, 0.4552851, 0.45441464, 0.45395958, 0.45232415, 0.45368493, 0.454045, 0.4536007, 0.45247275, 0.454848, 0.45455432, 0.4539317, 0.4537006, 0.45394677, 0.45147702, 0.45342714, 0.4540943, 0.45433685, 0.45419645, 0.4532357, 0.45427454, 0.45209795, 0.45261458, 0.45266837, 0.45330817, 0.45448825, 0.45346242, 0.45266014, 0.4531306, 0.45471197, 0.4547402, 0.4535525, 0.45278454, 0.45357373, 0.45428458, 0.4514249, 0.45278332, 0.45269048, 0.45235237, 0.4538133, 0.45340255, 0.45270258, 0.4543, 0.45417833, 0.45330542, 0.45249695, 0.45376796, 0.45225227, 0.45518196, 0.45445898, 0.45343387, 0.45369092, 0.45413655, 0.4544437, 0.4528867, 0.45249382, 0.45469508, 0.4519655, 0.45304185, 0.4537681, 0.45406565, 0.45345926, 0.45354646, 0.45498678, 0.4540726, 0.45302838, 0.4532508, 0.45360667, 0.45201963, 0.45219088, 0.4542701, 0.4532495, 0.453089, 0.45294613, 0.4527967, 0.4531197, 0.4537789, 0.45571882, 0.45399806, 0.45203677, 0.45326942, 0.45473096, 0.45331216, 0.45257416, 0.4544396, 0.45263913, 0.45401004, 0.45442563, 0.45273757, 0.45260718, 0.45303977, 0.45563674, 0.45339864, 0.45237702, 0.4542402, 0.45417133, 0.45349094, 0.45192063, 0.45202753, 0.45244026, 0.45473135, 0.45263904, 0.45404476, 0.45207694, 0.454744, 0.4539585, 0.45301932, 0.45305282, 0.4522858, 0.4550144, 0.4537248, 0.45370898, 0.45245177, 0.45318294, 0.4548114]\n"
          ],
          "name": "stdout"
        }
      ]
    },
    {
      "cell_type": "markdown",
      "metadata": {
        "id": "5CoAfQSWroBm"
      },
      "source": [
        "MSE for Test Set"
      ]
    },
    {
      "cell_type": "code",
      "metadata": {
        "colab": {
          "base_uri": "https://localhost:8080/"
        },
        "id": "4gjkEsUVpg_c",
        "outputId": "805f0943-7c4c-4437-a072-2ba0cededf03"
      },
      "source": [
        "from sklearn.metrics import mean_squared_error\n",
        "\n",
        "mse_test = mean_squared_error(test_scores, test_pred)\n",
        "print(mse_test)"
      ],
      "execution_count": null,
      "outputs": [
        {
          "output_type": "stream",
          "text": [
            "0.15749106524772497\n"
          ],
          "name": "stdout"
        }
      ]
    },
    {
      "cell_type": "markdown",
      "metadata": {
        "id": "mDKapoZJNztz"
      },
      "source": [
        "MAE for Test Set"
      ]
    },
    {
      "cell_type": "code",
      "metadata": {
        "colab": {
          "base_uri": "https://localhost:8080/"
        },
        "id": "R_ibGc-gNu1t",
        "outputId": "809f8eea-4506-44e1-a0b1-5aedde8dd0a2"
      },
      "source": [
        "from sklearn.metrics import mean_absolute_error\n",
        "\n",
        "mae_test = mean_absolute_error(test_scores, test_pred)\n",
        "print(mae_test)"
      ],
      "execution_count": null,
      "outputs": [
        {
          "output_type": "stream",
          "text": [
            "0.3675693508210354\n"
          ],
          "name": "stdout"
        }
      ]
    },
    {
      "cell_type": "markdown",
      "metadata": {
        "id": "OZXwOvwnMRkT"
      },
      "source": [
        "RMSE for Test Data"
      ]
    },
    {
      "cell_type": "code",
      "metadata": {
        "colab": {
          "base_uri": "https://localhost:8080/"
        },
        "id": "wJw3DtC3LYFe",
        "outputId": "21fed4f2-89bf-45db-ed7b-42c65e4542e0"
      },
      "source": [
        "root_mean_squared_error_test = math.sqrt(mse_test)\n",
        "print(root_mean_squared_error_test)"
      ],
      "execution_count": null,
      "outputs": [
        {
          "output_type": "stream",
          "text": [
            "0.3968514397702558\n"
          ],
          "name": "stdout"
        }
      ]
    },
    {
      "cell_type": "markdown",
      "metadata": {
        "id": "rLS2Z-hgGdsp"
      },
      "source": [
        "Train the model with Mean Absolute Error Metric"
      ]
    },
    {
      "cell_type": "code",
      "metadata": {
        "colab": {
          "base_uri": "https://localhost:8080/"
        },
        "id": "gQkM3htGGXyL",
        "outputId": "90a70949-42ba-4dc5-a092-113f407d5d71"
      },
      "source": [
        "albert_regression_model_mae = TFAlbertForSequenceClassification.from_pretrained('albert-base-v2',\n",
        "                                                              num_labels=1)\n",
        "\n",
        "optimizer = tf.keras.optimizers.Adam(learning_rate=0.00005)\n",
        "albert_regression_model_mae.compile(optimizer=optimizer, loss=albert_regression_model_mae.compute_loss, metrics=['mean_absolute_error'])\n",
        "history= albert_regression_model_mae.fit(model_train_data.shuffle(100).batch(16),\n",
        "          epochs=5,\n",
        "          batch_size=16,\n",
        "          validation_data=model_val_data.shuffle(100).batch(16))"
      ],
      "execution_count": null,
      "outputs": [
        {
          "output_type": "stream",
          "text": [
            "Some weights of the model checkpoint at albert-base-v2 were not used when initializing TFAlbertForSequenceClassification: ['predictions']\n",
            "- This IS expected if you are initializing TFAlbertForSequenceClassification from the checkpoint of a model trained on another task or with another architecture (e.g. initializing a BertForSequenceClassification model from a BertForPretraining model).\n",
            "- This IS NOT expected if you are initializing TFAlbertForSequenceClassification from the checkpoint of a model that you expect to be exactly identical (initializing a BertForSequenceClassification model from a BertForSequenceClassification model).\n",
            "Some weights of TFAlbertForSequenceClassification were not initialized from the model checkpoint at albert-base-v2 and are newly initialized: ['dropout_59', 'classifier']\n",
            "You should probably TRAIN this model on a down-stream task to be able to use it for predictions and inference.\n"
          ],
          "name": "stderr"
        },
        {
          "output_type": "stream",
          "text": [
            "Epoch 1/5\n",
            "58/58 [==============================] - 28s 268ms/step - loss: 0.1822 - mean_absolute_error: 0.3319 - val_loss: 0.0901 - val_mean_absolute_error: 0.2466\n",
            "Epoch 2/5\n",
            "58/58 [==============================] - 13s 231ms/step - loss: 0.1005 - mean_absolute_error: 0.2588 - val_loss: 0.0799 - val_mean_absolute_error: 0.2270\n",
            "Epoch 3/5\n",
            "58/58 [==============================] - 13s 230ms/step - loss: 0.1080 - mean_absolute_error: 0.2641 - val_loss: 0.0810 - val_mean_absolute_error: 0.2295\n",
            "Epoch 4/5\n",
            "58/58 [==============================] - 13s 227ms/step - loss: 0.0932 - mean_absolute_error: 0.2434 - val_loss: 0.0782 - val_mean_absolute_error: 0.2140\n",
            "Epoch 5/5\n",
            "58/58 [==============================] - 13s 225ms/step - loss: 0.0602 - mean_absolute_error: 0.1926 - val_loss: 0.0677 - val_mean_absolute_error: 0.2077\n"
          ],
          "name": "stdout"
        }
      ]
    },
    {
      "cell_type": "code",
      "metadata": {
        "colab": {
          "base_uri": "https://localhost:8080/"
        },
        "id": "gyl3so35HGBA",
        "outputId": "ab639400-0b8f-4ee8-b1a2-11e7a0d208fc"
      },
      "source": [
        "mean_abs_error = history.history['val_mean_absolute_error'][1]\n",
        "print(mean_abs_error)"
      ],
      "execution_count": null,
      "outputs": [
        {
          "output_type": "stream",
          "text": [
            "0.22700954973697662\n"
          ],
          "name": "stdout"
        }
      ]
    },
    {
      "cell_type": "markdown",
      "metadata": {
        "id": "VgmU1HPDBoJq"
      },
      "source": [
        "Tranining and Validaiton Loss Curves of the Model"
      ]
    },
    {
      "cell_type": "code",
      "metadata": {
        "colab": {
          "base_uri": "https://localhost:8080/",
          "height": 289
        },
        "id": "XSVk09JCHJU0",
        "outputId": "0a95dcd8-5e26-472e-c544-7620f3535259"
      },
      "source": [
        "plot_loss(history)"
      ],
      "execution_count": null,
      "outputs": [
        {
          "output_type": "display_data",
          "data": {
            "image/png": "[encoded data removed]",
            "text/plain": [
              "<Figure size 432x288 with 1 Axes>"
            ]
          },
          "metadata": {
            "tags": []
          }
        }
      ]
    },
    {
      "cell_type": "markdown",
      "metadata": {
        "id": "Xj81VAhhBsb4"
      },
      "source": [
        "Saving the trained model"
      ]
    },
    {
      "cell_type": "code",
      "metadata": {
        "id": "THqUeH52MmaR"
      },
      "source": [
        "albert_regression_model_mae.save_pretrained(\"/Regression/Finetuned_Albert_model_MAE\")"
      ],
      "execution_count": null,
      "outputs": []
    },
    {
      "cell_type": "markdown",
      "metadata": {
        "id": "1kJVChOKBucd"
      },
      "source": [
        "Loading the Fine-tuned Model"
      ]
    },
    {
      "cell_type": "code",
      "metadata": {
        "colab": {
          "base_uri": "https://localhost:8080/"
        },
        "id": "EXlX6DOPMaXj",
        "outputId": "2284236c-b42d-4146-d8a6-b6acc4a9a8a5"
      },
      "source": [
        "loaded_model = TFAlbertForSequenceClassification.from_pretrained(\"/Regression/Finetuned_Albert_model_MAE\")"
      ],
      "execution_count": null,
      "outputs": [
        {
          "output_type": "stream",
          "text": [
            "Some weights of the model checkpoint at /Regression/Finetuned_Albert_model_MAE were not used when initializing TFAlbertForSequenceClassification: ['dropout_59']\n",
            "- This IS expected if you are initializing TFAlbertForSequenceClassification from the checkpoint of a model trained on another task or with another architecture (e.g. initializing a BertForSequenceClassification model from a BertForPretraining model).\n",
            "- This IS NOT expected if you are initializing TFAlbertForSequenceClassification from the checkpoint of a model that you expect to be exactly identical (initializing a BertForSequenceClassification model from a BertForSequenceClassification model).\n",
            "Some weights of TFAlbertForSequenceClassification were not initialized from the model checkpoint at /Regression/Finetuned_Albert_model_MAE and are newly initialized: ['dropout_77']\n",
            "You should probably TRAIN this model on a down-stream task to be able to use it for predictions and inference.\n"
          ],
          "name": "stderr"
        }
      ]
    },
    {
      "cell_type": "markdown",
      "metadata": {
        "id": "IvaumP0nBxxt"
      },
      "source": [
        "Predctions on Testset"
      ]
    },
    {
      "cell_type": "code",
      "metadata": {
        "colab": {
          "base_uri": "https://localhost:8080/"
        },
        "id": "M7HllbGsM45Z",
        "outputId": "64101686-d4fb-450e-da7e-5e8c50a791a7"
      },
      "source": [
        "test_pred = []\n",
        "\n",
        "\n",
        "for sent in test_data:\n",
        "  test_tokens = albert_tokens.encode(sent,\n",
        "                                 truncation=True,\n",
        "                                 padding=True,\n",
        "                                 return_tensors=\"tf\")\n",
        "\n",
        "  test_pred.append(loaded_model.predict(test_tokens)[0][0][0])\n",
        "print(test_pred)"
      ],
      "execution_count": null,
      "outputs": [
        {
          "output_type": "stream",
          "text": [
            "[0.70897466, 0.69902825, 0.15678202, 0.6316755, 0.16817838, 0.8070277, 0.9366032, 0.5264932, 0.33068788, 0.42363158, 0.66887856, 0.3896478, 0.50934356, 0.23477997, 0.43330017, 0.6519827, 0.78413457, 0.6553026, 0.13225321, 0.5992315, 0.3974674, 0.5423826, 0.17807181, 0.7748871, 0.8182161, 0.77112746, 0.14998136, 0.6015781, 0.41958046, 0.4529638, 0.8573079, 0.7597416, 0.73880535, 0.6186468, 0.70594746, 0.6106278, 0.71040547, 0.6167523, 0.6712632, 0.7664958, 0.6344624, 0.6102925, 0.8350302, 0.59150535, 0.6243279, 0.8833016, 0.8701523, 0.8111228, 0.3060274, 0.8357999, 0.61390567, 0.4106502, 0.79048556, 0.5707585, 0.624512, 0.7827198, 0.8526338, 0.81927633, 0.5350611, 0.7022895, 0.61731136, 0.11387959, 0.17281725, 0.5307879, 0.591902, 0.38597256, 0.74469, 0.32707745, 0.76312786, 0.2061538, 0.7938859, 0.71198416, 0.64816934, 0.565712, 0.4468596, 0.381752, 0.65992707, 0.23732494, 0.34993982, 0.7987472, 0.7373052, 0.65084946, 0.2865706, 0.75003624, 0.39063403, 0.4224176, 0.13640882, 0.5085544, 0.20785351, 0.6663538, 0.81718534, 0.74066395, 0.81027466, 0.7748911, 0.5072116, 0.5607093, 0.5984921, 0.13695617, 0.5256669, 0.59896547, 0.65539116, 0.19348775, 0.38767576, 0.2415569, 0.2354189, 0.64194125, 0.25998572, 0.68604296, 0.7682436, 0.18633881, 0.8722859, 0.30323812, 0.3158592, 0.87243664, 0.70028406, 0.3948698, 0.09350824, 0.182995, 0.79383165, 0.404378, 0.7056261, 0.44355962, 0.6870174, 0.7546322, 0.56172615, 0.35321218, 0.8341346, 0.24819626, 0.51150405, 0.38518503, 0.5577299, 0.70486325, 0.5715865, 0.34407404, 0.7499947, 0.75142473, 0.44822866, 0.666017, 0.50075936, 0.54693, 0.78621846, 0.80380726, 0.5258479, 0.7536136, 0.60227805, 0.7468321, 0.8587254, 0.4489311, 0.8908238, 0.7286139, 0.5768673, 0.4921149, 0.41927052, 0.4853956, 0.5135005, 0.9779008, 0.5048275, 0.81326807, 0.62634504, 0.11034367, 0.63329613, 0.7247644, 0.514442, 0.63282144, 0.5072528, 0.6744621, 0.8291442, 0.5079153, 0.41770244, 0.56970996, 0.6566391, 0.6685006, 0.35054213, 0.6984826, 0.8219275, 0.72258604, 0.12422227, 0.70163685, 0.7717177, 0.6610517, 0.68594086, 1.0009513, 0.23177424, 0.62250865, 0.23010604, 0.35909653, 0.56844425, 0.27285486, 0.6170425, 0.6802769, 0.95227367, 0.8117279, 0.6570188, 0.5983451, 0.9313728, 0.55687696, 0.4918247, 0.4512908, 0.7684612, 0.13747592, 0.22562, 0.14264306, 0.14089979, 0.39274484, 0.16621579, 0.85806346, 0.7030898, 0.31818426, 0.36434746, 0.2734553, 0.3348469, 0.33117488, 0.25828177, 0.20621003, 0.5570685, 0.12517399, 0.22704776, 0.11550786, 0.13963316, 0.13697065, 0.19794513, 0.1466424, 0.18311644, 0.56168526, 0.11198073, 0.11234135, 0.34613103, 0.47868067, 0.16983919, 0.3328738, 0.5824874, 0.09964253, 0.14327069, 0.1521453, 0.3250825, 0.11054688, 0.14155836, 0.61402446, 0.21775745, 0.19590487, 0.11990861, 0.33388382, 0.5800654, 0.2536115, 0.5541732, 0.59492743, 0.32393765, 0.56133443, 0.64474446, 0.22688085, 0.22803715, 0.17530973, 0.17347713, 0.3981365, 0.22951761, 0.21676378, 0.1432089, 0.16654743, 0.13512664, 0.13085847, 0.42725056, 0.66397583, 0.14733891, 0.3096278, 0.24909745, 0.52935195, 0.08844001, 0.20250185, 0.31526563, 0.46505803, 0.6595772, 0.3664679, 0.5722201, 0.2086683, 0.22950192, 0.6256676, 0.35683462, 0.18372138, 0.5514981, 0.23038967, 0.15568466, 0.08722005, 0.8932842, 0.46500063, 0.50851756, 0.58588827, 0.4637528, 0.18216722, 0.21354143, 0.47586972, 0.097645864, 0.17869785, 0.74765617, 0.23515333, 0.21249582, 0.31629646, 0.54977053, 0.42838904, 0.15895985, 0.19459613, 0.14803024, 0.49919695, 0.18380879, 0.43143037, 0.14320873, 0.1495399, 0.1913151, 0.23665674, 0.5507247, 0.23669752, 0.5286189, 0.4089191, 0.17181997, 0.7874831, 0.55482596, 0.2929068, 0.5748446, 0.15690188, 0.2676151, 0.6170498, 0.281814, 0.6064941, 0.25258666, 0.11142655, 0.49986142, 0.118595466, 0.54613334, 0.21917556, 0.20417334, 0.67962146, 0.18969582, 0.43864685, 0.2845298, 0.1308869, 0.27318943, 0.489339, 0.57557946, 0.21532322, 0.16815244, 0.5008525, 0.29010552, 0.4322284, 0.1903937, 0.12148993, 0.45616558, 0.3861751, 0.6784258, 0.5391322, 0.5039111, 0.59774977, 0.3061878, 0.22509448, 0.64768404, 0.3637373, 0.3959014, 0.21042432, 0.5289031, 0.4302334, 0.63056266, 0.12955216, 0.42619395, 0.27019453, 0.31085727, 0.682368, 0.7435569, 0.11870274, 0.5229135, 0.38790214, 0.18202631, 0.25403106, 0.5031688, 0.15731312, 0.36707777, 0.35819823, 0.33888805, 0.13446896, 0.1509784, 0.26013702, 0.1788065, 0.3134592, 0.41258496, 0.3127841, 0.17605795, 0.49728733, 0.4192139, 0.55350536, 0.5139252, 0.16429932, 0.39160132, 0.1473951, 0.15651546, 0.12599377, 0.2895212, 0.22741438, 0.49148762, 0.20604306, 0.41304696, 0.24276574, 0.16083093, 0.16070376, 0.16112494, 0.16042203, 0.45239827, 0.40467268, 0.23755528, 0.62362295, 0.22604595, 0.18138765, 0.68796766, 0.3147987, 0.2857035, 0.14474815, 0.21479873, 0.39506182, 0.33300567, 0.13353926, 0.308637, 0.4553019, 0.5007622, 0.20393546, 0.16602968, 0.40455616, 0.39562845, 0.21407305, 0.2171943, 0.6764903, 0.3807311, 0.14441212, 0.16072254, 0.16557711, 0.6470883, 0.32487896, 0.24691363, 0.36653966, 0.5402691, 0.38159782, 0.3065939, 0.33515337, 0.5713785, 0.20025146, 0.7808839, 0.349854, 0.08644845, 0.139054, 0.13584004, 0.15376996, 0.5124989, 0.40033817, 0.3726933, 0.6202302, 0.33801186, 0.24067385, 0.44530708, 0.10830439, 0.40357107, 0.73589116, 0.1175906, 0.16510235, 0.53214365, 0.3169085, 0.20998304, 0.2877143, 0.18512942, 0.10808006, 0.21695413, 0.7491181, 0.27236623, 0.22189556, 0.37082538]\n"
          ],
          "name": "stdout"
        }
      ]
    },
    {
      "cell_type": "markdown",
      "metadata": {
        "id": "7OBVkYdxO1lc"
      },
      "source": [
        "MSE for Test Set"
      ]
    },
    {
      "cell_type": "code",
      "metadata": {
        "colab": {
          "base_uri": "https://localhost:8080/"
        },
        "id": "m_aa6arbOx-v",
        "outputId": "f80ed873-ec62-45c5-82b2-ff8ff4cf7f2e"
      },
      "source": [
        "from sklearn.metrics import mean_squared_error\n",
        "\n",
        "mse_test = mean_squared_error(test_scores, test_pred)\n",
        "print(mse_test)"
      ],
      "execution_count": null,
      "outputs": [
        {
          "output_type": "stream",
          "text": [
            "0.11144160274744194\n"
          ],
          "name": "stdout"
        }
      ]
    },
    {
      "cell_type": "markdown",
      "metadata": {
        "id": "0BYvWxlPOqY2"
      },
      "source": [
        "MAE for Test Set"
      ]
    },
    {
      "cell_type": "code",
      "metadata": {
        "colab": {
          "base_uri": "https://localhost:8080/"
        },
        "id": "MibZomD9NGHU",
        "outputId": "8183c112-a945-4422-a555-ed7976c73f2b"
      },
      "source": [
        "from sklearn.metrics import mean_absolute_error\n",
        "\n",
        "mae_test = mean_absolute_error(test_scores, test_pred)\n",
        "print(mae_test)"
      ],
      "execution_count": null,
      "outputs": [
        {
          "output_type": "stream",
          "text": [
            "0.28136161524773995\n"
          ],
          "name": "stdout"
        }
      ]
    },
    {
      "cell_type": "markdown",
      "metadata": {
        "id": "NgrfAdDaO_3N"
      },
      "source": [
        "RMSE for Test Set"
      ]
    },
    {
      "cell_type": "code",
      "metadata": {
        "colab": {
          "base_uri": "https://localhost:8080/"
        },
        "id": "2g5d08f4O-ut",
        "outputId": "d5b25025-043e-49cf-bd85-0cdab89fe681"
      },
      "source": [
        "root_mean_squared_error_test = math.sqrt(mse_test)\n",
        "print(root_mean_squared_error_test)"
      ],
      "execution_count": null,
      "outputs": [
        {
          "output_type": "stream",
          "text": [
            "0.333828702701613\n"
          ],
          "name": "stdout"
        }
      ]
    },
    {
      "cell_type": "markdown",
      "metadata": {
        "id": "6wv2MxBJ31vJ"
      },
      "source": [
        "Another approach idea: Below Code for Extending the Albert Model Classification task by appending the Classification output of the Albert Model to a new Dense network of Feed Forward Layers to perform a Regression Task.(We can call this extension of Model but not Finetuning, so commented this code.)"
      ]
    },
    {
      "cell_type": "code",
      "metadata": {
        "id": "S1tWTW54beXI"
      },
      "source": [
        "# sentences_list = data_frame[\"Sentence\"].tolist()\n",
        "\n",
        "# Class_0_Preds = []\n",
        "# Class_1_Preds = []\n",
        "# Class_2_Preds = []\n",
        "# Class_3_Preds = []\n",
        "# Class_4_Preds = []\n",
        "# Class_5_Preds = []\n",
        "# Class_6_Preds = []\n",
        "\n",
        "# for sent in sentences_list:\n",
        "#   predict_input = tokenizer.encode(sent,\n",
        "#                                    truncation=True,\n",
        "#                                    padding=True,\n",
        "#                                    return_tensors=\"tf\")\n",
        "#   tf_output = loaded_model.predict(predict_input)[0]\n",
        "\n",
        "#   Class_0_Preds.append(tf_output[0][0])\n",
        "#   Class_1_Preds.append(tf_output[0][1])\n",
        "#   Class_2_Preds.append(tf_output[0][2])\n",
        "#   Class_3_Preds.append(tf_output[0][3])\n",
        "#   Class_4_Preds.append(tf_output[0][4])\n",
        "#   Class_5_Preds.append(tf_output[0][5])\n",
        "#   Class_6_Preds.append(tf_output[0][6])\n",
        "\n",
        "\n"
      ],
      "execution_count": null,
      "outputs": []
    },
    {
      "cell_type": "code",
      "metadata": {
        "id": "D5vFVNJ-fKr7"
      },
      "source": [
        "# df = DataFrame({'Class_0':Class_0_Preds, 'Class_1':Class_1_Preds, 'Class_2':Class_2_Preds, 'Class_3':Class_3_Preds, 'Class_4':Class_4_Preds, 'Class_5':Class_5_Preds, 'Class_6':Class_6_Preds})"
      ],
      "execution_count": null,
      "outputs": []
    },
    {
      "cell_type": "code",
      "metadata": {
        "id": "1gkzF2UGfRei"
      },
      "source": [
        "# len(df)"
      ],
      "execution_count": null,
      "outputs": []
    },
    {
      "cell_type": "code",
      "metadata": {
        "id": "UP4gNguXf0Fo"
      },
      "source": [
        "# from textblob import TextBlob\n",
        "\n",
        "# def getScore(data):\n",
        "#   return TextBlob(data).sentiment.subjectivity\n",
        "\n",
        "# df[\"Subj_Score\"] = data_frame[\"Sentence\"].apply(getScore)"
      ],
      "execution_count": null,
      "outputs": []
    },
    {
      "cell_type": "code",
      "metadata": {
        "id": "IGCOyupHgExe"
      },
      "source": [
        "# df.head()"
      ],
      "execution_count": null,
      "outputs": []
    },
    {
      "cell_type": "code",
      "metadata": {
        "pycharm": {
          "name": "#%%\n"
        },
        "id": "qlWFuj7HndZ0"
      },
      "source": [
        "# tf_prediction = tf.nn.softmax(tf_output, axis=1).numpy()[0]\n",
        "# print(tf_prediction)\n",
        "\n",
        "# # 9.9978644e-01 = 0.99978644\n",
        "# # 2.1356659e-04 = 0.00021356659\n",
        "# # => sentiment = 0"
      ],
      "execution_count": null,
      "outputs": []
    },
    {
      "cell_type": "code",
      "metadata": {
        "id": "PY9UNsxIC7PG"
      },
      "source": [
        "# X = df.iloc[:, 0:7].values\n",
        "# y = df.iloc[:, 7].values\n",
        "\n",
        "# from sklearn.model_selection import train_test_split\n",
        "\n",
        "# X_train, X_test, y_train, y_test = train_test_split(X, y, test_size=0.2, random_state=0)\n",
        "\n",
        "# from sklearn.preprocessing import StandardScaler\n",
        "\n",
        "# sc = StandardScaler()\n",
        "# X_train = sc.fit_transform(X_train)\n",
        "# X_test = sc.transform(X_test)"
      ],
      "execution_count": null,
      "outputs": []
    },
    {
      "cell_type": "code",
      "metadata": {
        "id": "dA1Wi8ZXQQUi"
      },
      "source": [
        "# print(y)"
      ],
      "execution_count": null,
      "outputs": []
    },
    {
      "cell_type": "markdown",
      "metadata": {
        "id": "5YBjLyADQGU4"
      },
      "source": [
        "Ref: https://stackabuse.com/tensorflow-2-0-solving-classification-and-regression-problems/"
      ]
    },
    {
      "cell_type": "code",
      "metadata": {
        "id": "jh0ZYnuTJq9l"
      },
      "source": [
        "# from tensorflow.keras.layers import Input, Dense, Activation,Dropout\n",
        "# from tensorflow.keras.models import Model\n",
        "\n",
        "# input_layer = Input(shape=(X.shape[1],))\n",
        "# dense_layer_1 = Dense(100, activation='relu')(input_layer)\n",
        "# dense_layer_2 = Dense(50, activation='relu')(dense_layer_1)\n",
        "# dense_layer_3 = Dense(25, activation='relu')(dense_layer_2)\n",
        "# output = Dense(1)(dense_layer_3)\n",
        "\n",
        "# model = Model(inputs=input_layer, outputs=output)\n",
        "# model.compile(loss=\"mean_squared_error\" , optimizer=\"adam\", metrics=[\"mean_squared_error\"])"
      ],
      "execution_count": null,
      "outputs": []
    },
    {
      "cell_type": "code",
      "metadata": {
        "pycharm": {
          "name": "#%%\n"
        },
        "id": "zzGLqH_7ndZ2"
      },
      "source": [
        "# history = model.fit(X_train, y_train, batch_size=2, epochs=100, verbose=1, validation_split=0.2)"
      ],
      "execution_count": null,
      "outputs": []
    },
    {
      "cell_type": "markdown",
      "metadata": {
        "id": "0mdtP4gTX3XQ"
      },
      "source": [
        "References:\n",
        "\n",
        "1. TensorFlow  Datasets,  A  collection  of  ready-to-use  datasets.https://www.tensorflow.org/datasets.64\n",
        "\n",
        "2. Source code for transformers.models.albert.tokenizationalbert. Accessed: 2021-03-14.url:https://huggingface.co/transformers/_modules/transformers/models/albert/tokenization_albert.html#AlbertTokenizer.\n",
        "\n",
        "3. Source code for transformers.models.albert.modelingtfalbert. Accessed: 2021-03-14.url:https://huggingface.co/transformers/_modules/transformers/models/albert/modeling_tf_albert.html#TFAlbertForSequenceClassification.\n",
        "\n",
        "4. Huggingface Distilbert - https://colab.research.google.com/drive/1yi9N-ZnQHtYfR3QDiwsPxYCYU6WyjwlQ#scrollTo=633fetsKg5cv\n",
        "\n",
        "5. Huggingface  ALBERT  pre-trained  Model. Accessed: 2021-03-14.url:https://huggingface.co/albert-base-v2/resolve/main/spiece.model.\n",
        "\n",
        "6. Huggingface  ALBERT  Base  version  2  Model  Usage.  Accessed:  2021-03-14.url: https://huggingface.co/albert-base-v2."
      ]
    }
  ]
}