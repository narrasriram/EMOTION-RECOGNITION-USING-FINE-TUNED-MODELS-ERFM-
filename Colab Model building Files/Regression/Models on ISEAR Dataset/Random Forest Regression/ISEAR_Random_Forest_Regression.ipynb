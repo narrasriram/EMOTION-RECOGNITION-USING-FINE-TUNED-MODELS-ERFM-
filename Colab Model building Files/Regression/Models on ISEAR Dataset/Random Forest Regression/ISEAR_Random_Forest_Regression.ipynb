{
  "nbformat": 4,
  "nbformat_minor": 0,
  "metadata": {
    "colab": {
      "name": "ISEAR_Random_Forest_Regression.ipynb",
      "provenance": [],
      "authorship_tag": "ABX9TyNsobrI8BFGKTPq1S79BGWf",
      "include_colab_link": true
    },
    "kernelspec": {
      "name": "python3",
      "display_name": "Python 3"
    },
    "accelerator": "GPU"
  },
  "cells": [
    {
      "cell_type": "markdown",
      "metadata": {
        "id": "view-in-github",
        "colab_type": "text"
      },
      "source": [
        "<a href=\"https://colab.research.google.com/github/narrasriram/EMOTION-RECOGNITION-USING-FINE-TUNED-MODELS-ERFM-/blob/main/Colab%20Model%20building%20Files/Regression/Models%20on%20ISEAR%20Dataset/Random%20Forest%20Regression/ISEAR_Random_Forest_Regression.ipynb\" target=\"_parent\"><img src=\"https://colab.research.google.com/assets/colab-badge.svg\" alt=\"Open In Colab\"/></a>"
      ]
    },
    {
      "cell_type": "markdown",
      "metadata": {
        "id": "9Rm1Yw7X-OLx"
      },
      "source": [
        "  \n",
        "# -*- coding: utf-8 -*-\n",
        "\n",
        "# Author: Sriram Narra\n",
        "# Course: CS 842\n",
        "# Date: Apr 15, 2021\n",
        "# Project Name: Emotion Recognition using Fine-tuned Models(ERFM)\n",
        "# Description: This notebook builds a Random Forest Regression Model on ISEAR \n",
        "#              Dataset and checks the performance of the \n",
        "#              model with various model evaluation metrics\n",
        "# --------------------------------------------------------------------------------"
      ]
    },
    {
      "cell_type": "markdown",
      "metadata": {
        "id": "pMH1MBtyT-on"
      },
      "source": [
        "Importing the libraries"
      ]
    },
    {
      "cell_type": "code",
      "metadata": {
        "id": "5MZ416mCRgNR",
        "colab": {
          "base_uri": "https://localhost:8080/"
        },
        "outputId": "77548858-a378-411a-9d62-51f8ff04026f"
      },
      "source": [
        "\n",
        "import numpy as np\n",
        "import matplotlib.pyplot as plt\n",
        "import pandas as pd\n",
        "from sklearn.naive_bayes import MultinomialNB\n",
        "from pandas import DataFrame\n",
        "import textblob\n",
        "from textblob import TextBlob\n",
        "import re\n",
        "import nltk\n",
        "nltk.download('stopwords')\n",
        "from nltk.corpus import stopwords\n",
        "from nltk.stem.porter import PorterStemmer\n",
        "from sklearn.feature_extraction.text import CountVectorizer"
      ],
      "execution_count": null,
      "outputs": [
        {
          "output_type": "stream",
          "text": [
            "[nltk_data] Downloading package stopwords to /root/nltk_data...\n",
            "[nltk_data]   Package stopwords is already up-to-date!\n"
          ],
          "name": "stdout"
        }
      ]
    },
    {
      "cell_type": "markdown",
      "metadata": {
        "id": "2HThn1R_UBOE"
      },
      "source": [
        "Mount Google Drive"
      ]
    },
    {
      "cell_type": "code",
      "metadata": {
        "colab": {
          "base_uri": "https://localhost:8080/"
        },
        "id": "YvTUW-dHRiPc",
        "outputId": "26f0234b-523e-4e28-aea4-11daa84e59bb"
      },
      "source": [
        "from google.colab import drive\n",
        "\n",
        "drive.mount('/content/drive')"
      ],
      "execution_count": null,
      "outputs": [
        {
          "output_type": "stream",
          "text": [
            "Drive already mounted at /content/drive; to attempt to forcibly remount, call drive.mount(\"/content/drive\", force_remount=True).\n"
          ],
          "name": "stdout"
        }
      ]
    },
    {
      "cell_type": "markdown",
      "metadata": {
        "id": "LWPh7enSUE45"
      },
      "source": [
        "Load the CSV data into Dataframe"
      ]
    },
    {
      "cell_type": "code",
      "metadata": {
        "id": "b-8X1_5PRmnN"
      },
      "source": [
        "data_frame=pd.read_csv('/content/drive/MyDrive/Data Science Project/Datasets/ISEAR/Isear.csv')"
      ],
      "execution_count": null,
      "outputs": []
    },
    {
      "cell_type": "code",
      "metadata": {
        "colab": {
          "base_uri": "https://localhost:8080/",
          "height": 194
        },
        "id": "Vb_EvnmJP5Ze",
        "outputId": "01fba6fb-b5a7-4f9a-8527-f958c5b63c5f"
      },
      "source": [
        "data_frame.head()"
      ],
      "execution_count": null,
      "outputs": [
        {
          "output_type": "execute_result",
          "data": {
            "text/html": [
              "<div>\n",
              "<style scoped>\n",
              "    .dataframe tbody tr th:only-of-type {\n",
              "        vertical-align: middle;\n",
              "    }\n",
              "\n",
              "    .dataframe tbody tr th {\n",
              "        vertical-align: top;\n",
              "    }\n",
              "\n",
              "    .dataframe thead th {\n",
              "        text-align: right;\n",
              "    }\n",
              "</style>\n",
              "<table border=\"1\" class=\"dataframe\">\n",
              "  <thead>\n",
              "    <tr style=\"text-align: right;\">\n",
              "      <th></th>\n",
              "      <th>Emotion</th>\n",
              "      <th>Text</th>\n",
              "    </tr>\n",
              "  </thead>\n",
              "  <tbody>\n",
              "    <tr>\n",
              "      <th>0</th>\n",
              "      <td>anger</td>\n",
              "      <td>When a boy tried to fool me so he would be OK ...</td>\n",
              "    </tr>\n",
              "    <tr>\n",
              "      <th>1</th>\n",
              "      <td>anger</td>\n",
              "      <td>I felt anger when I saw that I was being misle...</td>\n",
              "    </tr>\n",
              "    <tr>\n",
              "      <th>2</th>\n",
              "      <td>anger</td>\n",
              "      <td>Once a friend had pushed me and I had fallen o...</td>\n",
              "    </tr>\n",
              "    <tr>\n",
              "      <th>3</th>\n",
              "      <td>anger</td>\n",
              "      <td>When I was misleaded by a person who assured t...</td>\n",
              "    </tr>\n",
              "    <tr>\n",
              "      <th>4</th>\n",
              "      <td>anger</td>\n",
              "      <td>I don't use to lie to my parets about what I d...</td>\n",
              "    </tr>\n",
              "  </tbody>\n",
              "</table>\n",
              "</div>"
            ],
            "text/plain": [
              "  Emotion                                               Text\n",
              "0   anger  When a boy tried to fool me so he would be OK ...\n",
              "1   anger  I felt anger when I saw that I was being misle...\n",
              "2   anger  Once a friend had pushed me and I had fallen o...\n",
              "3   anger  When I was misleaded by a person who assured t...\n",
              "4   anger  I don't use to lie to my parets about what I d..."
            ]
          },
          "metadata": {
            "tags": []
          },
          "execution_count": 33
        }
      ]
    },
    {
      "cell_type": "markdown",
      "metadata": {
        "id": "aMjS3L7NRtGj"
      },
      "source": [
        "Subjectivity Score Retrieval Function Declaration"
      ]
    },
    {
      "cell_type": "code",
      "metadata": {
        "id": "zwnQAmojX34v"
      },
      "source": [
        "def getScore(data):\n",
        "  return TextBlob(data).sentiment.subjectivity"
      ],
      "execution_count": null,
      "outputs": []
    },
    {
      "cell_type": "code",
      "metadata": {
        "id": "iKxyPg_kAx_y"
      },
      "source": [
        "data_frame[\"Subj_Score\"] = data_frame[\"Text\"].apply(getScore)"
      ],
      "execution_count": null,
      "outputs": []
    },
    {
      "cell_type": "code",
      "metadata": {
        "colab": {
          "base_uri": "https://localhost:8080/",
          "height": 194
        },
        "id": "Si2GM-aOByGM",
        "outputId": "4f3b4165-10fc-41cb-df1d-2a288e0ed437"
      },
      "source": [
        "data_frame.tail()"
      ],
      "execution_count": null,
      "outputs": [
        {
          "output_type": "execute_result",
          "data": {
            "text/html": [
              "<div>\n",
              "<style scoped>\n",
              "    .dataframe tbody tr th:only-of-type {\n",
              "        vertical-align: middle;\n",
              "    }\n",
              "\n",
              "    .dataframe tbody tr th {\n",
              "        vertical-align: top;\n",
              "    }\n",
              "\n",
              "    .dataframe thead th {\n",
              "        text-align: right;\n",
              "    }\n",
              "</style>\n",
              "<table border=\"1\" class=\"dataframe\">\n",
              "  <thead>\n",
              "    <tr style=\"text-align: right;\">\n",
              "      <th></th>\n",
              "      <th>Emotion</th>\n",
              "      <th>Text</th>\n",
              "      <th>Subj_Score</th>\n",
              "    </tr>\n",
              "  </thead>\n",
              "  <tbody>\n",
              "    <tr>\n",
              "      <th>7661</th>\n",
              "      <td>shame</td>\n",
              "      <td>I felt this when I was copying homework for on...</td>\n",
              "      <td>0.000000</td>\n",
              "    </tr>\n",
              "    <tr>\n",
              "      <th>7662</th>\n",
              "      <td>shame</td>\n",
              "      <td>I experienced long ago when I was sightseeing ...</td>\n",
              "      <td>0.475000</td>\n",
              "    </tr>\n",
              "    <tr>\n",
              "      <th>7663</th>\n",
              "      <td>shame</td>\n",
              "      <td>Failing an examn because I did not work hard e...</td>\n",
              "      <td>0.520833</td>\n",
              "    </tr>\n",
              "    <tr>\n",
              "      <th>7664</th>\n",
              "      <td>shame</td>\n",
              "      <td>I was talking to a friend of mine about our pa...</td>\n",
              "      <td>0.000000</td>\n",
              "    </tr>\n",
              "    <tr>\n",
              "      <th>7665</th>\n",
              "      <td>shame</td>\n",
              "      <td>Arguing with a friend over politics. She was m...</td>\n",
              "      <td>0.300000</td>\n",
              "    </tr>\n",
              "  </tbody>\n",
              "</table>\n",
              "</div>"
            ],
            "text/plain": [
              "     Emotion                                               Text  Subj_Score\n",
              "7661   shame  I felt this when I was copying homework for on...    0.000000\n",
              "7662   shame  I experienced long ago when I was sightseeing ...    0.475000\n",
              "7663   shame  Failing an examn because I did not work hard e...    0.520833\n",
              "7664   shame  I was talking to a friend of mine about our pa...    0.000000\n",
              "7665   shame  Arguing with a friend over politics. She was m...    0.300000"
            ]
          },
          "metadata": {
            "tags": []
          },
          "execution_count": 36
        }
      ]
    },
    {
      "cell_type": "code",
      "metadata": {
        "colab": {
          "base_uri": "https://localhost:8080/"
        },
        "id": "T0xanzZOD6ez",
        "outputId": "b3fbf24a-6c6d-47c8-92bf-e8b2a3bfcee1"
      },
      "source": [
        "print(data_frame[\"Emotion\"].value_counts())"
      ],
      "execution_count": null,
      "outputs": [
        {
          "output_type": "stream",
          "text": [
            "sadness    1096\n",
            "anger      1096\n",
            "shame      1096\n",
            "disgust    1096\n",
            "fear       1095\n",
            "joy        1094\n",
            "guilt      1093\n",
            "Name: Emotion, dtype: int64\n"
          ],
          "name": "stdout"
        }
      ]
    },
    {
      "cell_type": "markdown",
      "metadata": {
        "id": "YW2LHSsyUWfR"
      },
      "source": [
        "Remove those Records containing \"[ No response.]\" from dataframe"
      ]
    },
    {
      "cell_type": "code",
      "metadata": {
        "colab": {
          "base_uri": "https://localhost:8080/"
        },
        "id": "TkwArFAmMV7C",
        "outputId": "aa97c918-bc64-4703-b61a-6e1232cc5b41"
      },
      "source": [
        "data_frame.drop(data_frame[data_frame.Text=='[ No response.]'].index, inplace = True)\n",
        "print(\"Total number of records containing the value [ No response.] after deletion is: \"\n",
        "                              +str(len(data_frame[data_frame.Text=='[ No response.]'])))"
      ],
      "execution_count": null,
      "outputs": [
        {
          "output_type": "stream",
          "text": [
            "Total number of records containing the value [ No response.] after deletion is: 0\n"
          ],
          "name": "stdout"
        }
      ]
    },
    {
      "cell_type": "markdown",
      "metadata": {
        "id": "LX0Sq52JUxoe"
      },
      "source": [
        "Outlier Analysis"
      ]
    },
    {
      "cell_type": "code",
      "metadata": {
        "colab": {
          "base_uri": "https://localhost:8080/",
          "height": 298
        },
        "id": "JeNqu-XBMnOY",
        "outputId": "adaae4d3-9637-4fbd-ec43-29ea456b2782"
      },
      "source": [
        "import seaborn as sns\n",
        "sns.boxplot(x=data_frame['Subj_Score'])"
      ],
      "execution_count": null,
      "outputs": [
        {
          "output_type": "execute_result",
          "data": {
            "text/plain": [
              "<matplotlib.axes._subplots.AxesSubplot at 0x7f9de28d1b90>"
            ]
          },
          "metadata": {
            "tags": []
          },
          "execution_count": 39
        },
        {
          "output_type": "display_data",
          "data": {
            "image/png": "[encoded data removed]",
            "text/plain": [
              "<Figure size 432x288 with 1 Axes>"
            ]
          },
          "metadata": {
            "tags": [],
            "needs_background": "light"
          }
        }
      ]
    },
    {
      "cell_type": "markdown",
      "metadata": {
        "id": "h2oe4QzcU5hl"
      },
      "source": [
        "Balanced/Imbalanced Data check on Subjectivity Score Bins"
      ]
    },
    {
      "cell_type": "code",
      "metadata": {
        "colab": {
          "base_uri": "https://localhost:8080/",
          "height": 426
        },
        "id": "scaxKWLBMw-H",
        "outputId": "718b9b01-d6a6-4979-bcb7-7fdbb3f029cd"
      },
      "source": [
        "data_frame.hist(column=['Subj_Score'],bins=4, figsize=(8,6))"
      ],
      "execution_count": null,
      "outputs": [
        {
          "output_type": "execute_result",
          "data": {
            "text/plain": [
              "array([[<matplotlib.axes._subplots.AxesSubplot object at 0x7f9de28df710>]],\n",
              "      dtype=object)"
            ]
          },
          "metadata": {
            "tags": []
          },
          "execution_count": 40
        },
        {
          "output_type": "display_data",
          "data": {
            "image/png": "[encoded data removed]",
            "text/plain": [
              "<Figure size 576x432 with 1 Axes>"
            ]
          },
          "metadata": {
            "tags": [],
            "needs_background": "light"
          }
        }
      ]
    },
    {
      "cell_type": "markdown",
      "metadata": {
        "id": "F-xwW4AvU7hG"
      },
      "source": [
        "Balancing the Imbalanced Data on majority of Subjectivity Score Bins"
      ]
    },
    {
      "cell_type": "code",
      "metadata": {
        "colab": {
          "base_uri": "https://localhost:8080/",
          "height": 426
        },
        "id": "5NJBZkYHM29V",
        "outputId": "1e72cb3f-6b42-4aaf-860d-3f52296669b4"
      },
      "source": [
        "count = 1\n",
        "columns = ['Emotion', 'Text', 'Subj_Score']\n",
        "zero_list = []\n",
        "for ind, row in data_frame.iterrows():\n",
        "  if(row['Subj_Score']==0.0 and count<=1000):\n",
        "    zero_list.append(row.to_dict())\n",
        "    count+=1\n",
        "zero_df = pd.DataFrame(zero_list)\n",
        "cond = data_frame['Text'].isin(zero_df['Text'])\n",
        "data_frame.drop(data_frame[cond].index, inplace = True)\n",
        "data_frame.hist(column=['Subj_Score'],bins=4, figsize=(8,6))"
      ],
      "execution_count": null,
      "outputs": [
        {
          "output_type": "execute_result",
          "data": {
            "text/plain": [
              "array([[<matplotlib.axes._subplots.AxesSubplot object at 0x7f9de2aaec10>]],\n",
              "      dtype=object)"
            ]
          },
          "metadata": {
            "tags": []
          },
          "execution_count": 41
        },
        {
          "output_type": "display_data",
          "data": {
            "image/png": "[encoded data removed]",
            "text/plain": [
              "<Figure size 576x432 with 1 Axes>"
            ]
          },
          "metadata": {
            "tags": [],
            "needs_background": "light"
          }
        }
      ]
    },
    {
      "cell_type": "markdown",
      "metadata": {
        "id": "XYJ-dZ18YP34"
      },
      "source": [
        "Missing Values Analysis"
      ]
    },
    {
      "cell_type": "code",
      "metadata": {
        "colab": {
          "base_uri": "https://localhost:8080/"
        },
        "id": "TyXwQvVbXo65",
        "outputId": "47a49495-7c1b-4083-ec6d-55df5afb9998"
      },
      "source": [
        "data_frame.isnull().values.any()"
      ],
      "execution_count": null,
      "outputs": [
        {
          "output_type": "execute_result",
          "data": {
            "text/plain": [
              "False"
            ]
          },
          "metadata": {
            "tags": []
          },
          "execution_count": 42
        }
      ]
    },
    {
      "cell_type": "code",
      "metadata": {
        "colab": {
          "base_uri": "https://localhost:8080/",
          "height": 288
        },
        "id": "K9ISlytOXR4C",
        "outputId": "698968b7-465f-455a-bacb-3cc9dd93d5ad"
      },
      "source": [
        "sns.heatmap(data_frame.isnull(), cbar=False)"
      ],
      "execution_count": null,
      "outputs": [
        {
          "output_type": "execute_result",
          "data": {
            "text/plain": [
              "<matplotlib.axes._subplots.AxesSubplot at 0x7f9dd8cebd90>"
            ]
          },
          "metadata": {
            "tags": []
          },
          "execution_count": 43
        },
        {
          "output_type": "display_data",
          "data": {
            "image/png": "[encoded data removed]",
            "text/plain": [
              "<Figure size 432x288 with 1 Axes>"
            ]
          },
          "metadata": {
            "tags": [],
            "needs_background": "light"
          }
        }
      ]
    },
    {
      "cell_type": "code",
      "metadata": {
        "colab": {
          "base_uri": "https://localhost:8080/"
        },
        "id": "uVdM0BuUNzPz",
        "outputId": "0390a190-f865-4a94-d343-350bcd2c60d7"
      },
      "source": [
        "len(data_frame)"
      ],
      "execution_count": null,
      "outputs": [
        {
          "output_type": "execute_result",
          "data": {
            "text/plain": [
              "6572"
            ]
          },
          "metadata": {
            "tags": []
          },
          "execution_count": 44
        }
      ]
    },
    {
      "cell_type": "code",
      "metadata": {
        "colab": {
          "base_uri": "https://localhost:8080/",
          "height": 194
        },
        "id": "utRA8J0U4MgJ",
        "outputId": "7d8ab908-c35b-48e4-a465-3bd509fb8d8e"
      },
      "source": [
        "data_frame.head()"
      ],
      "execution_count": null,
      "outputs": [
        {
          "output_type": "execute_result",
          "data": {
            "text/html": [
              "<div>\n",
              "<style scoped>\n",
              "    .dataframe tbody tr th:only-of-type {\n",
              "        vertical-align: middle;\n",
              "    }\n",
              "\n",
              "    .dataframe tbody tr th {\n",
              "        vertical-align: top;\n",
              "    }\n",
              "\n",
              "    .dataframe thead th {\n",
              "        text-align: right;\n",
              "    }\n",
              "</style>\n",
              "<table border=\"1\" class=\"dataframe\">\n",
              "  <thead>\n",
              "    <tr style=\"text-align: right;\">\n",
              "      <th></th>\n",
              "      <th>Emotion</th>\n",
              "      <th>Text</th>\n",
              "      <th>Subj_Score</th>\n",
              "    </tr>\n",
              "  </thead>\n",
              "  <tbody>\n",
              "    <tr>\n",
              "      <th>0</th>\n",
              "      <td>anger</td>\n",
              "      <td>When a boy tried to fool me so he would be OK ...</td>\n",
              "      <td>0.500000</td>\n",
              "    </tr>\n",
              "    <tr>\n",
              "      <th>1</th>\n",
              "      <td>anger</td>\n",
              "      <td>I felt anger when I saw that I was being misle...</td>\n",
              "      <td>0.258333</td>\n",
              "    </tr>\n",
              "    <tr>\n",
              "      <th>2</th>\n",
              "      <td>anger</td>\n",
              "      <td>Once a friend had pushed me and I had fallen o...</td>\n",
              "      <td>0.400000</td>\n",
              "    </tr>\n",
              "    <tr>\n",
              "      <th>3</th>\n",
              "      <td>anger</td>\n",
              "      <td>When I was misleaded by a person who assured t...</td>\n",
              "      <td>0.500000</td>\n",
              "    </tr>\n",
              "    <tr>\n",
              "      <th>4</th>\n",
              "      <td>anger</td>\n",
              "      <td>I don't use to lie to my parets about what I d...</td>\n",
              "      <td>0.200000</td>\n",
              "    </tr>\n",
              "  </tbody>\n",
              "</table>\n",
              "</div>"
            ],
            "text/plain": [
              "  Emotion                                               Text  Subj_Score\n",
              "0   anger  When a boy tried to fool me so he would be OK ...    0.500000\n",
              "1   anger  I felt anger when I saw that I was being misle...    0.258333\n",
              "2   anger  Once a friend had pushed me and I had fallen o...    0.400000\n",
              "3   anger  When I was misleaded by a person who assured t...    0.500000\n",
              "4   anger  I don't use to lie to my parets about what I d...    0.200000"
            ]
          },
          "metadata": {
            "tags": []
          },
          "execution_count": 45
        }
      ]
    },
    {
      "cell_type": "markdown",
      "metadata": {
        "id": "ofS6_2oxVEE6"
      },
      "source": [
        "Shuffling the dataset"
      ]
    },
    {
      "cell_type": "code",
      "metadata": {
        "id": "S8vsCCeq5FCw"
      },
      "source": [
        "data_frame = data_frame.sample(frac=1).reset_index(drop=True)"
      ],
      "execution_count": null,
      "outputs": []
    },
    {
      "cell_type": "markdown",
      "metadata": {
        "id": "XApKI_bfVJ31"
      },
      "source": [
        "Data Cleaning"
      ]
    },
    {
      "cell_type": "code",
      "metadata": {
        "id": "3_d685b5NUgi"
      },
      "source": [
        "req_sentences_list = []\n",
        "for i in range(0, len(data_frame)):\n",
        "    substituted_sentence = re.sub('[^a-zA-Z]', ' ', data_frame['Text'][i])\n",
        "    # Take the lower case alphabets of every sentence\n",
        "    lower_cased_sentence = substituted_sentence.lower()\n",
        "\n",
        "    # Split every word in the sentence\n",
        "    splitted_sentence = lower_cased_sentence.split()\n",
        "\n",
        "    # Stem every word to its root word\n",
        "    ps = PorterStemmer()\n",
        "    stemmed_sentence = [ps.stem(each_word) for each_word in splitted_sentence if not each_word in set(stopwords.words('english'))]\n",
        "\n",
        "    # Join the divided words\n",
        "    cleaned_sentence = ' '.join(stemmed_sentence)\n",
        "\n",
        "    # Append the cleaned sentence to the list\n",
        "    req_sentences_list.append(cleaned_sentence)"
      ],
      "execution_count": null,
      "outputs": []
    },
    {
      "cell_type": "markdown",
      "metadata": {
        "id": "8wqIs51dVLXv"
      },
      "source": [
        "Label Encoding the Emotion Labels"
      ]
    },
    {
      "cell_type": "code",
      "metadata": {
        "id": "lQ0SE06PNZIm"
      },
      "source": [
        "from sklearn.preprocessing import LabelEncoder\n",
        "le = LabelEncoder()\n",
        "data_frame['Emotion'] = le.fit_transform(data_frame['Emotion'])"
      ],
      "execution_count": null,
      "outputs": []
    },
    {
      "cell_type": "markdown",
      "metadata": {
        "id": "_QVyPos0VO2d"
      },
      "source": [
        "Transforming the Sentences into Features(By taking the 1589 words)"
      ]
    },
    {
      "cell_type": "code",
      "metadata": {
        "id": "QNIMX7QlNckR"
      },
      "source": [
        "feature_count_calc = CountVectorizer(max_features = 1)\n",
        "X = feature_count_calc.fit_transform(req_sentences_list).toarray()\n",
        "y = data_frame.iloc[:, 2].values"
      ],
      "execution_count": null,
      "outputs": []
    },
    {
      "cell_type": "markdown",
      "metadata": {
        "id": "U25nyNGRXX3-"
      },
      "source": [
        "Scaling all the features into single scale"
      ]
    },
    {
      "cell_type": "code",
      "metadata": {
        "id": "RgfcJ7vdNfww"
      },
      "source": [
        "from sklearn.preprocessing import StandardScaler\n",
        "sc_X = StandardScaler()\n",
        "X = sc_X.fit_transform(X)"
      ],
      "execution_count": null,
      "outputs": []
    },
    {
      "cell_type": "markdown",
      "metadata": {
        "id": "Yr9JDPSQXboW"
      },
      "source": [
        "Split the dataset into Training and Testing sets"
      ]
    },
    {
      "cell_type": "code",
      "metadata": {
        "id": "zliApuQINsfo"
      },
      "source": [
        "from sklearn.model_selection import train_test_split\n",
        "X_train, X_test, y_train, y_test = train_test_split(X, y, test_size = 0.3, random_state = 0)"
      ],
      "execution_count": null,
      "outputs": []
    },
    {
      "cell_type": "markdown",
      "metadata": {
        "id": "qO0Dk0K5N5y_"
      },
      "source": [
        "Fitting Ranfom Forest Regressor to the Training set"
      ]
    },
    {
      "cell_type": "code",
      "metadata": {
        "colab": {
          "base_uri": "https://localhost:8080/"
        },
        "id": "gFwNPEltNugy",
        "outputId": "22384a72-9cd9-4978-d664-ce4fb93c957f"
      },
      "source": [
        "from sklearn.ensemble import RandomForestRegressor\n",
        "regressor = RandomForestRegressor(n_estimators = 10, random_state = 0)\n",
        "regressor.fit(X_train, y_train)"
      ],
      "execution_count": null,
      "outputs": [
        {
          "output_type": "execute_result",
          "data": {
            "text/plain": [
              "RandomForestRegressor(bootstrap=True, ccp_alpha=0.0, criterion='mse',\n",
              "                      max_depth=None, max_features='auto', max_leaf_nodes=None,\n",
              "                      max_samples=None, min_impurity_decrease=0.0,\n",
              "                      min_impurity_split=None, min_samples_leaf=1,\n",
              "                      min_samples_split=2, min_weight_fraction_leaf=0.0,\n",
              "                      n_estimators=10, n_jobs=None, oob_score=False,\n",
              "                      random_state=0, verbose=0, warm_start=False)"
            ]
          },
          "metadata": {
            "tags": []
          },
          "execution_count": 52
        }
      ]
    },
    {
      "cell_type": "markdown",
      "metadata": {
        "id": "rqxbueFWXglo"
      },
      "source": [
        "Appending the additional removed records from the initial dataset in the test set"
      ]
    },
    {
      "cell_type": "code",
      "metadata": {
        "id": "PsLBs-XJN883"
      },
      "source": [
        "req_sentences_list = []\n",
        "for i in range(0, len(zero_df)):\n",
        "    substituted_sentence_2 = re.sub('[^a-zA-Z]', ' ', zero_df['Text'][i])\n",
        "    # Take the lower case alphabets of every sentence\n",
        "    lower_cased_sentence_2 = substituted_sentence_2.lower()\n",
        "\n",
        "    # Split every word in the sentence\n",
        "    splitted_sentence_2 = lower_cased_sentence_2.split()\n",
        "\n",
        "    # Stem every word to its root word\n",
        "    ps = PorterStemmer()\n",
        "    stemmed_sentence_2 = [ps.stem(each_word) for each_word in splitted_sentence_2 if not each_word in set(stopwords.words('english'))]\n",
        "\n",
        "    # Join the divided words\n",
        "    cleaned_sentence_2 = ' '.join(stemmed_sentence_2)\n",
        "\n",
        "    # Append the cleaned sentence to the list\n",
        "    req_sentences_list.append(cleaned_sentence_2)\n",
        "\n",
        "additional_x_test = feature_count_calc.transform(req_sentences_list).toarray()\n",
        "additional_y_test = zero_df.iloc[:, 2].values\n",
        "\n",
        "scaled_additional_x_test = sc_X.transform(additional_x_test)"
      ],
      "execution_count": null,
      "outputs": []
    },
    {
      "cell_type": "code",
      "metadata": {
        "id": "wBO3VwViOBgZ"
      },
      "source": [
        "X_test = np.concatenate((X_test, additional_x_test))\n",
        "y_test = np.concatenate((y_test, additional_y_test))"
      ],
      "execution_count": null,
      "outputs": []
    },
    {
      "cell_type": "markdown",
      "metadata": {
        "id": "Y8fGcizuXkLx"
      },
      "source": [
        "Prediction of Testset Results"
      ]
    },
    {
      "cell_type": "code",
      "metadata": {
        "id": "KP8wqnCXOIn_"
      },
      "source": [
        "y_pred = regressor.predict(X_test)"
      ],
      "execution_count": null,
      "outputs": []
    },
    {
      "cell_type": "markdown",
      "metadata": {
        "id": "T0tKxFk-7r_J"
      },
      "source": [
        "Mean Squared Error"
      ]
    },
    {
      "cell_type": "code",
      "metadata": {
        "colab": {
          "base_uri": "https://localhost:8080/"
        },
        "id": "T9FgisV97qhe",
        "outputId": "07ff778d-8f78-409b-db1b-56a3f2478dfd"
      },
      "source": [
        "from sklearn.metrics import mean_squared_error\n",
        "\n",
        "mse = mean_squared_error(y_test, y_pred)\n",
        "\n",
        "print(mse)"
      ],
      "execution_count": null,
      "outputs": [
        {
          "output_type": "stream",
          "text": [
            "0.12223458992910641\n"
          ],
          "name": "stdout"
        }
      ]
    },
    {
      "cell_type": "markdown",
      "metadata": {
        "id": "wVEAYaQrJ8xS"
      },
      "source": [
        "Mean Absolute Error"
      ]
    },
    {
      "cell_type": "code",
      "metadata": {
        "colab": {
          "base_uri": "https://localhost:8080/"
        },
        "id": "wNgusLa4J46T",
        "outputId": "2d8583f1-12df-4e33-a0ef-8cbb54aafcb7"
      },
      "source": [
        "from sklearn.metrics import mean_absolute_error\n",
        "\n",
        "mean_absolute_error(y_test, y_pred)"
      ],
      "execution_count": null,
      "outputs": [
        {
          "output_type": "execute_result",
          "data": {
            "text/plain": [
              "0.3086204360022094"
            ]
          },
          "metadata": {
            "tags": []
          },
          "execution_count": 57
        }
      ]
    },
    {
      "cell_type": "markdown",
      "metadata": {
        "id": "X5djlCTwKAjl"
      },
      "source": [
        "RMSE"
      ]
    },
    {
      "cell_type": "code",
      "metadata": {
        "colab": {
          "base_uri": "https://localhost:8080/"
        },
        "id": "TvNBZVW0J-zw",
        "outputId": "8e0eaece-52df-4d99-aae4-e940a51d50b3"
      },
      "source": [
        "import math\n",
        "\n",
        "root_mean_squared_error = math.sqrt(mse)\n",
        "print(root_mean_squared_error)"
      ],
      "execution_count": null,
      "outputs": [
        {
          "output_type": "stream",
          "text": [
            "0.3496206371613472\n"
          ],
          "name": "stdout"
        }
      ]
    },
    {
      "cell_type": "markdown",
      "metadata": {
        "id": "P6YdmtVzH6lM"
      },
      "source": [
        "References:\n",
        "\n",
        "1.  Edward Loper and Steven Bird. “NLTK: The Natural Language Toolkit”. In:CoRRcs.CL/0205028(2002).url:http://dblp.uni- trier.de/db/journals/corr/corr0205.html#cs- CL-0205028\n",
        "\n",
        "2. Guido Van Rossum and Fred L. Drake.Python 3 Reference Manual. Scotts Valley, CA: CreateS-pace, 2009.isbn: 1441412697.\n",
        "\n",
        "3.  F. Pedregosa et al. “Scikit-learn: Machine Learning in Python”. In:Journal of Machine LearningResearch12 (2011), pp. 2825–2830.\n",
        "\n",
        "4. Conversion of Input into Word Features - https://github.com/narrasriram/data_science/blob/master/machine_learning/natural%20language%20processing/sentiment%20classification/natural_language_processing.py"
      ]
    }
  ]
}