{
  "nbformat": 4,
  "nbformat_minor": 0,
  "metadata": {
    "colab": {
      "name": "ISEAR_Linear_Regression.ipynb",
      "provenance": [],
      "authorship_tag": "ABX9TyNx8gkIyA7aDBSSKeuwfjmt",
      "include_colab_link": true
    },
    "kernelspec": {
      "name": "python3",
      "display_name": "Python 3"
    }
  },
  "cells": [
    {
      "cell_type": "markdown",
      "metadata": {
        "id": "view-in-github",
        "colab_type": "text"
      },
      "source": [
        "<a href=\"https://colab.research.google.com/github/narrasriram/EMOTION-RECOGNITION-USING-FINE-TUNED-MODELS-ERFM-/blob/main/Colab%20Model%20building%20Files/Regression/Models%20on%20ISEAR%20Dataset/Linear%20Regression/ISEAR_Linear_Regression.ipynb\" target=\"_parent\"><img src=\"https://colab.research.google.com/assets/colab-badge.svg\" alt=\"Open In Colab\"/></a>"
      ]
    },
    {
      "cell_type": "markdown",
      "metadata": {
        "id": "a7Xi2aXb9OoR"
      },
      "source": [
        "  \n",
        "# -*- coding: utf-8 -*-\n",
        "\n",
        "# Author: Sriram Narra\n",
        "# Course: CS 842\n",
        "# Date: Apr 15, 2021\n",
        "# Project Name: Emotion Recognition using Fine-tuned Models(ERFM)\n",
        "# Description: This notebook builds a Linear Regression Model on ISEAR \n",
        "#              Dataset and checks the performance of the \n",
        "#              model with various model evaluation metrics\n",
        "# --------------------------------------------------------------------------------"
      ]
    },
    {
      "cell_type": "markdown",
      "metadata": {
        "id": "3dbh6b46G8fl"
      },
      "source": [
        "Importing the libraries"
      ]
    },
    {
      "cell_type": "code",
      "metadata": {
        "id": "5MZ416mCRgNR",
        "colab": {
          "base_uri": "https://localhost:8080/"
        },
        "outputId": "c558bfc2-c263-48ae-dac7-e4393d27ac0d"
      },
      "source": [
        "import numpy as np\n",
        "import matplotlib.pyplot as plt\n",
        "import pandas as pd\n",
        "from sklearn.naive_bayes import MultinomialNB\n",
        "from pandas import DataFrame\n",
        "import textblob\n",
        "from textblob import TextBlob\n",
        "import re\n",
        "import nltk\n",
        "nltk.download('stopwords')\n",
        "from nltk.corpus import stopwords\n",
        "from nltk.stem.porter import PorterStemmer\n",
        "from sklearn.feature_extraction.text import CountVectorizer"
      ],
      "execution_count": null,
      "outputs": [
        {
          "output_type": "stream",
          "text": [
            "[nltk_data] Downloading package stopwords to /root/nltk_data...\n",
            "[nltk_data]   Unzipping corpora/stopwords.zip.\n"
          ],
          "name": "stdout"
        }
      ]
    },
    {
      "cell_type": "markdown",
      "metadata": {
        "id": "B0WxPE8-G_vT"
      },
      "source": [
        "Mount Google Drive"
      ]
    },
    {
      "cell_type": "code",
      "metadata": {
        "colab": {
          "base_uri": "https://localhost:8080/"
        },
        "id": "YvTUW-dHRiPc",
        "outputId": "4f45ef87-a7b9-435d-98f1-67aa73eac66d"
      },
      "source": [
        "from google.colab import drive\n",
        "\n",
        "drive.mount('/content/drive')"
      ],
      "execution_count": null,
      "outputs": [
        {
          "output_type": "stream",
          "text": [
            "Mounted at /content/drive\n"
          ],
          "name": "stdout"
        }
      ]
    },
    {
      "cell_type": "markdown",
      "metadata": {
        "id": "vsB0lMyzHDNj"
      },
      "source": [
        "Load CSV File into Dataframe"
      ]
    },
    {
      "cell_type": "code",
      "metadata": {
        "id": "b-8X1_5PRmnN"
      },
      "source": [
        "data_frame=pd.read_csv('/content/drive/MyDrive/Data Science Project/Datasets/ISEAR/Isear.csv')"
      ],
      "execution_count": null,
      "outputs": []
    },
    {
      "cell_type": "code",
      "metadata": {
        "colab": {
          "base_uri": "https://localhost:8080/",
          "height": 194
        },
        "id": "Vb_EvnmJP5Ze",
        "outputId": "f6d54437-6783-49d9-86c3-3950376c6efb"
      },
      "source": [
        "data_frame.head()"
      ],
      "execution_count": null,
      "outputs": [
        {
          "output_type": "execute_result",
          "data": {
            "text/html": [
              "<div>\n",
              "<style scoped>\n",
              "    .dataframe tbody tr th:only-of-type {\n",
              "        vertical-align: middle;\n",
              "    }\n",
              "\n",
              "    .dataframe tbody tr th {\n",
              "        vertical-align: top;\n",
              "    }\n",
              "\n",
              "    .dataframe thead th {\n",
              "        text-align: right;\n",
              "    }\n",
              "</style>\n",
              "<table border=\"1\" class=\"dataframe\">\n",
              "  <thead>\n",
              "    <tr style=\"text-align: right;\">\n",
              "      <th></th>\n",
              "      <th>Emotion</th>\n",
              "      <th>Text</th>\n",
              "    </tr>\n",
              "  </thead>\n",
              "  <tbody>\n",
              "    <tr>\n",
              "      <th>0</th>\n",
              "      <td>anger</td>\n",
              "      <td>When a boy tried to fool me so he would be OK ...</td>\n",
              "    </tr>\n",
              "    <tr>\n",
              "      <th>1</th>\n",
              "      <td>anger</td>\n",
              "      <td>I felt anger when I saw that I was being misle...</td>\n",
              "    </tr>\n",
              "    <tr>\n",
              "      <th>2</th>\n",
              "      <td>anger</td>\n",
              "      <td>Once a friend had pushed me and I had fallen o...</td>\n",
              "    </tr>\n",
              "    <tr>\n",
              "      <th>3</th>\n",
              "      <td>anger</td>\n",
              "      <td>When I was misleaded by a person who assured t...</td>\n",
              "    </tr>\n",
              "    <tr>\n",
              "      <th>4</th>\n",
              "      <td>anger</td>\n",
              "      <td>I don't use to lie to my parets about what I d...</td>\n",
              "    </tr>\n",
              "  </tbody>\n",
              "</table>\n",
              "</div>"
            ],
            "text/plain": [
              "  Emotion                                               Text\n",
              "0   anger  When a boy tried to fool me so he would be OK ...\n",
              "1   anger  I felt anger when I saw that I was being misle...\n",
              "2   anger  Once a friend had pushed me and I had fallen o...\n",
              "3   anger  When I was misleaded by a person who assured t...\n",
              "4   anger  I don't use to lie to my parets about what I d..."
            ]
          },
          "metadata": {
            "tags": []
          },
          "execution_count": 23
        }
      ]
    },
    {
      "cell_type": "markdown",
      "metadata": {
        "id": "aMjS3L7NRtGj"
      },
      "source": [
        "Subjectivity Score Retrieval Function Declaration"
      ]
    },
    {
      "cell_type": "code",
      "metadata": {
        "id": "zwnQAmojX34v"
      },
      "source": [
        "def getScore(data):\n",
        "  return TextBlob(data).sentiment.subjectivity"
      ],
      "execution_count": null,
      "outputs": []
    },
    {
      "cell_type": "code",
      "metadata": {
        "id": "iKxyPg_kAx_y"
      },
      "source": [
        "data_frame[\"Subj_Score\"] = data_frame[\"Text\"].apply(getScore)"
      ],
      "execution_count": null,
      "outputs": []
    },
    {
      "cell_type": "code",
      "metadata": {
        "colab": {
          "base_uri": "https://localhost:8080/",
          "height": 194
        },
        "id": "Si2GM-aOByGM",
        "outputId": "f86e6df2-24cf-4905-b28c-2c406a2991e9"
      },
      "source": [
        "data_frame.tail()"
      ],
      "execution_count": null,
      "outputs": [
        {
          "output_type": "execute_result",
          "data": {
            "text/html": [
              "<div>\n",
              "<style scoped>\n",
              "    .dataframe tbody tr th:only-of-type {\n",
              "        vertical-align: middle;\n",
              "    }\n",
              "\n",
              "    .dataframe tbody tr th {\n",
              "        vertical-align: top;\n",
              "    }\n",
              "\n",
              "    .dataframe thead th {\n",
              "        text-align: right;\n",
              "    }\n",
              "</style>\n",
              "<table border=\"1\" class=\"dataframe\">\n",
              "  <thead>\n",
              "    <tr style=\"text-align: right;\">\n",
              "      <th></th>\n",
              "      <th>Emotion</th>\n",
              "      <th>Text</th>\n",
              "      <th>Subj_Score</th>\n",
              "    </tr>\n",
              "  </thead>\n",
              "  <tbody>\n",
              "    <tr>\n",
              "      <th>7661</th>\n",
              "      <td>shame</td>\n",
              "      <td>I felt this when I was copying homework for on...</td>\n",
              "      <td>0.000000</td>\n",
              "    </tr>\n",
              "    <tr>\n",
              "      <th>7662</th>\n",
              "      <td>shame</td>\n",
              "      <td>I experienced long ago when I was sightseeing ...</td>\n",
              "      <td>0.475000</td>\n",
              "    </tr>\n",
              "    <tr>\n",
              "      <th>7663</th>\n",
              "      <td>shame</td>\n",
              "      <td>Failing an examn because I did not work hard e...</td>\n",
              "      <td>0.520833</td>\n",
              "    </tr>\n",
              "    <tr>\n",
              "      <th>7664</th>\n",
              "      <td>shame</td>\n",
              "      <td>I was talking to a friend of mine about our pa...</td>\n",
              "      <td>0.000000</td>\n",
              "    </tr>\n",
              "    <tr>\n",
              "      <th>7665</th>\n",
              "      <td>shame</td>\n",
              "      <td>Arguing with a friend over politics. She was m...</td>\n",
              "      <td>0.300000</td>\n",
              "    </tr>\n",
              "  </tbody>\n",
              "</table>\n",
              "</div>"
            ],
            "text/plain": [
              "     Emotion                                               Text  Subj_Score\n",
              "7661   shame  I felt this when I was copying homework for on...    0.000000\n",
              "7662   shame  I experienced long ago when I was sightseeing ...    0.475000\n",
              "7663   shame  Failing an examn because I did not work hard e...    0.520833\n",
              "7664   shame  I was talking to a friend of mine about our pa...    0.000000\n",
              "7665   shame  Arguing with a friend over politics. She was m...    0.300000"
            ]
          },
          "metadata": {
            "tags": []
          },
          "execution_count": 26
        }
      ]
    },
    {
      "cell_type": "code",
      "metadata": {
        "colab": {
          "base_uri": "https://localhost:8080/"
        },
        "id": "T0xanzZOD6ez",
        "outputId": "13db73cd-5248-44ca-89cd-84f39923aedf"
      },
      "source": [
        "print(data_frame[\"Emotion\"].value_counts())"
      ],
      "execution_count": null,
      "outputs": [
        {
          "output_type": "stream",
          "text": [
            "anger      1096\n",
            "sadness    1096\n",
            "shame      1096\n",
            "disgust    1096\n",
            "fear       1095\n",
            "joy        1094\n",
            "guilt      1093\n",
            "Name: Emotion, dtype: int64\n"
          ],
          "name": "stdout"
        }
      ]
    },
    {
      "cell_type": "markdown",
      "metadata": {
        "id": "9yQRiwNhIy2N"
      },
      "source": [
        "Remove those Records containing \"[ No response.]\" from dataframe"
      ]
    },
    {
      "cell_type": "code",
      "metadata": {
        "colab": {
          "base_uri": "https://localhost:8080/"
        },
        "id": "oBBl8KtPbcJB",
        "outputId": "e3292244-d754-4680-dcaf-aa32d4bf6f4a"
      },
      "source": [
        "data_frame.drop(data_frame[data_frame.Text=='[ No response.]'].index, inplace = True)\n",
        "print(\"Total number of records containing the value [ No response.] after deletion is: \"\n",
        "                              +str(len(data_frame[data_frame.Text=='[ No response.]'])))"
      ],
      "execution_count": null,
      "outputs": [
        {
          "output_type": "stream",
          "text": [
            "Total number of records containing the value [ No response.] after deletion is: 0\n"
          ],
          "name": "stdout"
        }
      ]
    },
    {
      "cell_type": "markdown",
      "metadata": {
        "id": "lhlkSnK8JCaG"
      },
      "source": [
        "Outlier Analysis"
      ]
    },
    {
      "cell_type": "code",
      "metadata": {
        "colab": {
          "base_uri": "https://localhost:8080/",
          "height": 298
        },
        "id": "dKdH3OubaMrW",
        "outputId": "9c81c47e-eb99-44d3-d788-9ea4e900d520"
      },
      "source": [
        "import seaborn as sns\n",
        "sns.boxplot(x=data_frame['Subj_Score'])"
      ],
      "execution_count": null,
      "outputs": [
        {
          "output_type": "execute_result",
          "data": {
            "text/plain": [
              "<matplotlib.axes._subplots.AxesSubplot at 0x7f0a9430d850>"
            ]
          },
          "metadata": {
            "tags": []
          },
          "execution_count": 29
        },
        {
          "output_type": "display_data",
          "data": {
            "image/png": "[encoded data removed]",
            "text/plain": [
              "<Figure size 432x288 with 1 Axes>"
            ]
          },
          "metadata": {
            "tags": [],
            "needs_background": "light"
          }
        }
      ]
    },
    {
      "cell_type": "markdown",
      "metadata": {
        "id": "fL-GRnKAJO8n"
      },
      "source": [
        "Balanced/Imbalanced Data check on Subjectivity Score Bins"
      ]
    },
    {
      "cell_type": "code",
      "metadata": {
        "colab": {
          "base_uri": "https://localhost:8080/",
          "height": 426
        },
        "id": "L-kDO2XWahDR",
        "outputId": "4d808724-d39d-4332-f73b-29ac44737773"
      },
      "source": [
        "data_frame.hist(column=['Subj_Score'],bins=4, figsize=(8,6))"
      ],
      "execution_count": null,
      "outputs": [
        {
          "output_type": "execute_result",
          "data": {
            "text/plain": [
              "array([[<matplotlib.axes._subplots.AxesSubplot object at 0x7f0a94376910>]],\n",
              "      dtype=object)"
            ]
          },
          "metadata": {
            "tags": []
          },
          "execution_count": 30
        },
        {
          "output_type": "display_data",
          "data": {
            "image/png": "[encoded data removed]",
            "text/plain": [
              "<Figure size 576x432 with 1 Axes>"
            ]
          },
          "metadata": {
            "tags": [],
            "needs_background": "light"
          }
        }
      ]
    },
    {
      "cell_type": "markdown",
      "metadata": {
        "id": "V9ldZRFfJaya"
      },
      "source": [
        "Balancing the Imbalanced Data on majority of Subjectivity Score Bins"
      ]
    },
    {
      "cell_type": "code",
      "metadata": {
        "colab": {
          "base_uri": "https://localhost:8080/",
          "height": 426
        },
        "id": "IiFCv3bYasel",
        "outputId": "e47de7fe-8ef8-4f7b-d991-d8971b87d063"
      },
      "source": [
        "count = 1\n",
        "columns = ['Emotion', 'Text', 'Subj_Score']\n",
        "zero_list = []\n",
        "for ind, row in data_frame.iterrows():\n",
        "  if(row['Subj_Score']==0.0 and count<=1000):\n",
        "    zero_list.append(row.to_dict())\n",
        "    count+=1\n",
        "zero_df = pd.DataFrame(zero_list)\n",
        "cond = data_frame['Text'].isin(zero_df['Text'])\n",
        "data_frame.drop(data_frame[cond].index, inplace = True)\n",
        "data_frame.hist(column=['Subj_Score'],bins=4, figsize=(8,6))"
      ],
      "execution_count": null,
      "outputs": [
        {
          "output_type": "execute_result",
          "data": {
            "text/plain": [
              "array([[<matplotlib.axes._subplots.AxesSubplot object at 0x7f0a9437ff90>]],\n",
              "      dtype=object)"
            ]
          },
          "metadata": {
            "tags": []
          },
          "execution_count": 31
        },
        {
          "output_type": "display_data",
          "data": {
            "image/png": "[encoded data removed]",
            "text/plain": [
              "<Figure size 576x432 with 1 Axes>"
            ]
          },
          "metadata": {
            "tags": [],
            "needs_background": "light"
          }
        }
      ]
    },
    {
      "cell_type": "markdown",
      "metadata": {
        "id": "Xp2tPfIIR2QM"
      },
      "source": [
        "Balacnced/Imbalanced Data Analysis"
      ]
    },
    {
      "cell_type": "code",
      "metadata": {
        "colab": {
          "base_uri": "https://localhost:8080/",
          "height": 285
        },
        "id": "j6BrXMzNQl1_",
        "outputId": "04fc5492-e280-4854-e67b-0436774d58a3"
      },
      "source": [
        "import seaborn as sns\n",
        "sns.set_theme(style=\"darkgrid\")\n",
        "ax = sns.countplot(x=\"Emotion\", data=data_frame)"
      ],
      "execution_count": null,
      "outputs": [
        {
          "output_type": "display_data",
          "data": {
            "image/png": "[encoded data removed]",
            "text/plain": [
              "<Figure size 432x288 with 1 Axes>"
            ]
          },
          "metadata": {
            "tags": []
          }
        }
      ]
    },
    {
      "cell_type": "markdown",
      "metadata": {
        "id": "XYJ-dZ18YP34"
      },
      "source": [
        "Missing Values Analysis"
      ]
    },
    {
      "cell_type": "code",
      "metadata": {
        "colab": {
          "base_uri": "https://localhost:8080/"
        },
        "id": "TyXwQvVbXo65",
        "outputId": "c329fb7d-7c86-4413-d694-5907abb5cab4"
      },
      "source": [
        "data_frame.isnull().values.any()"
      ],
      "execution_count": null,
      "outputs": [
        {
          "output_type": "execute_result",
          "data": {
            "text/plain": [
              "False"
            ]
          },
          "metadata": {
            "tags": []
          },
          "execution_count": 33
        }
      ]
    },
    {
      "cell_type": "code",
      "metadata": {
        "colab": {
          "base_uri": "https://localhost:8080/",
          "height": 291
        },
        "id": "K9ISlytOXR4C",
        "outputId": "b4b30d8b-e2b1-4fba-9ef5-f640561d0542"
      },
      "source": [
        "sns.heatmap(data_frame.isnull(), cbar=False)"
      ],
      "execution_count": null,
      "outputs": [
        {
          "output_type": "execute_result",
          "data": {
            "text/plain": [
              "<matplotlib.axes._subplots.AxesSubplot at 0x7f0a945f87d0>"
            ]
          },
          "metadata": {
            "tags": []
          },
          "execution_count": 34
        },
        {
          "output_type": "display_data",
          "data": {
            "image/png": "[encoded data removed]",
            "text/plain": [
              "<Figure size 432x288 with 1 Axes>"
            ]
          },
          "metadata": {
            "tags": []
          }
        }
      ]
    },
    {
      "cell_type": "code",
      "metadata": {
        "colab": {
          "base_uri": "https://localhost:8080/"
        },
        "id": "uVdM0BuUNzPz",
        "outputId": "952b5885-4cc4-497d-b975-d6911d9aef2f"
      },
      "source": [
        "len(data_frame)"
      ],
      "execution_count": null,
      "outputs": [
        {
          "output_type": "execute_result",
          "data": {
            "text/plain": [
              "6572"
            ]
          },
          "metadata": {
            "tags": []
          },
          "execution_count": 35
        }
      ]
    },
    {
      "cell_type": "code",
      "metadata": {
        "colab": {
          "base_uri": "https://localhost:8080/",
          "height": 194
        },
        "id": "utRA8J0U4MgJ",
        "outputId": "dd7f8cd1-4b2d-4304-f436-7da46ae4ce05"
      },
      "source": [
        "data_frame.head()"
      ],
      "execution_count": null,
      "outputs": [
        {
          "output_type": "execute_result",
          "data": {
            "text/html": [
              "<div>\n",
              "<style scoped>\n",
              "    .dataframe tbody tr th:only-of-type {\n",
              "        vertical-align: middle;\n",
              "    }\n",
              "\n",
              "    .dataframe tbody tr th {\n",
              "        vertical-align: top;\n",
              "    }\n",
              "\n",
              "    .dataframe thead th {\n",
              "        text-align: right;\n",
              "    }\n",
              "</style>\n",
              "<table border=\"1\" class=\"dataframe\">\n",
              "  <thead>\n",
              "    <tr style=\"text-align: right;\">\n",
              "      <th></th>\n",
              "      <th>Emotion</th>\n",
              "      <th>Text</th>\n",
              "      <th>Subj_Score</th>\n",
              "    </tr>\n",
              "  </thead>\n",
              "  <tbody>\n",
              "    <tr>\n",
              "      <th>0</th>\n",
              "      <td>anger</td>\n",
              "      <td>When a boy tried to fool me so he would be OK ...</td>\n",
              "      <td>0.500000</td>\n",
              "    </tr>\n",
              "    <tr>\n",
              "      <th>1</th>\n",
              "      <td>anger</td>\n",
              "      <td>I felt anger when I saw that I was being misle...</td>\n",
              "      <td>0.258333</td>\n",
              "    </tr>\n",
              "    <tr>\n",
              "      <th>2</th>\n",
              "      <td>anger</td>\n",
              "      <td>Once a friend had pushed me and I had fallen o...</td>\n",
              "      <td>0.400000</td>\n",
              "    </tr>\n",
              "    <tr>\n",
              "      <th>3</th>\n",
              "      <td>anger</td>\n",
              "      <td>When I was misleaded by a person who assured t...</td>\n",
              "      <td>0.500000</td>\n",
              "    </tr>\n",
              "    <tr>\n",
              "      <th>4</th>\n",
              "      <td>anger</td>\n",
              "      <td>I don't use to lie to my parets about what I d...</td>\n",
              "      <td>0.200000</td>\n",
              "    </tr>\n",
              "  </tbody>\n",
              "</table>\n",
              "</div>"
            ],
            "text/plain": [
              "  Emotion                                               Text  Subj_Score\n",
              "0   anger  When a boy tried to fool me so he would be OK ...    0.500000\n",
              "1   anger  I felt anger when I saw that I was being misle...    0.258333\n",
              "2   anger  Once a friend had pushed me and I had fallen o...    0.400000\n",
              "3   anger  When I was misleaded by a person who assured t...    0.500000\n",
              "4   anger  I don't use to lie to my parets about what I d...    0.200000"
            ]
          },
          "metadata": {
            "tags": []
          },
          "execution_count": 36
        }
      ]
    },
    {
      "cell_type": "markdown",
      "metadata": {
        "id": "cv3DQjPvJmod"
      },
      "source": [
        "Shuffle the Dataset"
      ]
    },
    {
      "cell_type": "code",
      "metadata": {
        "id": "S8vsCCeq5FCw"
      },
      "source": [
        "data_frame = data_frame.sample(frac=1).reset_index(drop=True)"
      ],
      "execution_count": null,
      "outputs": []
    },
    {
      "cell_type": "markdown",
      "metadata": {
        "id": "S6R7pdvQJxvx"
      },
      "source": [
        "Data Transformation"
      ]
    },
    {
      "cell_type": "code",
      "metadata": {
        "id": "x19jWvwKeWt1"
      },
      "source": [
        "req_sentences_list = []\n",
        "for i in range(0, len(data_frame)):\n",
        "    substituted_sentence = re.sub('[^a-zA-Z]', ' ', data_frame['Text'][i])\n",
        "    # Take the lower case alphabets of every sentence\n",
        "    lower_cased_sentence = substituted_sentence.lower()\n",
        "\n",
        "    # Split every word in the sentence\n",
        "    splitted_sentence = lower_cased_sentence.split()\n",
        "\n",
        "    # Stem every word to its root word\n",
        "    ps = PorterStemmer()\n",
        "    stemmed_sentence = [ps.stem(each_word) for each_word in splitted_sentence if not each_word in set(stopwords.words('english'))]\n",
        "\n",
        "    # Join the divided words\n",
        "    cleaned_sentence = ' '.join(stemmed_sentence)\n",
        "\n",
        "    # Append the cleaned sentence to the list\n",
        "    req_sentences_list.append(cleaned_sentence)"
      ],
      "execution_count": null,
      "outputs": []
    },
    {
      "cell_type": "markdown",
      "metadata": {
        "id": "ls7kCRUnJ29C"
      },
      "source": [
        "Label Encoding Emotion Label"
      ]
    },
    {
      "cell_type": "code",
      "metadata": {
        "id": "43VWMil0efrg"
      },
      "source": [
        "from sklearn.preprocessing import LabelEncoder\n",
        "le = LabelEncoder()\n",
        "data_frame['Emotion'] = le.fit_transform(data_frame['Emotion'])"
      ],
      "execution_count": null,
      "outputs": []
    },
    {
      "cell_type": "markdown",
      "metadata": {
        "id": "DALPAfAzJ_oG"
      },
      "source": [
        "Creation of Bag of Words"
      ]
    },
    {
      "cell_type": "code",
      "metadata": {
        "id": "riapD13WeiWB"
      },
      "source": [
        "feature_count_calc = CountVectorizer(max_features = 1589)\n",
        "X = feature_count_calc.fit_transform(req_sentences_list).toarray()\n",
        "y = data_frame.iloc[:, 2].values"
      ],
      "execution_count": null,
      "outputs": []
    },
    {
      "cell_type": "markdown",
      "metadata": {
        "id": "EBzyX2fFKDMp"
      },
      "source": [
        "Scale the features onto a single scale"
      ]
    },
    {
      "cell_type": "code",
      "metadata": {
        "id": "tiHWkft7eq8n"
      },
      "source": [
        "from sklearn.preprocessing import StandardScaler\n",
        "sc_X = StandardScaler()\n",
        "X = sc_X.fit_transform(X)"
      ],
      "execution_count": null,
      "outputs": []
    },
    {
      "cell_type": "markdown",
      "metadata": {
        "id": "4OoWPTo-KLGk"
      },
      "source": [
        "Splitting the dataset into the Training set and Test set"
      ]
    },
    {
      "cell_type": "code",
      "metadata": {
        "id": "HieTqbEce1_h"
      },
      "source": [
        "from sklearn.model_selection import train_test_split\n",
        "X_train, X_test, y_train, y_test = train_test_split(X, y, test_size = 0.15, random_state = 0)"
      ],
      "execution_count": null,
      "outputs": []
    },
    {
      "cell_type": "code",
      "metadata": {
        "colab": {
          "base_uri": "https://localhost:8080/"
        },
        "id": "X46Zdjt7e_LO",
        "outputId": "37af1c5b-aaf0-4a2d-bd43-40bf650f0df2"
      },
      "source": [
        "from sklearn.linear_model import LinearRegression\n",
        "regressor = LinearRegression()\n",
        "regressor.fit(X_train, y_train)"
      ],
      "execution_count": null,
      "outputs": [
        {
          "output_type": "execute_result",
          "data": {
            "text/plain": [
              "LinearRegression(copy_X=True, fit_intercept=True, n_jobs=None, normalize=False)"
            ]
          },
          "metadata": {
            "tags": []
          },
          "execution_count": 43
        }
      ]
    },
    {
      "cell_type": "code",
      "metadata": {
        "id": "Z7YmAfdqfFQl"
      },
      "source": [
        "req_sentences_list = []\n",
        "for i in range(0, len(zero_df)):\n",
        "    substituted_sentence_2 = re.sub('[^a-zA-Z]', ' ', zero_df['Text'][i])\n",
        "    # Take the lower case alphabets of every sentence\n",
        "    lower_cased_sentence_2 = substituted_sentence_2.lower()\n",
        "\n",
        "    # Split every word in the sentence\n",
        "    splitted_sentence_2 = lower_cased_sentence_2.split()\n",
        "\n",
        "    # Stem every word to its root word\n",
        "    ps = PorterStemmer()\n",
        "    stemmed_sentence_2 = [ps.stem(each_word) for each_word in splitted_sentence_2 if not each_word in set(stopwords.words('english'))]\n",
        "\n",
        "    # Join the divided words\n",
        "    cleaned_sentence_2 = ' '.join(stemmed_sentence_2)\n",
        "\n",
        "    # Append the cleaned sentence to the list\n",
        "    req_sentences_list.append(cleaned_sentence_2)\n",
        "\n",
        "additional_x_test = feature_count_calc.transform(req_sentences_list).toarray()\n",
        "additional_y_test = zero_df.iloc[:, 2].values\n",
        "\n",
        "scaled_additional_x_test = sc_X.transform(additional_x_test)"
      ],
      "execution_count": null,
      "outputs": []
    },
    {
      "cell_type": "code",
      "metadata": {
        "id": "bUw8czq5fc00"
      },
      "source": [
        "X_test = np.concatenate((X_test, additional_x_test))\n",
        "y_test = np.concatenate((y_test, additional_y_test))"
      ],
      "execution_count": null,
      "outputs": []
    },
    {
      "cell_type": "code",
      "metadata": {
        "id": "ZyS7BUt6fdd0"
      },
      "source": [
        "y_pred = regressor.predict(X_test)"
      ],
      "execution_count": null,
      "outputs": []
    },
    {
      "cell_type": "markdown",
      "metadata": {
        "id": "T0tKxFk-7r_J"
      },
      "source": [
        "Mean Squared Error"
      ]
    },
    {
      "cell_type": "code",
      "metadata": {
        "colab": {
          "base_uri": "https://localhost:8080/"
        },
        "id": "T9FgisV97qhe",
        "outputId": "fb4a5970-decd-4914-bcfb-f6ef90d77727"
      },
      "source": [
        "from sklearn.metrics import mean_squared_error\n",
        "\n",
        "mse = mean_squared_error(y_test, y_pred)\n",
        "\n",
        "print(mse)"
      ],
      "execution_count": null,
      "outputs": [
        {
          "output_type": "stream",
          "text": [
            "0.1320158413319795\n"
          ],
          "name": "stdout"
        }
      ]
    },
    {
      "cell_type": "markdown",
      "metadata": {
        "id": "_1qCyUVhJi2u"
      },
      "source": [
        "Mean Absolute Error"
      ]
    },
    {
      "cell_type": "code",
      "metadata": {
        "colab": {
          "base_uri": "https://localhost:8080/"
        },
        "id": "Fn3611moJXIv",
        "outputId": "9fbd8c82-4633-49ce-c07b-cbbc972ce1c6"
      },
      "source": [
        "from sklearn.metrics import mean_absolute_error\n",
        "\n",
        "mean_absolute_error(y_test, y_pred)"
      ],
      "execution_count": null,
      "outputs": [
        {
          "output_type": "execute_result",
          "data": {
            "text/plain": [
              "0.32426681373214894"
            ]
          },
          "metadata": {
            "tags": []
          },
          "execution_count": 48
        }
      ]
    },
    {
      "cell_type": "markdown",
      "metadata": {
        "id": "IpnH-iXKJmQU"
      },
      "source": [
        "RMSE"
      ]
    },
    {
      "cell_type": "code",
      "metadata": {
        "colab": {
          "base_uri": "https://localhost:8080/"
        },
        "id": "sWFtGAl4JhpT",
        "outputId": "260cb7e4-32ab-4031-b4a8-477ffd0c8cf9"
      },
      "source": [
        "import math\n",
        "\n",
        "root_mean_squared_error = math.sqrt(mse)\n",
        "print(root_mean_squared_error)"
      ],
      "execution_count": null,
      "outputs": [
        {
          "output_type": "stream",
          "text": [
            "0.36333984275328174\n"
          ],
          "name": "stdout"
        }
      ]
    },
    {
      "cell_type": "markdown",
      "metadata": {
        "id": "_WG-GTMrgH6-"
      },
      "source": [
        "5-fold cross validation"
      ]
    },
    {
      "cell_type": "code",
      "metadata": {
        "colab": {
          "base_uri": "https://localhost:8080/"
        },
        "id": "hu7h4ltKy6nv",
        "outputId": "7753af6f-ae4b-40b3-b949-ac118d51b51b"
      },
      "source": [
        "from sklearn.model_selection import cross_val_score\n",
        "metric_scores = cross_val_score(estimator = regressor, X = X_train, y = y_train, cv = 5)\n",
        "print(\"Average Score:\",metric_scores.mean())\n",
        "print(\"Average Standard Deviation:\",metric_scores.std())"
      ],
      "execution_count": null,
      "outputs": [
        {
          "output_type": "stream",
          "text": [
            "Average Score: -3.9979134910083845e+22\n",
            "Average Standard Deviation: 7.995826982016769e+22\n"
          ],
          "name": "stdout"
        }
      ]
    },
    {
      "cell_type": "markdown",
      "metadata": {
        "id": "id4IVwmwHYnn"
      },
      "source": [
        "References:\n",
        "\n",
        "1.  Edward Loper and Steven Bird. “NLTK: The Natural Language Toolkit”. In:CoRRcs.CL/0205028(2002).url:http://dblp.uni- trier.de/db/journals/corr/corr0205.html#cs- CL-0205028\n",
        "\n",
        "2. Guido Van Rossum and Fred L. Drake.Python 3 Reference Manual. Scotts Valley, CA: CreateS-pace, 2009.isbn: 1441412697.\n",
        "\n",
        "3.  F. Pedregosa et al. “Scikit-learn: Machine Learning in Python”. In:Journal of Machine LearningResearch12 (2011), pp. 2825–2830.\n",
        "\n",
        "4. Conversion of Input into Word Features - https://github.com/narrasriram/data_science/blob/master/machine_learning/natural%20language%20processing/sentiment%20classification/natural_language_processing.py"
      ]
    }
  ]
}