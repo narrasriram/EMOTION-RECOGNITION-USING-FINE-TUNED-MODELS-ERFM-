{
  "nbformat": 4,
  "nbformat_minor": 0,
  "metadata": {
    "kernelspec": {
      "display_name": "Python 3",
      "language": "python",
      "name": "python3"
    },
    "language_info": {
      "codemirror_mode": {
        "name": "ipython",
        "version": 2
      },
      "file_extension": ".py",
      "mimetype": "text/x-python",
      "name": "python",
      "nbconvert_exporter": "python",
      "pygments_lexer": "ipython2",
      "version": "2.7.6"
    },
    "colab": {
      "name": "Fine-tuning Albert for Regression Analysis - ISEAR Dataset",
      "provenance": [],
      "collapsed_sections": [],
      "include_colab_link": true
    },
    "widgets": {
      "application/vnd.jupyter.widget-state+json": {
        "722091583f1448789db5faccb30d7a9c": {
          "model_module": "@jupyter-widgets/controls",
          "model_name": "HBoxModel",
          "state": {
            "_view_name": "HBoxView",
            "_dom_classes": [],
            "_model_name": "HBoxModel",
            "_view_module": "@jupyter-widgets/controls",
            "_model_module_version": "1.5.0",
            "_view_count": null,
            "_view_module_version": "1.5.0",
            "box_style": "",
            "layout": "IPY_MODEL_a6bf065d9be6470297d2ed356e592da3",
            "_model_module": "@jupyter-widgets/controls",
            "children": [
              "IPY_MODEL_4426616ebe514e6088f34f18cd07979f",
              "IPY_MODEL_dd3b1593783843a39338601f86e56a43"
            ]
          }
        },
        "a6bf065d9be6470297d2ed356e592da3": {
          "model_module": "@jupyter-widgets/base",
          "model_name": "LayoutModel",
          "state": {
            "_view_name": "LayoutView",
            "grid_template_rows": null,
            "right": null,
            "justify_content": null,
            "_view_module": "@jupyter-widgets/base",
            "overflow": null,
            "_model_module_version": "1.2.0",
            "_view_count": null,
            "flex_flow": null,
            "width": null,
            "min_width": null,
            "border": null,
            "align_items": null,
            "bottom": null,
            "_model_module": "@jupyter-widgets/base",
            "top": null,
            "grid_column": null,
            "overflow_y": null,
            "overflow_x": null,
            "grid_auto_flow": null,
            "grid_area": null,
            "grid_template_columns": null,
            "flex": null,
            "_model_name": "LayoutModel",
            "justify_items": null,
            "grid_row": null,
            "max_height": null,
            "align_content": null,
            "visibility": null,
            "align_self": null,
            "height": null,
            "min_height": null,
            "padding": null,
            "grid_auto_rows": null,
            "grid_gap": null,
            "max_width": null,
            "order": null,
            "_view_module_version": "1.2.0",
            "grid_template_areas": null,
            "object_position": null,
            "object_fit": null,
            "grid_auto_columns": null,
            "margin": null,
            "display": null,
            "left": null
          }
        },
        "4426616ebe514e6088f34f18cd07979f": {
          "model_module": "@jupyter-widgets/controls",
          "model_name": "FloatProgressModel",
          "state": {
            "_view_name": "ProgressView",
            "style": "IPY_MODEL_97b53a5a7f724168b0960bae7df2bc7b",
            "_dom_classes": [],
            "description": "Downloading: 100%",
            "_model_name": "FloatProgressModel",
            "bar_style": "success",
            "max": 760289,
            "_view_module": "@jupyter-widgets/controls",
            "_model_module_version": "1.5.0",
            "value": 760289,
            "_view_count": null,
            "_view_module_version": "1.5.0",
            "orientation": "horizontal",
            "min": 0,
            "description_tooltip": null,
            "_model_module": "@jupyter-widgets/controls",
            "layout": "IPY_MODEL_06bd72bb090a4f618dbedfd729e4ff81"
          }
        },
        "dd3b1593783843a39338601f86e56a43": {
          "model_module": "@jupyter-widgets/controls",
          "model_name": "HTMLModel",
          "state": {
            "_view_name": "HTMLView",
            "style": "IPY_MODEL_fc73cf26ae1541a9aa555f87bcea9dda",
            "_dom_classes": [],
            "description": "",
            "_model_name": "HTMLModel",
            "placeholder": "​",
            "_view_module": "@jupyter-widgets/controls",
            "_model_module_version": "1.5.0",
            "value": " 760k/760k [00:00&lt;00:00, 3.09MB/s]",
            "_view_count": null,
            "_view_module_version": "1.5.0",
            "description_tooltip": null,
            "_model_module": "@jupyter-widgets/controls",
            "layout": "IPY_MODEL_e38f57faea934cabba804b4962f7a30d"
          }
        },
        "97b53a5a7f724168b0960bae7df2bc7b": {
          "model_module": "@jupyter-widgets/controls",
          "model_name": "ProgressStyleModel",
          "state": {
            "_view_name": "StyleView",
            "_model_name": "ProgressStyleModel",
            "description_width": "initial",
            "_view_module": "@jupyter-widgets/base",
            "_model_module_version": "1.5.0",
            "_view_count": null,
            "_view_module_version": "1.2.0",
            "bar_color": null,
            "_model_module": "@jupyter-widgets/controls"
          }
        },
        "06bd72bb090a4f618dbedfd729e4ff81": {
          "model_module": "@jupyter-widgets/base",
          "model_name": "LayoutModel",
          "state": {
            "_view_name": "LayoutView",
            "grid_template_rows": null,
            "right": null,
            "justify_content": null,
            "_view_module": "@jupyter-widgets/base",
            "overflow": null,
            "_model_module_version": "1.2.0",
            "_view_count": null,
            "flex_flow": null,
            "width": null,
            "min_width": null,
            "border": null,
            "align_items": null,
            "bottom": null,
            "_model_module": "@jupyter-widgets/base",
            "top": null,
            "grid_column": null,
            "overflow_y": null,
            "overflow_x": null,
            "grid_auto_flow": null,
            "grid_area": null,
            "grid_template_columns": null,
            "flex": null,
            "_model_name": "LayoutModel",
            "justify_items": null,
            "grid_row": null,
            "max_height": null,
            "align_content": null,
            "visibility": null,
            "align_self": null,
            "height": null,
            "min_height": null,
            "padding": null,
            "grid_auto_rows": null,
            "grid_gap": null,
            "max_width": null,
            "order": null,
            "_view_module_version": "1.2.0",
            "grid_template_areas": null,
            "object_position": null,
            "object_fit": null,
            "grid_auto_columns": null,
            "margin": null,
            "display": null,
            "left": null
          }
        },
        "fc73cf26ae1541a9aa555f87bcea9dda": {
          "model_module": "@jupyter-widgets/controls",
          "model_name": "DescriptionStyleModel",
          "state": {
            "_view_name": "StyleView",
            "_model_name": "DescriptionStyleModel",
            "description_width": "",
            "_view_module": "@jupyter-widgets/base",
            "_model_module_version": "1.5.0",
            "_view_count": null,
            "_view_module_version": "1.2.0",
            "_model_module": "@jupyter-widgets/controls"
          }
        },
        "e38f57faea934cabba804b4962f7a30d": {
          "model_module": "@jupyter-widgets/base",
          "model_name": "LayoutModel",
          "state": {
            "_view_name": "LayoutView",
            "grid_template_rows": null,
            "right": null,
            "justify_content": null,
            "_view_module": "@jupyter-widgets/base",
            "overflow": null,
            "_model_module_version": "1.2.0",
            "_view_count": null,
            "flex_flow": null,
            "width": null,
            "min_width": null,
            "border": null,
            "align_items": null,
            "bottom": null,
            "_model_module": "@jupyter-widgets/base",
            "top": null,
            "grid_column": null,
            "overflow_y": null,
            "overflow_x": null,
            "grid_auto_flow": null,
            "grid_area": null,
            "grid_template_columns": null,
            "flex": null,
            "_model_name": "LayoutModel",
            "justify_items": null,
            "grid_row": null,
            "max_height": null,
            "align_content": null,
            "visibility": null,
            "align_self": null,
            "height": null,
            "min_height": null,
            "padding": null,
            "grid_auto_rows": null,
            "grid_gap": null,
            "max_width": null,
            "order": null,
            "_view_module_version": "1.2.0",
            "grid_template_areas": null,
            "object_position": null,
            "object_fit": null,
            "grid_auto_columns": null,
            "margin": null,
            "display": null,
            "left": null
          }
        },
        "87afcfc5b9e249fbb4e8b9bb38b082bd": {
          "model_module": "@jupyter-widgets/controls",
          "model_name": "HBoxModel",
          "state": {
            "_view_name": "HBoxView",
            "_dom_classes": [],
            "_model_name": "HBoxModel",
            "_view_module": "@jupyter-widgets/controls",
            "_model_module_version": "1.5.0",
            "_view_count": null,
            "_view_module_version": "1.5.0",
            "box_style": "",
            "layout": "IPY_MODEL_4a9b022a86b143f1b1ae8110e13ea5eb",
            "_model_module": "@jupyter-widgets/controls",
            "children": [
              "IPY_MODEL_1ed99d198ef8484083c11b0700cef4c7",
              "IPY_MODEL_345f3a54493d45b2abab24d67ddab22b"
            ]
          }
        },
        "4a9b022a86b143f1b1ae8110e13ea5eb": {
          "model_module": "@jupyter-widgets/base",
          "model_name": "LayoutModel",
          "state": {
            "_view_name": "LayoutView",
            "grid_template_rows": null,
            "right": null,
            "justify_content": null,
            "_view_module": "@jupyter-widgets/base",
            "overflow": null,
            "_model_module_version": "1.2.0",
            "_view_count": null,
            "flex_flow": null,
            "width": null,
            "min_width": null,
            "border": null,
            "align_items": null,
            "bottom": null,
            "_model_module": "@jupyter-widgets/base",
            "top": null,
            "grid_column": null,
            "overflow_y": null,
            "overflow_x": null,
            "grid_auto_flow": null,
            "grid_area": null,
            "grid_template_columns": null,
            "flex": null,
            "_model_name": "LayoutModel",
            "justify_items": null,
            "grid_row": null,
            "max_height": null,
            "align_content": null,
            "visibility": null,
            "align_self": null,
            "height": null,
            "min_height": null,
            "padding": null,
            "grid_auto_rows": null,
            "grid_gap": null,
            "max_width": null,
            "order": null,
            "_view_module_version": "1.2.0",
            "grid_template_areas": null,
            "object_position": null,
            "object_fit": null,
            "grid_auto_columns": null,
            "margin": null,
            "display": null,
            "left": null
          }
        },
        "1ed99d198ef8484083c11b0700cef4c7": {
          "model_module": "@jupyter-widgets/controls",
          "model_name": "FloatProgressModel",
          "state": {
            "_view_name": "ProgressView",
            "style": "IPY_MODEL_475b363467404b66a3c5467b16a98daa",
            "_dom_classes": [],
            "description": "Downloading: 100%",
            "_model_name": "FloatProgressModel",
            "bar_style": "success",
            "max": 684,
            "_view_module": "@jupyter-widgets/controls",
            "_model_module_version": "1.5.0",
            "value": 684,
            "_view_count": null,
            "_view_module_version": "1.5.0",
            "orientation": "horizontal",
            "min": 0,
            "description_tooltip": null,
            "_model_module": "@jupyter-widgets/controls",
            "layout": "IPY_MODEL_3abdc7b4275c4263a2103639e87a096f"
          }
        },
        "345f3a54493d45b2abab24d67ddab22b": {
          "model_module": "@jupyter-widgets/controls",
          "model_name": "HTMLModel",
          "state": {
            "_view_name": "HTMLView",
            "style": "IPY_MODEL_ff66ea1e8722421f96a21041d503fbc1",
            "_dom_classes": [],
            "description": "",
            "_model_name": "HTMLModel",
            "placeholder": "​",
            "_view_module": "@jupyter-widgets/controls",
            "_model_module_version": "1.5.0",
            "value": " 684/684 [00:00&lt;00:00, 2.44kB/s]",
            "_view_count": null,
            "_view_module_version": "1.5.0",
            "description_tooltip": null,
            "_model_module": "@jupyter-widgets/controls",
            "layout": "IPY_MODEL_1e7952499d87440781a867bcf82c647e"
          }
        },
        "475b363467404b66a3c5467b16a98daa": {
          "model_module": "@jupyter-widgets/controls",
          "model_name": "ProgressStyleModel",
          "state": {
            "_view_name": "StyleView",
            "_model_name": "ProgressStyleModel",
            "description_width": "initial",
            "_view_module": "@jupyter-widgets/base",
            "_model_module_version": "1.5.0",
            "_view_count": null,
            "_view_module_version": "1.2.0",
            "bar_color": null,
            "_model_module": "@jupyter-widgets/controls"
          }
        },
        "3abdc7b4275c4263a2103639e87a096f": {
          "model_module": "@jupyter-widgets/base",
          "model_name": "LayoutModel",
          "state": {
            "_view_name": "LayoutView",
            "grid_template_rows": null,
            "right": null,
            "justify_content": null,
            "_view_module": "@jupyter-widgets/base",
            "overflow": null,
            "_model_module_version": "1.2.0",
            "_view_count": null,
            "flex_flow": null,
            "width": null,
            "min_width": null,
            "border": null,
            "align_items": null,
            "bottom": null,
            "_model_module": "@jupyter-widgets/base",
            "top": null,
            "grid_column": null,
            "overflow_y": null,
            "overflow_x": null,
            "grid_auto_flow": null,
            "grid_area": null,
            "grid_template_columns": null,
            "flex": null,
            "_model_name": "LayoutModel",
            "justify_items": null,
            "grid_row": null,
            "max_height": null,
            "align_content": null,
            "visibility": null,
            "align_self": null,
            "height": null,
            "min_height": null,
            "padding": null,
            "grid_auto_rows": null,
            "grid_gap": null,
            "max_width": null,
            "order": null,
            "_view_module_version": "1.2.0",
            "grid_template_areas": null,
            "object_position": null,
            "object_fit": null,
            "grid_auto_columns": null,
            "margin": null,
            "display": null,
            "left": null
          }
        },
        "ff66ea1e8722421f96a21041d503fbc1": {
          "model_module": "@jupyter-widgets/controls",
          "model_name": "DescriptionStyleModel",
          "state": {
            "_view_name": "StyleView",
            "_model_name": "DescriptionStyleModel",
            "description_width": "",
            "_view_module": "@jupyter-widgets/base",
            "_model_module_version": "1.5.0",
            "_view_count": null,
            "_view_module_version": "1.2.0",
            "_model_module": "@jupyter-widgets/controls"
          }
        },
        "1e7952499d87440781a867bcf82c647e": {
          "model_module": "@jupyter-widgets/base",
          "model_name": "LayoutModel",
          "state": {
            "_view_name": "LayoutView",
            "grid_template_rows": null,
            "right": null,
            "justify_content": null,
            "_view_module": "@jupyter-widgets/base",
            "overflow": null,
            "_model_module_version": "1.2.0",
            "_view_count": null,
            "flex_flow": null,
            "width": null,
            "min_width": null,
            "border": null,
            "align_items": null,
            "bottom": null,
            "_model_module": "@jupyter-widgets/base",
            "top": null,
            "grid_column": null,
            "overflow_y": null,
            "overflow_x": null,
            "grid_auto_flow": null,
            "grid_area": null,
            "grid_template_columns": null,
            "flex": null,
            "_model_name": "LayoutModel",
            "justify_items": null,
            "grid_row": null,
            "max_height": null,
            "align_content": null,
            "visibility": null,
            "align_self": null,
            "height": null,
            "min_height": null,
            "padding": null,
            "grid_auto_rows": null,
            "grid_gap": null,
            "max_width": null,
            "order": null,
            "_view_module_version": "1.2.0",
            "grid_template_areas": null,
            "object_position": null,
            "object_fit": null,
            "grid_auto_columns": null,
            "margin": null,
            "display": null,
            "left": null
          }
        },
        "7719cb0e46c749dfab22f7ec8325236b": {
          "model_module": "@jupyter-widgets/controls",
          "model_name": "HBoxModel",
          "state": {
            "_view_name": "HBoxView",
            "_dom_classes": [],
            "_model_name": "HBoxModel",
            "_view_module": "@jupyter-widgets/controls",
            "_model_module_version": "1.5.0",
            "_view_count": null,
            "_view_module_version": "1.5.0",
            "box_style": "",
            "layout": "IPY_MODEL_9f4aaada414948deae2b26a42390059d",
            "_model_module": "@jupyter-widgets/controls",
            "children": [
              "IPY_MODEL_4b936f0dd14043aeb9976183f1219ea4",
              "IPY_MODEL_3a91393d9a7f4f36abb04757d270b7dc"
            ]
          }
        },
        "9f4aaada414948deae2b26a42390059d": {
          "model_module": "@jupyter-widgets/base",
          "model_name": "LayoutModel",
          "state": {
            "_view_name": "LayoutView",
            "grid_template_rows": null,
            "right": null,
            "justify_content": null,
            "_view_module": "@jupyter-widgets/base",
            "overflow": null,
            "_model_module_version": "1.2.0",
            "_view_count": null,
            "flex_flow": null,
            "width": null,
            "min_width": null,
            "border": null,
            "align_items": null,
            "bottom": null,
            "_model_module": "@jupyter-widgets/base",
            "top": null,
            "grid_column": null,
            "overflow_y": null,
            "overflow_x": null,
            "grid_auto_flow": null,
            "grid_area": null,
            "grid_template_columns": null,
            "flex": null,
            "_model_name": "LayoutModel",
            "justify_items": null,
            "grid_row": null,
            "max_height": null,
            "align_content": null,
            "visibility": null,
            "align_self": null,
            "height": null,
            "min_height": null,
            "padding": null,
            "grid_auto_rows": null,
            "grid_gap": null,
            "max_width": null,
            "order": null,
            "_view_module_version": "1.2.0",
            "grid_template_areas": null,
            "object_position": null,
            "object_fit": null,
            "grid_auto_columns": null,
            "margin": null,
            "display": null,
            "left": null
          }
        },
        "4b936f0dd14043aeb9976183f1219ea4": {
          "model_module": "@jupyter-widgets/controls",
          "model_name": "FloatProgressModel",
          "state": {
            "_view_name": "ProgressView",
            "style": "IPY_MODEL_5c8844b1b2be45fba626c6b10970a22e",
            "_dom_classes": [],
            "description": "Downloading: 100%",
            "_model_name": "FloatProgressModel",
            "bar_style": "success",
            "max": 63048440,
            "_view_module": "@jupyter-widgets/controls",
            "_model_module_version": "1.5.0",
            "value": 63048440,
            "_view_count": null,
            "_view_module_version": "1.5.0",
            "orientation": "horizontal",
            "min": 0,
            "description_tooltip": null,
            "_model_module": "@jupyter-widgets/controls",
            "layout": "IPY_MODEL_9e830c7237384e51b01382c046b2a0de"
          }
        },
        "3a91393d9a7f4f36abb04757d270b7dc": {
          "model_module": "@jupyter-widgets/controls",
          "model_name": "HTMLModel",
          "state": {
            "_view_name": "HTMLView",
            "style": "IPY_MODEL_52dcdbf868f74360a4372c38b554f264",
            "_dom_classes": [],
            "description": "",
            "_model_name": "HTMLModel",
            "placeholder": "​",
            "_view_module": "@jupyter-widgets/controls",
            "_model_module_version": "1.5.0",
            "value": " 63.0M/63.0M [00:01&lt;00:00, 48.9MB/s]",
            "_view_count": null,
            "_view_module_version": "1.5.0",
            "description_tooltip": null,
            "_model_module": "@jupyter-widgets/controls",
            "layout": "IPY_MODEL_037620ef127b4149bb2d032433495bac"
          }
        },
        "5c8844b1b2be45fba626c6b10970a22e": {
          "model_module": "@jupyter-widgets/controls",
          "model_name": "ProgressStyleModel",
          "state": {
            "_view_name": "StyleView",
            "_model_name": "ProgressStyleModel",
            "description_width": "initial",
            "_view_module": "@jupyter-widgets/base",
            "_model_module_version": "1.5.0",
            "_view_count": null,
            "_view_module_version": "1.2.0",
            "bar_color": null,
            "_model_module": "@jupyter-widgets/controls"
          }
        },
        "9e830c7237384e51b01382c046b2a0de": {
          "model_module": "@jupyter-widgets/base",
          "model_name": "LayoutModel",
          "state": {
            "_view_name": "LayoutView",
            "grid_template_rows": null,
            "right": null,
            "justify_content": null,
            "_view_module": "@jupyter-widgets/base",
            "overflow": null,
            "_model_module_version": "1.2.0",
            "_view_count": null,
            "flex_flow": null,
            "width": null,
            "min_width": null,
            "border": null,
            "align_items": null,
            "bottom": null,
            "_model_module": "@jupyter-widgets/base",
            "top": null,
            "grid_column": null,
            "overflow_y": null,
            "overflow_x": null,
            "grid_auto_flow": null,
            "grid_area": null,
            "grid_template_columns": null,
            "flex": null,
            "_model_name": "LayoutModel",
            "justify_items": null,
            "grid_row": null,
            "max_height": null,
            "align_content": null,
            "visibility": null,
            "align_self": null,
            "height": null,
            "min_height": null,
            "padding": null,
            "grid_auto_rows": null,
            "grid_gap": null,
            "max_width": null,
            "order": null,
            "_view_module_version": "1.2.0",
            "grid_template_areas": null,
            "object_position": null,
            "object_fit": null,
            "grid_auto_columns": null,
            "margin": null,
            "display": null,
            "left": null
          }
        },
        "52dcdbf868f74360a4372c38b554f264": {
          "model_module": "@jupyter-widgets/controls",
          "model_name": "DescriptionStyleModel",
          "state": {
            "_view_name": "StyleView",
            "_model_name": "DescriptionStyleModel",
            "description_width": "",
            "_view_module": "@jupyter-widgets/base",
            "_model_module_version": "1.5.0",
            "_view_count": null,
            "_view_module_version": "1.2.0",
            "_model_module": "@jupyter-widgets/controls"
          }
        },
        "037620ef127b4149bb2d032433495bac": {
          "model_module": "@jupyter-widgets/base",
          "model_name": "LayoutModel",
          "state": {
            "_view_name": "LayoutView",
            "grid_template_rows": null,
            "right": null,
            "justify_content": null,
            "_view_module": "@jupyter-widgets/base",
            "overflow": null,
            "_model_module_version": "1.2.0",
            "_view_count": null,
            "flex_flow": null,
            "width": null,
            "min_width": null,
            "border": null,
            "align_items": null,
            "bottom": null,
            "_model_module": "@jupyter-widgets/base",
            "top": null,
            "grid_column": null,
            "overflow_y": null,
            "overflow_x": null,
            "grid_auto_flow": null,
            "grid_area": null,
            "grid_template_columns": null,
            "flex": null,
            "_model_name": "LayoutModel",
            "justify_items": null,
            "grid_row": null,
            "max_height": null,
            "align_content": null,
            "visibility": null,
            "align_self": null,
            "height": null,
            "min_height": null,
            "padding": null,
            "grid_auto_rows": null,
            "grid_gap": null,
            "max_width": null,
            "order": null,
            "_view_module_version": "1.2.0",
            "grid_template_areas": null,
            "object_position": null,
            "object_fit": null,
            "grid_auto_columns": null,
            "margin": null,
            "display": null,
            "left": null
          }
        },
        "79754d8dfe574f5380b7e5984eed5d90": {
          "model_module": "@jupyter-widgets/controls",
          "model_name": "HBoxModel",
          "state": {
            "_view_name": "HBoxView",
            "_dom_classes": [],
            "_model_name": "HBoxModel",
            "_view_module": "@jupyter-widgets/controls",
            "_model_module_version": "1.5.0",
            "_view_count": null,
            "_view_module_version": "1.5.0",
            "box_style": "",
            "layout": "IPY_MODEL_ea7d400d559d4dde9a72fb7e99d43d54",
            "_model_module": "@jupyter-widgets/controls",
            "children": [
              "IPY_MODEL_6e082fe08dcb4e22a2d146f5717c3410",
              "IPY_MODEL_cf449e4e92214a00bd52c3cfbf34d713"
            ]
          }
        },
        "ea7d400d559d4dde9a72fb7e99d43d54": {
          "model_module": "@jupyter-widgets/base",
          "model_name": "LayoutModel",
          "state": {
            "_view_name": "LayoutView",
            "grid_template_rows": null,
            "right": null,
            "justify_content": null,
            "_view_module": "@jupyter-widgets/base",
            "overflow": null,
            "_model_module_version": "1.2.0",
            "_view_count": null,
            "flex_flow": null,
            "width": null,
            "min_width": null,
            "border": null,
            "align_items": null,
            "bottom": null,
            "_model_module": "@jupyter-widgets/base",
            "top": null,
            "grid_column": null,
            "overflow_y": null,
            "overflow_x": null,
            "grid_auto_flow": null,
            "grid_area": null,
            "grid_template_columns": null,
            "flex": null,
            "_model_name": "LayoutModel",
            "justify_items": null,
            "grid_row": null,
            "max_height": null,
            "align_content": null,
            "visibility": null,
            "align_self": null,
            "height": null,
            "min_height": null,
            "padding": null,
            "grid_auto_rows": null,
            "grid_gap": null,
            "max_width": null,
            "order": null,
            "_view_module_version": "1.2.0",
            "grid_template_areas": null,
            "object_position": null,
            "object_fit": null,
            "grid_auto_columns": null,
            "margin": null,
            "display": null,
            "left": null
          }
        },
        "6e082fe08dcb4e22a2d146f5717c3410": {
          "model_module": "@jupyter-widgets/controls",
          "model_name": "FloatProgressModel",
          "state": {
            "_view_name": "ProgressView",
            "style": "IPY_MODEL_ac85f15b6fe74208b8d3650beffe5385",
            "_dom_classes": [],
            "description": "Downloading: 100%",
            "_model_name": "FloatProgressModel",
            "bar_style": "success",
            "max": 684,
            "_view_module": "@jupyter-widgets/controls",
            "_model_module_version": "1.5.0",
            "value": 684,
            "_view_count": null,
            "_view_module_version": "1.5.0",
            "orientation": "horizontal",
            "min": 0,
            "description_tooltip": null,
            "_model_module": "@jupyter-widgets/controls",
            "layout": "IPY_MODEL_046ca37acad94c1f8ac6ce456962402d"
          }
        },
        "cf449e4e92214a00bd52c3cfbf34d713": {
          "model_module": "@jupyter-widgets/controls",
          "model_name": "HTMLModel",
          "state": {
            "_view_name": "HTMLView",
            "style": "IPY_MODEL_94bf63e2112a4922a776293ef8269515",
            "_dom_classes": [],
            "description": "",
            "_model_name": "HTMLModel",
            "placeholder": "​",
            "_view_module": "@jupyter-widgets/controls",
            "_model_module_version": "1.5.0",
            "value": " 684/684 [00:00&lt;00:00, 1.24kB/s]",
            "_view_count": null,
            "_view_module_version": "1.5.0",
            "description_tooltip": null,
            "_model_module": "@jupyter-widgets/controls",
            "layout": "IPY_MODEL_1143b70b824f450f902ccd7197cfacc2"
          }
        },
        "ac85f15b6fe74208b8d3650beffe5385": {
          "model_module": "@jupyter-widgets/controls",
          "model_name": "ProgressStyleModel",
          "state": {
            "_view_name": "StyleView",
            "_model_name": "ProgressStyleModel",
            "description_width": "initial",
            "_view_module": "@jupyter-widgets/base",
            "_model_module_version": "1.5.0",
            "_view_count": null,
            "_view_module_version": "1.2.0",
            "bar_color": null,
            "_model_module": "@jupyter-widgets/controls"
          }
        },
        "046ca37acad94c1f8ac6ce456962402d": {
          "model_module": "@jupyter-widgets/base",
          "model_name": "LayoutModel",
          "state": {
            "_view_name": "LayoutView",
            "grid_template_rows": null,
            "right": null,
            "justify_content": null,
            "_view_module": "@jupyter-widgets/base",
            "overflow": null,
            "_model_module_version": "1.2.0",
            "_view_count": null,
            "flex_flow": null,
            "width": null,
            "min_width": null,
            "border": null,
            "align_items": null,
            "bottom": null,
            "_model_module": "@jupyter-widgets/base",
            "top": null,
            "grid_column": null,
            "overflow_y": null,
            "overflow_x": null,
            "grid_auto_flow": null,
            "grid_area": null,
            "grid_template_columns": null,
            "flex": null,
            "_model_name": "LayoutModel",
            "justify_items": null,
            "grid_row": null,
            "max_height": null,
            "align_content": null,
            "visibility": null,
            "align_self": null,
            "height": null,
            "min_height": null,
            "padding": null,
            "grid_auto_rows": null,
            "grid_gap": null,
            "max_width": null,
            "order": null,
            "_view_module_version": "1.2.0",
            "grid_template_areas": null,
            "object_position": null,
            "object_fit": null,
            "grid_auto_columns": null,
            "margin": null,
            "display": null,
            "left": null
          }
        },
        "94bf63e2112a4922a776293ef8269515": {
          "model_module": "@jupyter-widgets/controls",
          "model_name": "DescriptionStyleModel",
          "state": {
            "_view_name": "StyleView",
            "_model_name": "DescriptionStyleModel",
            "description_width": "",
            "_view_module": "@jupyter-widgets/base",
            "_model_module_version": "1.5.0",
            "_view_count": null,
            "_view_module_version": "1.2.0",
            "_model_module": "@jupyter-widgets/controls"
          }
        },
        "1143b70b824f450f902ccd7197cfacc2": {
          "model_module": "@jupyter-widgets/base",
          "model_name": "LayoutModel",
          "state": {
            "_view_name": "LayoutView",
            "grid_template_rows": null,
            "right": null,
            "justify_content": null,
            "_view_module": "@jupyter-widgets/base",
            "overflow": null,
            "_model_module_version": "1.2.0",
            "_view_count": null,
            "flex_flow": null,
            "width": null,
            "min_width": null,
            "border": null,
            "align_items": null,
            "bottom": null,
            "_model_module": "@jupyter-widgets/base",
            "top": null,
            "grid_column": null,
            "overflow_y": null,
            "overflow_x": null,
            "grid_auto_flow": null,
            "grid_area": null,
            "grid_template_columns": null,
            "flex": null,
            "_model_name": "LayoutModel",
            "justify_items": null,
            "grid_row": null,
            "max_height": null,
            "align_content": null,
            "visibility": null,
            "align_self": null,
            "height": null,
            "min_height": null,
            "padding": null,
            "grid_auto_rows": null,
            "grid_gap": null,
            "max_width": null,
            "order": null,
            "_view_module_version": "1.2.0",
            "grid_template_areas": null,
            "object_position": null,
            "object_fit": null,
            "grid_auto_columns": null,
            "margin": null,
            "display": null,
            "left": null
          }
        },
        "3f057b2dab024af594161ee9deb3d7a8": {
          "model_module": "@jupyter-widgets/controls",
          "model_name": "HBoxModel",
          "state": {
            "_view_name": "HBoxView",
            "_dom_classes": [],
            "_model_name": "HBoxModel",
            "_view_module": "@jupyter-widgets/controls",
            "_model_module_version": "1.5.0",
            "_view_count": null,
            "_view_module_version": "1.5.0",
            "box_style": "",
            "layout": "IPY_MODEL_63608bc841a24292ac56db6a53500560",
            "_model_module": "@jupyter-widgets/controls",
            "children": [
              "IPY_MODEL_dc2fb2f8c4be48dfa1ac837afe6217ff",
              "IPY_MODEL_b98aa83338364a95974eb05ba9b9302e"
            ]
          }
        },
        "63608bc841a24292ac56db6a53500560": {
          "model_module": "@jupyter-widgets/base",
          "model_name": "LayoutModel",
          "state": {
            "_view_name": "LayoutView",
            "grid_template_rows": null,
            "right": null,
            "justify_content": null,
            "_view_module": "@jupyter-widgets/base",
            "overflow": null,
            "_model_module_version": "1.2.0",
            "_view_count": null,
            "flex_flow": null,
            "width": null,
            "min_width": null,
            "border": null,
            "align_items": null,
            "bottom": null,
            "_model_module": "@jupyter-widgets/base",
            "top": null,
            "grid_column": null,
            "overflow_y": null,
            "overflow_x": null,
            "grid_auto_flow": null,
            "grid_area": null,
            "grid_template_columns": null,
            "flex": null,
            "_model_name": "LayoutModel",
            "justify_items": null,
            "grid_row": null,
            "max_height": null,
            "align_content": null,
            "visibility": null,
            "align_self": null,
            "height": null,
            "min_height": null,
            "padding": null,
            "grid_auto_rows": null,
            "grid_gap": null,
            "max_width": null,
            "order": null,
            "_view_module_version": "1.2.0",
            "grid_template_areas": null,
            "object_position": null,
            "object_fit": null,
            "grid_auto_columns": null,
            "margin": null,
            "display": null,
            "left": null
          }
        },
        "dc2fb2f8c4be48dfa1ac837afe6217ff": {
          "model_module": "@jupyter-widgets/controls",
          "model_name": "FloatProgressModel",
          "state": {
            "_view_name": "ProgressView",
            "style": "IPY_MODEL_e77576a186904d0a9d78549edaee144e",
            "_dom_classes": [],
            "description": "Downloading: 100%",
            "_model_name": "FloatProgressModel",
            "bar_style": "success",
            "max": 63048440,
            "_view_module": "@jupyter-widgets/controls",
            "_model_module_version": "1.5.0",
            "value": 63048440,
            "_view_count": null,
            "_view_module_version": "1.5.0",
            "orientation": "horizontal",
            "min": 0,
            "description_tooltip": null,
            "_model_module": "@jupyter-widgets/controls",
            "layout": "IPY_MODEL_2c6f6829ee9a483cab039d6b21b77d44"
          }
        },
        "b98aa83338364a95974eb05ba9b9302e": {
          "model_module": "@jupyter-widgets/controls",
          "model_name": "HTMLModel",
          "state": {
            "_view_name": "HTMLView",
            "style": "IPY_MODEL_6a7560024af0485babd7d8ca52ee1526",
            "_dom_classes": [],
            "description": "",
            "_model_name": "HTMLModel",
            "placeholder": "​",
            "_view_module": "@jupyter-widgets/controls",
            "_model_module_version": "1.5.0",
            "value": " 63.0M/63.0M [00:01&lt;00:00, 50.6MB/s]",
            "_view_count": null,
            "_view_module_version": "1.5.0",
            "description_tooltip": null,
            "_model_module": "@jupyter-widgets/controls",
            "layout": "IPY_MODEL_1314a21f4e02426ab50b97342e88333a"
          }
        },
        "e77576a186904d0a9d78549edaee144e": {
          "model_module": "@jupyter-widgets/controls",
          "model_name": "ProgressStyleModel",
          "state": {
            "_view_name": "StyleView",
            "_model_name": "ProgressStyleModel",
            "description_width": "initial",
            "_view_module": "@jupyter-widgets/base",
            "_model_module_version": "1.5.0",
            "_view_count": null,
            "_view_module_version": "1.2.0",
            "bar_color": null,
            "_model_module": "@jupyter-widgets/controls"
          }
        },
        "2c6f6829ee9a483cab039d6b21b77d44": {
          "model_module": "@jupyter-widgets/base",
          "model_name": "LayoutModel",
          "state": {
            "_view_name": "LayoutView",
            "grid_template_rows": null,
            "right": null,
            "justify_content": null,
            "_view_module": "@jupyter-widgets/base",
            "overflow": null,
            "_model_module_version": "1.2.0",
            "_view_count": null,
            "flex_flow": null,
            "width": null,
            "min_width": null,
            "border": null,
            "align_items": null,
            "bottom": null,
            "_model_module": "@jupyter-widgets/base",
            "top": null,
            "grid_column": null,
            "overflow_y": null,
            "overflow_x": null,
            "grid_auto_flow": null,
            "grid_area": null,
            "grid_template_columns": null,
            "flex": null,
            "_model_name": "LayoutModel",
            "justify_items": null,
            "grid_row": null,
            "max_height": null,
            "align_content": null,
            "visibility": null,
            "align_self": null,
            "height": null,
            "min_height": null,
            "padding": null,
            "grid_auto_rows": null,
            "grid_gap": null,
            "max_width": null,
            "order": null,
            "_view_module_version": "1.2.0",
            "grid_template_areas": null,
            "object_position": null,
            "object_fit": null,
            "grid_auto_columns": null,
            "margin": null,
            "display": null,
            "left": null
          }
        },
        "6a7560024af0485babd7d8ca52ee1526": {
          "model_module": "@jupyter-widgets/controls",
          "model_name": "DescriptionStyleModel",
          "state": {
            "_view_name": "StyleView",
            "_model_name": "DescriptionStyleModel",
            "description_width": "",
            "_view_module": "@jupyter-widgets/base",
            "_model_module_version": "1.5.0",
            "_view_count": null,
            "_view_module_version": "1.2.0",
            "_model_module": "@jupyter-widgets/controls"
          }
        },
        "1314a21f4e02426ab50b97342e88333a": {
          "model_module": "@jupyter-widgets/base",
          "model_name": "LayoutModel",
          "state": {
            "_view_name": "LayoutView",
            "grid_template_rows": null,
            "right": null,
            "justify_content": null,
            "_view_module": "@jupyter-widgets/base",
            "overflow": null,
            "_model_module_version": "1.2.0",
            "_view_count": null,
            "flex_flow": null,
            "width": null,
            "min_width": null,
            "border": null,
            "align_items": null,
            "bottom": null,
            "_model_module": "@jupyter-widgets/base",
            "top": null,
            "grid_column": null,
            "overflow_y": null,
            "overflow_x": null,
            "grid_auto_flow": null,
            "grid_area": null,
            "grid_template_columns": null,
            "flex": null,
            "_model_name": "LayoutModel",
            "justify_items": null,
            "grid_row": null,
            "max_height": null,
            "align_content": null,
            "visibility": null,
            "align_self": null,
            "height": null,
            "min_height": null,
            "padding": null,
            "grid_auto_rows": null,
            "grid_gap": null,
            "max_width": null,
            "order": null,
            "_view_module_version": "1.2.0",
            "grid_template_areas": null,
            "object_position": null,
            "object_fit": null,
            "grid_auto_columns": null,
            "margin": null,
            "display": null,
            "left": null
          }
        }
      }
    }
  },
  "cells": [
    {
      "cell_type": "markdown",
      "metadata": {
        "id": "view-in-github",
        "colab_type": "text"
      },
      "source": [
        "<a href=\"https://colab.research.google.com/github/narrasriram/EMOTION-RECOGNITION-USING-FINE-TUNED-MODELS-ERFM-/blob/main/Colab%20Model%20building%20Files/Regression/Models%20on%20ISEAR%20Dataset/Fine-tuning%20ALBERT/Fine_tuning_Albert_for_Regression_Analysis_ISEAR_Dataset.ipynb\" target=\"_parent\"><img src=\"https://colab.research.google.com/assets/colab-badge.svg\" alt=\"Open In Colab\"/></a>"
      ]
    },
    {
      "cell_type": "markdown",
      "metadata": {
        "id": "om9h59nz-dmE"
      },
      "source": [
        "  \n",
        "# -*- coding: utf-8 -*-\n",
        "\n",
        "# Author: Sriram Narra\n",
        "# Course: CS 842\n",
        "# Date: Apr 15, 2021\n",
        "# Project Name: Emotion Recognition using Fine-tuned Models(ERFM)\n",
        "# Description: This notebook builds a Fine-tuned ALBERT Model on ISEAR \n",
        "#              Dataset and checks the performance of the \n",
        "#              model with various model evaluation metrics\n",
        "# --------------------------------------------------------------------------------"
      ]
    },
    {
      "cell_type": "code",
      "metadata": {
        "id": "633fetsKg5cv",
        "colab": {
          "base_uri": "https://localhost:8080/"
        },
        "outputId": "bc59f1cc-b422-4e34-d808-2aea5076f38b"
      },
      "source": [
        "!pip install transformers==3.1.0"
      ],
      "execution_count": null,
      "outputs": [
        {
          "output_type": "stream",
          "text": [
            "Collecting transformers==3.1.0\n",
            "\u001b[?25l  Downloading https://files.pythonhosted.org/packages/ae/05/c8c55b600308dc04e95100dc8ad8a244dd800fe75dfafcf1d6348c6f6209/transformers-3.1.0-py3-none-any.whl (884kB)\n",
            "\u001b[K     |████████████████████████████████| 890kB 6.4MB/s \n",
            "\u001b[?25hCollecting tokenizers==0.8.1.rc2\n",
            "\u001b[?25l  Downloading https://files.pythonhosted.org/packages/75/26/c02ba92ecb8b780bdae4a862d351433c2912fe49469dac7f87a5c85ccca6/tokenizers-0.8.1rc2-cp37-cp37m-manylinux1_x86_64.whl (3.0MB)\n",
            "\u001b[K     |████████████████████████████████| 3.0MB 22.8MB/s \n",
            "\u001b[?25hCollecting sentencepiece!=0.1.92\n",
            "\u001b[?25l  Downloading https://files.pythonhosted.org/packages/f5/99/e0808cb947ba10f575839c43e8fafc9cc44e4a7a2c8f79c60db48220a577/sentencepiece-0.1.95-cp37-cp37m-manylinux2014_x86_64.whl (1.2MB)\n",
            "\u001b[K     |████████████████████████████████| 1.2MB 33.7MB/s \n",
            "\u001b[?25hRequirement already satisfied: filelock in /usr/local/lib/python3.7/dist-packages (from transformers==3.1.0) (3.0.12)\n",
            "Collecting sacremoses\n",
            "\u001b[?25l  Downloading https://files.pythonhosted.org/packages/08/cd/342e584ee544d044fb573ae697404ce22ede086c9e87ce5960772084cad0/sacremoses-0.0.44.tar.gz (862kB)\n",
            "\u001b[K     |████████████████████████████████| 870kB 46.7MB/s \n",
            "\u001b[?25hRequirement already satisfied: tqdm>=4.27 in /usr/local/lib/python3.7/dist-packages (from transformers==3.1.0) (4.41.1)\n",
            "Requirement already satisfied: numpy in /usr/local/lib/python3.7/dist-packages (from transformers==3.1.0) (1.19.5)\n",
            "Requirement already satisfied: requests in /usr/local/lib/python3.7/dist-packages (from transformers==3.1.0) (2.23.0)\n",
            "Requirement already satisfied: packaging in /usr/local/lib/python3.7/dist-packages (from transformers==3.1.0) (20.9)\n",
            "Requirement already satisfied: regex!=2019.12.17 in /usr/local/lib/python3.7/dist-packages (from transformers==3.1.0) (2019.12.20)\n",
            "Requirement already satisfied: six in /usr/local/lib/python3.7/dist-packages (from sacremoses->transformers==3.1.0) (1.15.0)\n",
            "Requirement already satisfied: click in /usr/local/lib/python3.7/dist-packages (from sacremoses->transformers==3.1.0) (7.1.2)\n",
            "Requirement already satisfied: joblib in /usr/local/lib/python3.7/dist-packages (from sacremoses->transformers==3.1.0) (1.0.1)\n",
            "Requirement already satisfied: urllib3!=1.25.0,!=1.25.1,<1.26,>=1.21.1 in /usr/local/lib/python3.7/dist-packages (from requests->transformers==3.1.0) (1.24.3)\n",
            "Requirement already satisfied: certifi>=2017.4.17 in /usr/local/lib/python3.7/dist-packages (from requests->transformers==3.1.0) (2020.12.5)\n",
            "Requirement already satisfied: chardet<4,>=3.0.2 in /usr/local/lib/python3.7/dist-packages (from requests->transformers==3.1.0) (3.0.4)\n",
            "Requirement already satisfied: idna<3,>=2.5 in /usr/local/lib/python3.7/dist-packages (from requests->transformers==3.1.0) (2.10)\n",
            "Requirement already satisfied: pyparsing>=2.0.2 in /usr/local/lib/python3.7/dist-packages (from packaging->transformers==3.1.0) (2.4.7)\n",
            "Building wheels for collected packages: sacremoses\n",
            "  Building wheel for sacremoses (setup.py) ... \u001b[?25l\u001b[?25hdone\n",
            "  Created wheel for sacremoses: filename=sacremoses-0.0.44-cp37-none-any.whl size=886084 sha256=e3ece67c306f167246374f1a505577bf831dd5a7cc9604fe9428fbb967e5ffdb\n",
            "  Stored in directory: /root/.cache/pip/wheels/3e/fb/c0/13ab4d63d537658f448366744654323077c4d90069b6512f3c\n",
            "Successfully built sacremoses\n",
            "Installing collected packages: tokenizers, sentencepiece, sacremoses, transformers\n",
            "Successfully installed sacremoses-0.0.44 sentencepiece-0.1.95 tokenizers-0.8.1rc2 transformers-3.1.0\n"
          ],
          "name": "stdout"
        }
      ]
    },
    {
      "cell_type": "markdown",
      "metadata": {
        "id": "jvq1vBzCMWGG"
      },
      "source": [
        "Import the libraries"
      ]
    },
    {
      "cell_type": "code",
      "metadata": {
        "id": "9pi31_2cndZU"
      },
      "source": [
        "from transformers import AlbertTokenizer\n",
        "from transformers import TFAlbertForSequenceClassification\n",
        "\n",
        "import tensorflow as tf\n",
        "import json\n",
        "\n",
        "from pandas import DataFrame\n",
        "import textblob\n",
        "from textblob import TextBlob\n",
        "import pandas as pd"
      ],
      "execution_count": null,
      "outputs": []
    },
    {
      "cell_type": "markdown",
      "metadata": {
        "id": "UAIAvshYMYjG"
      },
      "source": [
        "Mount Google Drive"
      ]
    },
    {
      "cell_type": "code",
      "metadata": {
        "colab": {
          "base_uri": "https://localhost:8080/"
        },
        "id": "b3DOCuUjvdLL",
        "outputId": "77923397-7bcd-457b-a1ee-484d9a1ed685"
      },
      "source": [
        "from google.colab import drive\n",
        "\n",
        "drive.mount('/content/drive')"
      ],
      "execution_count": null,
      "outputs": [
        {
          "output_type": "stream",
          "text": [
            "Mounted at /content/drive\n"
          ],
          "name": "stdout"
        }
      ]
    },
    {
      "cell_type": "markdown",
      "metadata": {
        "id": "M_5ZJ7AhMbso"
      },
      "source": [
        "Load the CSV file into the dataframe"
      ]
    },
    {
      "cell_type": "code",
      "metadata": {
        "id": "_fjhQ61uvfut",
        "colab": {
          "base_uri": "https://localhost:8080/",
          "height": 194
        },
        "outputId": "342b6011-ab1c-4ea7-f62d-2ef2fe4224d9"
      },
      "source": [
        "data_frame=pd.read_csv('/content/drive/MyDrive/Data Science Project/Datasets/ISEAR/Isear.csv')\n",
        "data_frame.head()"
      ],
      "execution_count": null,
      "outputs": [
        {
          "output_type": "execute_result",
          "data": {
            "text/html": [
              "<div>\n",
              "<style scoped>\n",
              "    .dataframe tbody tr th:only-of-type {\n",
              "        vertical-align: middle;\n",
              "    }\n",
              "\n",
              "    .dataframe tbody tr th {\n",
              "        vertical-align: top;\n",
              "    }\n",
              "\n",
              "    .dataframe thead th {\n",
              "        text-align: right;\n",
              "    }\n",
              "</style>\n",
              "<table border=\"1\" class=\"dataframe\">\n",
              "  <thead>\n",
              "    <tr style=\"text-align: right;\">\n",
              "      <th></th>\n",
              "      <th>Emotion</th>\n",
              "      <th>Text</th>\n",
              "    </tr>\n",
              "  </thead>\n",
              "  <tbody>\n",
              "    <tr>\n",
              "      <th>0</th>\n",
              "      <td>anger</td>\n",
              "      <td>When a boy tried to fool me so he would be OK ...</td>\n",
              "    </tr>\n",
              "    <tr>\n",
              "      <th>1</th>\n",
              "      <td>anger</td>\n",
              "      <td>I felt anger when I saw that I was being misle...</td>\n",
              "    </tr>\n",
              "    <tr>\n",
              "      <th>2</th>\n",
              "      <td>anger</td>\n",
              "      <td>Once a friend had pushed me and I had fallen o...</td>\n",
              "    </tr>\n",
              "    <tr>\n",
              "      <th>3</th>\n",
              "      <td>anger</td>\n",
              "      <td>When I was misleaded by a person who assured t...</td>\n",
              "    </tr>\n",
              "    <tr>\n",
              "      <th>4</th>\n",
              "      <td>anger</td>\n",
              "      <td>I don't use to lie to my parets about what I d...</td>\n",
              "    </tr>\n",
              "  </tbody>\n",
              "</table>\n",
              "</div>"
            ],
            "text/plain": [
              "  Emotion                                               Text\n",
              "0   anger  When a boy tried to fool me so he would be OK ...\n",
              "1   anger  I felt anger when I saw that I was being misle...\n",
              "2   anger  Once a friend had pushed me and I had fallen o...\n",
              "3   anger  When I was misleaded by a person who assured t...\n",
              "4   anger  I don't use to lie to my parets about what I d..."
            ]
          },
          "metadata": {
            "tags": []
          },
          "execution_count": 4
        }
      ]
    },
    {
      "cell_type": "markdown",
      "metadata": {
        "id": "YDbhgLDuMhtH"
      },
      "source": [
        "Label Encode the Emotion Label Values "
      ]
    },
    {
      "cell_type": "code",
      "metadata": {
        "id": "ouEKbctNGv5k",
        "colab": {
          "base_uri": "https://localhost:8080/",
          "height": 194
        },
        "outputId": "8c262ea0-7d76-435b-997c-c401a506e83b"
      },
      "source": [
        "from sklearn.preprocessing import LabelEncoder\n",
        "le = LabelEncoder()\n",
        "data_frame['Emotion'] = le.fit_transform(data_frame['Emotion'])\n",
        "data_frame.head()"
      ],
      "execution_count": null,
      "outputs": [
        {
          "output_type": "execute_result",
          "data": {
            "text/html": [
              "<div>\n",
              "<style scoped>\n",
              "    .dataframe tbody tr th:only-of-type {\n",
              "        vertical-align: middle;\n",
              "    }\n",
              "\n",
              "    .dataframe tbody tr th {\n",
              "        vertical-align: top;\n",
              "    }\n",
              "\n",
              "    .dataframe thead th {\n",
              "        text-align: right;\n",
              "    }\n",
              "</style>\n",
              "<table border=\"1\" class=\"dataframe\">\n",
              "  <thead>\n",
              "    <tr style=\"text-align: right;\">\n",
              "      <th></th>\n",
              "      <th>Emotion</th>\n",
              "      <th>Text</th>\n",
              "    </tr>\n",
              "  </thead>\n",
              "  <tbody>\n",
              "    <tr>\n",
              "      <th>0</th>\n",
              "      <td>0</td>\n",
              "      <td>When a boy tried to fool me so he would be OK ...</td>\n",
              "    </tr>\n",
              "    <tr>\n",
              "      <th>1</th>\n",
              "      <td>0</td>\n",
              "      <td>I felt anger when I saw that I was being misle...</td>\n",
              "    </tr>\n",
              "    <tr>\n",
              "      <th>2</th>\n",
              "      <td>0</td>\n",
              "      <td>Once a friend had pushed me and I had fallen o...</td>\n",
              "    </tr>\n",
              "    <tr>\n",
              "      <th>3</th>\n",
              "      <td>0</td>\n",
              "      <td>When I was misleaded by a person who assured t...</td>\n",
              "    </tr>\n",
              "    <tr>\n",
              "      <th>4</th>\n",
              "      <td>0</td>\n",
              "      <td>I don't use to lie to my parets about what I d...</td>\n",
              "    </tr>\n",
              "  </tbody>\n",
              "</table>\n",
              "</div>"
            ],
            "text/plain": [
              "   Emotion                                               Text\n",
              "0        0  When a boy tried to fool me so he would be OK ...\n",
              "1        0  I felt anger when I saw that I was being misle...\n",
              "2        0  Once a friend had pushed me and I had fallen o...\n",
              "3        0  When I was misleaded by a person who assured t...\n",
              "4        0  I don't use to lie to my parets about what I d..."
            ]
          },
          "metadata": {
            "tags": []
          },
          "execution_count": 5
        }
      ]
    },
    {
      "cell_type": "code",
      "metadata": {
        "colab": {
          "base_uri": "https://localhost:8080/"
        },
        "id": "tGABt3XuHDVT",
        "outputId": "cf0859ee-ff22-4376-edd2-c073bb91dba5"
      },
      "source": [
        "data_frame.Emotion.unique()"
      ],
      "execution_count": null,
      "outputs": [
        {
          "output_type": "execute_result",
          "data": {
            "text/plain": [
              "array([0, 1, 2, 3, 4, 5, 6])"
            ]
          },
          "metadata": {
            "tags": []
          },
          "execution_count": 6
        }
      ]
    },
    {
      "cell_type": "code",
      "metadata": {
        "colab": {
          "base_uri": "https://localhost:8080/"
        },
        "id": "QOKg05KAGyzi",
        "outputId": "56ae8d51-1a1c-42f5-dddd-032bc4363422"
      },
      "source": [
        "list(le.inverse_transform([0,1,2,3,4,5,6]))"
      ],
      "execution_count": null,
      "outputs": [
        {
          "output_type": "execute_result",
          "data": {
            "text/plain": [
              "['anger', 'disgust', 'fear', 'guilt', 'joy', 'sadness', 'shame']"
            ]
          },
          "metadata": {
            "tags": []
          },
          "execution_count": 7
        }
      ]
    },
    {
      "cell_type": "markdown",
      "metadata": {
        "id": "SqgxMgHQMn72"
      },
      "source": [
        "Shuffle the dataframe"
      ]
    },
    {
      "cell_type": "code",
      "metadata": {
        "id": "_8TRRqxbKXTG",
        "colab": {
          "base_uri": "https://localhost:8080/",
          "height": 194
        },
        "outputId": "fa3fb4ac-96e3-470a-d351-0143b27acff5"
      },
      "source": [
        "data_frame = data_frame.sample(frac=1).reset_index(drop=True)\n",
        "data_frame.head()"
      ],
      "execution_count": null,
      "outputs": [
        {
          "output_type": "execute_result",
          "data": {
            "text/html": [
              "<div>\n",
              "<style scoped>\n",
              "    .dataframe tbody tr th:only-of-type {\n",
              "        vertical-align: middle;\n",
              "    }\n",
              "\n",
              "    .dataframe tbody tr th {\n",
              "        vertical-align: top;\n",
              "    }\n",
              "\n",
              "    .dataframe thead th {\n",
              "        text-align: right;\n",
              "    }\n",
              "</style>\n",
              "<table border=\"1\" class=\"dataframe\">\n",
              "  <thead>\n",
              "    <tr style=\"text-align: right;\">\n",
              "      <th></th>\n",
              "      <th>Emotion</th>\n",
              "      <th>Text</th>\n",
              "    </tr>\n",
              "  </thead>\n",
              "  <tbody>\n",
              "    <tr>\n",
              "      <th>0</th>\n",
              "      <td>6</td>\n",
              "      <td>I had promised to contact a friend about a par...</td>\n",
              "    </tr>\n",
              "    <tr>\n",
              "      <th>1</th>\n",
              "      <td>6</td>\n",
              "      <td>This morning I spent a lot of time on my toile...</td>\n",
              "    </tr>\n",
              "    <tr>\n",
              "      <th>2</th>\n",
              "      <td>5</td>\n",
              "      <td>When I learnt that I had been betrayed by my f...</td>\n",
              "    </tr>\n",
              "    <tr>\n",
              "      <th>3</th>\n",
              "      <td>5</td>\n",
              "      <td>Not doing well in an examn.</td>\n",
              "    </tr>\n",
              "    <tr>\n",
              "      <th>4</th>\n",
              "      <td>3</td>\n",
              "      <td>When my grandfather was in a nursing home when...</td>\n",
              "    </tr>\n",
              "  </tbody>\n",
              "</table>\n",
              "</div>"
            ],
            "text/plain": [
              "   Emotion                                               Text\n",
              "0        6  I had promised to contact a friend about a par...\n",
              "1        6  This morning I spent a lot of time on my toile...\n",
              "2        5  When I learnt that I had been betrayed by my f...\n",
              "3        5                        Not doing well in an examn.\n",
              "4        3  When my grandfather was in a nursing home when..."
            ]
          },
          "metadata": {
            "tags": []
          },
          "execution_count": 8
        }
      ]
    },
    {
      "cell_type": "code",
      "metadata": {
        "colab": {
          "base_uri": "https://localhost:8080/"
        },
        "id": "L1PX_2jD9qQc",
        "outputId": "b1df3d63-e62a-4a8d-e3eb-3b3f3886f621"
      },
      "source": [
        "data_frame.isnull().values.any()"
      ],
      "execution_count": null,
      "outputs": [
        {
          "output_type": "execute_result",
          "data": {
            "text/plain": [
              "False"
            ]
          },
          "metadata": {
            "tags": []
          },
          "execution_count": 9
        }
      ]
    },
    {
      "cell_type": "markdown",
      "metadata": {
        "id": "YnIMu1hlMvVn"
      },
      "source": [
        "Subjectivity Score Assignment"
      ]
    },
    {
      "cell_type": "code",
      "metadata": {
        "id": "zsOgYaZw9NeZ",
        "colab": {
          "base_uri": "https://localhost:8080/",
          "height": 194
        },
        "outputId": "7257239d-0849-45b9-b73a-ccae528c095a"
      },
      "source": [
        "from textblob import TextBlob\n",
        "\n",
        "def getScore(data):\n",
        "  return TextBlob(data).sentiment.subjectivity\n",
        "\n",
        "data_frame[\"Subj_Score\"] = data_frame[\"Text\"].apply(getScore)\n",
        "data_frame.head()"
      ],
      "execution_count": null,
      "outputs": [
        {
          "output_type": "execute_result",
          "data": {
            "text/html": [
              "<div>\n",
              "<style scoped>\n",
              "    .dataframe tbody tr th:only-of-type {\n",
              "        vertical-align: middle;\n",
              "    }\n",
              "\n",
              "    .dataframe tbody tr th {\n",
              "        vertical-align: top;\n",
              "    }\n",
              "\n",
              "    .dataframe thead th {\n",
              "        text-align: right;\n",
              "    }\n",
              "</style>\n",
              "<table border=\"1\" class=\"dataframe\">\n",
              "  <thead>\n",
              "    <tr style=\"text-align: right;\">\n",
              "      <th></th>\n",
              "      <th>Emotion</th>\n",
              "      <th>Text</th>\n",
              "      <th>Subj_Score</th>\n",
              "    </tr>\n",
              "  </thead>\n",
              "  <tbody>\n",
              "    <tr>\n",
              "      <th>0</th>\n",
              "      <td>6</td>\n",
              "      <td>I had promised to contact a friend about a par...</td>\n",
              "      <td>0.468254</td>\n",
              "    </tr>\n",
              "    <tr>\n",
              "      <th>1</th>\n",
              "      <td>6</td>\n",
              "      <td>This morning I spent a lot of time on my toile...</td>\n",
              "      <td>0.164286</td>\n",
              "    </tr>\n",
              "    <tr>\n",
              "      <th>2</th>\n",
              "      <td>5</td>\n",
              "      <td>When I learnt that I had been betrayed by my f...</td>\n",
              "      <td>0.000000</td>\n",
              "    </tr>\n",
              "    <tr>\n",
              "      <th>3</th>\n",
              "      <td>5</td>\n",
              "      <td>Not doing well in an examn.</td>\n",
              "      <td>0.000000</td>\n",
              "    </tr>\n",
              "    <tr>\n",
              "      <th>4</th>\n",
              "      <td>3</td>\n",
              "      <td>When my grandfather was in a nursing home when...</td>\n",
              "      <td>0.466667</td>\n",
              "    </tr>\n",
              "  </tbody>\n",
              "</table>\n",
              "</div>"
            ],
            "text/plain": [
              "   Emotion                                               Text  Subj_Score\n",
              "0        6  I had promised to contact a friend about a par...    0.468254\n",
              "1        6  This morning I spent a lot of time on my toile...    0.164286\n",
              "2        5  When I learnt that I had been betrayed by my f...    0.000000\n",
              "3        5                        Not doing well in an examn.    0.000000\n",
              "4        3  When my grandfather was in a nursing home when...    0.466667"
            ]
          },
          "metadata": {
            "tags": []
          },
          "execution_count": 10
        }
      ]
    },
    {
      "cell_type": "code",
      "metadata": {
        "colab": {
          "base_uri": "https://localhost:8080/"
        },
        "id": "a2J6mPdLyMt9",
        "outputId": "380f1b14-e919-468c-c689-69478dddb8b5"
      },
      "source": [
        "len(data_frame)"
      ],
      "execution_count": null,
      "outputs": [
        {
          "output_type": "execute_result",
          "data": {
            "text/plain": [
              "7666"
            ]
          },
          "metadata": {
            "tags": []
          },
          "execution_count": 11
        }
      ]
    },
    {
      "cell_type": "markdown",
      "metadata": {
        "id": "21jtBCX5VNxb"
      },
      "source": [
        "Check the length of Text Values containing \"[ No response.]\""
      ]
    },
    {
      "cell_type": "code",
      "metadata": {
        "colab": {
          "base_uri": "https://localhost:8080/"
        },
        "id": "rTPRr1YxAbbq",
        "outputId": "71b50e0f-8d70-41d2-f12f-bd4e07c706e9"
      },
      "source": [
        "len(data_frame[data_frame.Text=='[ No response.]'])"
      ],
      "execution_count": null,
      "outputs": [
        {
          "output_type": "execute_result",
          "data": {
            "text/plain": [
              "77"
            ]
          },
          "metadata": {
            "tags": []
          },
          "execution_count": 12
        }
      ]
    },
    {
      "cell_type": "markdown",
      "metadata": {
        "id": "qzD_uTGBVf-w"
      },
      "source": [
        "Remove those Records from dataframe"
      ]
    },
    {
      "cell_type": "code",
      "metadata": {
        "colab": {
          "base_uri": "https://localhost:8080/"
        },
        "id": "tK5JaP66VfJ-",
        "outputId": "be6f186e-ec00-4e18-d695-03ec43f8701e"
      },
      "source": [
        "data_frame.drop(data_frame[data_frame.Text=='[ No response.]'].index, inplace = True)\n",
        "print(\"Total number of records containing the value [ No response.] after deletion is: \"\n",
        "                              +str(len(data_frame[data_frame.Text=='[ No response.]'])))"
      ],
      "execution_count": null,
      "outputs": [
        {
          "output_type": "stream",
          "text": [
            "Total number of records containing the value [ No response.] after deletion is: 0\n"
          ],
          "name": "stdout"
        }
      ]
    },
    {
      "cell_type": "markdown",
      "metadata": {
        "id": "OlYBAjW_Mxq5"
      },
      "source": [
        "Outlier Analysis"
      ]
    },
    {
      "cell_type": "code",
      "metadata": {
        "colab": {
          "base_uri": "https://localhost:8080/",
          "height": 298
        },
        "id": "Wx87cfPhqRsV",
        "outputId": "6bbe5481-ddcb-4377-b362-3d0281eab4f9"
      },
      "source": [
        "import seaborn as sns\n",
        "sns.boxplot(x=data_frame['Subj_Score'])"
      ],
      "execution_count": null,
      "outputs": [
        {
          "output_type": "execute_result",
          "data": {
            "text/plain": [
              "<matplotlib.axes._subplots.AxesSubplot at 0x7fcbd8934ed0>"
            ]
          },
          "metadata": {
            "tags": []
          },
          "execution_count": 14
        },
        {
          "output_type": "display_data",
          "data": {
            "image/png": "[encoded data removed]",
            "text/plain": [
              "<Figure size 432x288 with 1 Axes>"
            ]
          },
          "metadata": {
            "tags": [],
            "needs_background": "light"
          }
        }
      ]
    },
    {
      "cell_type": "markdown",
      "metadata": {
        "id": "LSq8nwbXM2gP"
      },
      "source": [
        "Balanced/Imbalanced Data check on Subjectivity Score Bins"
      ]
    },
    {
      "cell_type": "code",
      "metadata": {
        "colab": {
          "base_uri": "https://localhost:8080/",
          "height": 426
        },
        "id": "obu8HfOmOKKS",
        "outputId": "91748d04-808b-4419-f246-ad7973b6d279"
      },
      "source": [
        "data_frame.hist(column=['Subj_Score'],bins=4, figsize=(8,6))"
      ],
      "execution_count": null,
      "outputs": [
        {
          "output_type": "execute_result",
          "data": {
            "text/plain": [
              "array([[<matplotlib.axes._subplots.AxesSubplot object at 0x7fcbd89b9b50>]],\n",
              "      dtype=object)"
            ]
          },
          "metadata": {
            "tags": []
          },
          "execution_count": 15
        },
        {
          "output_type": "display_data",
          "data": {
            "image/png": "[encoded data removed]",
            "text/plain": [
              "<Figure size 576x432 with 1 Axes>"
            ]
          },
          "metadata": {
            "tags": [],
            "needs_background": "light"
          }
        }
      ]
    },
    {
      "cell_type": "code",
      "metadata": {
        "colab": {
          "base_uri": "https://localhost:8080/",
          "height": 399
        },
        "id": "92cltN_uVzG5",
        "outputId": "b96226c5-b982-49fc-b3dc-40098a449a69"
      },
      "source": [
        "data_frame[data_frame.Subj_Score==0.000]"
      ],
      "execution_count": null,
      "outputs": [
        {
          "output_type": "execute_result",
          "data": {
            "text/html": [
              "<div>\n",
              "<style scoped>\n",
              "    .dataframe tbody tr th:only-of-type {\n",
              "        vertical-align: middle;\n",
              "    }\n",
              "\n",
              "    .dataframe tbody tr th {\n",
              "        vertical-align: top;\n",
              "    }\n",
              "\n",
              "    .dataframe thead th {\n",
              "        text-align: right;\n",
              "    }\n",
              "</style>\n",
              "<table border=\"1\" class=\"dataframe\">\n",
              "  <thead>\n",
              "    <tr style=\"text-align: right;\">\n",
              "      <th></th>\n",
              "      <th>Emotion</th>\n",
              "      <th>Text</th>\n",
              "      <th>Subj_Score</th>\n",
              "    </tr>\n",
              "  </thead>\n",
              "  <tbody>\n",
              "    <tr>\n",
              "      <th>2</th>\n",
              "      <td>5</td>\n",
              "      <td>When I learnt that I had been betrayed by my f...</td>\n",
              "      <td>0.0</td>\n",
              "    </tr>\n",
              "    <tr>\n",
              "      <th>3</th>\n",
              "      <td>5</td>\n",
              "      <td>Not doing well in an examn.</td>\n",
              "      <td>0.0</td>\n",
              "    </tr>\n",
              "    <tr>\n",
              "      <th>5</th>\n",
              "      <td>3</td>\n",
              "      <td>My friend did not do well in the examn because...</td>\n",
              "      <td>0.0</td>\n",
              "    </tr>\n",
              "    <tr>\n",
              "      <th>6</th>\n",
              "      <td>1</td>\n",
              "      <td>I felt it today when the bus driver shouted ra...</td>\n",
              "      <td>0.0</td>\n",
              "    </tr>\n",
              "    <tr>\n",
              "      <th>7</th>\n",
              "      <td>1</td>\n",
              "      <td>When I had to eat scraps from a dust-bin, beca...</td>\n",
              "      <td>0.0</td>\n",
              "    </tr>\n",
              "    <tr>\n",
              "      <th>...</th>\n",
              "      <td>...</td>\n",
              "      <td>...</td>\n",
              "      <td>...</td>\n",
              "    </tr>\n",
              "    <tr>\n",
              "      <th>7640</th>\n",
              "      <td>6</td>\n",
              "      <td>As a child when I was blamed for peeing in the...</td>\n",
              "      <td>0.0</td>\n",
              "    </tr>\n",
              "    <tr>\n",
              "      <th>7645</th>\n",
              "      <td>2</td>\n",
              "      <td>When I get into the tube or the train without ...</td>\n",
              "      <td>0.0</td>\n",
              "    </tr>\n",
              "    <tr>\n",
              "      <th>7650</th>\n",
              "      <td>3</td>\n",
              "      <td>Sleeping through crew practice one Monday morn...</td>\n",
              "      <td>0.0</td>\n",
              "    </tr>\n",
              "    <tr>\n",
              "      <th>7651</th>\n",
              "      <td>6</td>\n",
              "      <td>When I was a child, I had a medical check-up. ...</td>\n",
              "      <td>0.0</td>\n",
              "    </tr>\n",
              "    <tr>\n",
              "      <th>7655</th>\n",
              "      <td>0</td>\n",
              "      <td>In a situation whereby a friend's actions were...</td>\n",
              "      <td>0.0</td>\n",
              "    </tr>\n",
              "  </tbody>\n",
              "</table>\n",
              "<p>2137 rows × 3 columns</p>\n",
              "</div>"
            ],
            "text/plain": [
              "      Emotion                                               Text  Subj_Score\n",
              "2           5  When I learnt that I had been betrayed by my f...         0.0\n",
              "3           5                        Not doing well in an examn.         0.0\n",
              "5           3  My friend did not do well in the examn because...         0.0\n",
              "6           1  I felt it today when the bus driver shouted ra...         0.0\n",
              "7           1  When I had to eat scraps from a dust-bin, beca...         0.0\n",
              "...       ...                                                ...         ...\n",
              "7640        6  As a child when I was blamed for peeing in the...         0.0\n",
              "7645        2  When I get into the tube or the train without ...         0.0\n",
              "7650        3  Sleeping through crew practice one Monday morn...         0.0\n",
              "7651        6  When I was a child, I had a medical check-up. ...         0.0\n",
              "7655        0  In a situation whereby a friend's actions were...         0.0\n",
              "\n",
              "[2137 rows x 3 columns]"
            ]
          },
          "metadata": {
            "tags": []
          },
          "execution_count": 16
        }
      ]
    },
    {
      "cell_type": "code",
      "metadata": {
        "colab": {
          "base_uri": "https://localhost:8080/",
          "height": 282
        },
        "id": "2cSDKezIeTG8",
        "outputId": "c3783f65-0814-4ba3-8b8d-a3143360385c"
      },
      "source": [
        "data_frame.describe()"
      ],
      "execution_count": null,
      "outputs": [
        {
          "output_type": "execute_result",
          "data": {
            "text/html": [
              "<div>\n",
              "<style scoped>\n",
              "    .dataframe tbody tr th:only-of-type {\n",
              "        vertical-align: middle;\n",
              "    }\n",
              "\n",
              "    .dataframe tbody tr th {\n",
              "        vertical-align: top;\n",
              "    }\n",
              "\n",
              "    .dataframe thead th {\n",
              "        text-align: right;\n",
              "    }\n",
              "</style>\n",
              "<table border=\"1\" class=\"dataframe\">\n",
              "  <thead>\n",
              "    <tr style=\"text-align: right;\">\n",
              "      <th></th>\n",
              "      <th>Emotion</th>\n",
              "      <th>Subj_Score</th>\n",
              "    </tr>\n",
              "  </thead>\n",
              "  <tbody>\n",
              "    <tr>\n",
              "      <th>count</th>\n",
              "      <td>7589.000000</td>\n",
              "      <td>7589.000000</td>\n",
              "    </tr>\n",
              "    <tr>\n",
              "      <th>mean</th>\n",
              "      <td>2.995125</td>\n",
              "      <td>0.374595</td>\n",
              "    </tr>\n",
              "    <tr>\n",
              "      <th>std</th>\n",
              "      <td>1.998775</td>\n",
              "      <td>0.315862</td>\n",
              "    </tr>\n",
              "    <tr>\n",
              "      <th>min</th>\n",
              "      <td>0.000000</td>\n",
              "      <td>0.000000</td>\n",
              "    </tr>\n",
              "    <tr>\n",
              "      <th>25%</th>\n",
              "      <td>1.000000</td>\n",
              "      <td>0.000000</td>\n",
              "    </tr>\n",
              "    <tr>\n",
              "      <th>50%</th>\n",
              "      <td>3.000000</td>\n",
              "      <td>0.375000</td>\n",
              "    </tr>\n",
              "    <tr>\n",
              "      <th>75%</th>\n",
              "      <td>5.000000</td>\n",
              "      <td>0.600000</td>\n",
              "    </tr>\n",
              "    <tr>\n",
              "      <th>max</th>\n",
              "      <td>6.000000</td>\n",
              "      <td>1.000000</td>\n",
              "    </tr>\n",
              "  </tbody>\n",
              "</table>\n",
              "</div>"
            ],
            "text/plain": [
              "           Emotion   Subj_Score\n",
              "count  7589.000000  7589.000000\n",
              "mean      2.995125     0.374595\n",
              "std       1.998775     0.315862\n",
              "min       0.000000     0.000000\n",
              "25%       1.000000     0.000000\n",
              "50%       3.000000     0.375000\n",
              "75%       5.000000     0.600000\n",
              "max       6.000000     1.000000"
            ]
          },
          "metadata": {
            "tags": []
          },
          "execution_count": 17
        }
      ]
    },
    {
      "cell_type": "code",
      "metadata": {
        "colab": {
          "base_uri": "https://localhost:8080/"
        },
        "id": "bpRTwQPCamlM",
        "outputId": "be5eb468-716e-4943-dfc9-7c5486193a5e"
      },
      "source": [
        "len(data_frame)"
      ],
      "execution_count": null,
      "outputs": [
        {
          "output_type": "execute_result",
          "data": {
            "text/plain": [
              "7589"
            ]
          },
          "metadata": {
            "tags": []
          },
          "execution_count": 18
        }
      ]
    },
    {
      "cell_type": "markdown",
      "metadata": {
        "id": "8XjsYmJvS0xy"
      },
      "source": [
        "Balancing maximum bins in the Imbalanced Dataset based on Subjectivity Score"
      ]
    },
    {
      "cell_type": "code",
      "metadata": {
        "colab": {
          "base_uri": "https://localhost:8080/",
          "height": 426
        },
        "id": "kXTsnhRA-4Yp",
        "outputId": "07facf60-a3d8-4e43-eb7c-1300150b602e"
      },
      "source": [
        "count = 1\n",
        "columns = ['Emotion', 'Text', 'Subj_Score']\n",
        "zero_list = []\n",
        "for ind, row in data_frame.iterrows():\n",
        "  if(row['Subj_Score']==0.0 and count<=1000):\n",
        "    zero_list.append(row.to_dict())\n",
        "    count+=1\n",
        "zero_df = pd.DataFrame(zero_list)\n",
        "cond = data_frame['Text'].isin(zero_df['Text'])\n",
        "data_frame.drop(data_frame[cond].index, inplace = True)\n",
        "data_frame.hist(column=['Subj_Score'],bins=4, figsize=(8,6))"
      ],
      "execution_count": null,
      "outputs": [
        {
          "output_type": "execute_result",
          "data": {
            "text/plain": [
              "array([[<matplotlib.axes._subplots.AxesSubplot object at 0x7fcbd89f5250>]],\n",
              "      dtype=object)"
            ]
          },
          "metadata": {
            "tags": []
          },
          "execution_count": 19
        },
        {
          "output_type": "display_data",
          "data": {
            "image/png": "[encoded data removed]",
            "text/plain": [
              "<Figure size 576x432 with 1 Axes>"
            ]
          },
          "metadata": {
            "tags": [],
            "needs_background": "light"
          }
        }
      ]
    },
    {
      "cell_type": "code",
      "metadata": {
        "colab": {
          "base_uri": "https://localhost:8080/"
        },
        "id": "myn0DbIWT0D2",
        "outputId": "92bb238e-6fbd-408b-8791-b7975ad49af3"
      },
      "source": [
        "len(data_frame[data_frame.Subj_Score==0.0])"
      ],
      "execution_count": null,
      "outputs": [
        {
          "output_type": "execute_result",
          "data": {
            "text/plain": [
              "1086"
            ]
          },
          "metadata": {
            "tags": []
          },
          "execution_count": 20
        }
      ]
    },
    {
      "cell_type": "code",
      "metadata": {
        "colab": {
          "base_uri": "https://localhost:8080/"
        },
        "id": "jwA6p_qDaynp",
        "outputId": "71a03440-a6e0-43f2-9b7d-8f77e4c0d3cd"
      },
      "source": [
        "len(data_frame)"
      ],
      "execution_count": null,
      "outputs": [
        {
          "output_type": "execute_result",
          "data": {
            "text/plain": [
              "6538"
            ]
          },
          "metadata": {
            "tags": []
          },
          "execution_count": 21
        }
      ]
    },
    {
      "cell_type": "markdown",
      "metadata": {
        "id": "QkBRRFZdN3TL"
      },
      "source": [
        "Balanced/Imbalanced Analysis of the Dataset"
      ]
    },
    {
      "cell_type": "code",
      "metadata": {
        "colab": {
          "base_uri": "https://localhost:8080/",
          "height": 286
        },
        "id": "kcoobNXzNzps",
        "outputId": "4d45aa06-f7b7-410a-b4d1-8afdbbdca532"
      },
      "source": [
        "import seaborn as sns\n",
        "sns.set_theme(style=\"darkgrid\")\n",
        "ax = sns.countplot(x=\"Emotion\", data=data_frame)"
      ],
      "execution_count": null,
      "outputs": [
        {
          "output_type": "display_data",
          "data": {
            "image/png": "[encoded data removed]",
            "text/plain": [
              "<Figure size 432x288 with 1 Axes>"
            ]
          },
          "metadata": {
            "tags": []
          }
        }
      ]
    },
    {
      "cell_type": "markdown",
      "metadata": {
        "id": "uyICHT59NYVl"
      },
      "source": [
        "Conversion of dataframe column data into list"
      ]
    },
    {
      "cell_type": "code",
      "metadata": {
        "id": "FqmP3bZBHHXy"
      },
      "source": [
        "sentences_list = data_frame['Text'].tolist()\n",
        "labels_list = data_frame['Subj_Score'].tolist()"
      ],
      "execution_count": null,
      "outputs": []
    },
    {
      "cell_type": "markdown",
      "metadata": {
        "id": "hoZ9Sk0oNamt"
      },
      "source": [
        "Splitting the training, validation and testing data"
      ]
    },
    {
      "cell_type": "code",
      "metadata": {
        "pycharm": {
          "name": "#%%\n"
        },
        "id": "UZsRQ-N8ndZa"
      },
      "source": [
        "train_length = int(0.7*len(data_frame))\n",
        "validation_length = int(0.7*len(data_frame))+int(0.15*len(data_frame))\n",
        "\n",
        "train_data = sentences_list[0:train_length]\n",
        "val_data = sentences_list[train_length:validation_length]\n",
        "test_data = sentences_list[validation_length:]\n",
        "extended_data = zero_df['Text'].tolist()\n",
        "test_data.extend(extended_data)\n",
        "train_scores = labels_list[0:train_length]\n",
        "val_scores = labels_list[train_length:validation_length]\n",
        "test_scores = labels_list[validation_length:]\n",
        "extended_scores = zero_df['Subj_Score'].tolist()\n",
        "test_scores.extend(extended_scores)"
      ],
      "execution_count": null,
      "outputs": []
    },
    {
      "cell_type": "code",
      "metadata": {
        "pycharm": {
          "name": "#%%\n"
        },
        "id": "8lJzuHmqndZc",
        "colab": {
          "base_uri": "https://localhost:8080/"
        },
        "outputId": "4cd6fcf8-c93a-4c6b-87ce-a443ecb8d061"
      },
      "source": [
        "print(len(train_data))\n",
        "print(len(val_data))\n",
        "print(len(test_data))"
      ],
      "execution_count": null,
      "outputs": [
        {
          "output_type": "stream",
          "text": [
            "4576\n",
            "980\n",
            "1982\n"
          ],
          "name": "stdout"
        }
      ]
    },
    {
      "cell_type": "markdown",
      "metadata": {
        "id": "MZFdB451NePs"
      },
      "source": [
        "Initializing the AlbertTokenizer instance"
      ]
    },
    {
      "cell_type": "code",
      "metadata": {
        "pycharm": {
          "name": "#%%\n"
        },
        "id": "jdrxytRKndZh",
        "colab": {
          "base_uri": "https://localhost:8080/",
          "height": 67,
          "referenced_widgets": [
            "722091583f1448789db5faccb30d7a9c",
            "a6bf065d9be6470297d2ed356e592da3",
            "4426616ebe514e6088f34f18cd07979f",
            "dd3b1593783843a39338601f86e56a43",
            "97b53a5a7f724168b0960bae7df2bc7b",
            "06bd72bb090a4f618dbedfd729e4ff81",
            "fc73cf26ae1541a9aa555f87bcea9dda",
            "e38f57faea934cabba804b4962f7a30d"
          ]
        },
        "outputId": "9a926676-a5f8-4163-a1ff-cba34b01da30"
      },
      "source": [
        "albert_tokens = AlbertTokenizer.from_pretrained('albert-base-v2')"
      ],
      "execution_count": null,
      "outputs": [
        {
          "output_type": "display_data",
          "data": {
            "application/vnd.jupyter.widget-view+json": {
              "model_id": "722091583f1448789db5faccb30d7a9c",
              "version_minor": 0,
              "version_major": 2
            },
            "text/plain": [
              "HBox(children=(FloatProgress(value=0.0, description='Downloading', max=760289.0, style=ProgressStyle(descripti…"
            ]
          },
          "metadata": {
            "tags": []
          }
        },
        {
          "output_type": "stream",
          "text": [
            "\n"
          ],
          "name": "stdout"
        }
      ]
    },
    {
      "cell_type": "markdown",
      "metadata": {
        "id": "6oPa0Mm5o5BI"
      },
      "source": [
        "5-fold Cross Validation"
      ]
    },
    {
      "cell_type": "code",
      "metadata": {
        "colab": {
          "base_uri": "https://localhost:8080/",
          "height": 1000,
          "referenced_widgets": [
            "87afcfc5b9e249fbb4e8b9bb38b082bd",
            "4a9b022a86b143f1b1ae8110e13ea5eb",
            "1ed99d198ef8484083c11b0700cef4c7",
            "345f3a54493d45b2abab24d67ddab22b",
            "475b363467404b66a3c5467b16a98daa",
            "3abdc7b4275c4263a2103639e87a096f",
            "ff66ea1e8722421f96a21041d503fbc1",
            "1e7952499d87440781a867bcf82c647e",
            "7719cb0e46c749dfab22f7ec8325236b",
            "9f4aaada414948deae2b26a42390059d",
            "4b936f0dd14043aeb9976183f1219ea4",
            "3a91393d9a7f4f36abb04757d270b7dc",
            "5c8844b1b2be45fba626c6b10970a22e",
            "9e830c7237384e51b01382c046b2a0de",
            "52dcdbf868f74360a4372c38b554f264",
            "037620ef127b4149bb2d032433495bac"
          ]
        },
        "id": "RlivVGu0omH0",
        "outputId": "1c0da43d-4b62-4bef-be7b-a1c2484c1dd8"
      },
      "source": [
        "# kfold\n",
        "from sklearn.model_selection import KFold\n",
        "kf= KFold(n_splits=5, random_state=None, shuffle=True)\n",
        "fold_no = 1\n",
        "losses_array = []\n",
        "validation_losses_array = []\n",
        "mse_array = []\n",
        "validation_mse_array = []\n",
        "for train_index_list, test_index_list in kf.split(sentences_list):\n",
        "  x_train_n = [sentences_list[index] for index in train_index_list]\n",
        "  x_test_n = [sentences_list[index] for index in test_index_list]\n",
        "  y_train_n = [labels_list[index] for index in train_index_list]\n",
        "  y_test_n = [labels_list[index] for index in test_index_list]\n",
        "\n",
        "  #do all the things\n",
        "  train_tokens_n = albert_tokens(x_train_n,\n",
        "                            truncation=True,\n",
        "                            padding=True)\n",
        "  validation_tokens_n = albert_tokens(x_test_n,\n",
        "                            truncation=True,\n",
        "                            padding=True)\n",
        "  \n",
        "  model_train_data = tf.data.Dataset.from_tensor_slices((\n",
        "    dict(train_tokens_n),\n",
        "    y_train_n\n",
        "    ))\n",
        "\n",
        "  model_val_data = tf.data.Dataset.from_tensor_slices((\n",
        "    dict(validation_tokens_n),\n",
        "    y_test_n\n",
        "    ))\n",
        "  \n",
        "  albert_regression_model = TFAlbertForSequenceClassification.from_pretrained('albert-base-v2',\n",
        "                                                              num_labels=1)\n",
        "  \n",
        "  optimizer = tf.keras.optimizers.Adam(learning_rate=0.00005)\n",
        "  albert_regression_model.compile(optimizer=optimizer, loss=albert_regression_model.compute_loss, metrics=['mean_squared_error'])\n",
        "\n",
        "  print('------------------------------------------------------------------------')\n",
        "  print(f'Training for fold {fold_no} ...')\n",
        "  history= albert_regression_model.fit(model_train_data.shuffle(100).batch(16),\n",
        "          epochs=8,\n",
        "          batch_size=16,\n",
        "          validation_data=model_val_data.shuffle(100).batch(16))\n",
        "\n",
        "  fold_no = fold_no + 1\n",
        "  losses_array.append(history.history['loss'])\n",
        "  validation_losses_array.append(history.history['val_loss'])\n",
        "  mse_array.append(history.history['mean_squared_error'])\n",
        "  validation_mse_array.append(history.history['val_mean_squared_error'])\n",
        "print(\"K fold validaiton finished..............................\")"
      ],
      "execution_count": null,
      "outputs": [
        {
          "output_type": "display_data",
          "data": {
            "application/vnd.jupyter.widget-view+json": {
              "model_id": "87afcfc5b9e249fbb4e8b9bb38b082bd",
              "version_minor": 0,
              "version_major": 2
            },
            "text/plain": [
              "HBox(children=(FloatProgress(value=0.0, description='Downloading', max=684.0, style=ProgressStyle(description_…"
            ]
          },
          "metadata": {
            "tags": []
          }
        },
        {
          "output_type": "stream",
          "text": [
            "\n"
          ],
          "name": "stdout"
        },
        {
          "output_type": "display_data",
          "data": {
            "application/vnd.jupyter.widget-view+json": {
              "model_id": "7719cb0e46c749dfab22f7ec8325236b",
              "version_minor": 0,
              "version_major": 2
            },
            "text/plain": [
              "HBox(children=(FloatProgress(value=0.0, description='Downloading', max=63048440.0, style=ProgressStyle(descrip…"
            ]
          },
          "metadata": {
            "tags": []
          }
        },
        {
          "output_type": "stream",
          "text": [
            "\n"
          ],
          "name": "stdout"
        },
        {
          "output_type": "stream",
          "text": [
            "Some weights of the model checkpoint at albert-base-v2 were not used when initializing TFAlbertForSequenceClassification: ['predictions']\n",
            "- This IS expected if you are initializing TFAlbertForSequenceClassification from the checkpoint of a model trained on another task or with another architecture (e.g. initializing a BertForSequenceClassification model from a BertForPretraining model).\n",
            "- This IS NOT expected if you are initializing TFAlbertForSequenceClassification from the checkpoint of a model that you expect to be exactly identical (initializing a BertForSequenceClassification model from a BertForSequenceClassification model).\n",
            "Some weights of TFAlbertForSequenceClassification were not initialized from the model checkpoint at albert-base-v2 and are newly initialized: ['classifier', 'dropout_5']\n",
            "You should probably TRAIN this model on a down-stream task to be able to use it for predictions and inference.\n"
          ],
          "name": "stderr"
        },
        {
          "output_type": "stream",
          "text": [
            "------------------------------------------------------------------------\n",
            "Training for fold 1 ...\n",
            "Epoch 1/8\n",
            "328/328 [==============================] - 115s 307ms/step - loss: 0.0857 - mean_squared_error: 0.0857 - val_loss: 0.0391 - val_mean_squared_error: 0.0391\n",
            "Epoch 2/8\n",
            "328/328 [==============================] - 99s 301ms/step - loss: 0.0346 - mean_squared_error: 0.0346 - val_loss: 0.0243 - val_mean_squared_error: 0.0243\n",
            "Epoch 3/8\n",
            "328/328 [==============================] - 99s 301ms/step - loss: 0.0226 - mean_squared_error: 0.0226 - val_loss: 0.0167 - val_mean_squared_error: 0.0167\n",
            "Epoch 4/8\n",
            "328/328 [==============================] - 99s 301ms/step - loss: 0.0122 - mean_squared_error: 0.0122 - val_loss: 0.0158 - val_mean_squared_error: 0.0158\n",
            "Epoch 5/8\n",
            "328/328 [==============================] - 99s 301ms/step - loss: 0.0095 - mean_squared_error: 0.0095 - val_loss: 0.0146 - val_mean_squared_error: 0.0146\n",
            "Epoch 6/8\n",
            "328/328 [==============================] - 99s 301ms/step - loss: 0.0087 - mean_squared_error: 0.0087 - val_loss: 0.0111 - val_mean_squared_error: 0.0111\n",
            "Epoch 7/8\n",
            "328/328 [==============================] - 99s 301ms/step - loss: 0.0045 - mean_squared_error: 0.0045 - val_loss: 0.0104 - val_mean_squared_error: 0.0104\n",
            "Epoch 8/8\n",
            "328/328 [==============================] - 99s 302ms/step - loss: 0.0035 - mean_squared_error: 0.0035 - val_loss: 0.0106 - val_mean_squared_error: 0.0106\n"
          ],
          "name": "stdout"
        },
        {
          "output_type": "stream",
          "text": [
            "Some weights of the model checkpoint at albert-base-v2 were not used when initializing TFAlbertForSequenceClassification: ['predictions']\n",
            "- This IS expected if you are initializing TFAlbertForSequenceClassification from the checkpoint of a model trained on another task or with another architecture (e.g. initializing a BertForSequenceClassification model from a BertForPretraining model).\n",
            "- This IS NOT expected if you are initializing TFAlbertForSequenceClassification from the checkpoint of a model that you expect to be exactly identical (initializing a BertForSequenceClassification model from a BertForSequenceClassification model).\n",
            "Some weights of TFAlbertForSequenceClassification were not initialized from the model checkpoint at albert-base-v2 and are newly initialized: ['classifier', 'dropout_11']\n",
            "You should probably TRAIN this model on a down-stream task to be able to use it for predictions and inference.\n"
          ],
          "name": "stderr"
        },
        {
          "output_type": "stream",
          "text": [
            "------------------------------------------------------------------------\n",
            "Training for fold 2 ...\n",
            "Epoch 1/8\n",
            "328/328 [==============================] - 114s 308ms/step - loss: 0.1182 - mean_squared_error: 0.1182 - val_loss: 0.0909 - val_mean_squared_error: 0.0909\n",
            "Epoch 2/8\n",
            "328/328 [==============================] - 99s 301ms/step - loss: 0.0625 - mean_squared_error: 0.0625 - val_loss: 0.0405 - val_mean_squared_error: 0.0405\n",
            "Epoch 3/8\n",
            "328/328 [==============================] - 99s 301ms/step - loss: 0.0400 - mean_squared_error: 0.0400 - val_loss: 0.0214 - val_mean_squared_error: 0.0214\n",
            "Epoch 4/8\n",
            "328/328 [==============================] - 99s 301ms/step - loss: 0.0208 - mean_squared_error: 0.0208 - val_loss: 0.0288 - val_mean_squared_error: 0.0288\n",
            "Epoch 5/8\n",
            "328/328 [==============================] - 99s 301ms/step - loss: 0.0133 - mean_squared_error: 0.0133 - val_loss: 0.0153 - val_mean_squared_error: 0.0153\n",
            "Epoch 6/8\n",
            "328/328 [==============================] - 99s 301ms/step - loss: 0.0090 - mean_squared_error: 0.0090 - val_loss: 0.0141 - val_mean_squared_error: 0.0141\n",
            "Epoch 7/8\n",
            "328/328 [==============================] - 98s 300ms/step - loss: 0.0065 - mean_squared_error: 0.0065 - val_loss: 0.0128 - val_mean_squared_error: 0.0128\n",
            "Epoch 8/8\n",
            "328/328 [==============================] - 98s 300ms/step - loss: 0.0042 - mean_squared_error: 0.0042 - val_loss: 0.0119 - val_mean_squared_error: 0.0119\n"
          ],
          "name": "stdout"
        },
        {
          "output_type": "stream",
          "text": [
            "Some weights of the model checkpoint at albert-base-v2 were not used when initializing TFAlbertForSequenceClassification: ['predictions']\n",
            "- This IS expected if you are initializing TFAlbertForSequenceClassification from the checkpoint of a model trained on another task or with another architecture (e.g. initializing a BertForSequenceClassification model from a BertForPretraining model).\n",
            "- This IS NOT expected if you are initializing TFAlbertForSequenceClassification from the checkpoint of a model that you expect to be exactly identical (initializing a BertForSequenceClassification model from a BertForSequenceClassification model).\n",
            "Some weights of TFAlbertForSequenceClassification were not initialized from the model checkpoint at albert-base-v2 and are newly initialized: ['classifier', 'dropout_17']\n",
            "You should probably TRAIN this model on a down-stream task to be able to use it for predictions and inference.\n"
          ],
          "name": "stderr"
        },
        {
          "output_type": "stream",
          "text": [
            "------------------------------------------------------------------------\n",
            "Training for fold 3 ...\n",
            "Epoch 1/8\n",
            "328/328 [==============================] - 114s 309ms/step - loss: 0.0883 - mean_squared_error: 0.0883 - val_loss: 0.0461 - val_mean_squared_error: 0.0461\n",
            "Epoch 2/8\n",
            "328/328 [==============================] - 99s 301ms/step - loss: 0.0386 - mean_squared_error: 0.0386 - val_loss: 0.0222 - val_mean_squared_error: 0.0222\n",
            "Epoch 3/8\n",
            "328/328 [==============================] - 99s 302ms/step - loss: 0.0200 - mean_squared_error: 0.0200 - val_loss: 0.0176 - val_mean_squared_error: 0.0176\n",
            "Epoch 4/8\n",
            "328/328 [==============================] - 99s 301ms/step - loss: 0.0150 - mean_squared_error: 0.0150 - val_loss: 0.0186 - val_mean_squared_error: 0.0186\n",
            "Epoch 5/8\n",
            "328/328 [==============================] - 99s 302ms/step - loss: 0.0125 - mean_squared_error: 0.0125 - val_loss: 0.0136 - val_mean_squared_error: 0.0136\n",
            "Epoch 6/8\n",
            "328/328 [==============================] - 99s 301ms/step - loss: 0.0082 - mean_squared_error: 0.0082 - val_loss: 0.0117 - val_mean_squared_error: 0.0117\n",
            "Epoch 7/8\n",
            "328/328 [==============================] - 99s 301ms/step - loss: 0.0050 - mean_squared_error: 0.0050 - val_loss: 0.0111 - val_mean_squared_error: 0.0111\n",
            "Epoch 8/8\n",
            "328/328 [==============================] - 99s 301ms/step - loss: 0.0037 - mean_squared_error: 0.0037 - val_loss: 0.0116 - val_mean_squared_error: 0.0116\n"
          ],
          "name": "stdout"
        },
        {
          "output_type": "stream",
          "text": [
            "Some weights of the model checkpoint at albert-base-v2 were not used when initializing TFAlbertForSequenceClassification: ['predictions']\n",
            "- This IS expected if you are initializing TFAlbertForSequenceClassification from the checkpoint of a model trained on another task or with another architecture (e.g. initializing a BertForSequenceClassification model from a BertForPretraining model).\n",
            "- This IS NOT expected if you are initializing TFAlbertForSequenceClassification from the checkpoint of a model that you expect to be exactly identical (initializing a BertForSequenceClassification model from a BertForSequenceClassification model).\n",
            "Some weights of TFAlbertForSequenceClassification were not initialized from the model checkpoint at albert-base-v2 and are newly initialized: ['dropout_23', 'classifier']\n",
            "You should probably TRAIN this model on a down-stream task to be able to use it for predictions and inference.\n"
          ],
          "name": "stderr"
        },
        {
          "output_type": "stream",
          "text": [
            "------------------------------------------------------------------------\n",
            "Training for fold 4 ...\n",
            "Epoch 1/8\n",
            "328/328 [==============================] - 107s 285ms/step - loss: 0.0922 - mean_squared_error: 0.0922 - val_loss: 0.1060 - val_mean_squared_error: 0.1060\n",
            "Epoch 2/8\n",
            "328/328 [==============================] - 91s 277ms/step - loss: 0.0753 - mean_squared_error: 0.0753 - val_loss: 0.0621 - val_mean_squared_error: 0.0621\n",
            "Epoch 3/8\n",
            "328/328 [==============================] - 91s 277ms/step - loss: 0.0586 - mean_squared_error: 0.0586 - val_loss: 0.0439 - val_mean_squared_error: 0.0439\n",
            "Epoch 4/8\n",
            "328/328 [==============================] - 91s 277ms/step - loss: 0.0400 - mean_squared_error: 0.0400 - val_loss: 0.0316 - val_mean_squared_error: 0.0316\n",
            "Epoch 5/8\n",
            "328/328 [==============================] - 91s 276ms/step - loss: 0.0350 - mean_squared_error: 0.0350 - val_loss: 0.0274 - val_mean_squared_error: 0.0274\n",
            "Epoch 6/8\n",
            "328/328 [==============================] - 90s 276ms/step - loss: 0.0227 - mean_squared_error: 0.0227 - val_loss: 0.0258 - val_mean_squared_error: 0.0258\n",
            "Epoch 7/8\n",
            "328/328 [==============================] - 90s 276ms/step - loss: 0.0161 - mean_squared_error: 0.0161 - val_loss: 0.0199 - val_mean_squared_error: 0.0199\n",
            "Epoch 8/8\n",
            "328/328 [==============================] - 90s 275ms/step - loss: 0.0093 - mean_squared_error: 0.0093 - val_loss: 0.0190 - val_mean_squared_error: 0.0190\n"
          ],
          "name": "stdout"
        },
        {
          "output_type": "stream",
          "text": [
            "Some weights of the model checkpoint at albert-base-v2 were not used when initializing TFAlbertForSequenceClassification: ['predictions']\n",
            "- This IS expected if you are initializing TFAlbertForSequenceClassification from the checkpoint of a model trained on another task or with another architecture (e.g. initializing a BertForSequenceClassification model from a BertForPretraining model).\n",
            "- This IS NOT expected if you are initializing TFAlbertForSequenceClassification from the checkpoint of a model that you expect to be exactly identical (initializing a BertForSequenceClassification model from a BertForSequenceClassification model).\n",
            "Some weights of TFAlbertForSequenceClassification were not initialized from the model checkpoint at albert-base-v2 and are newly initialized: ['dropout_29', 'classifier']\n",
            "You should probably TRAIN this model on a down-stream task to be able to use it for predictions and inference.\n"
          ],
          "name": "stderr"
        },
        {
          "output_type": "stream",
          "text": [
            "------------------------------------------------------------------------\n",
            "Training for fold 5 ...\n",
            "Epoch 1/8\n",
            "328/328 [==============================] - 113s 307ms/step - loss: 0.0933 - mean_squared_error: 0.0933 - val_loss: 0.0874 - val_mean_squared_error: 0.0874\n",
            "Epoch 2/8\n",
            "328/328 [==============================] - 98s 299ms/step - loss: 0.0762 - mean_squared_error: 0.0762 - val_loss: 0.0871 - val_mean_squared_error: 0.0871\n",
            "Epoch 3/8\n",
            "328/328 [==============================] - 98s 300ms/step - loss: 0.0770 - mean_squared_error: 0.0770 - val_loss: 0.0832 - val_mean_squared_error: 0.0832\n",
            "Epoch 4/8\n",
            "328/328 [==============================] - 98s 299ms/step - loss: 0.0759 - mean_squared_error: 0.0759 - val_loss: 0.0937 - val_mean_squared_error: 0.0937\n",
            "Epoch 5/8\n",
            "328/328 [==============================] - 98s 300ms/step - loss: 0.0749 - mean_squared_error: 0.0749 - val_loss: 0.0845 - val_mean_squared_error: 0.0845\n",
            "Epoch 6/8\n",
            "328/328 [==============================] - 98s 300ms/step - loss: 0.0745 - mean_squared_error: 0.0745 - val_loss: 0.0920 - val_mean_squared_error: 0.0920\n",
            "Epoch 7/8\n",
            "328/328 [==============================] - 99s 301ms/step - loss: 0.0753 - mean_squared_error: 0.0753 - val_loss: 0.1091 - val_mean_squared_error: 0.1091\n",
            "Epoch 8/8\n",
            "328/328 [==============================] - 98s 299ms/step - loss: 0.0802 - mean_squared_error: 0.0802 - val_loss: 0.0894 - val_mean_squared_error: 0.0894\n",
            "K fold validaiton finished..............................\n"
          ],
          "name": "stdout"
        }
      ]
    },
    {
      "cell_type": "markdown",
      "metadata": {
        "id": "lp_b2wAo5VNj"
      },
      "source": [
        "Plots of Traning and Validation Losses and metrics of the models of 5-fold cross validation"
      ]
    },
    {
      "cell_type": "code",
      "metadata": {
        "colab": {
          "base_uri": "https://localhost:8080/",
          "height": 301
        },
        "id": "ZZ2kExDyo24F",
        "outputId": "ecedd53a-1679-4e09-94b0-0b41bd46a5ff"
      },
      "source": [
        "import matplotlib.pyplot as plt\n",
        "from statistics import mean\n",
        "\n",
        "fold = 1\n",
        "\n",
        "def plot_loss(fold):\n",
        "  plt.plot(losses_array[fold-1], label='loss')\n",
        "  plt.plot(validation_losses_array[fold-1], label='val_loss')\n",
        "  plt.ylim([0, 0.1])\n",
        "  plt.title('Training and Validation loss for fold: '+str(fold)+', Mean Loss: '+str(mean(losses_array[fold-1]))+', Mean Validation Loss: '+str(mean(validation_losses_array[fold-1])))\n",
        "  plt.xlabel('Epoch')\n",
        "  plt.ylabel('Error')\n",
        "  plt.legend()\n",
        "  plt.grid(True)\n",
        "\n",
        "plot_loss(fold)\n",
        "\n",
        "mean_loss = []\n",
        "mean_val_loss = []\n",
        "\n",
        "mean_loss.append(mean(losses_array[fold-1]))\n",
        "mean_val_loss.append(mean(validation_losses_array[fold-1]))\n"
      ],
      "execution_count": null,
      "outputs": [
        {
          "output_type": "display_data",
          "data": {
            "image/png": "[encoded data removed]",
            "text/plain": [
              "<Figure size 432x288 with 1 Axes>"
            ]
          },
          "metadata": {
            "tags": []
          }
        }
      ]
    },
    {
      "cell_type": "code",
      "metadata": {
        "colab": {
          "base_uri": "https://localhost:8080/",
          "height": 301
        },
        "id": "orEhm5Mr5gzU",
        "outputId": "f49726c6-06b9-469d-d83e-234c9c5bf351"
      },
      "source": [
        "def plot_mse(fold):\n",
        "  plt.plot(mse_array[fold-1], label='MSE')\n",
        "  plt.plot(validation_mse_array[fold-1], label='val_MSE')\n",
        "  plt.ylim([0, 0.1])\n",
        "  plt.title('Training and Validation MSE for fold: '+str(fold)+', Mean MSE: '+str(mean(mse_array[fold-1]))+', Mean Validation MSE: '+str(mean(validation_mse_array[fold-1])))\n",
        "  plt.xlabel('Epoch')\n",
        "  plt.ylabel('Error')\n",
        "  plt.legend()\n",
        "  plt.grid(True)\n",
        "\n",
        "plot_mse(fold)\n",
        "\n",
        "mean_mse = []\n",
        "mean_val_mse = []\n",
        "\n",
        "mean_mse.append(mean(mse_array[fold-1]))\n",
        "mean_val_mse.append(mean(validation_mse_array[fold-1]))"
      ],
      "execution_count": null,
      "outputs": [
        {
          "output_type": "display_data",
          "data": {
            "image/png": "[encoded data removed]",
            "text/plain": [
              "<Figure size 432x288 with 1 Axes>"
            ]
          },
          "metadata": {
            "tags": []
          }
        }
      ]
    },
    {
      "cell_type": "code",
      "metadata": {
        "colab": {
          "base_uri": "https://localhost:8080/",
          "height": 301
        },
        "id": "b1BkYhog5kpp",
        "outputId": "cbf3ee4a-4435-4a96-d2b0-9f68750e9fec"
      },
      "source": [
        "fold = 2\n",
        "\n",
        "def plot_loss(fold):\n",
        "  plt.plot(losses_array[fold-1], label='loss')\n",
        "  plt.plot(validation_losses_array[fold-1], label='val_loss')\n",
        "  plt.ylim([0, 0.15])\n",
        "  plt.title('Training and Validation loss for fold: '+str(fold)+', Mean Loss: '+str(mean(losses_array[fold-1]))+', Mean Validation Loss: '+str(mean(validation_losses_array[fold-1])))\n",
        "  plt.xlabel('Epoch')\n",
        "  plt.ylabel('Error')\n",
        "  plt.legend()\n",
        "  plt.grid(True)\n",
        "\n",
        "plot_loss(fold)\n",
        "\n",
        "mean_loss.append(mean(losses_array[fold-1]))\n",
        "mean_val_loss.append(mean(validation_losses_array[fold-1]))"
      ],
      "execution_count": null,
      "outputs": [
        {
          "output_type": "display_data",
          "data": {
            "image/png": "[encoded data removed]",
            "text/plain": [
              "<Figure size 432x288 with 1 Axes>"
            ]
          },
          "metadata": {
            "tags": []
          }
        }
      ]
    },
    {
      "cell_type": "code",
      "metadata": {
        "colab": {
          "base_uri": "https://localhost:8080/",
          "height": 301
        },
        "id": "fTCphye45pDR",
        "outputId": "5514d269-d77d-4c6f-e2b8-37723115f68d"
      },
      "source": [
        "def plot_mse(fold):\n",
        "  plt.plot(mse_array[fold-1], label='MSE')\n",
        "  plt.plot(validation_mse_array[fold-1], label='val_MSE')\n",
        "  plt.ylim([0, 0.15])\n",
        "  plt.title('Training and Validation MSE for fold: '+str(fold)+', Mean MSE: '+str(mean(mse_array[fold-1]))+', Mean Validation MSE: '+str(mean(validation_mse_array[fold-1])))\n",
        "  plt.xlabel('Epoch')\n",
        "  plt.ylabel('Error')\n",
        "  plt.legend()\n",
        "  plt.grid(True)\n",
        "\n",
        "plot_mse(fold)\n",
        "\n",
        "mean_mse.append(mean(mse_array[fold-1]))\n",
        "mean_val_mse.append(mean(validation_mse_array[fold-1]))"
      ],
      "execution_count": null,
      "outputs": [
        {
          "output_type": "display_data",
          "data": {
            "image/png": "[encoded data removed]",
            "text/plain": [
              "<Figure size 432x288 with 1 Axes>"
            ]
          },
          "metadata": {
            "tags": []
          }
        }
      ]
    },
    {
      "cell_type": "code",
      "metadata": {
        "colab": {
          "base_uri": "https://localhost:8080/",
          "height": 301
        },
        "id": "AuAfg9AQ5rMU",
        "outputId": "b761986e-e4a0-4474-891d-9c5ac412f48d"
      },
      "source": [
        "fold = 3\n",
        "\n",
        "def plot_loss(fold):\n",
        "  plt.plot(losses_array[fold-1], label='loss')\n",
        "  plt.plot(validation_losses_array[fold-1], label='val_loss')\n",
        "  plt.ylim([0, 0.1])\n",
        "  plt.title('Training and Validation loss for fold: '+str(fold)+', Mean Loss: '+str(mean(losses_array[fold-1]))+', Mean Validation Loss: '+str(mean(validation_losses_array[fold-1])))\n",
        "  plt.xlabel('Epoch')\n",
        "  plt.ylabel('Error')\n",
        "  plt.legend()\n",
        "  plt.grid(True)\n",
        "\n",
        "plot_loss(fold)\n",
        "\n",
        "mean_loss.append(mean(losses_array[fold-1]))\n",
        "mean_val_loss.append(mean(validation_losses_array[fold-1]))\n"
      ],
      "execution_count": null,
      "outputs": [
        {
          "output_type": "display_data",
          "data": {
            "image/png": "[encoded data removed]",
            "text/plain": [
              "<Figure size 432x288 with 1 Axes>"
            ]
          },
          "metadata": {
            "tags": []
          }
        }
      ]
    },
    {
      "cell_type": "code",
      "metadata": {
        "colab": {
          "base_uri": "https://localhost:8080/",
          "height": 301
        },
        "id": "J0P19keQ5tT8",
        "outputId": "6789e2bb-0520-46e9-af59-8133635d1707"
      },
      "source": [
        "def plot_mse(fold):\n",
        "  plt.plot(mse_array[fold-1], label='MSE')\n",
        "  plt.plot(validation_mse_array[fold-1], label='val_MSE')\n",
        "  plt.ylim([0, 0.1])\n",
        "  plt.title('Training and Validation MSE for fold: '+str(fold)+', Mean MSE: '+str(mean(mse_array[fold-1]))+', Mean Validation MSE: '+str(mean(validation_mse_array[fold-1])))\n",
        "  plt.xlabel('Epoch')\n",
        "  plt.ylabel('Error')\n",
        "  plt.legend()\n",
        "  plt.grid(True)\n",
        "\n",
        "plot_mse(fold)\n",
        "\n",
        "mean_mse.append(mean(mse_array[fold-1]))\n",
        "mean_val_mse.append(mean(validation_mse_array[fold-1]))"
      ],
      "execution_count": null,
      "outputs": [
        {
          "output_type": "display_data",
          "data": {
            "image/png": "[encoded data removed]",
            "text/plain": [
              "<Figure size 432x288 with 1 Axes>"
            ]
          },
          "metadata": {
            "tags": []
          }
        }
      ]
    },
    {
      "cell_type": "code",
      "metadata": {
        "colab": {
          "base_uri": "https://localhost:8080/",
          "height": 301
        },
        "id": "EkXnX1QP5u40",
        "outputId": "2c522f09-15e4-4038-8857-35232b86bf8d"
      },
      "source": [
        "fold = 4\n",
        "\n",
        "def plot_loss(fold):\n",
        "  plt.plot(losses_array[fold-1], label='loss')\n",
        "  plt.plot(validation_losses_array[fold-1], label='val_loss')\n",
        "  plt.ylim([0, 0.1])\n",
        "  plt.title('Training and Validation loss for fold: '+str(fold)+', Mean Loss: '+str(mean(losses_array[fold-1]))+', Mean Validation Loss: '+str(mean(validation_losses_array[fold-1])))\n",
        "  plt.xlabel('Epoch')\n",
        "  plt.ylabel('Error')\n",
        "  plt.legend()\n",
        "  plt.grid(True)\n",
        "\n",
        "plot_loss(fold)\n",
        "\n",
        "mean_loss.append(mean(losses_array[fold-1]))\n",
        "mean_val_loss.append(mean(validation_losses_array[fold-1]))\n"
      ],
      "execution_count": null,
      "outputs": [
        {
          "output_type": "display_data",
          "data": {
            "image/png": "[encoded data removed]",
            "text/plain": [
              "<Figure size 432x288 with 1 Axes>"
            ]
          },
          "metadata": {
            "tags": []
          }
        }
      ]
    },
    {
      "cell_type": "code",
      "metadata": {
        "colab": {
          "base_uri": "https://localhost:8080/",
          "height": 301
        },
        "id": "Y5jI61wl5xNo",
        "outputId": "bd39c900-9fab-4a09-de6a-7664bf708bba"
      },
      "source": [
        "def plot_mse(fold):\n",
        "  plt.plot(mse_array[fold-1], label='MSE')\n",
        "  plt.plot(validation_mse_array[fold-1], label='val_MSE')\n",
        "  plt.ylim([0, 0.1])\n",
        "  plt.title('Training and Validation MSE for fold: '+str(fold)+', Mean MSE: '+str(mean(mse_array[fold-1]))+', Mean Validation MSE: '+str(mean(validation_mse_array[fold-1])))\n",
        "  plt.xlabel('Epoch')\n",
        "  plt.ylabel('Error')\n",
        "  plt.legend()\n",
        "  plt.grid(True)\n",
        "\n",
        "plot_mse(fold)\n",
        "\n",
        "mean_mse.append(mean(mse_array[fold-1]))\n",
        "mean_val_mse.append(mean(validation_mse_array[fold-1]))"
      ],
      "execution_count": null,
      "outputs": [
        {
          "output_type": "display_data",
          "data": {
            "image/png": "[encoded data removed]",
            "text/plain": [
              "<Figure size 432x288 with 1 Axes>"
            ]
          },
          "metadata": {
            "tags": []
          }
        }
      ]
    },
    {
      "cell_type": "code",
      "metadata": {
        "colab": {
          "base_uri": "https://localhost:8080/",
          "height": 301
        },
        "id": "zaiRRu6n5y8X",
        "outputId": "4c3beb01-72d7-463e-e183-037bc2b475b5"
      },
      "source": [
        "fold = 5\n",
        "\n",
        "def plot_loss(fold):\n",
        "  plt.plot(losses_array[fold-1], label='loss')\n",
        "  plt.plot(validation_losses_array[fold-1], label='val_loss')\n",
        "  plt.ylim([0, 0.15])\n",
        "  plt.title('Training and Validation loss for fold: '+str(fold)+', Mean Loss: '+str(mean(losses_array[fold-1]))+', Mean Validation Loss: '+str(mean(validation_losses_array[fold-1])))\n",
        "  plt.xlabel('Epoch')\n",
        "  plt.ylabel('Error')\n",
        "  plt.legend()\n",
        "  plt.grid(True)\n",
        "\n",
        "plot_loss(fold)\n",
        "\n",
        "mean_loss.append(mean(losses_array[fold-1]))\n",
        "mean_val_loss.append(mean(validation_losses_array[fold-1]))\n"
      ],
      "execution_count": null,
      "outputs": [
        {
          "output_type": "display_data",
          "data": {
            "image/png": "[encoded data removed]",
            "text/plain": [
              "<Figure size 432x288 with 1 Axes>"
            ]
          },
          "metadata": {
            "tags": []
          }
        }
      ]
    },
    {
      "cell_type": "code",
      "metadata": {
        "colab": {
          "base_uri": "https://localhost:8080/",
          "height": 301
        },
        "id": "hlQ9NytE507Q",
        "outputId": "7356811c-71f3-4ab8-cd97-e85bdf28bb60"
      },
      "source": [
        "def plot_mse(fold):\n",
        "  plt.plot(mse_array[fold-1], label='MSE')\n",
        "  plt.plot(validation_mse_array[fold-1], label='val_MSE')\n",
        "  plt.ylim([0, 0.15])\n",
        "  plt.title('Training and Validation MSE for fold: '+str(fold)+', Mean MSE: '+str(mean(mse_array[fold-1]))+', Mean Validation MSE: '+str(mean(validation_mse_array[fold-1])))\n",
        "  plt.xlabel('Epoch')\n",
        "  plt.ylabel('Error')\n",
        "  plt.legend()\n",
        "  plt.grid(True)\n",
        "\n",
        "plot_mse(fold)\n",
        "\n",
        "mean_mse.append(mean(mse_array[fold-1]))\n",
        "mean_val_mse.append(mean(validation_mse_array[fold-1]))"
      ],
      "execution_count": null,
      "outputs": [
        {
          "output_type": "display_data",
          "data": {
            "image/png": "[encoded data removed]",
            "text/plain": [
              "<Figure size 432x288 with 1 Axes>"
            ]
          },
          "metadata": {
            "tags": []
          }
        }
      ]
    },
    {
      "cell_type": "code",
      "metadata": {
        "colab": {
          "base_uri": "https://localhost:8080/"
        },
        "id": "Q-7j1zIqQSNy",
        "outputId": "82d68480-ffed-41e3-db17-b90adbbcaee7"
      },
      "source": [
        "print(\"Mean Training Loss for all the folds: \",mean(mean_loss))\n",
        "print(\"Mean Validation Loss for all the folds: \",mean(mean_val_loss))\n",
        "print()\n",
        "print(\"Mean Training MSE metric for all the folds: \",mean(mean_mse))\n",
        "print(\"Mean Validation MSE metric for all the folds: \",mean(mean_val_mse))"
      ],
      "execution_count": null,
      "outputs": [
        {
          "output_type": "stream",
          "text": [
            "Mean Training Loss for all the folds:  0.04025907793547958\n",
            "Mean Validation Loss for all the folds:  0.0398267338052392\n",
            "\n",
            "Mean Training MSE metric for all the folds:  0.04025907793547958\n",
            "Mean Validation MSE metric for all the folds:  0.0398267338052392\n"
          ],
          "name": "stdout"
        }
      ]
    },
    {
      "cell_type": "markdown",
      "metadata": {
        "id": "B2VOP3qwOE6b"
      },
      "source": [
        "Tokenizing the Input sentences"
      ]
    },
    {
      "cell_type": "code",
      "metadata": {
        "pycharm": {
          "name": "#%%\n"
        },
        "id": "KCxtcxObndZk"
      },
      "source": [
        "train_tokens = albert_tokens(train_data,\n",
        "                            truncation=True,\n",
        "                            padding=True)\n",
        "validation_tokens = albert_tokens(val_data,\n",
        "                            truncation=True,\n",
        "                            padding=True)"
      ],
      "execution_count": null,
      "outputs": []
    },
    {
      "cell_type": "code",
      "metadata": {
        "colab": {
          "base_uri": "https://localhost:8080/"
        },
        "id": "3IfoLbxlT3Gk",
        "outputId": "71a2f39f-765e-4d43-c8c4-1bcf4a4e9a2d"
      },
      "source": [
        "print(train_data[1])"
      ],
      "execution_count": null,
      "outputs": [
        {
          "output_type": "stream",
          "text": [
            "This morning I spent a lot of time on my toilet and missed the á\n",
            "train to the university.  My mother told me that I spent more á\n",
            "time than a woman on my toilet.  I felt a mixed emotion of shame á\n",
            "and anger.\n"
          ],
          "name": "stdout"
        }
      ]
    },
    {
      "cell_type": "code",
      "metadata": {
        "colab": {
          "base_uri": "https://localhost:8080/"
        },
        "id": "t9qe7zk1SzRo",
        "outputId": "741df75d-977e-489b-b39f-0fb0ab24efa3"
      },
      "source": [
        "print(train_tokens['input_ids'][1])\n",
        "#print(len(train_tokens['token_type_ids'][1]))\n",
        "ids= train_tokens['input_ids'][1]"
      ],
      "execution_count": null,
      "outputs": [
        {
          "output_type": "stream",
          "text": [
            "[2, 48, 959, 31, 1111, 21, 865, 16, 85, 27, 51, 9594, 17, 3238, 14, 21, 1528, 20, 14, 155, 9, 51, 449, 470, 55, 30, 31, 1111, 91, 21, 85, 119, 21, 524, 27, 51, 9594, 9, 31, 427, 21, 2198, 6691, 16, 7912, 21, 17, 3388, 9, 3, 0, 0, 0, 0, 0, 0, 0, 0, 0, 0, 0, 0, 0, 0, 0, 0, 0, 0, 0, 0, 0, 0, 0, 0, 0, 0, 0]\n"
          ],
          "name": "stdout"
        }
      ]
    },
    {
      "cell_type": "code",
      "metadata": {
        "id": "6Iuzpf-AVt8e"
      },
      "source": [
        "vocab_dict = albert_tokens.get_vocab()"
      ],
      "execution_count": null,
      "outputs": []
    },
    {
      "cell_type": "code",
      "metadata": {
        "colab": {
          "base_uri": "https://localhost:8080/"
        },
        "id": "9U0357UTWTli",
        "outputId": "16562b0a-c1ee-4786-f39b-ad35a9521574"
      },
      "source": [
        "for i in ids:\n",
        "  print(list(vocab_dict.keys())[list(vocab_dict.values()).index(i)])\n"
      ],
      "execution_count": null,
      "outputs": [
        {
          "output_type": "stream",
          "text": [
            "[CLS]\n",
            "▁this\n",
            "▁morning\n",
            "▁i\n",
            "▁spent\n",
            "▁a\n",
            "▁lot\n",
            "▁of\n",
            "▁time\n",
            "▁on\n",
            "▁my\n",
            "▁toilet\n",
            "▁and\n",
            "▁missed\n",
            "▁the\n",
            "▁a\n",
            "▁train\n",
            "▁to\n",
            "▁the\n",
            "▁university\n",
            ".\n",
            "▁my\n",
            "▁mother\n",
            "▁told\n",
            "▁me\n",
            "▁that\n",
            "▁i\n",
            "▁spent\n",
            "▁more\n",
            "▁a\n",
            "▁time\n",
            "▁than\n",
            "▁a\n",
            "▁woman\n",
            "▁on\n",
            "▁my\n",
            "▁toilet\n",
            ".\n",
            "▁i\n",
            "▁felt\n",
            "▁a\n",
            "▁mixed\n",
            "▁emotion\n",
            "▁of\n",
            "▁shame\n",
            "▁a\n",
            "▁and\n",
            "▁anger\n",
            ".\n",
            "[SEP]\n",
            "<pad>\n",
            "<pad>\n",
            "<pad>\n",
            "<pad>\n",
            "<pad>\n",
            "<pad>\n",
            "<pad>\n",
            "<pad>\n",
            "<pad>\n",
            "<pad>\n",
            "<pad>\n",
            "<pad>\n",
            "<pad>\n",
            "<pad>\n",
            "<pad>\n",
            "<pad>\n",
            "<pad>\n",
            "<pad>\n",
            "<pad>\n",
            "<pad>\n",
            "<pad>\n",
            "<pad>\n",
            "<pad>\n",
            "<pad>\n",
            "<pad>\n",
            "<pad>\n",
            "<pad>\n"
          ],
          "name": "stdout"
        }
      ]
    },
    {
      "cell_type": "markdown",
      "metadata": {
        "id": "DRtEnCMvOR84"
      },
      "source": [
        "Binding the Input tokens and Subjectiviy scores into a Tensorflow Dataset format"
      ]
    },
    {
      "cell_type": "code",
      "metadata": {
        "pycharm": {
          "name": "#%%\n"
        },
        "id": "Tg7zcOpVndZm"
      },
      "source": [
        "model_train_data = tf.data.Dataset.from_tensor_slices((\n",
        "    dict(train_tokens),\n",
        "    train_scores\n",
        "))\n",
        "\n",
        "model_val_data = tf.data.Dataset.from_tensor_slices((\n",
        "    dict(validation_tokens),\n",
        "    val_scores\n",
        "))"
      ],
      "execution_count": null,
      "outputs": []
    },
    {
      "cell_type": "markdown",
      "metadata": {
        "id": "rnTmd0tqOWON"
      },
      "source": [
        "Retrieving the Pre-trained ALBERT model"
      ]
    },
    {
      "cell_type": "code",
      "metadata": {
        "pycharm": {
          "name": "#%%\n"
        },
        "id": "nWvG7WldndZo",
        "colab": {
          "base_uri": "https://localhost:8080/"
        },
        "outputId": "144713f1-20e2-4ea7-d65b-0167713fd30e"
      },
      "source": [
        "albert_regression_model = TFAlbertForSequenceClassification.from_pretrained('albert-base-v2',\n",
        "                                                              num_labels=1)"
      ],
      "execution_count": null,
      "outputs": [
        {
          "output_type": "stream",
          "text": [
            "Some weights of the model checkpoint at albert-base-v2 were not used when initializing TFAlbertForSequenceClassification: ['predictions']\n",
            "- This IS expected if you are initializing TFAlbertForSequenceClassification from the checkpoint of a model trained on another task or with another architecture (e.g. initializing a BertForSequenceClassification model from a BertForPretraining model).\n",
            "- This IS NOT expected if you are initializing TFAlbertForSequenceClassification from the checkpoint of a model that you expect to be exactly identical (initializing a BertForSequenceClassification model from a BertForSequenceClassification model).\n",
            "Some weights of TFAlbertForSequenceClassification were not initialized from the model checkpoint at albert-base-v2 and are newly initialized: ['classifier', 'dropout_35']\n",
            "You should probably TRAIN this model on a down-stream task to be able to use it for predictions and inference.\n"
          ],
          "name": "stderr"
        }
      ]
    },
    {
      "cell_type": "markdown",
      "metadata": {
        "id": "h1DnEjwaOelg"
      },
      "source": [
        "Model Summary"
      ]
    },
    {
      "cell_type": "code",
      "metadata": {
        "colab": {
          "base_uri": "https://localhost:8080/"
        },
        "id": "6J1abeDQIgzu",
        "outputId": "15d8e136-6dd6-4e9b-f63d-55568eee3adb"
      },
      "source": [
        "albert_regression_model.summary()"
      ],
      "execution_count": null,
      "outputs": [
        {
          "output_type": "stream",
          "text": [
            "Model: \"tf_albert_for_sequence_classification_5\"\n",
            "_________________________________________________________________\n",
            "Layer (type)                 Output Shape              Param #   \n",
            "=================================================================\n",
            "albert (TFAlbertMainLayer)   multiple                  11683584  \n",
            "_________________________________________________________________\n",
            "dropout_35 (Dropout)         multiple                  0         \n",
            "_________________________________________________________________\n",
            "classifier (Dense)           multiple                  769       \n",
            "=================================================================\n",
            "Total params: 11,684,353\n",
            "Trainable params: 11,684,353\n",
            "Non-trainable params: 0\n",
            "_________________________________________________________________\n"
          ],
          "name": "stdout"
        }
      ]
    },
    {
      "cell_type": "markdown",
      "metadata": {
        "id": "Jkiu8tLSOdj4"
      },
      "source": [
        "Training the model with MSE metric"
      ]
    },
    {
      "cell_type": "code",
      "metadata": {
        "pycharm": {
          "name": "#%%\n"
        },
        "id": "8_gjepLSndZq",
        "colab": {
          "base_uri": "https://localhost:8080/"
        },
        "outputId": "83daca50-9cff-4d75-d80d-cce99b6fe5b1"
      },
      "source": [
        "optimizer = tf.keras.optimizers.Adam(learning_rate=0.00005)\n",
        "albert_regression_model.compile(optimizer=optimizer, loss=albert_regression_model.compute_loss, metrics=['mean_squared_error'])\n",
        "history= albert_regression_model.fit(model_train_data.shuffle(100).batch(16),\n",
        "          epochs=6,\n",
        "          batch_size=16,\n",
        "          validation_data=model_val_data.shuffle(100).batch(16))"
      ],
      "execution_count": null,
      "outputs": [
        {
          "output_type": "stream",
          "text": [
            "Epoch 1/6\n",
            "287/287 [==============================] - 100s 305ms/step - loss: 0.0833 - mean_squared_error: 0.0833 - val_loss: 0.1027 - val_mean_squared_error: 0.1027\n",
            "Epoch 2/6\n",
            "287/287 [==============================] - 85s 297ms/step - loss: 0.0740 - mean_squared_error: 0.0740 - val_loss: 0.0969 - val_mean_squared_error: 0.0969\n",
            "Epoch 3/6\n",
            "287/287 [==============================] - 85s 296ms/step - loss: 0.0727 - mean_squared_error: 0.0727 - val_loss: 0.1030 - val_mean_squared_error: 0.1030\n",
            "Epoch 4/6\n",
            "287/287 [==============================] - 85s 295ms/step - loss: 0.0752 - mean_squared_error: 0.0752 - val_loss: 0.1046 - val_mean_squared_error: 0.1046\n",
            "Epoch 5/6\n",
            "287/287 [==============================] - 85s 295ms/step - loss: 0.0735 - mean_squared_error: 0.0735 - val_loss: 0.0990 - val_mean_squared_error: 0.0990\n",
            "Epoch 6/6\n",
            "287/287 [==============================] - 85s 296ms/step - loss: 0.0709 - mean_squared_error: 0.0709 - val_loss: 0.0984 - val_mean_squared_error: 0.0984\n"
          ],
          "name": "stdout"
        }
      ]
    },
    {
      "cell_type": "markdown",
      "metadata": {
        "id": "0V2hm3p7Og-f"
      },
      "source": [
        "Save the Trained Model"
      ]
    },
    {
      "cell_type": "code",
      "metadata": {
        "pycharm": {
          "name": "#%%\n"
        },
        "id": "dmfeNn8hndZs"
      },
      "source": [
        "albert_regression_model.save_pretrained(\"/Regression/Finetuned_Albert_model\")"
      ],
      "execution_count": null,
      "outputs": []
    },
    {
      "cell_type": "markdown",
      "metadata": {
        "id": "V74s7wF2FiJT"
      },
      "source": [
        "Mean Squared Error of the Model\n"
      ]
    },
    {
      "cell_type": "code",
      "metadata": {
        "colab": {
          "base_uri": "https://localhost:8080/"
        },
        "id": "PEp4UeCo2Vrp",
        "outputId": "e6e5adb7-857f-417d-984d-e04afd44fd27"
      },
      "source": [
        "mean_squared_error = history.history['val_mean_squared_error'][1]\n",
        "print(mean_squared_error)"
      ],
      "execution_count": null,
      "outputs": [
        {
          "output_type": "stream",
          "text": [
            "0.09686160087585449\n"
          ],
          "name": "stdout"
        }
      ]
    },
    {
      "cell_type": "markdown",
      "metadata": {
        "id": "CdpBE54mFnyW"
      },
      "source": [
        "RMSE of the Model\n"
      ]
    },
    {
      "cell_type": "code",
      "metadata": {
        "colab": {
          "base_uri": "https://localhost:8080/"
        },
        "id": "7mLQr8D4EcIZ",
        "outputId": "d699a5d8-5369-42fa-b51b-ebf7ad74a530"
      },
      "source": [
        "import math\n",
        "\n",
        "root_mean_squared_error = math.sqrt(mean_squared_error)\n",
        "print(root_mean_squared_error)"
      ],
      "execution_count": null,
      "outputs": [
        {
          "output_type": "stream",
          "text": [
            "0.3112259643343635\n"
          ],
          "name": "stdout"
        }
      ]
    },
    {
      "cell_type": "markdown",
      "metadata": {
        "id": "_3EiLTFyHDZq"
      },
      "source": [
        "Plot the Losses"
      ]
    },
    {
      "cell_type": "code",
      "metadata": {
        "id": "xvLVmdGiPHdR"
      },
      "source": [
        "import matplotlib.pyplot as plt\n",
        "\n",
        "def plot_loss(history):\n",
        "  plt.plot(history.history['loss'], label='loss')\n",
        "  plt.plot(history.history['val_loss'], label='val_loss')\n",
        "  plt.ylim([0, 0.2])\n",
        "  plt.xlabel('Epoch')\n",
        "  plt.ylabel('Error')\n",
        "  plt.legend()\n",
        "  plt.grid(True)"
      ],
      "execution_count": null,
      "outputs": []
    },
    {
      "cell_type": "code",
      "metadata": {
        "colab": {
          "base_uri": "https://localhost:8080/",
          "height": 289
        },
        "id": "O5PUFr6nPNap",
        "outputId": "96b3b3f1-e438-4818-ee78-a76121b274ae"
      },
      "source": [
        "plot_loss(history)"
      ],
      "execution_count": null,
      "outputs": [
        {
          "output_type": "display_data",
          "data": {
            "image/png": "[encoded data removed]",
            "text/plain": [
              "<Figure size 432x288 with 1 Axes>"
            ]
          },
          "metadata": {
            "tags": []
          }
        }
      ]
    },
    {
      "cell_type": "markdown",
      "metadata": {
        "id": "0LmpUILjOlwj"
      },
      "source": [
        "Load the Trained Model"
      ]
    },
    {
      "cell_type": "code",
      "metadata": {
        "pycharm": {
          "name": "#%%\n"
        },
        "id": "s71ZiN0bndZw",
        "colab": {
          "base_uri": "https://localhost:8080/"
        },
        "outputId": "07bf962f-0d47-4f31-d90e-b3e49ac9101a"
      },
      "source": [
        "required_predictor = TFAlbertForSequenceClassification.from_pretrained(\"/Regression/Finetuned_Albert_model\")"
      ],
      "execution_count": null,
      "outputs": [
        {
          "output_type": "stream",
          "text": [
            "Some weights of the model checkpoint at /Regression/Finetuned_Albert_model were not used when initializing TFAlbertForSequenceClassification: ['dropout_35']\n",
            "- This IS expected if you are initializing TFAlbertForSequenceClassification from the checkpoint of a model trained on another task or with another architecture (e.g. initializing a BertForSequenceClassification model from a BertForPretraining model).\n",
            "- This IS NOT expected if you are initializing TFAlbertForSequenceClassification from the checkpoint of a model that you expect to be exactly identical (initializing a BertForSequenceClassification model from a BertForSequenceClassification model).\n",
            "Some weights of TFAlbertForSequenceClassification were not initialized from the model checkpoint at /Regression/Finetuned_Albert_model and are newly initialized: ['dropout_41']\n",
            "You should probably TRAIN this model on a down-stream task to be able to use it for predictions and inference.\n"
          ],
          "name": "stderr"
        }
      ]
    },
    {
      "cell_type": "markdown",
      "metadata": {
        "id": "AWqWX0VZGrt1"
      },
      "source": [
        "Getting the Test Set Predictions"
      ]
    },
    {
      "cell_type": "code",
      "metadata": {
        "pycharm": {
          "name": "#%%\n"
        },
        "id": "akGTf-l_ndZy",
        "colab": {
          "base_uri": "https://localhost:8080/"
        },
        "outputId": "b6f7250b-1c3a-43c9-a284-a58e4c29ff22"
      },
      "source": [
        "test_pred = []\n",
        "\n",
        "\n",
        "for sent in test_data:\n",
        "  test_tokens = albert_tokens.encode(sent,\n",
        "                                 truncation=True,\n",
        "                                 padding=True,\n",
        "                                 return_tensors=\"tf\")\n",
        "\n",
        "  test_pred.append(required_predictor.predict(test_tokens)[0][0][0])\n",
        "print(test_pred)"
      ],
      "execution_count": null,
      "outputs": [
        {
          "output_type": "stream",
          "text": [
            "[0.36347818, 0.40574205, 0.4038545, 0.4284067, 0.36519718, 0.44208518, 0.4298197, 0.39505422, 0.37027073, 0.38310638, 0.34760994, 0.37498987, 0.39537406, 0.3626685, 0.40134773, 0.356306, 0.36860698, 0.37909335, 0.39353594, 0.35419685, 0.36307144, 0.38129956, 0.37215412, 0.41859508, 0.38954997, 0.35303777, 0.35369164, 0.4365461, 0.3580075, 0.36511204, 0.38442093, 0.3670215, 0.36401904, 0.36284262, 0.36510834, 0.34600246, 0.3562532, 0.41389227, 0.3755449, 0.42703548, 0.3532312, 0.36081463, 0.3896449, 0.34762195, 0.36286557, 0.4481939, 0.41083133, 0.4251564, 0.36506543, 0.3487317, 0.38615113, 0.34916872, 0.38910598, 0.3647344, 0.37847123, 0.3887201, 0.3913115, 0.4087869, 0.4121433, 0.38591817, 0.36685523, 0.35187107, 0.36491144, 0.38329864, 0.37601423, 0.38572514, 0.382832, 0.35502148, 0.36937755, 0.42310408, 0.35381377, 0.3686177, 0.37719232, 0.42601615, 0.37173432, 0.4446918, 0.3776294, 0.39146733, 0.4490177, 0.37965733, 0.4081568, 0.3473268, 0.3559035, 0.40578926, 0.38609844, 0.36775887, 0.4064991, 0.4131295, 0.3698061, 0.4424852, 0.4323938, 0.40257663, 0.3830455, 0.35274106, 0.37279272, 0.37948194, 0.37342444, 0.36864114, 0.37590188, 0.3851873, 0.370216, 0.4412794, 0.3726083, 0.36609155, 0.3664839, 0.44632736, 0.3709879, 0.34739578, 0.36614895, 0.446227, 0.40274483, 0.41543055, 0.36195767, 0.41284287, 0.4286319, 0.42022896, 0.4166247, 0.3656714, 0.4043338, 0.37408298, 0.40449998, 0.3513163, 0.36344516, 0.35241103, 0.38479567, 0.4335426, 0.3721042, 0.37841934, 0.37931383, 0.36971682, 0.37108484, 0.36307663, 0.36521775, 0.38368204, 0.38952708, 0.36474606, 0.3499091, 0.35734653, 0.37825954, 0.37551433, 0.38632864, 0.37891564, 0.35213378, 0.37100282, 0.3723393, 0.43982702, 0.40813953, 0.44736505, 0.36838967, 0.36097634, 0.4326053, 0.3682552, 0.37235585, 0.38942185, 0.35095286, 0.40887463, 0.36924165, 0.385725, 0.4256146, 0.37936723, 0.3841695, 0.4348588, 0.4265676, 0.36933994, 0.38062266, 0.41638175, 0.36789787, 0.3764106, 0.41748673, 0.39868516, 0.3789076, 0.39324063, 0.38458973, 0.37845194, 0.3722982, 0.3628304, 0.35495812, 0.4016788, 0.43143007, 0.39390412, 0.37531933, 0.34905475, 0.3638811, 0.35201466, 0.40926245, 0.37243, 0.37845534, 0.34821415, 0.37506762, 0.3798723, 0.36275265, 0.3494475, 0.38729268, 0.36648145, 0.40365112, 0.3510683, 0.38900524, 0.3786399, 0.41215748, 0.3468309, 0.39816296, 0.3763247, 0.37618965, 0.41347313, 0.37682882, 0.39504468, 0.37181723, 0.4089465, 0.35207897, 0.36574638, 0.36887905, 0.42096457, 0.34766993, 0.35500634, 0.3468309, 0.3815795, 0.42585862, 0.4415592, 0.34732515, 0.35476637, 0.36993378, 0.34913307, 0.36873895, 0.35647988, 0.44113407, 0.37012514, 0.36587954, 0.39619613, 0.373757, 0.4420301, 0.36604178, 0.3517443, 0.40190178, 0.41189122, 0.36363363, 0.3663436, 0.39399824, 0.3702851, 0.36972758, 0.36993718, 0.44145507, 0.37782106, 0.3651855, 0.39406955, 0.37977332, 0.4030288, 0.37290812, 0.42051697, 0.36186218, 0.36989352, 0.42707294, 0.3557051, 0.39720494, 0.36749184, 0.3730949, 0.4198465, 0.3624641, 0.3752246, 0.37021846, 0.40544495, 0.38689858, 0.3994377, 0.3888317, 0.3647176, 0.37836975, 0.39169487, 0.37610656, 0.35245943, 0.36528045, 0.4355738, 0.39145783, 0.36116132, 0.3507013, 0.35377994, 0.37385863, 0.3472805, 0.3500882, 0.34855717, 0.36886424, 0.3676525, 0.36535773, 0.37213877, 0.37200823, 0.379009, 0.43015662, 0.3671326, 0.42970368, 0.37547264, 0.37188697, 0.36625016, 0.37250805, 0.35632285, 0.4247435, 0.3882578, 0.4225434, 0.4317901, 0.37231147, 0.3770577, 0.3813035, 0.39598265, 0.36870188, 0.43133816, 0.43022022, 0.3713317, 0.36845917, 0.36414105, 0.38776997, 0.3728336, 0.3692195, 0.3721413, 0.36986354, 0.372977, 0.36613843, 0.3570757, 0.38525242, 0.3863815, 0.35103416, 0.36809313, 0.36197594, 0.3764142, 0.42611045, 0.39682275, 0.36188093, 0.40366673, 0.3757609, 0.3788842, 0.4358964, 0.37503302, 0.39015764, 0.35437012, 0.38743943, 0.38850415, 0.37651005, 0.40353826, 0.36353332, 0.4180171, 0.39149845, 0.35992754, 0.3618058, 0.4123216, 0.420886, 0.3737463, 0.3476013, 0.38390747, 0.3753675, 0.3492129, 0.3730553, 0.3570368, 0.3613462, 0.4035443, 0.3622096, 0.4015352, 0.38457882, 0.41633838, 0.34843385, 0.37054247, 0.42971444, 0.36093462, 0.36444172, 0.364034, 0.37856042, 0.34633225, 0.34691572, 0.3620078, 0.36919934, 0.37177017, 0.41580087, 0.40276587, 0.4321673, 0.3751046, 0.35814676, 0.3497715, 0.3685521, 0.35966498, 0.41882575, 0.35571086, 0.3535047, 0.3719403, 0.38256475, 0.34898615, 0.36187112, 0.34833562, 0.40377837, 0.4110076, 0.3757398, 0.34834316, 0.35984778, 0.38706034, 0.37773627, 0.36788818, 0.38895935, 0.36948967, 0.4253878, 0.38079432, 0.3792022, 0.386038, 0.42611104, 0.36203086, 0.4345781, 0.43670818, 0.40671712, 0.3487299, 0.35918385, 0.3820795, 0.4051839, 0.36929762, 0.38212025, 0.37026227, 0.4160702, 0.3828895, 0.40509146, 0.37491876, 0.3844598, 0.3736708, 0.42967057, 0.3745531, 0.37173244, 0.36286986, 0.3663053, 0.3655393, 0.3754599, 0.37391704, 0.3835861, 0.4054166, 0.3631969, 0.37356722, 0.4233514, 0.43088874, 0.37531123, 0.4152701, 0.40065315, 0.3696027, 0.37896782, 0.39388898, 0.37511283, 0.35397252, 0.42312974, 0.3725345, 0.36554062, 0.36922762, 0.37777293, 0.36953032, 0.4075809, 0.36859843, 0.44735008, 0.3627522, 0.43708992, 0.37551385, 0.38579214, 0.40184402, 0.363362, 0.39564684, 0.3464555, 0.38730523, 0.36722642, 0.36733115, 0.35978612, 0.37773925, 0.35140902, 0.3725812, 0.35653025, 0.39437684, 0.3761392, 0.35823953, 0.37693435, 0.37893045, 0.39459017, 0.35840344, 0.36148357, 0.41260862, 0.36164737, 0.3690605, 0.36865318, 0.3984076, 0.36055166, 0.385751, 0.37592584, 0.36171943, 0.34965637, 0.43016827, 0.39969796, 0.40443835, 0.3768465, 0.35734767, 0.3835044, 0.38869163, 0.43863848, 0.37169877, 0.36614674, 0.34909287, 0.3609169, 0.36900458, 0.37941575, 0.36784866, 0.3731649, 0.39301816, 0.40031055, 0.3544081, 0.38507354, 0.38506368, 0.3550197, 0.39128122, 0.38695204, 0.39066285, 0.44045126, 0.36672503, 0.4090929, 0.42024428, 0.39887306, 0.43674022, 0.39187258, 0.35353208, 0.39995933, 0.41644543, 0.3527593, 0.3597505, 0.36879474, 0.3801995, 0.37301132, 0.38503888, 0.36789232, 0.35556227, 0.42906758, 0.37280333, 0.43515074, 0.37251467, 0.38082245, 0.38470268, 0.3656194, 0.40468636, 0.35553384, 0.36109513, 0.3781921, 0.40749502, 0.36499462, 0.38275307, 0.38053292, 0.3818634, 0.40880352, 0.37490273, 0.37533638, 0.42159504, 0.40955725, 0.36888963, 0.35812902, 0.3532508, 0.36921155, 0.4055429, 0.35198846, 0.4416824, 0.4074394, 0.3736507, 0.3594522, 0.37041277, 0.3466208, 0.35919362, 0.37214082, 0.34768116, 0.44353086, 0.35572985, 0.37085098, 0.37392193, 0.4079893, 0.37536767, 0.40252376, 0.37028325, 0.4157281, 0.41982818, 0.36195278, 0.42989928, 0.37257138, 0.36474463, 0.3714236, 0.36758745, 0.39264387, 0.4048646, 0.42664182, 0.3674981, 0.3576625, 0.35695013, 0.35349992, 0.3812857, 0.38336182, 0.37151304, 0.3550676, 0.3728874, 0.37520972, 0.39906192, 0.41244027, 0.44322088, 0.359515, 0.44959354, 0.40296203, 0.3699807, 0.42650142, 0.36853403, 0.38913342, 0.3556511, 0.4032836, 0.3526366, 0.3851525, 0.3685328, 0.3704931, 0.37091887, 0.39436245, 0.42303512, 0.350522, 0.3750664, 0.36644357, 0.4160982, 0.37738, 0.3902365, 0.35950464, 0.43554366, 0.4120063, 0.4353937, 0.41302574, 0.35690638, 0.36859587, 0.37298685, 0.4004141, 0.4036452, 0.36743116, 0.4106283, 0.4089886, 0.36634475, 0.351194, 0.40061757, 0.34792724, 0.39369857, 0.38367692, 0.35063148, 0.3733247, 0.37357762, 0.35968846, 0.43985054, 0.39417526, 0.35307264, 0.35070103, 0.40196145, 0.39004296, 0.35641402, 0.3712203, 0.3635704, 0.4284075, 0.38427997, 0.3712696, 0.36914483, 0.40126154, 0.42144352, 0.39221394, 0.4401252, 0.38041288, 0.35163262, 0.35808265, 0.38303912, 0.37680045, 0.34881353, 0.34731582, 0.37990075, 0.3583182, 0.3740728, 0.3517255, 0.37463486, 0.37155136, 0.40358603, 0.42896277, 0.42744285, 0.37174934, 0.42135757, 0.36501372, 0.39324015, 0.4393112, 0.3879439, 0.3552779, 0.36267737, 0.34715605, 0.44458872, 0.3745634, 0.40739775, 0.36474672, 0.42885005, 0.37854385, 0.37188482, 0.36841688, 0.3704737, 0.42312717, 0.37346315, 0.4235748, 0.40513214, 0.36402953, 0.43710756, 0.3634218, 0.36781454, 0.36098486, 0.37161857, 0.36701128, 0.3654702, 0.36872283, 0.36561477, 0.36015755, 0.35497582, 0.4149145, 0.34812152, 0.40565974, 0.3821081, 0.3601035, 0.35527498, 0.44188067, 0.3530538, 0.40096462, 0.3618052, 0.3769003, 0.36283433, 0.37908268, 0.4050622, 0.3864185, 0.4003215, 0.38879514, 0.37848476, 0.36976808, 0.3883813, 0.40081298, 0.37091586, 0.36854327, 0.36197948, 0.4435677, 0.36998826, 0.4094662, 0.3693004, 0.38625872, 0.41288748, 0.39577103, 0.3720242, 0.4284283, 0.36139953, 0.3834112, 0.40492386, 0.37038726, 0.36150014, 0.38760996, 0.40013784, 0.41582507, 0.39937818, 0.37677157, 0.37308913, 0.36092204, 0.3648235, 0.39616138, 0.36278102, 0.36532047, 0.3768572, 0.36154032, 0.3818944, 0.4142196, 0.40662092, 0.39850426, 0.3555824, 0.35666096, 0.37549525, 0.3746527, 0.35879534, 0.35610414, 0.37464827, 0.37359095, 0.40585575, 0.3664981, 0.42292887, 0.35258514, 0.38957232, 0.3799636, 0.40878627, 0.41647777, 0.4004161, 0.40319663, 0.39649078, 0.39875835, 0.34922332, 0.42701936, 0.34985426, 0.35096452, 0.3715327, 0.3839323, 0.4072825, 0.37431258, 0.36138695, 0.3696264, 0.38643882, 0.40071422, 0.34790558, 0.36170062, 0.37233567, 0.37356213, 0.36140215, 0.36978972, 0.41310102, 0.40481734, 0.3635712, 0.3700924, 0.3553774, 0.37466946, 0.41820815, 0.372385, 0.36444262, 0.38076642, 0.36865637, 0.37906778, 0.3709653, 0.3673731, 0.37099195, 0.37444344, 0.41761398, 0.37110075, 0.41457605, 0.3571762, 0.365192, 0.38705474, 0.44183868, 0.4146071, 0.37215024, 0.3643858, 0.3672586, 0.3871391, 0.36027244, 0.3875234, 0.34934986, 0.3846287, 0.40491715, 0.4272105, 0.36548755, 0.39481172, 0.34800032, 0.39602387, 0.44229615, 0.3680005, 0.36160022, 0.3733793, 0.36512113, 0.3722943, 0.4023878, 0.37500572, 0.36864936, 0.37318137, 0.34966433, 0.4388345, 0.37185854, 0.37303698, 0.36642724, 0.37106982, 0.42652535, 0.36281526, 0.35409227, 0.3976229, 0.374036, 0.37196448, 0.36440045, 0.4032457, 0.34925023, 0.41991103, 0.36232772, 0.37627584, 0.38859227, 0.44216824, 0.3714284, 0.37106726, 0.3679924, 0.34859487, 0.3802256, 0.4434775, 0.36805418, 0.3549251, 0.37124926, 0.36889607, 0.40373808, 0.39360937, 0.36644372, 0.37247288, 0.38499063, 0.42193848, 0.37424576, 0.37324888, 0.37071046, 0.36615545, 0.36984408, 0.38221145, 0.35738814, 0.37556294, 0.36693788, 0.347088, 0.3787063, 0.4084117, 0.36957973, 0.3867355, 0.385909, 0.3575793, 0.42238334, 0.34646943, 0.3784849, 0.37444958, 0.40968174, 0.36134702, 0.39016175, 0.37848738, 0.44622105, 0.40594235, 0.3763757, 0.37838066, 0.3939613, 0.43207955, 0.38164672, 0.3701195, 0.3741278, 0.37365228, 0.37421033, 0.42815477, 0.35101473, 0.35292464, 0.4146359, 0.39653337, 0.38140503, 0.3900453, 0.3752734, 0.35673818, 0.37582844, 0.37388426, 0.37038207, 0.42411435, 0.42295748, 0.4015243, 0.36805612, 0.3850533, 0.39420873, 0.35905117, 0.37002617, 0.36170495, 0.39542356, 0.390899, 0.35810542, 0.39388025, 0.3762577, 0.35416213, 0.37114775, 0.3717122, 0.3614542, 0.4475401, 0.35182965, 0.37794, 0.41867408, 0.3501495, 0.41588223, 0.39629412, 0.3545266, 0.42256182, 0.3702765, 0.39129364, 0.37753993, 0.42662954, 0.4413918, 0.3873485, 0.3604012, 0.4300918, 0.36994022, 0.37230614, 0.3998029, 0.40814662, 0.39729053, 0.37384003, 0.36330336, 0.34994334, 0.36733425, 0.35488597, 0.41040045, 0.37922484, 0.34939593, 0.37561446, 0.37119383, 0.37413555, 0.38728285, 0.41284376, 0.3806267, 0.35944104, 0.35063544, 0.38289776, 0.35715687, 0.3694823, 0.34736055, 0.36947775, 0.3481693, 0.3474998, 0.3599947, 0.36898968, 0.35134843, 0.36319458, 0.3552181, 0.37777358, 0.3523106, 0.35620025, 0.3707242, 0.3743346, 0.35514462, 0.3979796, 0.3635161, 0.35074687, 0.3728367, 0.36641103, 0.35115764, 0.37368098, 0.37797114, 0.3481434, 0.35706306, 0.36428523, 0.3778128, 0.34987912, 0.35249034, 0.38836187, 0.36418504, 0.37624484, 0.35135484, 0.36482504, 0.3612626, 0.36706424, 0.3697895, 0.36696032, 0.40917718, 0.36893156, 0.34799242, 0.37270394, 0.36316767, 0.37110928, 0.35326496, 0.36822116, 0.34714958, 0.3489399, 0.35903838, 0.43385664, 0.3749397, 0.36794257, 0.36651105, 0.39029506, 0.34873205, 0.37194264, 0.3799758, 0.38388586, 0.35088325, 0.37826103, 0.36939317, 0.3734541, 0.35268047, 0.35513362, 0.3748632, 0.36612773, 0.35081276, 0.36899447, 0.3475244, 0.37047666, 0.35454792, 0.3755144, 0.3547752, 0.35771394, 0.36111087, 0.37516832, 0.37559876, 0.34931412, 0.36459827, 0.35883975, 0.3525669, 0.38854796, 0.37042087, 0.34738165, 0.36954966, 0.3678283, 0.41179597, 0.38656634, 0.369435, 0.36878908, 0.3677513, 0.35617045, 0.36552405, 0.37419778, 0.34933352, 0.35856053, 0.36912966, 0.3696206, 0.37211126, 0.36210993, 0.35483956, 0.35821417, 0.3608895, 0.3496354, 0.37097293, 0.3521719, 0.39147508, 0.36141667, 0.36868167, 0.34656116, 0.3620392, 0.3666102, 0.35171735, 0.36246604, 0.35067368, 0.35471052, 0.36597544, 0.41859913, 0.3718701, 0.35164744, 0.34871733, 0.34785998, 0.36279005, 0.353536, 0.3590586, 0.35884082, 0.37116033, 0.35631672, 0.35284275, 0.36565658, 0.4019186, 0.34735978, 0.3670165, 0.36338937, 0.35702175, 0.37752438, 0.37195545, 0.3486489, 0.3644215, 0.39964658, 0.3496856, 0.34934306, 0.4025637, 0.38008904, 0.34964055, 0.35712177, 0.38173822, 0.36391696, 0.3726273, 0.3647608, 0.356054, 0.34717333, 0.34732902, 0.36743277, 0.37091938, 0.35080534, 0.3603453, 0.3497439, 0.37241054, 0.350219, 0.35094756, 0.367328, 0.37728322, 0.34815788, 0.39227837, 0.36255923, 0.3764606, 0.34783572, 0.36813203, 0.3648708, 0.3488861, 0.383486, 0.36249673, 0.38352847, 0.40094838, 0.35376546, 0.3656219, 0.36591217, 0.36101526, 0.36291292, 0.35007086, 0.34719345, 0.40513057, 0.35036156, 0.35025394, 0.36792982, 0.36880165, 0.37329763, 0.3606975, 0.40124318, 0.3680938, 0.35309318, 0.37420243, 0.3701011, 0.3571907, 0.34786513, 0.37050346, 0.36520898, 0.35574347, 0.35543963, 0.34948364, 0.34712827, 0.36385846, 0.3631938, 0.38281283, 0.34918526, 0.36524034, 0.3533963, 0.37261638, 0.35098922, 0.36832088, 0.38976806, 0.36290085, 0.352154, 0.36565214, 0.34916088, 0.34762645, 0.3665725, 0.34760338, 0.37547436, 0.3490945, 0.35981452, 0.36046338, 0.37842882, 0.38197362, 0.3848649, 0.3697023, 0.38727424, 0.3529398, 0.3470223, 0.36543998, 0.36134103, 0.34930414, 0.35184366, 0.34819484, 0.34683317, 0.37977827, 0.3680167, 0.34826434, 0.37544328, 0.3788906, 0.3726107, 0.37809157, 0.3808097, 0.37075418, 0.34748915, 0.39342916, 0.35334608, 0.38295162, 0.3808397, 0.358792, 0.34801129, 0.3523178, 0.39512545, 0.37651646, 0.35706872, 0.40383148, 0.3521399, 0.35543966, 0.38426483, 0.3487147, 0.3729437, 0.3541759, 0.358432, 0.36778504, 0.35206383, 0.36477494, 0.35864693, 0.37325966, 0.36287, 0.3537433, 0.34627825, 0.3732019, 0.36394387, 0.36620206, 0.3746559, 0.36862233, 0.37796172, 0.37737358, 0.3723828, 0.37580058, 0.3562504, 0.3753773, 0.3585711, 0.35098922, 0.39734656, 0.37606692, 0.37930733, 0.3575926, 0.36688685, 0.34855568, 0.3803323, 0.35388345, 0.35955453, 0.34859413, 0.35050046, 0.37344235, 0.35649118, 0.36146662, 0.36439374, 0.34650093, 0.36394387, 0.37651196, 0.37051776, 0.35956904, 0.36988056, 0.36330426, 0.36676675, 0.36308613, 0.35100847, 0.36291656, 0.35103437, 0.3502593, 0.34826434, 0.3968715, 0.34757838, 0.3658173, 0.34683627, 0.3666551, 0.35156488, 0.3644297, 0.35048607, 0.3534032, 0.35938025, 0.36133394, 0.36408475, 0.35069066, 0.34937578, 0.366724, 0.34930426, 0.36943114, 0.36755335, 0.37971556, 0.34918538, 0.3481693, 0.36121434, 0.34944645, 0.36773524, 0.37357903, 0.4388156, 0.34934652, 0.3636632, 0.36338353, 0.36990356, 0.36897802, 0.36842436, 0.3485725, 0.3568675, 0.35073578, 0.35728258, 0.4131264, 0.36009133, 0.34974027, 0.37232292, 0.3485176, 0.3568444, 0.3633895, 0.394072, 0.35479072, 0.36882642, 0.3624506, 0.35518926, 0.37039244, 0.36619112, 0.37148854, 0.36884204, 0.34848967, 0.34959388, 0.35280597, 0.35500562, 0.36338437, 0.34906307, 0.36612737, 0.34899765, 0.36732146, 0.3536485, 0.3925535, 0.36000228, 0.37624592, 0.3599274, 0.38669404, 0.37884888, 0.3662025, 0.34948182, 0.36592034, 0.36619642, 0.3521608, 0.3496837, 0.34960425, 0.3630639, 0.36442924, 0.35961175, 0.37040406, 0.3491818, 0.3518729, 0.40302116, 0.3468362, 0.36607265, 0.35382962, 0.34897995, 0.3513633, 0.37355903, 0.35519665, 0.374913, 0.3513738, 0.3724209, 0.35983467, 0.36400855, 0.34906077, 0.4066832, 0.35135838, 0.37947434, 0.39224303, 0.37084377, 0.3900638, 0.3731684, 0.3673604, 0.34966427, 0.37149948, 0.37332842, 0.42697585, 0.37267256, 0.3682506, 0.34973338, 0.37398177, 0.37193972, 0.3627385, 0.36850798, 0.34848967, 0.35528114, 0.3659734, 0.37175107, 0.4097039, 0.34841985, 0.3502827, 0.36936823, 0.36951622, 0.3714277, 0.35225594, 0.36023134, 0.37494898, 0.3467574, 0.35310373, 0.36810485, 0.34931648, 0.3489567, 0.3792302, 0.37460428, 0.36552972, 0.3683086, 0.3513095, 0.35452932, 0.39277628, 0.35653317, 0.36833283, 0.34759995, 0.35165286, 0.34769338, 0.3730803, 0.3642695, 0.40088224, 0.3603524, 0.355948, 0.369817, 0.35185617, 0.37734652, 0.3628888, 0.3594222, 0.36300582, 0.37274712, 0.35381305, 0.35329416, 0.36392543, 0.36350536, 0.35845572, 0.359449, 0.37031853, 0.36562988, 0.34819534, 0.35217947, 0.40734974, 0.3687325, 0.36194175, 0.37468266, 0.35586628, 0.34847796, 0.36401504, 0.34994334, 0.36943483, 0.35053092, 0.3680866, 0.36364034, 0.36789405, 0.34568435, 0.36322284, 0.37205443, 0.35710126, 0.3728466, 0.35984004, 0.3645563, 0.3769678, 0.35066262, 0.41037452, 0.37559777, 0.37738323, 0.41659844, 0.3716312, 0.36108354, 0.34836075, 0.3633684, 0.36287397, 0.35291225, 0.36846036, 0.36974204, 0.36922148, 0.3512588, 0.36710426, 0.34650093, 0.3697943, 0.3720647, 0.36669654, 0.35187727, 0.34886083, 0.34836075, 0.3502827, 0.3712343, 0.35869196, 0.34866568, 0.35425466, 0.36574066, 0.3645454, 0.39140657, 0.39432243, 0.36033347, 0.3671488, 0.34974575, 0.36577183, 0.36557636, 0.37020105, 0.3710991, 0.35392547, 0.35248542, 0.3929329, 0.36369404, 0.34904736, 0.34683627, 0.36200804, 0.3712598, 0.37468746, 0.36366397, 0.4470489, 0.3967359, 0.37396887, 0.41124672, 0.34666836, 0.3631829, 0.36453724, 0.37431094, 0.34754854, 0.35886607, 0.3483108, 0.37091318, 0.36093947, 0.36669078, 0.38274395, 0.3866478, 0.36842054, 0.34882703, 0.36274374, 0.34647292, 0.34981862, 0.36557016, 0.3680699, 0.36242247, 0.37025118, 0.4026407, 0.35255662, 0.3470742, 0.36128747, 0.3562336, 0.38268304, 0.3659397, 0.3786028, 0.37191042, 0.35725924, 0.34919536, 0.3744216, 0.3672623, 0.36895543, 0.36428455, 0.35905337, 0.35358524, 0.35278636, 0.3753424, 0.37275404, 0.3745195, 0.35571787, 0.37330443, 0.36548233, 0.3481693, 0.42047733, 0.36938462, 0.34878808, 0.39050743, 0.35157612, 0.36531296, 0.3711563, 0.3731494, 0.36280924, 0.34661907, 0.35679787, 0.34785095, 0.42440253, 0.3684808, 0.34802955, 0.3502827, 0.37831563, 0.3725279, 0.34683627, 0.356289, 0.34873292, 0.36306536, 0.36479262, 0.37966442, 0.38832325, 0.35276192, 0.3689885, 0.39566344, 0.35172462, 0.3658539, 0.35686427, 0.36129075, 0.36968243, 0.3643436, 0.34651613, 0.35174742, 0.35339454, 0.38378823, 0.34754544, 0.37594873, 0.36943933, 0.3938895, 0.37309802, 0.35880572, 0.36605138, 0.37078243, 0.35675383, 0.3611794, 0.3487221, 0.371691, 0.3802468, 0.43623143, 0.350902, 0.36226648, 0.3490142, 0.375809, 0.3553607, 0.38313589, 0.3656997, 0.3762336, 0.3652717, 0.37492445, 0.34792507, 0.38518548, 0.38576007, 0.35411042, 0.36808366, 0.37354612, 0.3592946, 0.35664606, 0.36347568, 0.36956707, 0.3793267, 0.37536734, 0.3581094, 0.3725742, 0.36288154, 0.35078037, 0.38263118, 0.35995388, 0.35489756, 0.36664796, 0.36829895, 0.3706608, 0.39748728, 0.37150484, 0.3628604, 0.35048607, 0.34727123, 0.35836118, 0.35100955, 0.36423993, 0.36025286, 0.37452537, 0.35125595, 0.36166015, 0.34568435, 0.37334788, 0.35004538, 0.3472808, 0.38501647, 0.37231255, 0.36765993, 0.36998013, 0.3512975, 0.35041398, 0.34888542, 0.37044764, 0.3486681, 0.3747345, 0.35322827, 0.3733936, 0.35047382, 0.36359602, 0.38234717, 0.34801129, 0.3957402, 0.3597263, 0.36912966, 0.3666366, 0.3718536, 0.3509596, 0.36380118, 0.34815788, 0.36510777, 0.38088515, 0.35064247, 0.36394387, 0.34761202, 0.3669275, 0.3794102, 0.3503747, 0.35646608, 0.3475482, 0.38909078, 0.37125063, 0.34969467, 0.3708195, 0.35769385, 0.36602902, 0.36094517, 0.38320145, 0.39303374, 0.40326294, 0.377209, 0.37938583, 0.3488558, 0.3481386, 0.4090379, 0.37403953, 0.36529538, 0.36890855, 0.34826434, 0.36394387, 0.3486041, 0.36268133, 0.37426782, 0.37903523, 0.3786641, 0.3481366, 0.37144426, 0.37784463, 0.36740214, 0.3475899, 0.43944445, 0.37492555, 0.34915996, 0.36971208, 0.36343247, 0.3740113, 0.36168122, 0.352696, 0.37442768, 0.3752462, 0.36462075, 0.3647885, 0.36722428, 0.39162937, 0.3737501, 0.3690421, 0.3735559, 0.37462902, 0.40592423, 0.34583348, 0.36307117, 0.37045282, 0.3721615, 0.3483576, 0.4142658, 0.37312979, 0.3723637, 0.39829427, 0.4024459, 0.36161312, 0.3489438, 0.36756554, 0.36514896, 0.3877548, 0.3591677, 0.3598488, 0.36796713, 0.34864542, 0.3629027, 0.37415612, 0.36811268, 0.3538639, 0.3604501, 0.36931914, 0.37031633, 0.3681882, 0.34970862, 0.34839347, 0.34873205, 0.3496822, 0.36726183, 0.34645373, 0.3955887, 0.3670974, 0.34988314, 0.357678, 0.3746769, 0.3526048, 0.35686123, 0.36692402, 0.36127982, 0.40626842, 0.34886456, 0.43123144, 0.34872237, 0.36942357, 0.38608527, 0.36090648, 0.36862767, 0.35328463, 0.36526513, 0.37184954, 0.3719967, 0.36684054, 0.37142152, 0.3815871, 0.36525655, 0.36785954, 0.35875967, 0.34912843, 0.35691074, 0.36430252, 0.3614691, 0.37307388, 0.35456252, 0.36522287, 0.34883067, 0.35898352, 0.38066337, 0.3475145, 0.3544367, 0.3678167, 0.36771518, 0.36519283, 0.3496921, 0.37860203, 0.40920794, 0.37641332, 0.36712456, 0.37134084, 0.35904747, 0.35010168, 0.34825486, 0.44380897, 0.36849934, 0.3816371, 0.35372907, 0.35722807, 0.36097002, 0.35961303, 0.36742455, 0.36189795, 0.3564493, 0.35837382, 0.4316793, 0.36138022, 0.37447143, 0.35327947, 0.3753514, 0.35928932, 0.37579972, 0.37418282, 0.37561154, 0.3652072, 0.34786016, 0.35639, 0.34712255, 0.3489438, 0.34857434, 0.36430234, 0.3517534, 0.34959692, 0.37046182, 0.34900308, 0.35472795, 0.37010953, 0.3699094, 0.39046183, 0.3556707, 0.36406213, 0.3474903, 0.3740503, 0.3818801, 0.34866393, 0.37186632, 0.34826434, 0.35443768, 0.36280045, 0.37027353, 0.3754776, 0.3711545, 0.35079122, 0.34966213, 0.4110937, 0.36052507, 0.36865678, 0.3517739, 0.35519105, 0.36496884, 0.36201683, 0.36841342, 0.37132925, 0.37480962, 0.3628599, 0.3593858, 0.34978223, 0.3692854, 0.37497053, 0.35010168, 0.3731147, 0.35050046, 0.35674098, 0.3483426, 0.367634, 0.35409755, 0.3504569, 0.42503658, 0.3730382, 0.36670047, 0.36093044, 0.35758322, 0.37060732, 0.371596, 0.37075347, 0.37343884, 0.35593486, 0.35693794, 0.37869442, 0.3504337, 0.36700928, 0.36851317, 0.34568435, 0.37758863, 0.35527068, 0.4116187, 0.34948787, 0.3500964, 0.37116617, 0.3619228, 0.369179, 0.35050046, 0.37719083, 0.3676488, 0.36595625, 0.35269448, 0.3722823, 0.34852985, 0.39413512, 0.41399097, 0.36654246, 0.34963793, 0.36229652, 0.36429238, 0.36838666, 0.3631633, 0.36482275, 0.35919583, 0.3602811, 0.37262875, 0.38048527, 0.39012748, 0.3481693, 0.35613334, 0.36298853, 0.36867854, 0.3545739, 0.37488133, 0.3630432, 0.3492737, 0.36239326, 0.35878307, 0.3699969, 0.3631566, 0.36349094]\n"
          ],
          "name": "stdout"
        }
      ]
    },
    {
      "cell_type": "markdown",
      "metadata": {
        "id": "dMyJ2-AC6q3B"
      },
      "source": [
        "MSE of Test Data"
      ]
    },
    {
      "cell_type": "code",
      "metadata": {
        "colab": {
          "base_uri": "https://localhost:8080/"
        },
        "id": "uwN2gHTR6xYy",
        "outputId": "8d50ed08-9660-46da-8305-0963a551e809"
      },
      "source": [
        "from sklearn.metrics import mean_squared_error\n",
        "\n",
        "mse_test = mean_squared_error(test_scores, test_pred)\n",
        "print(mse_test)"
      ],
      "execution_count": null,
      "outputs": [
        {
          "output_type": "stream",
          "text": [
            "0.1150109167459362\n"
          ],
          "name": "stdout"
        }
      ]
    },
    {
      "cell_type": "markdown",
      "metadata": {
        "id": "4gyCYKuZmuod"
      },
      "source": [
        "MAE of Test Data"
      ]
    },
    {
      "cell_type": "code",
      "metadata": {
        "colab": {
          "base_uri": "https://localhost:8080/"
        },
        "id": "7OONAaoymrfF",
        "outputId": "ffd2b479-419b-4ec3-e141-126d4aacd8a2"
      },
      "source": [
        "from sklearn.metrics import mean_absolute_error\n",
        "\n",
        "mae_test = mean_absolute_error(test_scores, test_pred)\n",
        "print(mae_test)"
      ],
      "execution_count": null,
      "outputs": [
        {
          "output_type": "stream",
          "text": [
            "0.31350613493182694\n"
          ],
          "name": "stdout"
        }
      ]
    },
    {
      "cell_type": "markdown",
      "metadata": {
        "id": "MrCZ-7vCMYWn"
      },
      "source": [
        "RMSE for Test Data"
      ]
    },
    {
      "cell_type": "code",
      "metadata": {
        "colab": {
          "base_uri": "https://localhost:8080/"
        },
        "id": "ne-aRhf9MXHx",
        "outputId": "d189cb5b-5625-4b2b-80ed-4ff80ccb6adb"
      },
      "source": [
        "root_mean_squared_error_test = math.sqrt(mse_test)\n",
        "print(root_mean_squared_error_test)"
      ],
      "execution_count": null,
      "outputs": [
        {
          "output_type": "stream",
          "text": [
            "0.3391325946380504\n"
          ],
          "name": "stdout"
        }
      ]
    },
    {
      "cell_type": "code",
      "metadata": {
        "colab": {
          "base_uri": "https://localhost:8080/"
        },
        "id": "xA9ARqJ1Ie0r",
        "outputId": "e6a2f3ce-b868-4860-b418-7e7a0f7cffef"
      },
      "source": [
        "test_sent = \"Sun sets in the west\"\n",
        "test_tokens = albert_tokens.encode(sent,\n",
        "                                 truncation=True,\n",
        "                                 padding=True,\n",
        "                                 return_tensors=\"tf\")\n",
        "required_predictor.predict(test_tokens)[0][0][0]"
      ],
      "execution_count": null,
      "outputs": [
        {
          "output_type": "execute_result",
          "data": {
            "text/plain": [
              "0.36349094"
            ]
          },
          "metadata": {
            "tags": []
          },
          "execution_count": 55
        }
      ]
    },
    {
      "cell_type": "markdown",
      "metadata": {
        "id": "1fFfL7k2ZCDb"
      },
      "source": [
        "Train the model with Mean Absolute Error Metric"
      ]
    },
    {
      "cell_type": "code",
      "metadata": {
        "colab": {
          "base_uri": "https://localhost:8080/",
          "height": 439,
          "referenced_widgets": [
            "79754d8dfe574f5380b7e5984eed5d90",
            "ea7d400d559d4dde9a72fb7e99d43d54",
            "6e082fe08dcb4e22a2d146f5717c3410",
            "cf449e4e92214a00bd52c3cfbf34d713",
            "ac85f15b6fe74208b8d3650beffe5385",
            "046ca37acad94c1f8ac6ce456962402d",
            "94bf63e2112a4922a776293ef8269515",
            "1143b70b824f450f902ccd7197cfacc2",
            "3f057b2dab024af594161ee9deb3d7a8",
            "63608bc841a24292ac56db6a53500560",
            "dc2fb2f8c4be48dfa1ac837afe6217ff",
            "b98aa83338364a95974eb05ba9b9302e",
            "e77576a186904d0a9d78549edaee144e",
            "2c6f6829ee9a483cab039d6b21b77d44",
            "6a7560024af0485babd7d8ca52ee1526",
            "1314a21f4e02426ab50b97342e88333a"
          ]
        },
        "id": "4QKqfGYMVCQx",
        "outputId": "ab44712a-88f8-4b0a-c520-239b445c4b08"
      },
      "source": [
        "albert_regression_model_mae = TFAlbertForSequenceClassification.from_pretrained('albert-base-v2',\n",
        "                                                              num_labels=1)\n",
        "\n",
        "optimizer = tf.keras.optimizers.Adam(learning_rate=0.00005)\n",
        "albert_regression_model_mae.compile(optimizer=optimizer, loss=albert_regression_model_mae.compute_loss, metrics=['mean_absolute_error'])\n",
        "history= albert_regression_model_mae.fit(model_train_data.shuffle(100).batch(16),\n",
        "          epochs=6,\n",
        "          batch_size=16,\n",
        "          validation_data=model_val_data.shuffle(100).batch(16))"
      ],
      "execution_count": null,
      "outputs": [
        {
          "output_type": "display_data",
          "data": {
            "application/vnd.jupyter.widget-view+json": {
              "model_id": "79754d8dfe574f5380b7e5984eed5d90",
              "version_minor": 0,
              "version_major": 2
            },
            "text/plain": [
              "HBox(children=(FloatProgress(value=0.0, description='Downloading', max=684.0, style=ProgressStyle(description_…"
            ]
          },
          "metadata": {
            "tags": []
          }
        },
        {
          "output_type": "stream",
          "text": [
            "\n"
          ],
          "name": "stdout"
        },
        {
          "output_type": "display_data",
          "data": {
            "application/vnd.jupyter.widget-view+json": {
              "model_id": "3f057b2dab024af594161ee9deb3d7a8",
              "version_minor": 0,
              "version_major": 2
            },
            "text/plain": [
              "HBox(children=(FloatProgress(value=0.0, description='Downloading', max=63048440.0, style=ProgressStyle(descrip…"
            ]
          },
          "metadata": {
            "tags": []
          }
        },
        {
          "output_type": "stream",
          "text": [
            "\n"
          ],
          "name": "stdout"
        },
        {
          "output_type": "stream",
          "text": [
            "Some weights of the model checkpoint at albert-base-v2 were not used when initializing TFAlbertForSequenceClassification: ['predictions']\n",
            "- This IS expected if you are initializing TFAlbertForSequenceClassification from the checkpoint of a model trained on another task or with another architecture (e.g. initializing a BertForSequenceClassification model from a BertForPretraining model).\n",
            "- This IS NOT expected if you are initializing TFAlbertForSequenceClassification from the checkpoint of a model that you expect to be exactly identical (initializing a BertForSequenceClassification model from a BertForSequenceClassification model).\n",
            "Some weights of TFAlbertForSequenceClassification were not initialized from the model checkpoint at albert-base-v2 and are newly initialized: ['dropout_5', 'classifier']\n",
            "You should probably TRAIN this model on a down-stream task to be able to use it for predictions and inference.\n"
          ],
          "name": "stderr"
        },
        {
          "output_type": "stream",
          "text": [
            "Epoch 1/6\n",
            "286/286 [==============================] - 125s 383ms/step - loss: 0.0969 - mean_absolute_error: 0.2436 - val_loss: 0.0941 - val_mean_absolute_error: 0.2549\n",
            "Epoch 2/6\n",
            "286/286 [==============================] - 106s 372ms/step - loss: 0.0779 - mean_absolute_error: 0.2245 - val_loss: 0.1044 - val_mean_absolute_error: 0.2655\n",
            "Epoch 3/6\n",
            "286/286 [==============================] - 106s 372ms/step - loss: 0.0751 - mean_absolute_error: 0.2221 - val_loss: 0.0948 - val_mean_absolute_error: 0.2576\n",
            "Epoch 4/6\n",
            "286/286 [==============================] - 106s 372ms/step - loss: 0.0745 - mean_absolute_error: 0.2212 - val_loss: 0.0950 - val_mean_absolute_error: 0.2586\n",
            "Epoch 5/6\n",
            "286/286 [==============================] - 106s 372ms/step - loss: 0.0723 - mean_absolute_error: 0.2168 - val_loss: 0.0762 - val_mean_absolute_error: 0.2297\n",
            "Epoch 6/6\n",
            "286/286 [==============================] - 106s 372ms/step - loss: 0.0555 - mean_absolute_error: 0.1865 - val_loss: 0.0426 - val_mean_absolute_error: 0.1513\n"
          ],
          "name": "stdout"
        }
      ]
    },
    {
      "cell_type": "code",
      "metadata": {
        "colab": {
          "base_uri": "https://localhost:8080/"
        },
        "id": "B-3VqzYrYH4X",
        "outputId": "aa23acf1-bd83-49b9-b660-071cf6bb8fac"
      },
      "source": [
        "mean_abs_error = history.history['val_mean_absolute_error'][1]\n",
        "print(mean_abs_error)"
      ],
      "execution_count": null,
      "outputs": [
        {
          "output_type": "stream",
          "text": [
            "0.2655352056026459\n"
          ],
          "name": "stdout"
        }
      ]
    },
    {
      "cell_type": "markdown",
      "metadata": {
        "id": "RPnPpbniOp96"
      },
      "source": [
        "Plot of Training and Validation Losses for every epoch"
      ]
    },
    {
      "cell_type": "code",
      "metadata": {
        "colab": {
          "base_uri": "https://localhost:8080/",
          "height": 289
        },
        "id": "eXq-UBfeYY4k",
        "outputId": "6038d98b-cda8-486c-ddf3-c779552c2a1e"
      },
      "source": [
        "plot_loss(history)"
      ],
      "execution_count": null,
      "outputs": [
        {
          "output_type": "display_data",
          "data": {
            "image/png": "[encoded data removed]",
            "text/plain": [
              "<Figure size 432x288 with 1 Axes>"
            ]
          },
          "metadata": {
            "tags": []
          }
        }
      ]
    },
    {
      "cell_type": "code",
      "metadata": {
        "id": "iYwoxtH1m8Xr"
      },
      "source": [
        "#albert_regression_model_mae.save_pretrained(\"/Regression/Finetuned_Albert_model_MAE\")"
      ],
      "execution_count": null,
      "outputs": []
    },
    {
      "cell_type": "markdown",
      "metadata": {
        "id": "Ze95yPCYOxVk"
      },
      "source": [
        "Save the Trained Model In Google Drive"
      ]
    },
    {
      "cell_type": "code",
      "metadata": {
        "id": "Vh2GdV7GUgE2"
      },
      "source": [
        "albert_regression_model_mae.save_pretrained(\"/content/drive/MyDrive/Data Science Project/Datasets/ISEAR/Finetuned_Albert_model_MAE\")"
      ],
      "execution_count": null,
      "outputs": []
    },
    {
      "cell_type": "markdown",
      "metadata": {
        "id": "u9bQTZgRO9wP"
      },
      "source": [
        "Load the Trained Model from Google Drive"
      ]
    },
    {
      "cell_type": "code",
      "metadata": {
        "colab": {
          "base_uri": "https://localhost:8080/"
        },
        "id": "lHv2LoFCnJeT",
        "outputId": "4590bf00-2c3f-4c44-875b-291fa9901ee7"
      },
      "source": [
        "#loaded_model = TFAlbertForSequenceClassification.from_pretrained(\"/Regression/Finetuned_Albert_model_MAE\")\n",
        "loaded_model = TFAlbertForSequenceClassification.from_pretrained(\"/content/drive/MyDrive/Data Science Project/Datasets/ISEAR/Finetuned_Albert_model_MAE\")"
      ],
      "execution_count": null,
      "outputs": [
        {
          "output_type": "stream",
          "text": [
            "Some weights of the model checkpoint at /content/drive/MyDrive/Data Science Project/Datasets/ISEAR/Finetuned_Albert_model_MAE were not used when initializing TFAlbertForSequenceClassification: ['dropout_5']\n",
            "- This IS expected if you are initializing TFAlbertForSequenceClassification from the checkpoint of a model trained on another task or with another architecture (e.g. initializing a BertForSequenceClassification model from a BertForPretraining model).\n",
            "- This IS NOT expected if you are initializing TFAlbertForSequenceClassification from the checkpoint of a model that you expect to be exactly identical (initializing a BertForSequenceClassification model from a BertForSequenceClassification model).\n",
            "Some weights of TFAlbertForSequenceClassification were not initialized from the model checkpoint at /content/drive/MyDrive/Data Science Project/Datasets/ISEAR/Finetuned_Albert_model_MAE and are newly initialized: ['dropout_11']\n",
            "You should probably TRAIN this model on a down-stream task to be able to use it for predictions and inference.\n"
          ],
          "name": "stderr"
        }
      ]
    },
    {
      "cell_type": "markdown",
      "metadata": {
        "id": "m1gXtzulPCVN"
      },
      "source": [
        "Testset Predictions"
      ]
    },
    {
      "cell_type": "code",
      "metadata": {
        "colab": {
          "base_uri": "https://localhost:8080/"
        },
        "id": "aflRqkKYnQkF",
        "outputId": "bdb1aa00-dd61-461b-9656-65fa8ebb33b5"
      },
      "source": [
        "test_pred = []\n",
        "\n",
        "\n",
        "for sent in test_data:\n",
        "  test_tokens = albert_tokens.encode(sent,\n",
        "                                 truncation=True,\n",
        "                                 padding=True,\n",
        "                                 return_tensors=\"tf\")\n",
        "\n",
        "  test_pred.append(loaded_model.predict(test_tokens)[0][0][0])\n",
        "print(test_pred)"
      ],
      "execution_count": null,
      "outputs": [
        {
          "output_type": "stream",
          "text": [
            "[0.6660437, 0.5907657, 0.8640741, 0.53952676, 0.43848106, 0.46810433, 0.72290593, 0.2717524, 0.116924904, 0.85259503, 0.02669745, 0.032803662, 0.59392273, 0.6346385, 0.61738956, 0.41741097, 0.025052164, 0.07558719, 0.20799117, 0.4485683, 0.34144536, 0.041572962, 0.081426784, 0.74137044, 0.7394529, 0.027297031, 0.030166265, 0.63394296, 0.025592986, 0.7466183, 1.0061343, 0.6160474, 0.95582247, 0.15382761, 0.4717739, 0.024209931, 0.36850744, 0.5142045, 0.16924736, 0.5697025, 0.035531446, 0.45388862, 1.0115789, 0.02714651, 0.03569763, 0.72785085, 0.44500718, 0.39125252, 0.026838224, 0.30646476, 0.45583785, 0.025114555, 0.08294051, 0.18100862, 0.9998734, 0.31367794, 0.6218896, 0.94999737, 0.843688, 0.29208252, 0.031138483, 0.54669344, 0.26398245, 0.32838914, 0.17947258, 1.0292476, 0.08429376, 0.027043626, 0.5965065, 0.46937397, 0.109961785, 0.56658375, 0.037092865, 0.7908044, 0.51598483, 0.6053468, 1.0212102, 0.49710935, 0.50444365, 0.22570664, 0.7867201, 0.9894707, 0.042432375, 0.48431623, 0.1497176, 0.036289148, 0.32131985, 0.20574893, 0.6064907, 0.9854737, 0.88690245, 0.300315, 0.13219595, 0.2886733, 0.4698142, 0.84812963, 0.13321716, 0.96782327, 0.37200812, 0.5675802, 1.021765, 0.45561653, 0.35917905, 0.03240302, 0.023750998, 0.68520224, 0.04637572, 0.15447, 0.62189144, 0.7908879, 0.6856997, 0.42685837, 0.026625484, 0.24682903, 0.7332388, 0.41517583, 0.3775024, 0.06557809, 0.67592704, 0.36644226, 0.06347352, 0.030663926, 0.4481477, 0.47656372, 0.4061453, 0.5261897, 0.07632698, 0.80569726, 0.27147254, 0.8231652, 0.08836452, 0.112431556, 0.022895973, 0.2980496, 1.0143237, 0.67833865, 0.33698606, 0.07445304, 0.4000496, 0.034656532, 0.77905846, 0.8310851, 0.035499323, 0.032261737, 0.33235648, 0.7386764, 0.46299866, 0.7305128, 0.10492817, 0.029447127, 0.75531554, 1.0459019, 0.10673091, 0.1054854, 0.027607389, 0.29649734, 0.02640615, 0.08490159, 0.23405093, 0.4268231, 0.88404006, 0.5974747, 0.5941231, 0.77943325, 0.4066903, 0.42464894, 0.03583445, 1.0052656, 1.0277722, 0.24099344, 0.4188834, 0.37242526, 0.9122232, 0.24677303, 0.37610647, 0.16841444, 0.040078517, 0.2933089, 0.3176357, 0.039748773, 0.52135116, 0.64943945, 0.032408495, 0.030268308, 0.478727, 0.8717295, 0.5142029, 0.030688144, 0.40910992, 0.7912432, 0.38399458, 0.031248119, 0.569789, 0.234911, 0.036958717, 0.0405232, 0.99814814, 0.72135997, 0.67106515, 0.053061545, 0.38860837, 0.32152283, 0.028312892, 0.26470035, 1.0439564, 0.8148378, 0.029761538, 0.038171783, 0.39413443, 0.51556784, 0.27497622, 0.13467668, 0.029853366, 0.024582777, 0.053061545, 0.15606868, 0.65021914, 0.50347835, 0.2955232, 0.5020612, 0.03150017, 0.025557585, 0.9080856, 0.08626288, 0.59463435, 0.33654076, 0.056862872, 0.24449614, 0.3857383, 0.6053844, 0.7358402, 0.028944973, 0.41557673, 0.44262868, 0.026431408, 0.0254446, 0.08017851, 0.049893897, 0.26773337, 0.03172947, 0.5373997, 0.318893, 0.042380746, 0.92589134, 0.5195082, 0.39796597, 0.4122979, 0.28968748, 0.03631911, 0.100719936, 0.69489396, 0.03331504, 0.27276888, 0.80206525, 0.02732969, 0.117798805, 0.43405643, 0.028831389, 1.0158352, 0.49302208, 0.8643417, 0.032048963, 0.110868715, 0.36640528, 0.3520665, 0.4341021, 0.7906162, 0.022051431, 0.071824506, 0.48753348, 0.74804676, 0.03017937, 0.03384401, 0.63803756, 0.44948363, 0.060086615, 0.09753698, 0.02566002, 0.07291848, 0.90611696, 0.030113332, 0.81332064, 0.048093982, 0.03791205, 0.7736169, 0.046408705, 0.41863212, 0.7735483, 0.54515994, 0.026018567, 0.16776422, 0.024212584, 1.0133474, 0.4153073, 0.12173327, 0.76307106, 0.4912886, 1.0271066, 0.5803938, 0.34475282, 1.043577, 0.6573654, 0.5639673, 1.0385859, 0.02941516, 0.4572151, 0.8041923, 0.03031917, 0.15026808, 0.3901983, 0.027620777, 0.5335169, 0.025649507, 0.28534883, 0.36485845, 0.4733953, 0.024077501, 1.03179, 0.46846002, 0.23835127, 0.13146314, 0.56261283, 0.2513067, 0.13207561, 0.0276763, 0.97824967, 0.6156692, 0.38443026, 0.53914934, 0.7415912, 0.6670229, 0.37967697, 0.03248344, 0.37854475, 0.026480198, 0.56619376, 0.45985568, 0.15785679, 0.34859926, 0.44347778, 0.72001934, 0.4167482, 0.03203291, 0.3246918, 0.05961562, 0.027172115, 0.39662245, 0.34684494, 0.058001086, 0.4644688, 0.025797617, 0.36429897, 0.43977755, 0.47039625, 0.087394364, 0.028259788, 0.85584843, 0.033062242, 0.19818895, 0.023183126, 0.8923673, 0.022727896, 0.37068486, 0.47969744, 0.2684799, 0.9245288, 0.92851305, 1.0341315, 0.6282403, 0.08824715, 0.59379864, 0.034258734, 0.5839374, 0.026676092, 0.7281856, 0.057400968, 0.028875913, 0.28032014, 0.61547506, 0.03137306, 0.033797916, 0.028153546, 0.12681544, 0.54338783, 0.1181273, 0.02723711, 0.1720596, 0.6992137, 0.46041384, 0.033215307, 0.8038922, 0.045901306, 0.67155534, 0.44481915, 0.0714732, 0.4483125, 0.784952, 0.46699885, 0.043065343, 0.5851806, 0.38821456, 0.028803263, 0.033908367, 0.95408905, 0.035037257, 0.2760478, 0.7320396, 1.0368029, 0.93395746, 0.43659607, 0.66504097, 0.029330812, 0.6870777, 0.7110653, 0.58477014, 1.0268124, 0.3910526, 0.029673077, 0.16630262, 0.38539717, 0.3213915, 0.03969535, 0.12397296, 1.0210438, 0.39647582, 0.557529, 1.0446956, 0.30176884, 0.5688744, 0.70764214, 0.5474765, 0.5805647, 0.24228671, 1.0039911, 0.43759483, 0.03103204, 0.44940028, 0.07231157, 0.057133753, 0.99837106, 0.91594434, 1.0073805, 0.14111269, 0.07569375, 0.5391739, 0.8164161, 0.7216744, 0.607118, 0.508088, 0.67068094, 0.25373352, 0.75677985, 0.050900437, 0.3833065, 0.49758697, 0.025662988, 0.038493488, 0.19933325, 0.036123604, 0.27459693, 0.059459466, 0.96793514, 0.21150196, 0.2906364, 0.07773518, 0.80808103, 0.29230723, 0.03078127, 0.24179646, 0.27426234, 0.02860662, 0.025180127, 0.026490778, 0.29620495, 0.030182272, 0.045493633, 0.47650102, 0.10135814, 0.028533187, 0.7868185, 0.31141454, 0.7861283, 0.26393846, 0.43944547, 0.4910589, 0.07039013, 0.6755485, 0.07408469, 0.15390962, 0.026950926, 0.07101824, 0.99598634, 0.6682541, 0.904838, 0.28279224, 0.15203024, 0.62660897, 0.16073503, 0.10827008, 1.0239651, 0.02481959, 0.03903824, 0.37431213, 0.9553031, 0.7262516, 0.031179864, 0.5216919, 0.32841757, 1.0394444, 0.58856356, 0.10368437, 0.08977979, 0.50177616, 0.8776648, 0.0629663, 0.03528635, 0.029391725, 0.27359977, 0.05447397, 0.8003316, 0.04501136, 0.038373, 0.30604237, 0.23998584, 0.6163437, 0.8258365, 0.7549866, 0.6180289, 0.9912777, 0.13162293, 0.025800835, 0.32753173, 1.0441554, 0.608464, 0.6205901, 0.14763865, 0.036169037, 0.9419435, 0.47981933, 0.682346, 0.88030595, 1.045793, 0.66420543, 0.29865092, 1.018087, 0.027347192, 0.6397933, 0.46342713, 0.06291946, 0.7578403, 0.33213347, 0.04943326, 0.025892526, 0.15977609, 0.39299357, 0.02906233, 0.03734386, 0.08268957, 0.5721887, 0.033194214, 0.5425224, 0.037023216, 0.30426633, 0.090422876, 0.49053052, 0.7845551, 0.39069545, 0.44337186, 0.4020335, 0.6290137, 0.1394359, 0.3631181, 0.932691, 0.036698103, 0.57160413, 0.11688736, 0.8851713, 0.2815092, 0.23637968, 0.030803788, 0.026215639, 0.97438943, 0.2949285, 0.48238593, 0.03132538, 0.035590593, 0.5115372, 1.0408384, 0.23081963, 0.45821273, 0.22975011, 0.8545128, 0.69831675, 0.49769253, 0.50579673, 0.04136245, 0.45804977, 0.029082924, 0.728214, 0.4470638, 0.7129824, 0.33934617, 0.037977193, 0.053918544, 0.04176132, 0.53858185, 0.988284, 0.56804377, 0.03442922, 0.2556499, 0.043969803, 0.59701705, 0.031891264, 0.73192513, 0.55717355, 0.8752582, 0.43804282, 0.2764227, 0.052400015, 0.8481006, 0.17429021, 0.6004047, 0.43410608, 0.49389607, 0.63519245, 0.026708312, 0.022874177, 0.40696964, 0.03166408, 0.6253603, 0.33214012, 0.3752524, 0.5169646, 0.17002763, 0.026495486, 0.55784047, 0.41040686, 0.13521963, 0.1312171, 0.2548119, 0.35763976, 0.8697461, 0.5610238, 0.6548183, 1.0202816, 0.45099232, 1.0370767, 0.08943864, 0.4886443, 0.7905737, 0.7935087, 0.56773293, 0.27264383, 0.4834516, 0.08892285, 0.039974745, 0.8333759, 0.8179844, 0.048012, 0.27134445, 0.35795787, 0.5231048, 0.029770963, 0.029475998, 0.055094, 0.47676623, 0.52268285, 1.0222907, 0.53702325, 0.5508863, 0.08557498, 0.71795183, 0.57060856, 0.85628307, 0.51176506, 0.09716504, 0.025950048, 0.8264078, 0.7951677, 0.35828775, 0.8385287, 0.97074264, 0.4072434, 0.031032927, 0.17660637, 0.35869977, 0.78660977, 1.022641, 0.2928319, 0.68005604, 0.02974904, 0.43406823, 0.07515939, 0.4610431, 0.17912354, 0.041520968, 0.52997255, 0.707894, 0.03212411, 0.18860686, 0.28131807, 0.64372164, 0.88895273, 0.026143689, 0.06494368, 0.5261302, 0.053490102, 0.63336706, 0.70148516, 0.033362634, 0.9039592, 0.8325438, 0.3182568, 0.032386526, 0.6564537, 0.89836574, 0.8643387, 0.3421786, 0.9719912, 0.67588246, 0.6079511, 0.39950144, 0.58031416, 1.002273, 0.02598323, 0.03461887, 1.0065964, 0.138715, 1.0309695, 0.124640204, 0.33617714, 0.5280984, 0.69374007, 0.028380562, 0.78910893, 0.5143652, 0.4001613, 0.5718498, 0.03416957, 0.027838934, 0.029488638, 0.080384724, 0.7941463, 0.8973484, 0.051399034, 0.3863936, 0.18085665, 0.029328045, 0.9318015, 0.68177295, 0.65299463, 0.86504173, 0.042364884, 0.4954994, 0.65284073, 0.64893144, 0.15838367, 0.029676951, 0.4984701, 0.5360693, 0.0772597, 0.9979967, 0.03022211, 0.5861864, 0.04465547, 0.6232171, 0.15751609, 0.6910592, 0.2541651, 0.50312, 0.45159575, 0.5013288, 0.62828326, 0.42578265, 0.57456493, 0.121271715, 0.037728827, 0.023415528, 0.3854833, 0.3279272, 0.025930852, 0.5121275, 0.83293015, 0.19981897, 0.2230573, 0.33247766, 0.51159686, 0.06937183, 0.95773304, 0.92446154, 0.28517553, 0.14273795, 0.30090693, 0.025406614, 0.46476632, 0.31848598, 0.47162125, 0.19334385, 0.030837936, 0.05779392, 0.098902486, 0.9505444, 0.5492017, 0.28649852, 0.46011406, 1.00302, 0.8433949, 0.29732078, 0.26658934, 0.2341707, 0.38898578, 0.41050318, 0.056044888, 1.0367798, 0.110999174, 0.027770005, 0.9781899, 0.95498604, 0.7353586, 0.91954076, 0.025719635, 0.075182185, 0.8707184, 0.21839294, 0.30151317, 0.06938086, 0.48543286, 0.89463586, 0.5627884, 0.96588224, 0.6281822, 0.030644387, 0.83330655, 0.58749884, 0.08102149, 0.9346303, 0.54912084, 0.14960754, 0.031375434, 0.6706282, 0.5882705, 0.63933164, 0.10550734, 0.024038509, 0.61812055, 0.045475837, 0.7325213, 0.028051987, 0.3849075, 0.3838031, 0.448618, 0.022778895, 0.052461416, 0.7736258, 0.4708369, 0.032256417, 0.18703592, 0.09477482, 0.3885439, 0.31100848, 0.9761834, 0.43517354, 0.7418323, 0.3871233, 0.0278784, 0.4675461, 0.08882299, 0.4082487, 0.4998714, 0.030208431, 0.61504376, 0.28326863, 0.029324926, 0.588114, 0.4144014, 0.041417275, 1.0066818, 0.46959296, 0.44974434, 0.39130983, 0.03153987, 0.50656825, 0.034236655, 1.0214254, 1.0451481, 0.028546732, 0.030149747, 0.6929506, 0.051400665, 0.9967287, 0.2618656, 0.057762235, 0.40880206, 0.5021395, 0.43783274, 0.1208513, 0.025659658, 0.9705534, 0.09282768, 0.5648647, 0.11358369, 0.2677231, 0.77404076, 0.57516664, 0.7492604, 0.42715403, 0.06926941, 0.36945668, 0.48850805, 0.5516381, 0.032393627, 1.044234, 0.8571606, 0.09237401, 0.995462, 0.029276967, 0.739214, 0.15795971, 0.5469442, 0.26180702, 0.38792127, 0.42151693, 0.30922157, 0.9086304, 0.34612468, 0.28842893, 0.5884655, 0.8744796, 0.32737383, 0.031058282, 0.041162144, 0.55595976, 0.5541652, 0.02965251, 0.041218106, 0.29692364, 0.34411085, 0.15404455, 0.7003077, 0.38587528, 0.10005456, 0.74556625, 0.46821928, 0.17138508, 0.7444342, 0.5012012, 0.32575485, 1.0129739, 0.27497587, 0.57565147, 0.99633634, 0.032440886, 0.68446463, 0.937191, 0.3961024, 0.99472356, 0.27891284, 0.6306664, 0.8603201, 0.5793392, 0.4906055, 0.3714226, 0.7369416, 0.5488621, 0.3616452, 0.35823748, 1.0082248, 0.045998573, 0.025187895, 0.03575613, 0.021812432, 0.1818337, 0.3417806, 0.33290395, 0.034910895, 0.033918306, 0.34381208, 0.5140093, 0.3011409, 0.39677367, 0.027084224, 0.031610962, 0.3696313, 0.040073257, 0.046847805, 0.053109877, 0.45495275, 0.025287006, 0.027330898, 0.078487925, 0.2584812, 0.023584351, 0.029612977, 0.021806687, 0.051297516, 0.028276347, 0.037877258, 0.03862147, 0.03770309, 0.0679285, 0.12091903, 0.040311895, 0.03030032, 0.028600924, 0.21119404, 0.04633929, 0.038326174, 0.08007754, 0.054140143, 0.03033058, 0.06811387, 0.030821264, 0.02582923, 0.02510617, 0.26320514, 0.07276987, 0.4122215, 0.023461323, 0.027885612, 0.035230815, 0.030945506, 0.025726087, 0.06374059, 0.3527694, 0.025904447, 0.027032219, 0.033558004, 0.076856405, 0.028070858, 0.035201773, 0.030805074, 0.025354505, 0.08111263, 0.102688655, 0.07461527, 0.04197423, 0.21645123, 0.035318978, 0.19936542, 0.03149795, 0.02994265, 0.08614957, 0.11551622, 0.11123939, 0.030152656, 0.024839371, 0.16480705, 0.027446289, 0.040945977, 0.054467127, 0.028048906, 0.21678369, 0.027374528, 0.02773698, 0.032623157, 0.026010286, 0.03565314, 0.1716823, 0.027182005, 0.033689376, 0.21570146, 0.023850229, 0.02511843, 0.023787275, 0.031803913, 0.02728016, 0.030150384, 0.045979828, 0.025833525, 0.03139719, 0.23344162, 0.06489402, 0.035130106, 0.07976653, 0.04395443, 0.023926586, 0.030522324, 0.5530212, 0.061105896, 0.029253226, 0.029133428, 0.029032651, 0.05989391, 0.027427822, 0.088634916, 0.02645003, 0.04392939, 0.02804752, 0.027726416, 0.02632977, 0.027935117, 0.041821472, 0.205988, 0.024734538, 0.04602817, 0.04260682, 0.046417695, 0.05678381, 0.027874634, 0.029294439, 0.038049787, 0.02756153, 0.045823086, 0.11455056, 0.02324298, 0.030538317, 0.030511342, 0.029607117, 0.02407236, 0.027962148, 0.028859299, 0.031091254, 0.37080762, 0.027980179, 0.025632236, 0.1042389, 0.037262045, 0.05568651, 0.02825994, 0.02861762, 0.09264826, 0.029321775, 0.029536638, 0.0315156, 0.32449797, 0.028382272, 0.02681882, 0.074895866, 0.108422436, 0.02674539, 0.19471109, 0.05099991, 0.02767155, 0.044394545, 0.024371497, 0.036024615, 0.030741468, 0.031852797, 0.025492836, 0.031375494, 0.03759501, 0.030774139, 0.056924906, 0.04286632, 0.046436835, 0.02841648, 0.18094002, 0.028188009, 0.03234608, 0.26279745, 0.16181517, 0.028965347, 0.021934986, 0.02924494, 0.031328365, 0.029571809, 0.044793908, 0.027915955, 0.04949779, 0.062425844, 0.048625488, 0.08152028, 0.028727978, 0.03185938, 0.050319012, 0.035600934, 0.023327526, 0.03496454, 0.028165493, 0.028148964, 0.025611095, 0.055565994, 0.6971322, 0.028496787, 0.078760825, 0.028645318, 0.029600386, 0.07821799, 0.02778703, 0.023935001, 0.03331359, 0.08569454, 0.035053976, 0.030309595, 0.027920097, 0.026271787, 0.025364343, 0.041202284, 0.030805234, 0.28804857, 0.025665734, 0.32318252, 0.030540194, 0.022393782, 0.025947634, 0.12528872, 0.036820315, 0.024794936, 0.027314305, 0.04025291, 0.035686325, 0.033956073, 0.035090912, 0.024986953, 0.032100655, 0.027929429, 0.02431868, 0.025850281, 0.3274122, 0.033009186, 0.100260876, 0.023605868, 0.08278176, 0.033323616, 0.026600085, 0.029068816, 0.057613526, 0.033264317, 0.059207458, 0.0313446, 0.024428867, 0.13212314, 0.23512599, 0.026857655, 0.05354078, 0.029438168, 0.073116176, 0.029350035, 0.14647427, 0.10525935, 0.024075814, 0.040468514, 0.34289643, 0.31012633, 0.079960175, 0.024264187, 0.030803844, 0.02609023, 0.056221858, 0.34463406, 0.09050057, 0.09910957, 0.2751094, 0.023444682, 0.025066499, 0.036651332, 0.08985003, 0.19756547, 0.03129261, 0.41146365, 0.030378766, 0.03422223, 0.054220557, 0.08085414, 0.026525829, 0.034413606, 0.036366202, 0.02849304, 0.02930104, 0.02592764, 0.04746055, 0.22041106, 0.038199376, 0.086967856, 0.15652956, 0.047025196, 0.03086394, 0.06665272, 0.23634474, 0.025947634, 0.07948581, 0.061456706, 0.051285006, 0.02762764, 0.044883452, 0.027967796, 0.1959989, 0.057951238, 0.037442002, 0.033373676, 0.03776013, 0.03223128, 0.06477331, 0.031307355, 0.105060354, 0.03164029, 0.02930104, 0.03123014, 0.031654492, 0.024825405, 0.038015604, 0.07566772, 0.064980246, 0.027774483, 0.02996732, 0.026869435, 0.029204935, 0.026324939, 0.026857655, 0.04369907, 0.029954847, 0.022396084, 0.028572362, 0.21516466, 0.023932718, 0.03644745, 0.02320709, 0.05519767, 0.024408236, 0.026839364, 0.021884196, 0.023004912, 0.033603087, 0.02753913, 0.031089976, 0.06317534, 0.030548811, 0.12675352, 0.022509538, 0.025287006, 0.037212163, 0.040239632, 0.03029745, 0.07997098, 0.049713317, 0.027656522, 0.033698868, 0.028564114, 0.0778397, 0.023452852, 0.036252692, 0.04208175, 0.123497084, 0.02766646, 0.033425134, 0.03738451, 0.023977026, 0.023429621, 0.039703477, 0.028059468, 0.047510825, 0.030312292, 0.04182941, 0.028658759, 0.036877725, 0.024418209, 0.03308234, 0.031491697, 0.03108152, 0.04981433, 0.03612899, 0.02867667, 0.031241935, 0.029061008, 0.024142403, 0.07806922, 0.028656282, 0.024198737, 0.12703934, 0.03606858, 0.023804191, 0.0746971, 0.022951428, 0.03062699, 0.24898645, 0.03562219, 0.2830283, 0.023312412, 0.02907278, 0.17190878, 0.025680467, 0.05069875, 0.027190458, 0.021564461, 0.032523315, 0.20734927, 0.026383273, 0.1734728, 0.052080315, 0.07335012, 0.055153534, 0.034339458, 0.024265237, 0.021153577, 0.025184065, 0.040509403, 0.10909191, 0.030436188, 0.02858866, 0.023298588, 0.033387184, 0.11983354, 0.032812666, 0.026886564, 0.036847882, 0.038455658, 0.056635253, 0.04832906, 0.035044212, 0.037063852, 0.03185928, 0.063319705, 0.02948825, 0.2616482, 0.023104046, 0.09186352, 0.038157936, 0.030666279, 0.02472698, 0.052024942, 0.18434176, 0.026758295, 0.02485314, 0.02867667, 0.023600295, 0.07379972, 0.06290874, 0.04155978, 0.039851002, 0.025431387, 0.06409835, 0.029870272, 0.025832137, 0.2741371, 0.024769608, 0.034148745, 0.026705261, 0.0311382, 0.029434048, 0.026442029, 0.026727125, 0.033026837, 0.024446256, 0.6329167, 0.13777462, 0.027470276, 0.041209877, 0.0756074, 0.031000048, 0.4095764, 0.030975252, 0.045681864, 0.03302081, 0.0332494, 0.3621485, 0.05188208, 0.084158316, 0.074629545, 0.033716444, 0.023431871, 0.029274546, 0.06398352, 0.25351074, 0.025810588, 0.03403733, 0.02355202, 0.02485805, 0.029344633, 0.029786214, 0.08999552, 0.028444745, 0.037396885, 0.025924765, 0.025560543, 0.03230812, 0.038674064, 0.028171983, 0.09054988, 0.4992785, 0.025925357, 0.026036639, 0.0313655, 0.028251559, 0.028447632, 0.02558877, 0.03218743, 0.041484766, 0.031863533, 0.029596135, 0.040934417, 0.035414767, 0.16172822, 0.1490741, 0.030789647, 0.10940222, 0.06218392, 0.027854942, 0.07172663, 0.087915875, 0.06455314, 0.06323137, 0.060317285, 0.025226243, 0.02680204, 0.0267477, 0.03651549, 0.023913123, 0.036788918, 0.19247088, 0.39035138, 0.09814756, 0.08263175, 0.03164029, 0.043385208, 0.031998724, 0.05255825, 0.2870658, 0.02790961, 0.02680204, 0.025431387, 0.06679801, 0.028951548, 0.03589022, 0.023975011, 0.033223577, 0.0432894, 0.26754916, 0.14968227, 0.025092956, 0.10304861, 0.050300628, 0.024978198, 0.037818365, 0.06741259, 0.06608564, 0.03782824, 0.035255983, 0.04744284, 0.033065517, 0.027206842, 0.028572362, 0.21773355, 0.030175015, 0.03433758, 0.025109112, 0.17467833, 0.08916836, 0.054964863, 0.047880277, 0.041136526, 0.02594398, 0.049330205, 0.029298373, 0.027045567, 0.040139504, 0.027034696, 0.050325952, 0.03618776, 0.0264748, 0.35117158, 0.16433027, 0.03103644, 0.032026008, 0.025202084, 0.029442213, 0.026757639, 0.030963022, 0.05448246, 0.039996758, 0.032360278, 0.04628726, 0.4139589, 0.028770585, 0.033047397, 0.029886518, 0.15079226, 0.0786624, 0.15519165, 0.031510793, 0.038045697, 0.07611283, 0.0312803, 0.024998724, 0.032956604, 0.027903792, 0.033779595, 0.039588243, 0.02913975, 0.13679045, 0.104277186, 0.030689009, 0.036279406, 0.036233857, 0.02859053, 0.025287006, 0.4211167, 0.08131594, 0.024604779, 0.09569416, 0.027472015, 0.029511828, 0.11054768, 0.06529953, 0.27932653, 0.028273541, 0.061947174, 0.03139247, 0.2679663, 0.054622892, 0.029350124, 0.025431387, 0.13422978, 0.029650412, 0.028572362, 0.02045174, 0.033440802, 0.024334911, 0.024560206, 0.037695892, 0.08720576, 0.028510358, 0.14367777, 0.03840043, 0.028566997, 0.036226813, 0.067477606, 0.024169095, 0.21378808, 0.03091035, 0.0330866, 0.030818727, 0.023829311, 0.26925096, 0.031122394, 0.61508346, 0.053972665, 0.066288, 0.08501766, 0.022694245, 0.07021879, 0.027489189, 0.03642276, 0.048777852, 0.03781469, 0.038729668, 0.03093902, 0.10297692, 0.025920786, 0.033239953, 0.02465459, 0.059024103, 0.02621254, 0.17099705, 0.06865189, 0.029525869, 0.031118859, 0.097045936, 0.02750197, 0.03082662, 0.23966576, 0.026355889, 0.06862229, 0.02976111, 0.026689008, 0.04238271, 0.04158681, 0.028932657, 0.24679174, 0.03391466, 0.025335237, 0.07803212, 0.14788629, 0.046913262, 0.037067924, 0.10593437, 0.07514576, 0.032836966, 0.020858299, 0.033037867, 0.02989968, 0.031699907, 0.04523414, 0.02320709, 0.030841537, 0.02534385, 0.021147892, 0.40135047, 0.027548753, 0.122816004, 0.049086154, 0.024863869, 0.029596135, 0.04825493, 0.03439919, 0.024466097, 0.03376908, 0.03532425, 0.024694897, 0.4123766, 0.025576435, 0.023948919, 0.029423162, 0.041279636, 0.030580316, 0.18545079, 0.029628985, 0.0460246, 0.026603106, 0.04224497, 0.04007098, 0.030803844, 0.04909277, 0.086556226, 0.029032651, 0.20688851, 0.032201044, 0.030524943, 0.022559173, 0.03234608, 0.043272197, 0.036980607, 0.025390431, 0.02930104, 0.02796499, 0.20899941, 0.024995685, 0.030306913, 0.030574035, 0.025786567, 0.096550934, 0.08320046, 0.024686888, 0.08471967, 0.049392387, 0.23495592, 0.047375023, 0.06692752, 0.03515599, 0.03983201, 0.054602284, 0.05105498, 0.029153716, 0.0308711, 0.35673377, 0.033680387, 0.030873742, 0.03706586, 0.026857655, 0.02930104, 0.027462658, 0.07158652, 0.03135882, 0.047800805, 0.036701445, 0.026072405, 0.046679698, 0.107095025, 0.027198028, 0.0306634, 0.11692513, 0.03235533, 0.030270752, 0.034848854, 0.09330632, 0.039783113, 0.101455934, 0.059699275, 0.06644841, 0.06563495, 0.0773629, 0.05127152, 0.031233769, 0.12588589, 0.032389544, 0.024526004, 0.058327485, 0.08758529, 0.046211988, 0.04125857, 0.027869485, 0.024001025, 0.34113732, 0.027781732, 0.039234027, 0.034397114, 0.12442691, 0.23717062, 0.098489076, 0.2974188, 0.025945533, 0.28187063, 0.024740547, 0.09588123, 0.045924235, 0.08334586, 0.04862666, 0.03138601, 0.023440663, 0.030784197, 0.09344964, 0.39766538, 0.07643155, 0.023454603, 0.039298967, 0.07820601, 0.027510464, 0.025627293, 0.03149795, 0.029866133, 0.030542433, 0.04139025, 0.03936224, 0.026172433, 0.02490342, 0.51150364, 0.19856615, 0.027671162, 0.027570754, 0.025894064, 0.06775813, 0.21385595, 0.025450796, 0.11982956, 0.038642284, 0.08245309, 0.03966534, 0.025744993, 0.12899399, 0.071654014, 0.0287401, 0.03347517, 0.10355536, 0.020644926, 0.04644879, 0.08423912, 0.028071843, 0.06939779, 0.024492487, 0.02405252, 0.030099161, 0.11014933, 0.02882066, 0.04751363, 0.029198736, 0.0742572, 0.027375452, 0.082715385, 0.31155694, 0.034505863, 0.031129755, 0.0281424, 0.025394652, 0.0235686, 0.026592765, 0.08910684, 0.17415377, 0.13037665, 0.0312713, 0.028773617, 0.02789775, 0.029566485, 0.02386392, 0.15252738, 0.06871386, 0.098629795, 0.024481498, 0.03654434, 0.027060892, 0.02836693, 0.047954835, 0.027571104, 0.02667417, 0.027670648, 0.10301197, 0.024820495, 0.1035954, 0.025005966, 0.031908695, 0.024583895, 0.028938785, 0.036872916, 0.120602444, 0.02882107, 0.031148657, 0.02394864, 0.048031837, 0.025945533, 0.028500803, 0.12025156, 0.026905272, 0.023001656, 0.028100338, 0.02477524, 0.026139468, 0.045020908, 0.03462127, 0.5747081, 0.037540924, 0.023556925, 0.02553391, 0.055963155, 0.074849956, 0.026755758, 0.08698486, 0.026857655, 0.025545213, 0.020648647, 0.034855194, 0.060091075, 0.08992938, 0.0257431, 0.039379925, 0.048049424, 0.42450666, 0.030579176, 0.023893297, 0.027801774, 0.030064236, 0.14469543, 0.07721115, 0.23810768, 0.057800367, 0.024457917, 0.030486688, 0.02584983, 0.039928842, 0.02882284, 0.029566485, 0.06769087, 0.03776013, 0.025658254, 0.027440198, 0.033993598, 0.031275824, 0.029654525, 0.082633965, 0.31501368, 0.11421449, 0.02729468, 0.045105442, 0.2813003, 0.030141287, 0.06903716, 0.025720611, 0.051318903, 0.22490942, 0.03180265, 0.025742222, 0.027605481, 0.04816651, 0.029596135, 0.039473966, 0.030976586, 0.27965054, 0.19545546, 0.023848273, 0.40733442, 0.043203175, 0.039303713, 0.03776013, 0.0923088, 0.029361986, 0.033458013, 0.029078089, 0.308469, 0.037194766, 0.08186525, 0.10095937, 0.03204633, 0.025870059, 0.31952316, 0.034584127, 0.035818603, 0.061490837, 0.02752911, 0.053502724, 0.02943251, 0.03601911, 0.20114915, 0.06279308, 0.025287006, 0.08816942, 0.030698696, 0.030639257, 0.027916, 0.029023968, 0.12919748, 0.036613625, 0.04788972, 0.5085092, 0.02679703, 0.03501056, 0.030060843]\n"
          ],
          "name": "stdout"
        }
      ]
    },
    {
      "cell_type": "markdown",
      "metadata": {
        "id": "Pc5FVmvHncwJ"
      },
      "source": [
        "MSE for Test Set"
      ]
    },
    {
      "cell_type": "code",
      "metadata": {
        "colab": {
          "base_uri": "https://localhost:8080/"
        },
        "id": "Cmy1htm2nUxB",
        "outputId": "840e1ea9-d9b0-4521-8710-fd9106f76516"
      },
      "source": [
        "from sklearn.metrics import mean_squared_error\n",
        "\n",
        "mse_test = mean_squared_error(test_scores, test_pred)\n",
        "print(mse_test)"
      ],
      "execution_count": null,
      "outputs": [
        {
          "output_type": "stream",
          "text": [
            "0.015874731270999518\n"
          ],
          "name": "stdout"
        }
      ]
    },
    {
      "cell_type": "markdown",
      "metadata": {
        "id": "7_4UxKwSnqX8"
      },
      "source": [
        "MAE for Test Set"
      ]
    },
    {
      "cell_type": "code",
      "metadata": {
        "colab": {
          "base_uri": "https://localhost:8080/"
        },
        "id": "iwPvs5v2nflq",
        "outputId": "d6066f97-d69e-4704-c30e-7b2ac7f5dc5c"
      },
      "source": [
        "from sklearn.metrics import mean_absolute_error\n",
        "\n",
        "mae_test = mean_absolute_error(test_scores, test_pred)\n",
        "print(mae_test)"
      ],
      "execution_count": null,
      "outputs": [
        {
          "output_type": "stream",
          "text": [
            "0.07793481353382972\n"
          ],
          "name": "stdout"
        }
      ]
    },
    {
      "cell_type": "markdown",
      "metadata": {
        "id": "Og4Q2dHnns3y"
      },
      "source": [
        "RMSE for Test Set"
      ]
    },
    {
      "cell_type": "code",
      "metadata": {
        "colab": {
          "base_uri": "https://localhost:8080/"
        },
        "id": "Yi7sFk7ynkao",
        "outputId": "09ec5430-bbe9-4bf1-982c-dca5668aec1c"
      },
      "source": [
        "root_mean_squared_error_test = math.sqrt(mse_test)\n",
        "print(root_mean_squared_error_test)"
      ],
      "execution_count": null,
      "outputs": [
        {
          "output_type": "stream",
          "text": [
            "0.1259949652605195\n"
          ],
          "name": "stdout"
        }
      ]
    },
    {
      "cell_type": "code",
      "metadata": {
        "id": "S1tWTW54beXI"
      },
      "source": [
        "# sentences_list = data_frame[\"Sentence\"].tolist()\n",
        "\n",
        "# Class_0_Preds = []\n",
        "# Class_1_Preds = []\n",
        "# Class_2_Preds = []\n",
        "# Class_3_Preds = []\n",
        "# Class_4_Preds = []\n",
        "# Class_5_Preds = []\n",
        "# Class_6_Preds = []\n",
        "\n",
        "# for sent in sentences_list:\n",
        "#   predict_input = tokenizer.encode(sent,\n",
        "#                                    truncation=True,\n",
        "#                                    padding=True,\n",
        "#                                    return_tensors=\"tf\")\n",
        "#   tf_output = loaded_model.predict(predict_input)[0]\n",
        "\n",
        "#   Class_0_Preds.append(tf_output[0][0])\n",
        "#   Class_1_Preds.append(tf_output[0][1])\n",
        "#   Class_2_Preds.append(tf_output[0][2])\n",
        "#   Class_3_Preds.append(tf_output[0][3])\n",
        "#   Class_4_Preds.append(tf_output[0][4])\n",
        "#   Class_5_Preds.append(tf_output[0][5])\n",
        "#   Class_6_Preds.append(tf_output[0][6])\n",
        "\n",
        "\n"
      ],
      "execution_count": null,
      "outputs": []
    },
    {
      "cell_type": "code",
      "metadata": {
        "id": "D5vFVNJ-fKr7"
      },
      "source": [
        "# df = DataFrame({'Class_0':Class_0_Preds, 'Class_1':Class_1_Preds, 'Class_2':Class_2_Preds, 'Class_3':Class_3_Preds, 'Class_4':Class_4_Preds, 'Class_5':Class_5_Preds, 'Class_6':Class_6_Preds})"
      ],
      "execution_count": null,
      "outputs": []
    },
    {
      "cell_type": "code",
      "metadata": {
        "id": "1gkzF2UGfRei"
      },
      "source": [
        "# len(df)"
      ],
      "execution_count": null,
      "outputs": []
    },
    {
      "cell_type": "code",
      "metadata": {
        "id": "UP4gNguXf0Fo"
      },
      "source": [
        "# from textblob import TextBlob\n",
        "\n",
        "# def getScore(data):\n",
        "#   return TextBlob(data).sentiment.subjectivity\n",
        "\n",
        "# df[\"Subj_Score\"] = data_frame[\"Sentence\"].apply(getScore)"
      ],
      "execution_count": null,
      "outputs": []
    },
    {
      "cell_type": "code",
      "metadata": {
        "id": "IGCOyupHgExe"
      },
      "source": [
        "# df.head()"
      ],
      "execution_count": null,
      "outputs": []
    },
    {
      "cell_type": "code",
      "metadata": {
        "id": "PY9UNsxIC7PG"
      },
      "source": [
        "# X = df.iloc[:, 0:7].values\n",
        "# y = df.iloc[:, 7].values\n",
        "\n",
        "# from sklearn.model_selection import train_test_split\n",
        "\n",
        "# X_train, X_test, y_train, y_test = train_test_split(X, y, test_size=0.2, random_state=0)\n",
        "\n",
        "# from sklearn.preprocessing import StandardScaler\n",
        "\n",
        "# sc = StandardScaler()\n",
        "# X_train = sc.fit_transform(X_train)\n",
        "# X_test = sc.transform(X_test)"
      ],
      "execution_count": null,
      "outputs": []
    },
    {
      "cell_type": "code",
      "metadata": {
        "id": "dA1Wi8ZXQQUi"
      },
      "source": [
        "# print(y)"
      ],
      "execution_count": null,
      "outputs": []
    },
    {
      "cell_type": "markdown",
      "metadata": {
        "id": "5YBjLyADQGU4"
      },
      "source": [
        "Ref: https://stackabuse.com/tensorflow-2-0-solving-classification-and-regression-problems/"
      ]
    },
    {
      "cell_type": "code",
      "metadata": {
        "id": "jh0ZYnuTJq9l"
      },
      "source": [
        "# from tensorflow.keras.layers import Input, Dense, Activation,Dropout\n",
        "# from tensorflow.keras.models import Model\n",
        "\n",
        "# input_layer = Input(shape=(X.shape[1],))\n",
        "# dense_layer_1 = Dense(100, activation='relu')(input_layer)\n",
        "# dense_layer_2 = Dense(50, activation='relu')(dense_layer_1)\n",
        "# dense_layer_3 = Dense(25, activation='relu')(dense_layer_2)\n",
        "# output = Dense(1)(dense_layer_3)\n",
        "\n",
        "# model = Model(inputs=input_layer, outputs=output)\n",
        "# model.compile(loss=\"mean_squared_error\" , optimizer=\"adam\", metrics=[\"mean_squared_error\"])"
      ],
      "execution_count": null,
      "outputs": []
    },
    {
      "cell_type": "code",
      "metadata": {
        "pycharm": {
          "name": "#%%\n"
        },
        "id": "zzGLqH_7ndZ2"
      },
      "source": [
        "# history = model.fit(X_train, y_train, batch_size=2, epochs=100, verbose=1, validation_split=0.2)"
      ],
      "execution_count": null,
      "outputs": []
    },
    {
      "cell_type": "markdown",
      "metadata": {
        "id": "XecdpAPBYRAH"
      },
      "source": [
        "References:\n",
        "\n",
        "1. TensorFlow  Datasets,  A  collection  of  ready-to-use  datasets.https://www.tensorflow.org/datasets.64\n",
        "\n",
        "2. Source code for transformers.models.albert.tokenizationalbert. Accessed: 2021-03-14.url:https://huggingface.co/transformers/_modules/transformers/models/albert/tokenization_albert.html#AlbertTokenizer.\n",
        "\n",
        "3. Source code for transformers.models.albert.modelingtfalbert. Accessed: 2021-03-14.url:https://huggingface.co/transformers/_modules/transformers/models/albert/modeling_tf_albert.html#TFAlbertForSequenceClassification.\n",
        "\n",
        "4. Huggingface Distilbert - https://colab.research.google.com/drive/1yi9N-ZnQHtYfR3QDiwsPxYCYU6WyjwlQ#scrollTo=633fetsKg5cv\n",
        "\n",
        "5. Huggingface  ALBERT  pre-trained  Model. Accessed: 2021-03-14.url:https://huggingface.co/albert-base-v2/resolve/main/spiece.model.\n",
        "\n",
        "6. Huggingface  ALBERT  Base  version  2  Model  Usage.  Accessed:  2021-03-14.url: https://huggingface.co/albert-base-v2."
      ]
    }
  ]
}