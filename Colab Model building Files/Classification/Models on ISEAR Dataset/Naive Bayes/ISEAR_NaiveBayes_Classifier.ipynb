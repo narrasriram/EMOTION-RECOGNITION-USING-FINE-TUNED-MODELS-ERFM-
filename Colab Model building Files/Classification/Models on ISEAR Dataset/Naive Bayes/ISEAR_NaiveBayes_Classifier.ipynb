{
  "nbformat": 4,
  "nbformat_minor": 0,
  "metadata": {
    "colab": {
      "name": "ISEAR_NaiveBayes_Classifier.ipynb",
      "provenance": [],
      "authorship_tag": "ABX9TyNhnDlhtu+DUV1bGcXGEd0z",
      "include_colab_link": true
    },
    "kernelspec": {
      "name": "python3",
      "display_name": "Python 3"
    }
  },
  "cells": [
    {
      "cell_type": "markdown",
      "metadata": {
        "id": "view-in-github",
        "colab_type": "text"
      },
      "source": [
        "<a href=\"https://colab.research.google.com/github/narrasriram/EMOTION-RECOGNITION-USING-FINE-TUNED-MODELS-ERFM-/blob/main/Colab%20Model%20building%20Files/Classification/Models%20on%20ISEAR%20Dataset/Naive%20Bayes/ISEAR_NaiveBayes_Classifier.ipynb\" target=\"_parent\"><img src=\"https://colab.research.google.com/assets/colab-badge.svg\" alt=\"Open In Colab\"/></a>"
      ]
    },
    {
      "cell_type": "markdown",
      "metadata": {
        "id": "gmK-IycI8s0i"
      },
      "source": [
        "  \n",
        "# -*- coding: utf-8 -*-\n",
        "\n",
        "# Author: Sriram Narra\n",
        "# Course: CS 842\n",
        "# Date: Apr 15, 2021\n",
        "# Project Name: Emotion Recognition using Fine-tuned Models(ERFM)\n",
        "# Description: This notebook builds a Navive Bayes Model on ISEAR \n",
        "#              Dataset and checks the performance of the \n",
        "#              model with various model evaluation metrics\n",
        "# --------------------------------------------------------------------------------"
      ]
    },
    {
      "cell_type": "markdown",
      "metadata": {
        "id": "7EBYhGsYD9RX"
      },
      "source": [
        "Install the libraries"
      ]
    },
    {
      "cell_type": "code",
      "metadata": {
        "id": "5MZ416mCRgNR",
        "colab": {
          "base_uri": "https://localhost:8080/"
        },
        "outputId": "7d13b6d0-337f-425d-d06d-b9e373cb5871"
      },
      "source": [
        "from pandas import DataFrame\n",
        "import textblob\n",
        "from textblob import TextBlob\n",
        "import numpy as np\n",
        "import matplotlib.pyplot as plt\n",
        "import pandas as pd\n",
        "from sklearn.naive_bayes import MultinomialNB\n",
        "\n",
        "import re\n",
        "import nltk\n",
        "nltk.download('stopwords')\n",
        "from nltk.corpus import stopwords\n",
        "from nltk.stem.porter import PorterStemmer\n",
        "from sklearn.feature_extraction.text import CountVectorizer"
      ],
      "execution_count": 1,
      "outputs": [
        {
          "output_type": "stream",
          "text": [
            "[nltk_data] Downloading package stopwords to /root/nltk_data...\n",
            "[nltk_data]   Unzipping corpora/stopwords.zip.\n"
          ],
          "name": "stdout"
        }
      ]
    },
    {
      "cell_type": "markdown",
      "metadata": {
        "id": "z4yY7f9SEBRx"
      },
      "source": [
        "Mount Google Drive"
      ]
    },
    {
      "cell_type": "code",
      "metadata": {
        "colab": {
          "base_uri": "https://localhost:8080/"
        },
        "id": "YvTUW-dHRiPc",
        "outputId": "fd03ac40-512e-4bda-e06f-c7bc8d302a0c"
      },
      "source": [
        "from google.colab import drive\n",
        "\n",
        "drive.mount('/content/drive')"
      ],
      "execution_count": 2,
      "outputs": [
        {
          "output_type": "stream",
          "text": [
            "Mounted at /content/drive\n"
          ],
          "name": "stdout"
        }
      ]
    },
    {
      "cell_type": "markdown",
      "metadata": {
        "id": "1cprgBAREE6t"
      },
      "source": [
        "Load the CSV file into a Dataframe"
      ]
    },
    {
      "cell_type": "code",
      "metadata": {
        "id": "b-8X1_5PRmnN"
      },
      "source": [
        "data_frame=pd.read_csv('/content/drive/MyDrive/Data Science Project/Datasets/ISEAR/Isear.csv')"
      ],
      "execution_count": 3,
      "outputs": []
    },
    {
      "cell_type": "code",
      "metadata": {
        "colab": {
          "base_uri": "https://localhost:8080/",
          "height": 194
        },
        "id": "4Y0HAd31R_Ld",
        "outputId": "749bd2bd-4b2c-4e5f-cf56-b39e79e5bab9"
      },
      "source": [
        "data_frame.head()"
      ],
      "execution_count": 4,
      "outputs": [
        {
          "output_type": "execute_result",
          "data": {
            "text/html": [
              "<div>\n",
              "<style scoped>\n",
              "    .dataframe tbody tr th:only-of-type {\n",
              "        vertical-align: middle;\n",
              "    }\n",
              "\n",
              "    .dataframe tbody tr th {\n",
              "        vertical-align: top;\n",
              "    }\n",
              "\n",
              "    .dataframe thead th {\n",
              "        text-align: right;\n",
              "    }\n",
              "</style>\n",
              "<table border=\"1\" class=\"dataframe\">\n",
              "  <thead>\n",
              "    <tr style=\"text-align: right;\">\n",
              "      <th></th>\n",
              "      <th>Emotion</th>\n",
              "      <th>Text</th>\n",
              "    </tr>\n",
              "  </thead>\n",
              "  <tbody>\n",
              "    <tr>\n",
              "      <th>0</th>\n",
              "      <td>anger</td>\n",
              "      <td>When a boy tried to fool me so he would be OK ...</td>\n",
              "    </tr>\n",
              "    <tr>\n",
              "      <th>1</th>\n",
              "      <td>anger</td>\n",
              "      <td>I felt anger when I saw that I was being misle...</td>\n",
              "    </tr>\n",
              "    <tr>\n",
              "      <th>2</th>\n",
              "      <td>anger</td>\n",
              "      <td>Once a friend had pushed me and I had fallen o...</td>\n",
              "    </tr>\n",
              "    <tr>\n",
              "      <th>3</th>\n",
              "      <td>anger</td>\n",
              "      <td>When I was misleaded by a person who assured t...</td>\n",
              "    </tr>\n",
              "    <tr>\n",
              "      <th>4</th>\n",
              "      <td>anger</td>\n",
              "      <td>I don't use to lie to my parets about what I d...</td>\n",
              "    </tr>\n",
              "  </tbody>\n",
              "</table>\n",
              "</div>"
            ],
            "text/plain": [
              "  Emotion                                               Text\n",
              "0   anger  When a boy tried to fool me so he would be OK ...\n",
              "1   anger  I felt anger when I saw that I was being misle...\n",
              "2   anger  Once a friend had pushed me and I had fallen o...\n",
              "3   anger  When I was misleaded by a person who assured t...\n",
              "4   anger  I don't use to lie to my parets about what I d..."
            ]
          },
          "metadata": {
            "tags": []
          },
          "execution_count": 4
        }
      ]
    },
    {
      "cell_type": "markdown",
      "metadata": {
        "id": "aMjS3L7NRtGj"
      },
      "source": [
        "Subjectivity Score Retrieval Function Declaration"
      ]
    },
    {
      "cell_type": "code",
      "metadata": {
        "id": "zwnQAmojX34v"
      },
      "source": [
        "def getScore(data):\n",
        "  return TextBlob(data).sentiment.subjectivity"
      ],
      "execution_count": 5,
      "outputs": []
    },
    {
      "cell_type": "code",
      "metadata": {
        "id": "iKxyPg_kAx_y"
      },
      "source": [
        "data_frame[\"Subj_Score\"] = data_frame[\"Text\"].apply(getScore)"
      ],
      "execution_count": 6,
      "outputs": []
    },
    {
      "cell_type": "code",
      "metadata": {
        "colab": {
          "base_uri": "https://localhost:8080/",
          "height": 194
        },
        "id": "Si2GM-aOByGM",
        "outputId": "e5a9b10b-61e9-4e71-c0b6-2ad662f95f30"
      },
      "source": [
        "data_frame.tail()"
      ],
      "execution_count": 7,
      "outputs": [
        {
          "output_type": "execute_result",
          "data": {
            "text/html": [
              "<div>\n",
              "<style scoped>\n",
              "    .dataframe tbody tr th:only-of-type {\n",
              "        vertical-align: middle;\n",
              "    }\n",
              "\n",
              "    .dataframe tbody tr th {\n",
              "        vertical-align: top;\n",
              "    }\n",
              "\n",
              "    .dataframe thead th {\n",
              "        text-align: right;\n",
              "    }\n",
              "</style>\n",
              "<table border=\"1\" class=\"dataframe\">\n",
              "  <thead>\n",
              "    <tr style=\"text-align: right;\">\n",
              "      <th></th>\n",
              "      <th>Emotion</th>\n",
              "      <th>Text</th>\n",
              "      <th>Subj_Score</th>\n",
              "    </tr>\n",
              "  </thead>\n",
              "  <tbody>\n",
              "    <tr>\n",
              "      <th>7661</th>\n",
              "      <td>shame</td>\n",
              "      <td>I felt this when I was copying homework for on...</td>\n",
              "      <td>0.000000</td>\n",
              "    </tr>\n",
              "    <tr>\n",
              "      <th>7662</th>\n",
              "      <td>shame</td>\n",
              "      <td>I experienced long ago when I was sightseeing ...</td>\n",
              "      <td>0.475000</td>\n",
              "    </tr>\n",
              "    <tr>\n",
              "      <th>7663</th>\n",
              "      <td>shame</td>\n",
              "      <td>Failing an examn because I did not work hard e...</td>\n",
              "      <td>0.520833</td>\n",
              "    </tr>\n",
              "    <tr>\n",
              "      <th>7664</th>\n",
              "      <td>shame</td>\n",
              "      <td>I was talking to a friend of mine about our pa...</td>\n",
              "      <td>0.000000</td>\n",
              "    </tr>\n",
              "    <tr>\n",
              "      <th>7665</th>\n",
              "      <td>shame</td>\n",
              "      <td>Arguing with a friend over politics. She was m...</td>\n",
              "      <td>0.300000</td>\n",
              "    </tr>\n",
              "  </tbody>\n",
              "</table>\n",
              "</div>"
            ],
            "text/plain": [
              "     Emotion                                               Text  Subj_Score\n",
              "7661   shame  I felt this when I was copying homework for on...    0.000000\n",
              "7662   shame  I experienced long ago when I was sightseeing ...    0.475000\n",
              "7663   shame  Failing an examn because I did not work hard e...    0.520833\n",
              "7664   shame  I was talking to a friend of mine about our pa...    0.000000\n",
              "7665   shame  Arguing with a friend over politics. She was m...    0.300000"
            ]
          },
          "metadata": {
            "tags": []
          },
          "execution_count": 7
        }
      ]
    },
    {
      "cell_type": "code",
      "metadata": {
        "colab": {
          "base_uri": "https://localhost:8080/"
        },
        "id": "T0xanzZOD6ez",
        "outputId": "d7a3bbfd-3420-4b54-c787-c8c4f1169699"
      },
      "source": [
        "print(data_frame[\"Emotion\"].value_counts())"
      ],
      "execution_count": 8,
      "outputs": [
        {
          "output_type": "stream",
          "text": [
            "sadness    1096\n",
            "anger      1096\n",
            "shame      1096\n",
            "disgust    1096\n",
            "fear       1095\n",
            "joy        1094\n",
            "guilt      1093\n",
            "Name: Emotion, dtype: int64\n"
          ],
          "name": "stdout"
        }
      ]
    },
    {
      "cell_type": "markdown",
      "metadata": {
        "id": "Xp2tPfIIR2QM"
      },
      "source": [
        "Balacnced/Imbalanced Data Analysis"
      ]
    },
    {
      "cell_type": "code",
      "metadata": {
        "colab": {
          "base_uri": "https://localhost:8080/",
          "height": 285
        },
        "id": "j6BrXMzNQl1_",
        "outputId": "c1113002-a96a-4806-8180-dd1f867178d3"
      },
      "source": [
        "import seaborn as sns\n",
        "sns.set_theme(style=\"darkgrid\")\n",
        "ax = sns.countplot(x=\"Emotion\", data=data_frame)"
      ],
      "execution_count": 9,
      "outputs": [
        {
          "output_type": "display_data",
          "data": {
            "image/png": "[encoded data removed]",
            "text/plain": [
              "<Figure size 432x288 with 1 Axes>"
            ]
          },
          "metadata": {
            "tags": []
          }
        }
      ]
    },
    {
      "cell_type": "markdown",
      "metadata": {
        "id": "XYJ-dZ18YP34"
      },
      "source": [
        "Missing Values Analysis"
      ]
    },
    {
      "cell_type": "code",
      "metadata": {
        "colab": {
          "base_uri": "https://localhost:8080/"
        },
        "id": "TyXwQvVbXo65",
        "outputId": "6422e268-058d-422d-f19d-386db21cdc26"
      },
      "source": [
        "data_frame.isnull().values.any()"
      ],
      "execution_count": 10,
      "outputs": [
        {
          "output_type": "execute_result",
          "data": {
            "text/plain": [
              "False"
            ]
          },
          "metadata": {
            "tags": []
          },
          "execution_count": 10
        }
      ]
    },
    {
      "cell_type": "code",
      "metadata": {
        "colab": {
          "base_uri": "https://localhost:8080/",
          "height": 291
        },
        "id": "K9ISlytOXR4C",
        "outputId": "b4b344f8-aaba-4ea9-fc95-93b8e9be81a1"
      },
      "source": [
        "sns.heatmap(data_frame.isnull(), cbar=False)"
      ],
      "execution_count": 11,
      "outputs": [
        {
          "output_type": "execute_result",
          "data": {
            "text/plain": [
              "<matplotlib.axes._subplots.AxesSubplot at 0x7f11f840cb90>"
            ]
          },
          "metadata": {
            "tags": []
          },
          "execution_count": 11
        },
        {
          "output_type": "display_data",
          "data": {
            "image/png": "[encoded data removed]",
            "text/plain": [
              "<Figure size 432x288 with 1 Axes>"
            ]
          },
          "metadata": {
            "tags": []
          }
        }
      ]
    },
    {
      "cell_type": "code",
      "metadata": {
        "colab": {
          "base_uri": "https://localhost:8080/"
        },
        "id": "uVdM0BuUNzPz",
        "outputId": "bc2435b7-1d41-4278-c2c5-bbfaed5a8b9a"
      },
      "source": [
        "len(data_frame)"
      ],
      "execution_count": 12,
      "outputs": [
        {
          "output_type": "execute_result",
          "data": {
            "text/plain": [
              "7666"
            ]
          },
          "metadata": {
            "tags": []
          },
          "execution_count": 12
        }
      ]
    },
    {
      "cell_type": "markdown",
      "metadata": {
        "id": "SBKY-aJ2EcAW"
      },
      "source": [
        "Shuffle the dataset"
      ]
    },
    {
      "cell_type": "code",
      "metadata": {
        "id": "W7BJnWmWi-Z8"
      },
      "source": [
        "data_frame = data_frame.sample(frac=1).reset_index(drop=True)"
      ],
      "execution_count": 13,
      "outputs": []
    },
    {
      "cell_type": "markdown",
      "metadata": {
        "id": "uV7wD7DTEkPe"
      },
      "source": [
        "Data Transforming"
      ]
    },
    {
      "cell_type": "code",
      "metadata": {
        "id": "frF3AvtwEgNv"
      },
      "source": [
        "req_sentences_list = []\n",
        "for i in range(0, len(data_frame)):\n",
        "    substituted_sentence = re.sub('[^a-zA-Z]', ' ', data_frame['Text'][i])\n",
        "    # Take the lower case alphabets of every sentence\n",
        "    lower_cased_sentence = substituted_sentence.lower()\n",
        "\n",
        "    # Split every word in the sentence\n",
        "    splitted_sentence = lower_cased_sentence.split()\n",
        "\n",
        "    # Stem every word to its root word\n",
        "    ps = PorterStemmer()\n",
        "    stemmed_sentence = [ps.stem(each_word) for each_word in splitted_sentence if not each_word in set(stopwords.words('english'))]\n",
        "\n",
        "    # Join the divided words\n",
        "    cleaned_sentence = ' '.join(stemmed_sentence)\n",
        "\n",
        "    # Append the cleaned sentence to the list\n",
        "    req_sentences_list.append(cleaned_sentence)"
      ],
      "execution_count": 14,
      "outputs": []
    },
    {
      "cell_type": "markdown",
      "metadata": {
        "id": "bpKhmaf0EszF"
      },
      "source": [
        "Label Encoding of Emotion Labels"
      ]
    },
    {
      "cell_type": "code",
      "metadata": {
        "id": "ggRbGwlQErkN"
      },
      "source": [
        "from sklearn.preprocessing import LabelEncoder\n",
        "le = LabelEncoder()\n",
        "data_frame['Emotion'] = le.fit_transform(data_frame['Emotion'])"
      ],
      "execution_count": 15,
      "outputs": []
    },
    {
      "cell_type": "markdown",
      "metadata": {
        "id": "NuOsiY-yFBX3"
      },
      "source": [
        "Creation of Bag of Words"
      ]
    },
    {
      "cell_type": "code",
      "metadata": {
        "id": "HtTwd8e4E5tE"
      },
      "source": [
        "from sklearn.feature_extraction.text import CountVectorizer\n",
        "feature_count_calc = CountVectorizer(max_features = 1589)\n",
        "X = feature_count_calc.fit_transform(req_sentences_list).toarray()\n",
        "y = data_frame.iloc[:, 0].values"
      ],
      "execution_count": 16,
      "outputs": []
    },
    {
      "cell_type": "markdown",
      "metadata": {
        "id": "c1G3xTGBKf1q"
      },
      "source": [
        "Scale the features onto a single scale"
      ]
    },
    {
      "cell_type": "code",
      "metadata": {
        "id": "CvRfRUa_KetF"
      },
      "source": [
        "from sklearn.preprocessing import StandardScaler\n",
        "sc_X = StandardScaler()\n",
        "X = sc_X.fit_transform(X)"
      ],
      "execution_count": null,
      "outputs": []
    },
    {
      "cell_type": "markdown",
      "metadata": {
        "id": "SD-mBwYZFHXE"
      },
      "source": [
        "Splitting the dataset into the Training set and Test set"
      ]
    },
    {
      "cell_type": "code",
      "metadata": {
        "id": "mh0klhzbFDcP"
      },
      "source": [
        "from sklearn.model_selection import train_test_split\n",
        "X_train, X_test, y_train, y_test = train_test_split(X, y, test_size = 0.20, random_state = 0)"
      ],
      "execution_count": 17,
      "outputs": []
    },
    {
      "cell_type": "markdown",
      "metadata": {
        "id": "P6JALbM1FZ9y"
      },
      "source": [
        "Fitting Naive Bayes to the Training set"
      ]
    },
    {
      "cell_type": "code",
      "metadata": {
        "colab": {
          "base_uri": "https://localhost:8080/"
        },
        "id": "wBRonYzoFTcC",
        "outputId": "70731231-d463-414a-9014-d4418d327e31"
      },
      "source": [
        "from sklearn.naive_bayes import GaussianNB\n",
        "classifier = MultinomialNB()\n",
        "classifier.fit(X_train, y_train)"
      ],
      "execution_count": 18,
      "outputs": [
        {
          "output_type": "execute_result",
          "data": {
            "text/plain": [
              "MultinomialNB(alpha=1.0, class_prior=None, fit_prior=True)"
            ]
          },
          "metadata": {
            "tags": []
          },
          "execution_count": 18
        }
      ]
    },
    {
      "cell_type": "markdown",
      "metadata": {
        "id": "my5MccDwFgC8"
      },
      "source": [
        "Predicting the Test set results"
      ]
    },
    {
      "cell_type": "code",
      "metadata": {
        "id": "lG_fhNknFfHS"
      },
      "source": [
        "y_pred = classifier.predict(X_test)"
      ],
      "execution_count": 19,
      "outputs": []
    },
    {
      "cell_type": "code",
      "metadata": {
        "colab": {
          "base_uri": "https://localhost:8080/"
        },
        "id": "rj1ujyX2EPg6",
        "outputId": "58e82b2f-25bd-4ccd-c891-9b47897961ee"
      },
      "source": [
        "print(le.inverse_transform(y_pred))"
      ],
      "execution_count": 20,
      "outputs": [
        {
          "output_type": "stream",
          "text": [
            "['fear' 'guilt' 'shame' ... 'guilt' 'sadness' 'fear']\n"
          ],
          "name": "stdout"
        }
      ]
    },
    {
      "cell_type": "markdown",
      "metadata": {
        "id": "S6TD7eFqVTKl"
      },
      "source": [
        "Weighted Accuracy Score"
      ]
    },
    {
      "cell_type": "code",
      "metadata": {
        "colab": {
          "base_uri": "https://localhost:8080/"
        },
        "id": "qMDYZt8vKz7m",
        "outputId": "066b2d8c-081f-4e40-d662-abd34d1febc3"
      },
      "source": [
        "from sklearn.metrics import balanced_accuracy_score\n",
        "balanced_accuracy_score(y_test, y_pred)"
      ],
      "execution_count": null,
      "outputs": [
        {
          "output_type": "execute_result",
          "data": {
            "text/plain": [
              "0.5605640594443216"
            ]
          },
          "metadata": {
            "tags": []
          },
          "execution_count": 16
        }
      ]
    },
    {
      "cell_type": "markdown",
      "metadata": {
        "id": "u80p5Tp8Vb7t"
      },
      "source": [
        "Weighted Precision, Recall, F1 Score"
      ]
    },
    {
      "cell_type": "code",
      "metadata": {
        "colab": {
          "base_uri": "https://localhost:8080/"
        },
        "id": "VwC4xRtNPGGo",
        "outputId": "e211af88-7730-4c0c-f1f8-f10bf421f4ae"
      },
      "source": [
        "from sklearn.metrics import precision_recall_fscore_support\n",
        "precision_recall_fscore_support(y_test, y_pred, average='weighted')"
      ],
      "execution_count": null,
      "outputs": [
        {
          "output_type": "execute_result",
          "data": {
            "text/plain": [
              "(0.5657322427225111, 0.5619295958279009, 0.5630499919130493, None)"
            ]
          },
          "metadata": {
            "tags": []
          },
          "execution_count": 17
        }
      ]
    },
    {
      "cell_type": "markdown",
      "metadata": {
        "id": "c1Cw4sItTzLj"
      },
      "source": [
        "Stylized Confusion Matrix.\n",
        "Ref: https://www.kaggle.com/agungor2/various-confusion-matrix-plots"
      ]
    },
    {
      "cell_type": "code",
      "metadata": {
        "colab": {
          "base_uri": "https://localhost:8080/",
          "height": 611
        },
        "id": "fG__zxliTaIm",
        "outputId": "b6b9a24a-d159-4eef-9a94-e6b4f82c8e71"
      },
      "source": [
        "import numpy as np\n",
        "import pandas as pd\n",
        "import matplotlib.pyplot as plt\n",
        "%matplotlib inline\n",
        "import seaborn as sns\n",
        "from sklearn.metrics import confusion_matrix\n",
        "\n",
        "def plot_cm(y_true, y_pred, figsize=(10,10)):\n",
        "    cm = confusion_matrix(y_true, y_pred, labels=np.unique(y_true))\n",
        "    cm_sum = np.sum(cm, axis=1, keepdims=True)\n",
        "    cm_perc = cm / cm_sum.astype(float) * 100\n",
        "    annot = np.empty_like(cm).astype(str)\n",
        "    nrows, ncols = cm.shape\n",
        "    for i in range(nrows):\n",
        "        for j in range(ncols):\n",
        "            c = cm[i, j]\n",
        "            p = cm_perc[i, j]\n",
        "            if i == j:\n",
        "                s = cm_sum[i]\n",
        "                annot[i, j] = '%.1f%%\\n%d/%d' % (p, c, s)\n",
        "            elif c == 0:\n",
        "                annot[i, j] = ''\n",
        "            else:\n",
        "                annot[i, j] = '%.1f%%\\n%d' % (p, c)\n",
        "    cm = pd.DataFrame(cm, index=np.unique(y_true), columns=np.unique(y_true))\n",
        "    cm.index.name = 'Actual'\n",
        "    cm.columns.name = 'Predicted'\n",
        "    fig, ax = plt.subplots(figsize=figsize)\n",
        "    sns.heatmap(cm, cmap=\"viridis\",  annot=annot, fmt='', ax=ax)\n",
        "    \n",
        "plot_cm(le.inverse_transform(y_test), le.inverse_transform(y_pred))"
      ],
      "execution_count": null,
      "outputs": [
        {
          "output_type": "display_data",
          "data": {
            "image/png": "[encoded data removed]",
            "text/plain": [
              "<Figure size 720x720 with 2 Axes>"
            ]
          },
          "metadata": {
            "tags": [],
            "needs_background": "light"
          }
        }
      ]
    },
    {
      "cell_type": "markdown",
      "metadata": {
        "id": "Q9YssLaEGCdI"
      },
      "source": [
        "5- Fold Cross Validation"
      ]
    },
    {
      "cell_type": "code",
      "metadata": {
        "colab": {
          "base_uri": "https://localhost:8080/"
        },
        "id": "_f0_VJ_6E-te",
        "outputId": "81bc43fc-9d90-4f21-96cd-33acb3ab67f2"
      },
      "source": [
        "from sklearn.model_selection import cross_val_score\n",
        "metric_scores = cross_val_score(estimator = classifier, X = X_train, y = y_train, cv = 5)\n",
        "print(\"Average Score:\",metric_scores.mean())\n",
        "print(\"Average Standard Deviation:\",metric_scores.std())"
      ],
      "execution_count": null,
      "outputs": [
        {
          "output_type": "stream",
          "text": [
            "Average Score: 0.5368561631906359\n",
            "Average Standard Deviation: 0.012873584053405348\n"
          ],
          "name": "stdout"
        }
      ]
    },
    {
      "cell_type": "code",
      "metadata": {
        "id": "VO6NfdH3VbcF",
        "colab": {
          "base_uri": "https://localhost:8080/"
        },
        "outputId": "0487ffbe-6c3e-40fc-bcbf-75ce3f8383eb"
      },
      "source": [
        "list(le.inverse_transform([0,1,2,3,4,5,6]))"
      ],
      "execution_count": null,
      "outputs": [
        {
          "output_type": "execute_result",
          "data": {
            "text/plain": [
              "['anger', 'disgust', 'fear', 'guilt', 'joy', 'sadness', 'shame']"
            ]
          },
          "metadata": {
            "tags": []
          },
          "execution_count": 20
        }
      ]
    },
    {
      "cell_type": "code",
      "metadata": {
        "colab": {
          "base_uri": "https://localhost:8080/",
          "height": 301
        },
        "id": "qyrRDDjSXccl",
        "outputId": "83e66130-6fde-4c8b-a48e-cf9c7dfaf42e"
      },
      "source": [
        "from sklearn.metrics import roc_curve\n",
        "from sklearn.metrics import roc_auc_score\n",
        "\n",
        "false_positive_rate = {}\n",
        "true_positive_rate = {}\n",
        "threshold ={}\n",
        "\n",
        "\n",
        "number_of_classes = 7\n",
        "\n",
        "for i in range(number_of_classes):    \n",
        "    false_positive_rate[i], true_positive_rate[i], threshold[i] = roc_curve(y_test, y_pred, pos_label=i)\n",
        "   \n",
        "plt.plot(false_positive_rate[0], true_positive_rate[0], linestyle='-.',color='orange', label='Anger vs Rest')\n",
        "plt.plot(false_positive_rate[1], true_positive_rate[1], linestyle='-.',color='green', label='Disgust vs Rest')\n",
        "plt.plot(false_positive_rate[2], true_positive_rate[2], linestyle='-.',color='blue', label='Fear vs Rest')\n",
        "plt.plot(false_positive_rate[3], true_positive_rate[3], linestyle='-.',color='violet', label='Guilt vs Rest')\n",
        "plt.plot(false_positive_rate[4], true_positive_rate[4], linestyle='-.',color='indigo', label='Joy vs Rest')\n",
        "plt.plot(false_positive_rate[5], true_positive_rate[5], linestyle='-.',color='yellow', label='Sadness vs Rest')\n",
        "plt.plot(false_positive_rate[6], true_positive_rate[6], linestyle='-.',color='red', label='Shame vs Rest')\n",
        "plt.title('ROC curves(Every Line represents Emotion vs Rest of emotions)')\n",
        "plt.xlabel('False Positive Rate')\n",
        "plt.ylabel('True Positive rate')\n",
        "plt.legend(loc='best')\n",
        "plt.savefig('ROC',dpi=350);"
      ],
      "execution_count": null,
      "outputs": [
        {
          "output_type": "display_data",
          "data": {
            "image/png": "[encoded data removed]",
            "text/plain": [
              "<Figure size 432x288 with 1 Axes>"
            ]
          },
          "metadata": {
            "tags": [],
            "needs_background": "light"
          }
        }
      ]
    },
    {
      "cell_type": "code",
      "metadata": {
        "id": "tdd1_FMsHipB"
      },
      "source": [
        "from sklearn.preprocessing import LabelBinarizer\n",
        "\n",
        "lb = LabelBinarizer()\n",
        "lb.fit(y_test)\n",
        "\n",
        "y_test = lb.transform(y_test)\n",
        "y_pred = lb.transform(y_pred)"
      ],
      "execution_count": null,
      "outputs": []
    },
    {
      "cell_type": "code",
      "metadata": {
        "colab": {
          "base_uri": "https://localhost:8080/"
        },
        "id": "95oWskHQbyb2",
        "outputId": "acff1759-b918-44cc-aa23-fc5d1054fd44"
      },
      "source": [
        "from sklearn.metrics import roc_auc_score\n",
        "\n",
        "roc_auc_score(y_test, y_pred, multi_class='ovo')"
      ],
      "execution_count": null,
      "outputs": [
        {
          "output_type": "execute_result",
          "data": {
            "text/plain": [
              "0.7438207107386801"
            ]
          },
          "metadata": {
            "tags": []
          },
          "execution_count": 23
        }
      ]
    },
    {
      "cell_type": "code",
      "metadata": {
        "id": "54e5HZxkzXVs",
        "colab": {
          "base_uri": "https://localhost:8080/"
        },
        "outputId": "25c3f609-907c-4bad-e53b-cfda6d2b6dfe"
      },
      "source": [
        "roc_auc_score(y_test, y_pred, average = 'weighted', multi_class='ovr')"
      ],
      "execution_count": null,
      "outputs": [
        {
          "output_type": "execute_result",
          "data": {
            "text/plain": [
              "0.7447707671156347"
            ]
          },
          "metadata": {
            "tags": []
          },
          "execution_count": 24
        }
      ]
    },
    {
      "cell_type": "markdown",
      "metadata": {
        "id": "Ec4iaRZnDkAt"
      },
      "source": [
        "References:\n",
        "\n",
        "1. Stylized Confusion Matrix - https://www.kaggle.com/agungor2/various-confusion-matrix-plots\n",
        "\n",
        "2.  Edward Loper and Steven Bird. “NLTK: The Natural Language Toolkit”. In:CoRRcs.CL/0205028(2002).url:http://dblp.uni- trier.de/db/journals/corr/corr0205.html#cs- CL-0205028\n",
        "\n",
        "3. Guido Van Rossum and Fred L. Drake.Python 3 Reference Manual. Scotts Valley, CA: CreateS-pace, 2009.isbn: 1441412697.\n",
        "\n",
        "4.  F. Pedregosa et al. “Scikit-learn: Machine Learning in Python”. In:Journal of Machine LearningResearch12 (2011), pp. 2825–2830.\n",
        "\n",
        "5. Conversion of Input into Word Features - https://github.com/narrasriram/data_science/blob/master/machine_learning/natural%20language%20processing/sentiment%20classification/natural_language_processing.py"
      ]
    }
  ]
}